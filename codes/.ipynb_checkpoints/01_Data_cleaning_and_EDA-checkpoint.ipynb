{
 "cells": [
  {
   "cell_type": "markdown",
   "metadata": {},
   "source": [
    "# Capstone: Airbnb Price Listing Prediction\n",
    "\n",
    "_Authors: Evonne Tham_\n"
   ]
  },
  {
   "cell_type": "markdown",
   "metadata": {},
   "source": [
    "<div class=\"alert alert-block alert-danger\">\n",
    "\n",
    "\n",
    "<b>Checkin 3</b>\n",
    "\n",
    "The actual deliverable for this section is fairly small. You are expected to submit, via this Google form, a progress report detailing where you are with your Capstone. The format and content is up to you but, at a minimum, we expect the following:\n",
    "\n",
    "\n",
    "- Do you have data fully in hand and if not, what blockers are you facing?\n",
    "- Have you done a full EDA on all of your data?\n",
    "- Have you begun the modeling process? How accurate are your predictions so far?\n",
    "- What blockers are you facing, including processing power, data acquisition, modeling difficulties, data cleaning, etc.? How can we help you overcome those challenges?\n",
    "- Have you changed topics since your lightning talk? Since you submitted your Problem Statement and EDA? If so, do you have the necessary data in hand (and the requisite EDA completed) to continue moving forward?\n",
    "- What is your timeline for the next week and a half? What do you have to get done versus what would you like to get done?\n",
    "- What topics do you want to discuss during your 1:1?\n",
    "- We will use your progress report as a leaping off point for a deep 1:1 with a member of the instructional staff. The best use of your time is to really flesh out this document so that your remaining time here can be most productive.\n",
    "\n",
    "</div>"
   ]
  },
  {
   "cell_type": "markdown",
   "metadata": {},
   "source": [
    "<div class=\"alert alert-block alert-warning\">\n",
    "\n",
    "\n",
    "<b>Checkin 2: Think about the following as you perform your initial EDA.</b>\n",
    "\n",
    "- Examine the distributions of your data, numerically and/or visually.\n",
    "- Identify outliers.\n",
    "- ~~Identify missing data and look for patterns of missing data.~~\n",
    "- Describe how your EDA will inform your modeling decisions and process.\n",
    "\n",
    "</div>"
   ]
  },
  {
   "cell_type": "markdown",
   "metadata": {},
   "source": [
    "## <span style='background:yellow'> 1. Import Necessary Libraries & Load Data </span>"
   ]
  },
  {
   "cell_type": "code",
   "execution_count": 1,
   "metadata": {},
   "outputs": [],
   "source": [
    "import pandas as pd\n",
    "import numpy as np\n",
    "import matplotlib.pyplot as plt\n",
    "import seaborn as sns   \n",
    "\n",
    "# RdYlGn\n",
    "\n",
    "# sns.set()\n",
    "%matplotlib inline\n",
    "\n",
    "import warnings\n",
    "warnings.filterwarnings('ignore')"
   ]
  },
  {
   "cell_type": "code",
   "execution_count": 2,
   "metadata": {
    "scrolled": true
   },
   "outputs": [],
   "source": [
    "country = 'japan/'\n",
    "path = '../datasets/'\n",
    "\n",
    "calendar = pd.read_csv(path + country + 'calendar.csv')\n",
    "listing = pd.read_csv(path + country + 'listings.csv')\n",
    "neighbourhood = pd.read_csv(path + country + 'neighbourhoods.csv')\n",
    "reviews = pd.read_csv(path + country + 'reviews.csv')"
   ]
  },
  {
   "cell_type": "code",
   "execution_count": 3,
   "metadata": {},
   "outputs": [],
   "source": [
    "# # show all rows and columns\n",
    "# pd.set_option('display.max_columns', None)\n",
    "# pd.set_option('display.max_rows', None)"
   ]
  },
  {
   "cell_type": "markdown",
   "metadata": {},
   "source": [
    "## <span style='background:yellow'> 2. Initial Exploratory Analysis </span>\n",
    "Evaluate the current state of the data"
   ]
  },
  {
   "cell_type": "markdown",
   "metadata": {},
   "source": [
    "##### Defining Functions"
   ]
  },
  {
   "cell_type": "code",
   "execution_count": null,
   "metadata": {},
   "outputs": [],
   "source": [
    "def eda(dataframe):\n",
    "    \n",
    "    \"\"\"\n",
    "    Runs basic EDA on dataframe.\n",
    "    \"\"\"\n",
    "    \n",
    "    print(\"DF shape: \", dataframe.shape)\n",
    "    print(\"\")\n",
    "    print(\"DF types:\\n\", dataframe.dtypes)\n",
    "    print(\"***********************************************************************************\")\n",
    "    print(\"\")\n",
    "    print(\"DF describe: \\n\", dataframe.describe())\n",
    "    print(\"***********************************************************************************\")\n",
    "    print(\"\")\n",
    "    print(\"DF describe: \\n\", dataframe.describe(exclude=np.number).T)\n",
    "    print(\"***********************************************************************************\")\n",
    "    print(\"\")\n",
    "    print(\"Missing values: \\n\", \n",
    "          (dataframe.isnull().sum())[dataframe.isnull().sum()>0].sort_values(ascending=False))\n",
    "    print(\"***********************************************************************************\")\n",
    "    print(\"\")\n",
    "    print(\"duplicate values: \", dataframe.duplicated().sum())\n",
    "    print(\"***********************************************************************************\")\n",
    "    print(\"\")\n",
    "    #check if column is unique\n",
    "    for i in dataframe.columns:\n",
    "        print('{} is unique: {}'.format(i, dataframe[i].is_unique))\n",
    "    print(\"***********************************************************************************\")"
   ]
  },
  {
   "cell_type": "markdown",
   "metadata": {},
   "source": [
    "### <span style='background:yellow'> 2.1. Calendar Dataset</span>"
   ]
  },
  {
   "cell_type": "code",
   "execution_count": null,
   "metadata": {},
   "outputs": [],
   "source": [
    "eda(calendar)"
   ]
  },
  {
   "cell_type": "code",
   "execution_count": null,
   "metadata": {},
   "outputs": [],
   "source": [
    "calendar.head()"
   ]
  },
  {
   "cell_type": "code",
   "execution_count": null,
   "metadata": {
    "scrolled": true
   },
   "outputs": [],
   "source": [
    "print(calendar['date'].min())\n",
    "print(calendar['date'].max())"
   ]
  },
  {
   "cell_type": "markdown",
   "metadata": {},
   "source": [
    "<div class=\"alert alert-block alert-success\">\n",
    "\n",
    "<b> Calendar Dataset Observations: </b>\n",
    "- calendar ranged from 2020-05-30 to 21-05-30\n",
    "- most likely t and f represents true and false\n",
    "- columns that might be useful \n",
    "    - listing_id (to combine with other datasets)\n",
    "    - date\n",
    "    - available\n",
    "    - price\n",
    "\n",
    "<b> To-Dos: </b>\n",
    "- convert date object to datetime\n",
    "- remove $, from price column\n",
    "- get dummy for available column\n",
    "- replace t and f value to 1s and 0s\n",
    "- fill Null values fro minimum and maximum nights\n",
    "</div>"
   ]
  },
  {
   "cell_type": "markdown",
   "metadata": {},
   "source": [
    "### <span style='background:yellow'> 2.2. Listing Dataset </span>"
   ]
  },
  {
   "cell_type": "code",
   "execution_count": null,
   "metadata": {
    "scrolled": false
   },
   "outputs": [],
   "source": [
    "eda(listing)"
   ]
  },
  {
   "cell_type": "code",
   "execution_count": null,
   "metadata": {
    "scrolled": false
   },
   "outputs": [],
   "source": [
    "listing.head().T"
   ]
  },
  {
   "cell_type": "markdown",
   "metadata": {},
   "source": [
    "<div class=\"alert alert-block alert-success\">\n",
    "\n",
    "<b> Observations: </b>\n",
    "- Dataset consist of 15009 listings \n",
    "- has over 100 features\n",
    "\n",
    "<b> To-Dos: </b>\n",
    "- To dropping columns (entirely made up of NaNs): \n",
    "    - neighbourhood_group_cleansed,\n",
    "    - medium_url, \n",
    "    - thumbnail_url, \n",
    "    - xl_picture_url, \n",
    "    - jurisdiction_names\n",
    "    - experiences_offered\n",
    "- consider dropping columns(consist of only about 100 data):\n",
    "    - square_feet \n",
    "    - monthly_price\n",
    "    - weekly_price\n",
    "- consider dropping columns that are text focused\n",
    "- drop rows with mostly null value\n",
    "- replace t and f value to 1s and 0s\n",
    "- one hot coding for categorical variables, for example\n",
    "    - cancellation policy ('strict_14_with_grace_period', 'moderate', 'flexible', 'strict',\n",
    "       'super_strict_60', 'super_strict_30')\n",
    "    - property_type\n",
    "    - room_type\n",
    "- clean columns with $ \n",
    "- review scores - imputate with median\n",
    "</div>"
   ]
  },
  {
   "cell_type": "markdown",
   "metadata": {},
   "source": [
    "### <span style='background:yellow'> 2.3. Neighbourhood Dataset </span>"
   ]
  },
  {
   "cell_type": "code",
   "execution_count": null,
   "metadata": {},
   "outputs": [],
   "source": [
    "eda(neighbourhood)"
   ]
  },
  {
   "cell_type": "code",
   "execution_count": null,
   "metadata": {
    "scrolled": true
   },
   "outputs": [],
   "source": [
    "neighbourhood.head()"
   ]
  },
  {
   "cell_type": "markdown",
   "metadata": {},
   "source": [
    "<div class=\"alert alert-block alert-success\">\n",
    "\n",
    "<b> Neighbourhood Dataset Observations: </b>\n",
    "- fairly simple dataset \n",
    "- total 62 neighbourhood\n",
    "- might not need this dataset for analysis\n",
    "\n",
    "<b> To-Dos: </b>\n",
    "- to drop neighbourhood_group column (fully NaNs)\n",
    "</div>"
   ]
  },
  {
   "cell_type": "markdown",
   "metadata": {},
   "source": [
    "### <span style='background:yellow'> 2.4. Reviews Dataset </span>"
   ]
  },
  {
   "cell_type": "code",
   "execution_count": null,
   "metadata": {
    "scrolled": false
   },
   "outputs": [],
   "source": [
    "eda(reviews)"
   ]
  },
  {
   "cell_type": "code",
   "execution_count": null,
   "metadata": {
    "scrolled": true
   },
   "outputs": [],
   "source": [
    "reviews.head()"
   ]
  },
  {
   "cell_type": "code",
   "execution_count": null,
   "metadata": {},
   "outputs": [],
   "source": [
    "print(reviews['date'].min())\n",
    "print(reviews['date'].max())"
   ]
  },
  {
   "cell_type": "markdown",
   "metadata": {},
   "source": [
    "<div class=\"alert alert-block alert-success\">\n",
    "\n",
    "<b> Reviews Dataset Observations: </b>\n",
    "- there are 398181 reviews\n",
    "- dated from 2011-09-21 to 2020-05-30\n",
    "- 280 missing comments\n",
    "\n",
    "<b> To dos: </b>\n",
    "\n",
    "- convert date object to datetime\n",
    "- clean comments\n",
    "\n",
    "</div>"
   ]
  },
  {
   "cell_type": "markdown",
   "metadata": {},
   "source": [
    "## <span style='background:yellow'> 3. Data Cleaning </span>"
   ]
  },
  {
   "cell_type": "markdown",
   "metadata": {},
   "source": [
    "##### Defining Functions"
   ]
  },
  {
   "cell_type": "code",
   "execution_count": 4,
   "metadata": {},
   "outputs": [],
   "source": [
    "def mass_cleaning(df):\n",
    "    \n",
    "    \"\"\"\n",
    "    Clean date and replace ts and fs\n",
    "    \"\"\"\n",
    "    \n",
    "    # Parse date-time string to datetime object\n",
    "    if 'date' in df.columns: \n",
    "        df['date'] = pd.to_datetime(df['date'])\n",
    "\n",
    "    \n",
    "    #Columns with Ts and Fs\n",
    "    df.replace({'f': 0, 't': 1}, inplace=True)\n",
    "    \n",
    "    # Clean Currency\n",
    "    df = df.applymap(lambda x: int(x.replace('$','').replace(',','').replace('.00','')) \n",
    "                     if (type(x) == str) and (x[0]=='$') else x )\n",
    "    \n",
    "    return df"
   ]
  },
  {
   "cell_type": "code",
   "execution_count": 5,
   "metadata": {},
   "outputs": [],
   "source": [
    "def impute_median(df, column):\n",
    "    \n",
    "    \"\"\"\n",
    "    Replace NaN values with median\n",
    "    \"\"\"\n",
    "    \n",
    "    df[column].fillna((df[column].median()), inplace=True)"
   ]
  },
  {
   "cell_type": "markdown",
   "metadata": {},
   "source": [
    "### <span style='background:yellow'> 3.1. Calendar </span>"
   ]
  },
  {
   "cell_type": "code",
   "execution_count": null,
   "metadata": {
    "scrolled": true
   },
   "outputs": [],
   "source": [
    "calendar = mass_cleaning(calendar)\n",
    "calendar.head()"
   ]
  },
  {
   "cell_type": "code",
   "execution_count": null,
   "metadata": {
    "scrolled": true
   },
   "outputs": [],
   "source": [
    "# Imputate missing values in minimum maximum nights with 1s, 0s \n",
    "calendar['minimum_nights'].fillna(0, inplace=True)\n",
    "calendar['maximum_nights'].fillna(0, inplace=True)\n",
    "\n",
    "# Replace continuous to discrete\n",
    "calendar['minimum_nights'] = calendar['minimum_nights'].astype(int)\n",
    "calendar['maximum_nights'] = calendar['maximum_nights'].astype(int)\n",
    "\n",
    "#Check for nulls\n",
    "calendar.isnull().sum()"
   ]
  },
  {
   "cell_type": "markdown",
   "metadata": {},
   "source": [
    "<div class=\"alert alert-block alert-warning\">\n",
    "<b>Note to self:</b>\n",
    "^ Might consider dropping `minimum_nights` and  `maximum_nights`\n",
    "</div>"
   ]
  },
  {
   "cell_type": "code",
   "execution_count": null,
   "metadata": {
    "scrolled": false
   },
   "outputs": [],
   "source": [
    "plt.figure(figsize=(15,5))\n",
    "calendar['price'].plot.line(alpha=0.5, color = '#FF5A5F')\n",
    "calendar['adjusted_price'].plot.line(alpha=0.5, color = '#00A699')\n",
    "plt.ylabel('$ ', fontsize = 25, rotation=0)\n",
    "plt.legend(['Price', 'Adjusted Price']);"
   ]
  },
  {
   "cell_type": "markdown",
   "metadata": {},
   "source": [
    "<div class=\"alert alert-block alert-warning\">\n",
    "\n",
    "<b>Note to self:</b>\n",
    "Doesnt seem to have much difference in majority of the lising, can consider dropping `adjusted_price`?\n",
    "\n",
    "\n",
    "</div>"
   ]
  },
  {
   "cell_type": "markdown",
   "metadata": {},
   "source": [
    "##### Dropping Columns"
   ]
  },
  {
   "cell_type": "markdown",
   "metadata": {},
   "source": [
    "<div class=\"alert alert-block alert-warning\">\n",
    "\n",
    "<b>Note to self:</b>\n",
    "To remove lines in line18, if dropping cols\n",
    "\n",
    "</div>"
   ]
  },
  {
   "cell_type": "code",
   "execution_count": null,
   "metadata": {},
   "outputs": [],
   "source": [
    "# cols_to_drop = ['adjusted_price', 'minimum_nights', 'maximum_nights']\n",
    "\n",
    "# calendar = calendar.drop(cols_to_drop, axis=1)\n",
    "# calendar.shape"
   ]
  },
  {
   "cell_type": "markdown",
   "metadata": {},
   "source": [
    "##### Save DataFrame"
   ]
  },
  {
   "cell_type": "code",
   "execution_count": null,
   "metadata": {},
   "outputs": [],
   "source": [
    "calendar.to_csv(\"../datasets/calendar_cleaned.csv\")"
   ]
  },
  {
   "cell_type": "markdown",
   "metadata": {},
   "source": [
    "### <span style='background:yellow'> 3.2. Listing </span>"
   ]
  },
  {
   "cell_type": "code",
   "execution_count": 6,
   "metadata": {},
   "outputs": [],
   "source": [
    "listing = mass_cleaning(listing)"
   ]
  },
  {
   "cell_type": "markdown",
   "metadata": {},
   "source": [
    "##### Isolate and inspect categorical and numerical variable"
   ]
  },
  {
   "cell_type": "markdown",
   "metadata": {},
   "source": [
    "<div class=\"alert alert-block alert-success\">\n",
    "As the the number of features is fairly large, I will be splitting them up by categorical and numerical.\n",
    "</div>"
   ]
  },
  {
   "cell_type": "code",
   "execution_count": 7,
   "metadata": {},
   "outputs": [],
   "source": [
    "categorical_df = listing.select_dtypes(include=['object', 'bool'])\n",
    "categorical_cols = listing.select_dtypes(include=['object', 'bool']).columns.values"
   ]
  },
  {
   "cell_type": "code",
   "execution_count": 8,
   "metadata": {
    "scrolled": false
   },
   "outputs": [
    {
     "data": {
      "text/html": [
       "<div>\n",
       "<style scoped>\n",
       "    .dataframe tbody tr th:only-of-type {\n",
       "        vertical-align: middle;\n",
       "    }\n",
       "\n",
       "    .dataframe tbody tr th {\n",
       "        vertical-align: top;\n",
       "    }\n",
       "\n",
       "    .dataframe thead th {\n",
       "        text-align: right;\n",
       "    }\n",
       "</style>\n",
       "<table border=\"1\" class=\"dataframe\">\n",
       "  <thead>\n",
       "    <tr style=\"text-align: right;\">\n",
       "      <th></th>\n",
       "      <th>0</th>\n",
       "      <th>1</th>\n",
       "    </tr>\n",
       "  </thead>\n",
       "  <tbody>\n",
       "    <tr>\n",
       "      <th>listing_url</th>\n",
       "      <td>https://www.airbnb.com/rooms/35303</td>\n",
       "      <td>https://www.airbnb.com/rooms/197677</td>\n",
       "    </tr>\n",
       "    <tr>\n",
       "      <th>last_scraped</th>\n",
       "      <td>2020-05-30</td>\n",
       "      <td>2020-05-30</td>\n",
       "    </tr>\n",
       "    <tr>\n",
       "      <th>name</th>\n",
       "      <td>La Casa Gaienmae C Harajuku, Omotesando is nearby</td>\n",
       "      <td>Oshiage Holiday Apartment</td>\n",
       "    </tr>\n",
       "    <tr>\n",
       "      <th>summary</th>\n",
       "      <td>This shared flat is locating at very close to ...</td>\n",
       "      <td>NaN</td>\n",
       "    </tr>\n",
       "    <tr>\n",
       "      <th>space</th>\n",
       "      <td>This apartment is 3 bedroom flat shared with t...</td>\n",
       "      <td>We are happy to welcome you to our apartment, ...</td>\n",
       "    </tr>\n",
       "    <tr>\n",
       "      <th>description</th>\n",
       "      <td>This shared flat is locating at very close to ...</td>\n",
       "      <td>We are happy to welcome you to our apartment, ...</td>\n",
       "    </tr>\n",
       "    <tr>\n",
       "      <th>experiences_offered</th>\n",
       "      <td>none</td>\n",
       "      <td>none</td>\n",
       "    </tr>\n",
       "    <tr>\n",
       "      <th>neighborhood_overview</th>\n",
       "      <td>10 min walking to Harajuku ~ Urahara ~ Omotesa...</td>\n",
       "      <td>NaN</td>\n",
       "    </tr>\n",
       "    <tr>\n",
       "      <th>notes</th>\n",
       "      <td>Current tenants are living in this flat over 2...</td>\n",
       "      <td>NaN</td>\n",
       "    </tr>\n",
       "    <tr>\n",
       "      <th>transit</th>\n",
       "      <td>5min to subway, 10min to JR stations, you can ...</td>\n",
       "      <td>NaN</td>\n",
       "    </tr>\n",
       "    <tr>\n",
       "      <th>access</th>\n",
       "      <td>Your private room, Kitchen, Bathroom, Toilet, ...</td>\n",
       "      <td>NaN</td>\n",
       "    </tr>\n",
       "    <tr>\n",
       "      <th>interaction</th>\n",
       "      <td>I provide common space cleaning twice a week. ...</td>\n",
       "      <td>NaN</td>\n",
       "    </tr>\n",
       "    <tr>\n",
       "      <th>house_rules</th>\n",
       "      <td>If you would like to stay monthly, there is a ...</td>\n",
       "      <td>1. Smoking is NOT allowed inside the property....</td>\n",
       "    </tr>\n",
       "    <tr>\n",
       "      <th>picture_url</th>\n",
       "      <td>https://a0.muscache.com/im/pictures/67365319/c...</td>\n",
       "      <td>https://a0.muscache.com/im/pictures/38437056/d...</td>\n",
       "    </tr>\n",
       "    <tr>\n",
       "      <th>host_url</th>\n",
       "      <td>https://www.airbnb.com/users/show/151977</td>\n",
       "      <td>https://www.airbnb.com/users/show/964081</td>\n",
       "    </tr>\n",
       "    <tr>\n",
       "      <th>host_name</th>\n",
       "      <td>Miyuki</td>\n",
       "      <td>Yoshimi &amp; Marek</td>\n",
       "    </tr>\n",
       "    <tr>\n",
       "      <th>host_since</th>\n",
       "      <td>2010-06-25</td>\n",
       "      <td>2011-08-13</td>\n",
       "    </tr>\n",
       "    <tr>\n",
       "      <th>host_location</th>\n",
       "      <td>Shibuya, Tokyo, Japan</td>\n",
       "      <td>Tokyo</td>\n",
       "    </tr>\n",
       "    <tr>\n",
       "      <th>host_about</th>\n",
       "      <td>Hi I am Miyuki Kanda. I run a real estate &amp; pr...</td>\n",
       "      <td>Would love to travel all over the world and me...</td>\n",
       "    </tr>\n",
       "    <tr>\n",
       "      <th>host_response_time</th>\n",
       "      <td>NaN</td>\n",
       "      <td>within a few hours</td>\n",
       "    </tr>\n",
       "    <tr>\n",
       "      <th>host_response_rate</th>\n",
       "      <td>NaN</td>\n",
       "      <td>100%</td>\n",
       "    </tr>\n",
       "    <tr>\n",
       "      <th>host_acceptance_rate</th>\n",
       "      <td>NaN</td>\n",
       "      <td>86%</td>\n",
       "    </tr>\n",
       "    <tr>\n",
       "      <th>host_thumbnail_url</th>\n",
       "      <td>https://a0.muscache.com/im/users/151977/profil...</td>\n",
       "      <td>https://a0.muscache.com/im/users/964081/profil...</td>\n",
       "    </tr>\n",
       "    <tr>\n",
       "      <th>host_picture_url</th>\n",
       "      <td>https://a0.muscache.com/im/users/151977/profil...</td>\n",
       "      <td>https://a0.muscache.com/im/users/964081/profil...</td>\n",
       "    </tr>\n",
       "    <tr>\n",
       "      <th>host_neighbourhood</th>\n",
       "      <td>Shibuya District</td>\n",
       "      <td>Sumida District</td>\n",
       "    </tr>\n",
       "    <tr>\n",
       "      <th>host_verifications</th>\n",
       "      <td>['email', 'phone', 'facebook', 'reviews', 'jum...</td>\n",
       "      <td>['email', 'phone', 'facebook', 'reviews', 'jum...</td>\n",
       "    </tr>\n",
       "    <tr>\n",
       "      <th>street</th>\n",
       "      <td>Shibuya, Tokyo, Japan</td>\n",
       "      <td>Sumida, Tokyo, Japan</td>\n",
       "    </tr>\n",
       "    <tr>\n",
       "      <th>neighbourhood</th>\n",
       "      <td>Shibuya District</td>\n",
       "      <td>Sumida District</td>\n",
       "    </tr>\n",
       "    <tr>\n",
       "      <th>neighbourhood_cleansed</th>\n",
       "      <td>Shibuya Ku</td>\n",
       "      <td>Sumida Ku</td>\n",
       "    </tr>\n",
       "    <tr>\n",
       "      <th>city</th>\n",
       "      <td>Shibuya</td>\n",
       "      <td>Sumida</td>\n",
       "    </tr>\n",
       "    <tr>\n",
       "      <th>state</th>\n",
       "      <td>Tokyo</td>\n",
       "      <td>Tokyo</td>\n",
       "    </tr>\n",
       "    <tr>\n",
       "      <th>zipcode</th>\n",
       "      <td>150-0001</td>\n",
       "      <td>NaN</td>\n",
       "    </tr>\n",
       "    <tr>\n",
       "      <th>market</th>\n",
       "      <td>Tokyo</td>\n",
       "      <td>Tokyo</td>\n",
       "    </tr>\n",
       "    <tr>\n",
       "      <th>smart_location</th>\n",
       "      <td>Shibuya, Japan</td>\n",
       "      <td>Sumida, Japan</td>\n",
       "    </tr>\n",
       "    <tr>\n",
       "      <th>country_code</th>\n",
       "      <td>JP</td>\n",
       "      <td>JP</td>\n",
       "    </tr>\n",
       "    <tr>\n",
       "      <th>country</th>\n",
       "      <td>Japan</td>\n",
       "      <td>Japan</td>\n",
       "    </tr>\n",
       "    <tr>\n",
       "      <th>property_type</th>\n",
       "      <td>Apartment</td>\n",
       "      <td>Apartment</td>\n",
       "    </tr>\n",
       "    <tr>\n",
       "      <th>room_type</th>\n",
       "      <td>Private room</td>\n",
       "      <td>Entire home/apt</td>\n",
       "    </tr>\n",
       "    <tr>\n",
       "      <th>bed_type</th>\n",
       "      <td>Real Bed</td>\n",
       "      <td>Futon</td>\n",
       "    </tr>\n",
       "    <tr>\n",
       "      <th>amenities</th>\n",
       "      <td>{TV,Internet,Wifi,Kitchen,\"Paid parking off pr...</td>\n",
       "      <td>{TV,Internet,Wifi,\"Air conditioning\",Kitchen,\"...</td>\n",
       "    </tr>\n",
       "    <tr>\n",
       "      <th>calendar_updated</th>\n",
       "      <td>19 months ago</td>\n",
       "      <td>6 weeks ago</td>\n",
       "    </tr>\n",
       "    <tr>\n",
       "      <th>calendar_last_scraped</th>\n",
       "      <td>2020-05-30</td>\n",
       "      <td>2020-05-30</td>\n",
       "    </tr>\n",
       "    <tr>\n",
       "      <th>first_review</th>\n",
       "      <td>2011-12-28</td>\n",
       "      <td>2011-09-21</td>\n",
       "    </tr>\n",
       "    <tr>\n",
       "      <th>last_review</th>\n",
       "      <td>2018-07-28</td>\n",
       "      <td>2020-03-04</td>\n",
       "    </tr>\n",
       "    <tr>\n",
       "      <th>license</th>\n",
       "      <td>Other reasons | \\n弊社は不動産事業者であり賃貸住宅管理事業者でもあります。...</td>\n",
       "      <td>M130003350</td>\n",
       "    </tr>\n",
       "    <tr>\n",
       "      <th>cancellation_policy</th>\n",
       "      <td>strict_14_with_grace_period</td>\n",
       "      <td>moderate</td>\n",
       "    </tr>\n",
       "  </tbody>\n",
       "</table>\n",
       "</div>"
      ],
      "text/plain": [
       "                                                                        0  \\\n",
       "listing_url                            https://www.airbnb.com/rooms/35303   \n",
       "last_scraped                                                   2020-05-30   \n",
       "name                    La Casa Gaienmae C Harajuku, Omotesando is nearby   \n",
       "summary                 This shared flat is locating at very close to ...   \n",
       "space                   This apartment is 3 bedroom flat shared with t...   \n",
       "description             This shared flat is locating at very close to ...   \n",
       "experiences_offered                                                  none   \n",
       "neighborhood_overview   10 min walking to Harajuku ~ Urahara ~ Omotesa...   \n",
       "notes                   Current tenants are living in this flat over 2...   \n",
       "transit                 5min to subway, 10min to JR stations, you can ...   \n",
       "access                  Your private room, Kitchen, Bathroom, Toilet, ...   \n",
       "interaction             I provide common space cleaning twice a week. ...   \n",
       "house_rules             If you would like to stay monthly, there is a ...   \n",
       "picture_url             https://a0.muscache.com/im/pictures/67365319/c...   \n",
       "host_url                         https://www.airbnb.com/users/show/151977   \n",
       "host_name                                                          Miyuki   \n",
       "host_since                                                     2010-06-25   \n",
       "host_location                                       Shibuya, Tokyo, Japan   \n",
       "host_about              Hi I am Miyuki Kanda. I run a real estate & pr...   \n",
       "host_response_time                                                    NaN   \n",
       "host_response_rate                                                    NaN   \n",
       "host_acceptance_rate                                                  NaN   \n",
       "host_thumbnail_url      https://a0.muscache.com/im/users/151977/profil...   \n",
       "host_picture_url        https://a0.muscache.com/im/users/151977/profil...   \n",
       "host_neighbourhood                                       Shibuya District   \n",
       "host_verifications      ['email', 'phone', 'facebook', 'reviews', 'jum...   \n",
       "street                                              Shibuya, Tokyo, Japan   \n",
       "neighbourhood                                            Shibuya District   \n",
       "neighbourhood_cleansed                                         Shibuya Ku   \n",
       "city                                                              Shibuya   \n",
       "state                                                               Tokyo   \n",
       "zipcode                                                          150-0001   \n",
       "market                                                              Tokyo   \n",
       "smart_location                                             Shibuya, Japan   \n",
       "country_code                                                           JP   \n",
       "country                                                             Japan   \n",
       "property_type                                                   Apartment   \n",
       "room_type                                                    Private room   \n",
       "bed_type                                                         Real Bed   \n",
       "amenities               {TV,Internet,Wifi,Kitchen,\"Paid parking off pr...   \n",
       "calendar_updated                                            19 months ago   \n",
       "calendar_last_scraped                                          2020-05-30   \n",
       "first_review                                                   2011-12-28   \n",
       "last_review                                                    2018-07-28   \n",
       "license                 Other reasons | \\n弊社は不動産事業者であり賃貸住宅管理事業者でもあります。...   \n",
       "cancellation_policy                           strict_14_with_grace_period   \n",
       "\n",
       "                                                                        1  \n",
       "listing_url                           https://www.airbnb.com/rooms/197677  \n",
       "last_scraped                                                   2020-05-30  \n",
       "name                                            Oshiage Holiday Apartment  \n",
       "summary                                                               NaN  \n",
       "space                   We are happy to welcome you to our apartment, ...  \n",
       "description             We are happy to welcome you to our apartment, ...  \n",
       "experiences_offered                                                  none  \n",
       "neighborhood_overview                                                 NaN  \n",
       "notes                                                                 NaN  \n",
       "transit                                                               NaN  \n",
       "access                                                                NaN  \n",
       "interaction                                                           NaN  \n",
       "house_rules             1. Smoking is NOT allowed inside the property....  \n",
       "picture_url             https://a0.muscache.com/im/pictures/38437056/d...  \n",
       "host_url                         https://www.airbnb.com/users/show/964081  \n",
       "host_name                                                 Yoshimi & Marek  \n",
       "host_since                                                     2011-08-13  \n",
       "host_location                                                       Tokyo  \n",
       "host_about              Would love to travel all over the world and me...  \n",
       "host_response_time                                     within a few hours  \n",
       "host_response_rate                                                   100%  \n",
       "host_acceptance_rate                                                  86%  \n",
       "host_thumbnail_url      https://a0.muscache.com/im/users/964081/profil...  \n",
       "host_picture_url        https://a0.muscache.com/im/users/964081/profil...  \n",
       "host_neighbourhood                                        Sumida District  \n",
       "host_verifications      ['email', 'phone', 'facebook', 'reviews', 'jum...  \n",
       "street                                               Sumida, Tokyo, Japan  \n",
       "neighbourhood                                             Sumida District  \n",
       "neighbourhood_cleansed                                          Sumida Ku  \n",
       "city                                                               Sumida  \n",
       "state                                                               Tokyo  \n",
       "zipcode                                                               NaN  \n",
       "market                                                              Tokyo  \n",
       "smart_location                                              Sumida, Japan  \n",
       "country_code                                                           JP  \n",
       "country                                                             Japan  \n",
       "property_type                                                   Apartment  \n",
       "room_type                                                 Entire home/apt  \n",
       "bed_type                                                            Futon  \n",
       "amenities               {TV,Internet,Wifi,\"Air conditioning\",Kitchen,\"...  \n",
       "calendar_updated                                              6 weeks ago  \n",
       "calendar_last_scraped                                          2020-05-30  \n",
       "first_review                                                   2011-09-21  \n",
       "last_review                                                    2020-03-04  \n",
       "license                                                        M130003350  \n",
       "cancellation_policy                                              moderate  "
      ]
     },
     "execution_count": 8,
     "metadata": {},
     "output_type": "execute_result"
    }
   ],
   "source": [
    "categorical_df.head(2).T"
   ]
  },
  {
   "cell_type": "code",
   "execution_count": 9,
   "metadata": {},
   "outputs": [],
   "source": [
    "numerical_df = listing.select_dtypes(include=['int', 'float'])\n",
    "numerical_cols = listing.select_dtypes(include=['int', 'float']).columns.values"
   ]
  },
  {
   "cell_type": "code",
   "execution_count": 10,
   "metadata": {
    "scrolled": false
   },
   "outputs": [
    {
     "data": {
      "text/html": [
       "<div>\n",
       "<style scoped>\n",
       "    .dataframe tbody tr th:only-of-type {\n",
       "        vertical-align: middle;\n",
       "    }\n",
       "\n",
       "    .dataframe tbody tr th {\n",
       "        vertical-align: top;\n",
       "    }\n",
       "\n",
       "    .dataframe thead th {\n",
       "        text-align: right;\n",
       "    }\n",
       "</style>\n",
       "<table border=\"1\" class=\"dataframe\">\n",
       "  <thead>\n",
       "    <tr style=\"text-align: right;\">\n",
       "      <th></th>\n",
       "      <th>0</th>\n",
       "      <th>1</th>\n",
       "    </tr>\n",
       "  </thead>\n",
       "  <tbody>\n",
       "    <tr>\n",
       "      <th>id</th>\n",
       "      <td>3.530300e+04</td>\n",
       "      <td>1.976770e+05</td>\n",
       "    </tr>\n",
       "    <tr>\n",
       "      <th>scrape_id</th>\n",
       "      <td>2.020053e+13</td>\n",
       "      <td>2.020053e+13</td>\n",
       "    </tr>\n",
       "    <tr>\n",
       "      <th>thumbnail_url</th>\n",
       "      <td>NaN</td>\n",
       "      <td>NaN</td>\n",
       "    </tr>\n",
       "    <tr>\n",
       "      <th>medium_url</th>\n",
       "      <td>NaN</td>\n",
       "      <td>NaN</td>\n",
       "    </tr>\n",
       "    <tr>\n",
       "      <th>xl_picture_url</th>\n",
       "      <td>NaN</td>\n",
       "      <td>NaN</td>\n",
       "    </tr>\n",
       "    <tr>\n",
       "      <th>host_id</th>\n",
       "      <td>1.519770e+05</td>\n",
       "      <td>9.640810e+05</td>\n",
       "    </tr>\n",
       "    <tr>\n",
       "      <th>host_is_superhost</th>\n",
       "      <td>0.000000e+00</td>\n",
       "      <td>1.000000e+00</td>\n",
       "    </tr>\n",
       "    <tr>\n",
       "      <th>host_listings_count</th>\n",
       "      <td>3.000000e+00</td>\n",
       "      <td>1.000000e+00</td>\n",
       "    </tr>\n",
       "    <tr>\n",
       "      <th>host_total_listings_count</th>\n",
       "      <td>3.000000e+00</td>\n",
       "      <td>1.000000e+00</td>\n",
       "    </tr>\n",
       "    <tr>\n",
       "      <th>host_has_profile_pic</th>\n",
       "      <td>1.000000e+00</td>\n",
       "      <td>1.000000e+00</td>\n",
       "    </tr>\n",
       "    <tr>\n",
       "      <th>host_identity_verified</th>\n",
       "      <td>1.000000e+00</td>\n",
       "      <td>1.000000e+00</td>\n",
       "    </tr>\n",
       "    <tr>\n",
       "      <th>neighbourhood_group_cleansed</th>\n",
       "      <td>NaN</td>\n",
       "      <td>NaN</td>\n",
       "    </tr>\n",
       "    <tr>\n",
       "      <th>latitude</th>\n",
       "      <td>3.567152e+01</td>\n",
       "      <td>3.571721e+01</td>\n",
       "    </tr>\n",
       "    <tr>\n",
       "      <th>longitude</th>\n",
       "      <td>1.397120e+02</td>\n",
       "      <td>1.398260e+02</td>\n",
       "    </tr>\n",
       "    <tr>\n",
       "      <th>is_location_exact</th>\n",
       "      <td>1.000000e+00</td>\n",
       "      <td>0.000000e+00</td>\n",
       "    </tr>\n",
       "    <tr>\n",
       "      <th>accommodates</th>\n",
       "      <td>1.000000e+00</td>\n",
       "      <td>2.000000e+00</td>\n",
       "    </tr>\n",
       "    <tr>\n",
       "      <th>bathrooms</th>\n",
       "      <td>1.000000e+00</td>\n",
       "      <td>1.000000e+00</td>\n",
       "    </tr>\n",
       "    <tr>\n",
       "      <th>bedrooms</th>\n",
       "      <td>1.000000e+00</td>\n",
       "      <td>1.000000e+00</td>\n",
       "    </tr>\n",
       "    <tr>\n",
       "      <th>beds</th>\n",
       "      <td>1.000000e+00</td>\n",
       "      <td>2.000000e+00</td>\n",
       "    </tr>\n",
       "    <tr>\n",
       "      <th>square_feet</th>\n",
       "      <td>NaN</td>\n",
       "      <td>NaN</td>\n",
       "    </tr>\n",
       "    <tr>\n",
       "      <th>price</th>\n",
       "      <td>4.192000e+03</td>\n",
       "      <td>1.096500e+04</td>\n",
       "    </tr>\n",
       "    <tr>\n",
       "      <th>weekly_price</th>\n",
       "      <td>NaN</td>\n",
       "      <td>6.600000e+04</td>\n",
       "    </tr>\n",
       "    <tr>\n",
       "      <th>monthly_price</th>\n",
       "      <td>1.100000e+05</td>\n",
       "      <td>2.400000e+05</td>\n",
       "    </tr>\n",
       "    <tr>\n",
       "      <th>security_deposit</th>\n",
       "      <td>3.000000e+04</td>\n",
       "      <td>4.000000e+04</td>\n",
       "    </tr>\n",
       "    <tr>\n",
       "      <th>cleaning_fee</th>\n",
       "      <td>5.000000e+03</td>\n",
       "      <td>5.000000e+03</td>\n",
       "    </tr>\n",
       "    <tr>\n",
       "      <th>guests_included</th>\n",
       "      <td>1.000000e+00</td>\n",
       "      <td>1.000000e+00</td>\n",
       "    </tr>\n",
       "    <tr>\n",
       "      <th>extra_people</th>\n",
       "      <td>0.000000e+00</td>\n",
       "      <td>0.000000e+00</td>\n",
       "    </tr>\n",
       "    <tr>\n",
       "      <th>minimum_nights</th>\n",
       "      <td>2.800000e+01</td>\n",
       "      <td>3.000000e+00</td>\n",
       "    </tr>\n",
       "    <tr>\n",
       "      <th>maximum_nights</th>\n",
       "      <td>1.125000e+03</td>\n",
       "      <td>3.650000e+02</td>\n",
       "    </tr>\n",
       "    <tr>\n",
       "      <th>minimum_minimum_nights</th>\n",
       "      <td>2.800000e+01</td>\n",
       "      <td>3.000000e+00</td>\n",
       "    </tr>\n",
       "    <tr>\n",
       "      <th>maximum_minimum_nights</th>\n",
       "      <td>2.800000e+01</td>\n",
       "      <td>3.000000e+00</td>\n",
       "    </tr>\n",
       "    <tr>\n",
       "      <th>minimum_maximum_nights</th>\n",
       "      <td>1.125000e+03</td>\n",
       "      <td>3.650000e+02</td>\n",
       "    </tr>\n",
       "    <tr>\n",
       "      <th>maximum_maximum_nights</th>\n",
       "      <td>1.125000e+03</td>\n",
       "      <td>3.650000e+02</td>\n",
       "    </tr>\n",
       "    <tr>\n",
       "      <th>minimum_nights_avg_ntm</th>\n",
       "      <td>2.800000e+01</td>\n",
       "      <td>3.000000e+00</td>\n",
       "    </tr>\n",
       "    <tr>\n",
       "      <th>maximum_nights_avg_ntm</th>\n",
       "      <td>1.125000e+03</td>\n",
       "      <td>3.650000e+02</td>\n",
       "    </tr>\n",
       "    <tr>\n",
       "      <th>has_availability</th>\n",
       "      <td>1.000000e+00</td>\n",
       "      <td>1.000000e+00</td>\n",
       "    </tr>\n",
       "    <tr>\n",
       "      <th>availability_30</th>\n",
       "      <td>2.900000e+01</td>\n",
       "      <td>2.800000e+01</td>\n",
       "    </tr>\n",
       "    <tr>\n",
       "      <th>availability_60</th>\n",
       "      <td>5.900000e+01</td>\n",
       "      <td>4.000000e+01</td>\n",
       "    </tr>\n",
       "    <tr>\n",
       "      <th>availability_90</th>\n",
       "      <td>8.900000e+01</td>\n",
       "      <td>4.600000e+01</td>\n",
       "    </tr>\n",
       "    <tr>\n",
       "      <th>availability_365</th>\n",
       "      <td>8.900000e+01</td>\n",
       "      <td>2.700000e+02</td>\n",
       "    </tr>\n",
       "    <tr>\n",
       "      <th>number_of_reviews</th>\n",
       "      <td>1.800000e+01</td>\n",
       "      <td>1.650000e+02</td>\n",
       "    </tr>\n",
       "    <tr>\n",
       "      <th>number_of_reviews_ltm</th>\n",
       "      <td>0.000000e+00</td>\n",
       "      <td>9.000000e+00</td>\n",
       "    </tr>\n",
       "    <tr>\n",
       "      <th>review_scores_rating</th>\n",
       "      <td>9.400000e+01</td>\n",
       "      <td>9.500000e+01</td>\n",
       "    </tr>\n",
       "    <tr>\n",
       "      <th>review_scores_accuracy</th>\n",
       "      <td>9.000000e+00</td>\n",
       "      <td>1.000000e+01</td>\n",
       "    </tr>\n",
       "    <tr>\n",
       "      <th>review_scores_cleanliness</th>\n",
       "      <td>9.000000e+00</td>\n",
       "      <td>1.000000e+01</td>\n",
       "    </tr>\n",
       "    <tr>\n",
       "      <th>review_scores_checkin</th>\n",
       "      <td>9.000000e+00</td>\n",
       "      <td>1.000000e+01</td>\n",
       "    </tr>\n",
       "    <tr>\n",
       "      <th>review_scores_communication</th>\n",
       "      <td>1.000000e+01</td>\n",
       "      <td>1.000000e+01</td>\n",
       "    </tr>\n",
       "    <tr>\n",
       "      <th>review_scores_location</th>\n",
       "      <td>1.000000e+01</td>\n",
       "      <td>9.000000e+00</td>\n",
       "    </tr>\n",
       "    <tr>\n",
       "      <th>review_scores_value</th>\n",
       "      <td>9.000000e+00</td>\n",
       "      <td>1.000000e+01</td>\n",
       "    </tr>\n",
       "    <tr>\n",
       "      <th>requires_license</th>\n",
       "      <td>1.000000e+00</td>\n",
       "      <td>1.000000e+00</td>\n",
       "    </tr>\n",
       "    <tr>\n",
       "      <th>jurisdiction_names</th>\n",
       "      <td>NaN</td>\n",
       "      <td>NaN</td>\n",
       "    </tr>\n",
       "    <tr>\n",
       "      <th>instant_bookable</th>\n",
       "      <td>0.000000e+00</td>\n",
       "      <td>0.000000e+00</td>\n",
       "    </tr>\n",
       "    <tr>\n",
       "      <th>is_business_travel_ready</th>\n",
       "      <td>0.000000e+00</td>\n",
       "      <td>0.000000e+00</td>\n",
       "    </tr>\n",
       "    <tr>\n",
       "      <th>require_guest_profile_picture</th>\n",
       "      <td>0.000000e+00</td>\n",
       "      <td>0.000000e+00</td>\n",
       "    </tr>\n",
       "    <tr>\n",
       "      <th>require_guest_phone_verification</th>\n",
       "      <td>0.000000e+00</td>\n",
       "      <td>0.000000e+00</td>\n",
       "    </tr>\n",
       "    <tr>\n",
       "      <th>calculated_host_listings_count</th>\n",
       "      <td>3.000000e+00</td>\n",
       "      <td>1.000000e+00</td>\n",
       "    </tr>\n",
       "    <tr>\n",
       "      <th>calculated_host_listings_count_entire_homes</th>\n",
       "      <td>2.000000e+00</td>\n",
       "      <td>1.000000e+00</td>\n",
       "    </tr>\n",
       "    <tr>\n",
       "      <th>calculated_host_listings_count_private_rooms</th>\n",
       "      <td>1.000000e+00</td>\n",
       "      <td>0.000000e+00</td>\n",
       "    </tr>\n",
       "    <tr>\n",
       "      <th>calculated_host_listings_count_shared_rooms</th>\n",
       "      <td>0.000000e+00</td>\n",
       "      <td>0.000000e+00</td>\n",
       "    </tr>\n",
       "    <tr>\n",
       "      <th>reviews_per_month</th>\n",
       "      <td>1.800000e-01</td>\n",
       "      <td>1.560000e+00</td>\n",
       "    </tr>\n",
       "  </tbody>\n",
       "</table>\n",
       "</div>"
      ],
      "text/plain": [
       "                                                         0             1\n",
       "id                                            3.530300e+04  1.976770e+05\n",
       "scrape_id                                     2.020053e+13  2.020053e+13\n",
       "thumbnail_url                                          NaN           NaN\n",
       "medium_url                                             NaN           NaN\n",
       "xl_picture_url                                         NaN           NaN\n",
       "host_id                                       1.519770e+05  9.640810e+05\n",
       "host_is_superhost                             0.000000e+00  1.000000e+00\n",
       "host_listings_count                           3.000000e+00  1.000000e+00\n",
       "host_total_listings_count                     3.000000e+00  1.000000e+00\n",
       "host_has_profile_pic                          1.000000e+00  1.000000e+00\n",
       "host_identity_verified                        1.000000e+00  1.000000e+00\n",
       "neighbourhood_group_cleansed                           NaN           NaN\n",
       "latitude                                      3.567152e+01  3.571721e+01\n",
       "longitude                                     1.397120e+02  1.398260e+02\n",
       "is_location_exact                             1.000000e+00  0.000000e+00\n",
       "accommodates                                  1.000000e+00  2.000000e+00\n",
       "bathrooms                                     1.000000e+00  1.000000e+00\n",
       "bedrooms                                      1.000000e+00  1.000000e+00\n",
       "beds                                          1.000000e+00  2.000000e+00\n",
       "square_feet                                            NaN           NaN\n",
       "price                                         4.192000e+03  1.096500e+04\n",
       "weekly_price                                           NaN  6.600000e+04\n",
       "monthly_price                                 1.100000e+05  2.400000e+05\n",
       "security_deposit                              3.000000e+04  4.000000e+04\n",
       "cleaning_fee                                  5.000000e+03  5.000000e+03\n",
       "guests_included                               1.000000e+00  1.000000e+00\n",
       "extra_people                                  0.000000e+00  0.000000e+00\n",
       "minimum_nights                                2.800000e+01  3.000000e+00\n",
       "maximum_nights                                1.125000e+03  3.650000e+02\n",
       "minimum_minimum_nights                        2.800000e+01  3.000000e+00\n",
       "maximum_minimum_nights                        2.800000e+01  3.000000e+00\n",
       "minimum_maximum_nights                        1.125000e+03  3.650000e+02\n",
       "maximum_maximum_nights                        1.125000e+03  3.650000e+02\n",
       "minimum_nights_avg_ntm                        2.800000e+01  3.000000e+00\n",
       "maximum_nights_avg_ntm                        1.125000e+03  3.650000e+02\n",
       "has_availability                              1.000000e+00  1.000000e+00\n",
       "availability_30                               2.900000e+01  2.800000e+01\n",
       "availability_60                               5.900000e+01  4.000000e+01\n",
       "availability_90                               8.900000e+01  4.600000e+01\n",
       "availability_365                              8.900000e+01  2.700000e+02\n",
       "number_of_reviews                             1.800000e+01  1.650000e+02\n",
       "number_of_reviews_ltm                         0.000000e+00  9.000000e+00\n",
       "review_scores_rating                          9.400000e+01  9.500000e+01\n",
       "review_scores_accuracy                        9.000000e+00  1.000000e+01\n",
       "review_scores_cleanliness                     9.000000e+00  1.000000e+01\n",
       "review_scores_checkin                         9.000000e+00  1.000000e+01\n",
       "review_scores_communication                   1.000000e+01  1.000000e+01\n",
       "review_scores_location                        1.000000e+01  9.000000e+00\n",
       "review_scores_value                           9.000000e+00  1.000000e+01\n",
       "requires_license                              1.000000e+00  1.000000e+00\n",
       "jurisdiction_names                                     NaN           NaN\n",
       "instant_bookable                              0.000000e+00  0.000000e+00\n",
       "is_business_travel_ready                      0.000000e+00  0.000000e+00\n",
       "require_guest_profile_picture                 0.000000e+00  0.000000e+00\n",
       "require_guest_phone_verification              0.000000e+00  0.000000e+00\n",
       "calculated_host_listings_count                3.000000e+00  1.000000e+00\n",
       "calculated_host_listings_count_entire_homes   2.000000e+00  1.000000e+00\n",
       "calculated_host_listings_count_private_rooms  1.000000e+00  0.000000e+00\n",
       "calculated_host_listings_count_shared_rooms   0.000000e+00  0.000000e+00\n",
       "reviews_per_month                             1.800000e-01  1.560000e+00"
      ]
     },
     "execution_count": 10,
     "metadata": {},
     "output_type": "execute_result"
    }
   ],
   "source": [
    "numerical_df.head(2).T"
   ]
  },
  {
   "cell_type": "markdown",
   "metadata": {},
   "source": [
    "### 3.2.1. Dropping  and Convert Columns"
   ]
  },
  {
   "cell_type": "markdown",
   "metadata": {},
   "source": [
    "<div class=\"alert alert-block alert-success\">\n",
    "    \n",
    "<b>Explanation:</b>\n",
    "\n",
    "From the data shown above (categorical/numerical), I will be dropping text columns for now and columns that might not be useful for predicting price. \n",
    "</div>"
   ]
  },
  {
   "cell_type": "code",
   "execution_count": 11,
   "metadata": {
    "scrolled": false
   },
   "outputs": [
    {
     "data": {
      "text/plain": [
       "(15009, 79)"
      ]
     },
     "execution_count": 11,
     "metadata": {},
     "output_type": "execute_result"
    }
   ],
   "source": [
    "cols_to_drop = ['listing_url', 'last_scraped', 'name', 'summary','space', \n",
    "                'description', 'neighborhood_overview', 'notes', 'transit', 'access', \n",
    "                'interaction', 'house_rules', 'picture_url', 'host_url','host_name', \n",
    "                'host_location', 'host_about', 'host_thumbnail_url', 'host_picture_url','host_neighbourhood', \n",
    "                'host_verifications', 'calendar_last_scraped', 'license', 'scrape_id','thumbnail_url',\n",
    "                'medium_url', 'xl_picture_url'\n",
    "               ]\n",
    "\n",
    "listing = listing.drop(cols_to_drop, axis=1)\n",
    "listing.shape"
   ]
  },
  {
   "cell_type": "code",
   "execution_count": 12,
   "metadata": {},
   "outputs": [],
   "source": [
    "# Convert rest of the datetime string column to datetime object\n",
    "\n",
    "listing['host_since'] = pd.to_datetime(listing['host_since'])\n",
    "listing['first_review'] = pd.to_datetime(listing['first_review'])\n",
    "listing['last_review'] = pd.to_datetime(listing['last_review'])"
   ]
  },
  {
   "cell_type": "code",
   "execution_count": 13,
   "metadata": {
    "scrolled": false
   },
   "outputs": [
    {
     "data": {
      "text/plain": [
       "jurisdiction_names              15009\n",
       "neighbourhood_group_cleansed    15009\n",
       "square_feet                     14998\n",
       "monthly_price                   14835\n",
       "weekly_price                    14824\n",
       "dtype: int64"
      ]
     },
     "execution_count": 13,
     "metadata": {},
     "output_type": "execute_result"
    }
   ],
   "source": [
    "# Check for columns that has more than 10000 Null values\n",
    "\n",
    "listing.isnull().sum()[listing.isnull().sum()>10000].sort_values(ascending=False)"
   ]
  },
  {
   "cell_type": "code",
   "execution_count": 14,
   "metadata": {
    "scrolled": false
   },
   "outputs": [],
   "source": [
    "# Drop columns consist a majority of NaNs \n",
    "# reviews_per_month and number_of_reviews_ltm columns will be dropped as well as there is number_of_reviews \n",
    "# experiences_offered are all 'none' values as well\n",
    "\n",
    "listing.drop(['jurisdiction_names','neighbourhood_group_cleansed','square_feet',\n",
    "              'monthly_price','weekly_price', 'reviews_per_month','number_of_reviews_ltm', \n",
    "              'experiences_offered'], \n",
    "             axis=1, inplace=True)"
   ]
  },
  {
   "cell_type": "code",
   "execution_count": 15,
   "metadata": {
    "scrolled": true
   },
   "outputs": [
    {
     "data": {
      "text/plain": [
       "(15009, 71)"
      ]
     },
     "execution_count": 15,
     "metadata": {},
     "output_type": "execute_result"
    }
   ],
   "source": [
    "listing.shape"
   ]
  },
  {
   "cell_type": "markdown",
   "metadata": {},
   "source": [
    "### 3.2.2  Imputation of Missing Values"
   ]
  },
  {
   "cell_type": "code",
   "execution_count": 16,
   "metadata": {},
   "outputs": [
    {
     "data": {
      "text/plain": [
       "review_scores_value            2667\n",
       "review_scores_location         2667\n",
       "review_scores_communication    2667\n",
       "review_scores_checkin          2667\n",
       "review_scores_cleanliness      2667\n",
       "review_scores_accuracy         2667\n",
       "review_scores_rating           2667\n",
       "last_review                    2643\n",
       "first_review                   2643\n",
       "host_response_rate             1851\n",
       "host_response_time             1851\n",
       "neighbourhood                  1482\n",
       "security_deposit               1262\n",
       "dtype: int64"
      ]
     },
     "execution_count": 16,
     "metadata": {},
     "output_type": "execute_result"
    }
   ],
   "source": [
    "listing.isnull().sum()[listing.isnull().sum()>1000].sort_values(ascending=False)"
   ]
  },
  {
   "cell_type": "markdown",
   "metadata": {},
   "source": [
    "<div class=\"alert alert-block alert-success\">\n",
    "    \n",
    "<b>Assumption:</b>\n",
    "\n",
    "Missing data from (cols that start with name): \n",
    "\n",
    "- review_scores\n",
    "- host_response\n",
    "- last_review \n",
    "- first_review\n",
    "- host_acceptance_rate\n",
    "\n",
    "Might be an indication of properties that are new listing that has not been contacted yet. Hence they do not have any response time and rate, and/or ratings . Hence, null values for these features will be filled with `unrated`, `unknown` accordingly. \n",
    "\n",
    "I will also be splitting them into categories.\n",
    "- reviews_scores does not have all the rating from 0-10, hence I will categorise them according to \n",
    "    - low \n",
    "    - acceptable \n",
    "    - good\n",
    "    - very good \n",
    "    - excellent\n",
    "\n",
    "</div>"
   ]
  },
  {
   "cell_type": "markdown",
   "metadata": {},
   "source": [
    "##### a. Review_Scores_"
   ]
  },
  {
   "cell_type": "code",
   "execution_count": 17,
   "metadata": {},
   "outputs": [
    {
     "name": "stdout",
     "output_type": "stream",
     "text": [
      "Unique Review Scores Value:  [ 9. 10.  8.  7. nan  5.  4.  6.  2.]\n",
      "**************************************************************\n",
      "Unique Review Scores Location:  [10.  9.  7.  8. nan  6.  2.  5.  4.]\n",
      "**************************************************************\n",
      "Unique Review Scores Comm:  [10.  9.  8. nan  7.  4.  2.  6.  5.]\n",
      "**************************************************************\n",
      "Unique Review Scores Checkin:  [ 9. 10. nan  8.  6.  2.  7.  5.  4.]\n",
      "**************************************************************\n",
      "Unique Review Scores Cleaniness:  [ 9. 10.  8.  7. nan  6.  5.  4.  2.  3.]\n",
      "**************************************************************\n",
      "Unique Review Scores Acc:  [ 9. 10.  8. nan  7.  4.  6.  2.  3.  5.]\n",
      "**************************************************************\n",
      "Unique Review Scores Rating:  [ 94.  95.  96.  90.  99.  98.  93.  97. 100.  88.  87.  83.  92.  91.\n",
      "  86.  89.  85.  75.  73.  82.  84.  nan  81.  76.  65.  80.  79.  77.\n",
      "  70.  60.  74.  72.  67.  69.  68.  53.  78.  64.  40.  71.  66.  56.\n",
      "  50.  20.  63.  62.  57.  55.]\n"
     ]
    }
   ],
   "source": [
    "print('Unique Review Scores Value: ', listing.review_scores_value.unique())\n",
    "print('**************************************************************')\n",
    "print('Unique Review Scores Location: ', listing.review_scores_location.unique())\n",
    "print('**************************************************************')\n",
    "print('Unique Review Scores Comm: ', listing.review_scores_communication.unique())\n",
    "print('**************************************************************')\n",
    "print('Unique Review Scores Checkin: ', listing.review_scores_checkin.unique())\n",
    "print('**************************************************************')\n",
    "print('Unique Review Scores Cleaniness: ', listing.review_scores_cleanliness.unique())\n",
    "print('**************************************************************')\n",
    "print('Unique Review Scores Acc: ', listing.review_scores_accuracy.unique())\n",
    "print('**************************************************************')\n",
    "print('Unique Review Scores Rating: ', listing.review_scores_rating.unique())"
   ]
  },
  {
   "cell_type": "code",
   "execution_count": 18,
   "metadata": {
    "scrolled": true
   },
   "outputs": [
    {
     "data": {
      "text/plain": [
       "9          5884\n",
       "10         5111\n",
       "unrated    2667\n",
       "8          1072\n",
       "4-7         258\n",
       "0-3          17\n",
       "Name: review_scores_value, dtype: int64"
      ]
     },
     "execution_count": 18,
     "metadata": {},
     "output_type": "execute_result"
    }
   ],
   "source": [
    "# Base on the the distribution of the scores, I will create bins accordingly.\n",
    "# All Review Score excluding Review Score Rating as it is in different weightage\n",
    "\n",
    "for col in listing.columns:\n",
    "    if (col in listing.columns[listing.columns.str.startswith('review_scores_')]) and not (col in listing.columns[listing.columns.str.endswith('_rating')]):\n",
    "        \n",
    "        # Create Categories\n",
    "        bins = [0,3,7,8,9,10]\n",
    "        labels = ['0-3','4-7','8','9','10']\n",
    "        \n",
    "        listing[col] = pd.cut(listing[col],\n",
    "                                      bins=bins, \n",
    "                                      labels=labels, \n",
    "                                      include_lowest= True)\n",
    "        \n",
    "        # Create unrated Category for 'NaN'\n",
    "        listing[col] = (listing[col].cat.add_categories('unrated').fillna('unrated'))\n",
    "        \n",
    "listing.review_scores_value.value_counts()"
   ]
  },
  {
   "cell_type": "code",
   "execution_count": 19,
   "metadata": {},
   "outputs": [
    {
     "data": {
      "text/plain": [
       "90-99%     6857\n",
       "50-89%     3215\n",
       "unrated    2667\n",
       "100%       2230\n",
       "0-49%        40\n",
       "Name: review_scores_rating, dtype: int64"
      ]
     },
     "execution_count": 19,
     "metadata": {},
     "output_type": "execute_result"
    }
   ],
   "source": [
    "# Create Categories for Review Score Rating\n",
    "\n",
    "bins = [0, 50, 90, 99, 100]\n",
    "labels = ['0-49%', '50-89%', '90-99%', '100%']\n",
    "\n",
    "listing['review_scores_rating'] = pd.cut(listing['review_scores_rating'],\n",
    "                                      bins=bins, \n",
    "                                      labels=labels, \n",
    "                                      include_lowest= True)\n",
    "\n",
    "# Create Unknown Category for 'NaN'\n",
    "listing['review_scores_rating'] = (listing['review_scores_rating'].cat\n",
    "                                                            .add_categories('unrated')\n",
    "                                                            .fillna('unrated'))\n",
    "\n",
    "listing.review_scores_rating.value_counts()"
   ]
  },
  {
   "cell_type": "code",
   "execution_count": 20,
   "metadata": {
    "scrolled": false
   },
   "outputs": [
    {
     "data": {
      "text/plain": [
       "last_review                  2643\n",
       "first_review                 2643\n",
       "host_response_time           1851\n",
       "host_response_rate           1851\n",
       "neighbourhood                1482\n",
       "security_deposit             1262\n",
       "zipcode                       968\n",
       "cleaning_fee                  702\n",
       "host_acceptance_rate          435\n",
       "state                         218\n",
       "city                           51\n",
       "beds                           42\n",
       "bedrooms                       23\n",
       "host_identity_verified          7\n",
       "host_has_profile_pic            7\n",
       "host_total_listings_count       7\n",
       "host_listings_count             7\n",
       "host_is_superhost               7\n",
       "host_since                      7\n",
       "bathrooms                       4\n",
       "market                          1\n",
       "dtype: int64"
      ]
     },
     "execution_count": 20,
     "metadata": {},
     "output_type": "execute_result"
    }
   ],
   "source": [
    "listing.isnull().sum()[listing.isnull().sum()>0].sort_values(ascending=False)"
   ]
  },
  {
   "cell_type": "markdown",
   "metadata": {},
   "source": [
    "##### b. _Reviews"
   ]
  },
  {
   "cell_type": "markdown",
   "metadata": {},
   "source": [
    "<div class=\"alert alert-block alert-warning\">\n",
    "    \n",
    "- Not sure what to do with this.\n",
    "- fillna with ??? \n",
    "- drop last and first review??? \n",
    "\n",
    "- BRB\n",
    "\n",
    "</div>"
   ]
  },
  {
   "cell_type": "code",
   "execution_count": 21,
   "metadata": {},
   "outputs": [],
   "source": [
    "# last and first reviews\n",
    "listing['time_since_first_review'] = listing.last_review - listing.first_review\n",
    "# listing.time_since_first_review.hist(figsize=(11,9), bins=30);"
   ]
  },
  {
   "cell_type": "code",
   "execution_count": 22,
   "metadata": {},
   "outputs": [
    {
     "data": {
      "text/plain": [
       "0 days       1034\n",
       "147 days       35\n",
       "174 days       32\n",
       "87 days        31\n",
       "127 days       29\n",
       "             ... \n",
       "1193 days       1\n",
       "931 days        1\n",
       "1506 days       1\n",
       "1664 days       1\n",
       "1571 days       1\n",
       "Name: time_since_first_review, Length: 1690, dtype: int64"
      ]
     },
     "execution_count": 22,
     "metadata": {},
     "output_type": "execute_result"
    }
   ],
   "source": [
    "listing['time_since_first_review'].value_counts()"
   ]
  },
  {
   "cell_type": "code",
   "execution_count": 23,
   "metadata": {
    "scrolled": false
   },
   "outputs": [
    {
     "data": {
      "text/plain": [
       "time_since_first_review      2643\n",
       "last_review                  2643\n",
       "first_review                 2643\n",
       "host_response_time           1851\n",
       "host_response_rate           1851\n",
       "neighbourhood                1482\n",
       "security_deposit             1262\n",
       "zipcode                       968\n",
       "cleaning_fee                  702\n",
       "host_acceptance_rate          435\n",
       "state                         218\n",
       "city                           51\n",
       "beds                           42\n",
       "bedrooms                       23\n",
       "host_identity_verified          7\n",
       "host_has_profile_pic            7\n",
       "host_total_listings_count       7\n",
       "host_listings_count             7\n",
       "host_is_superhost               7\n",
       "host_since                      7\n",
       "bathrooms                       4\n",
       "market                          1\n",
       "dtype: int64"
      ]
     },
     "execution_count": 23,
     "metadata": {},
     "output_type": "execute_result"
    }
   ],
   "source": [
    "listing.isnull().sum()[listing.isnull().sum()>0].sort_values(ascending=False)"
   ]
  },
  {
   "cell_type": "markdown",
   "metadata": {},
   "source": [
    "##### b. Host \n",
    "_i. Response time_"
   ]
  },
  {
   "cell_type": "code",
   "execution_count": 24,
   "metadata": {
    "scrolled": false
   },
   "outputs": [
    {
     "data": {
      "text/plain": [
       "within an hour        11028\n",
       "within a few hours     1195\n",
       "within a day            783\n",
       "a few days or more      152\n",
       "Name: host_response_time, dtype: int64"
      ]
     },
     "execution_count": 24,
     "metadata": {},
     "output_type": "execute_result"
    }
   ],
   "source": [
    "listing.host_response_time.value_counts()"
   ]
  },
  {
   "cell_type": "code",
   "execution_count": 25,
   "metadata": {
    "scrolled": true
   },
   "outputs": [
    {
     "data": {
      "text/plain": [
       "within an hour        0.734759\n",
       "unknown               0.123326\n",
       "within a few hours    0.079619\n",
       "within a day          0.052169\n",
       "a few days or more    0.010127\n",
       "Name: host_response_time, dtype: float64"
      ]
     },
     "execution_count": 25,
     "metadata": {},
     "output_type": "execute_result"
    }
   ],
   "source": [
    "listing.host_response_time.fillna(\"unknown\", inplace=True)\n",
    "listing.host_response_time.value_counts(normalize=True)"
   ]
  },
  {
   "cell_type": "markdown",
   "metadata": {},
   "source": [
    "_ii. Response rate_"
   ]
  },
  {
   "cell_type": "code",
   "execution_count": 26,
   "metadata": {
    "scrolled": true
   },
   "outputs": [
    {
     "data": {
      "text/plain": [
       "array([nan, '100%', '80%', '90%', '0%', '88%', '92%', '67%', '50%', '86%',\n",
       "       '70%', '83%', '33%', '89%', '75%', '93%', '94%', '40%', '25%',\n",
       "       '96%', '78%', '81%', '98%', '91%', '95%', '97%', '60%', '63%',\n",
       "       '71%', '64%', '99%', '73%', '85%', '20%'], dtype=object)"
      ]
     },
     "execution_count": 26,
     "metadata": {},
     "output_type": "execute_result"
    }
   ],
   "source": [
    "listing.host_response_rate.unique()"
   ]
  },
  {
   "cell_type": "code",
   "execution_count": 27,
   "metadata": {
    "scrolled": true
   },
   "outputs": [
    {
     "data": {
      "text/plain": [
       "100%       10905\n",
       "unknown     1851\n",
       "50-89%      1575\n",
       "90-99%       408\n",
       "0-49%        270\n",
       "Name: host_response_rate, dtype: int64"
      ]
     },
     "execution_count": 27,
     "metadata": {},
     "output_type": "execute_result"
    }
   ],
   "source": [
    "# Replace Unneccessary Character and convert string to float\n",
    "listing.host_response_rate = listing.host_response_rate.str.replace('%','')\n",
    "listing.host_response_rate = listing.host_response_rate.astype('float64')\n",
    "\n",
    "# Create Categories\n",
    "bins = [0, 50, 90, 99, 100]\n",
    "labels = ['0-49%', '50-89%', '90-99%', '100%']\n",
    "\n",
    "listing['host_response_rate'] = pd.cut(listing['host_response_rate'],\n",
    "                                      bins=bins, \n",
    "                                      labels=labels, \n",
    "                                      include_lowest= True)\n",
    "\n",
    "# Create Unknown Category for 'NaN'\n",
    "listing['host_response_rate'] = (listing['host_response_rate'].cat\n",
    "                                                            .add_categories('unknown')\n",
    "                                                            .fillna('unknown'))\n",
    "\n",
    "listing.host_response_rate.value_counts()"
   ]
  },
  {
   "cell_type": "markdown",
   "metadata": {},
   "source": [
    "_iii. Acceptance rate_"
   ]
  },
  {
   "cell_type": "code",
   "execution_count": 28,
   "metadata": {
    "scrolled": true
   },
   "outputs": [
    {
     "data": {
      "text/plain": [
       "array([nan, '86%', '82%', '92%', '100%', '48%', '84%', '96%', '91%',\n",
       "       '43%', '64%', '79%', '95%', '83%', '73%', '81%', '99%', '88%',\n",
       "       '58%', '90%', '98%', '60%', '76%', '97%', '80%', '56%', '77%',\n",
       "       '68%', '87%', '75%', '33%', '94%', '78%', '89%', '0%', '57%',\n",
       "       '50%', '93%', '29%', '67%', '51%', '46%', '71%', '69%', '37%',\n",
       "       '70%', '13%', '19%', '74%', '63%', '62%', '47%', '42%', '24%',\n",
       "       '25%', '85%', '66%', '14%', '17%', '61%', '31%', '44%', '65%',\n",
       "       '54%', '40%', '55%', '36%'], dtype=object)"
      ]
     },
     "execution_count": 28,
     "metadata": {},
     "output_type": "execute_result"
    }
   ],
   "source": [
    "listing.host_acceptance_rate.unique()"
   ]
  },
  {
   "cell_type": "code",
   "execution_count": 29,
   "metadata": {},
   "outputs": [
    {
     "data": {
      "text/plain": [
       "100%       9822\n",
       "90-99%     3467\n",
       "50-89%     1141\n",
       "unknown     435\n",
       "0-49%       144\n",
       "Name: host_acceptance_rate, dtype: int64"
      ]
     },
     "execution_count": 29,
     "metadata": {},
     "output_type": "execute_result"
    }
   ],
   "source": [
    "# Replace Unneccessary Character and convert string to float\n",
    "listing.host_acceptance_rate = listing.host_acceptance_rate.str.replace('%','')\n",
    "listing.host_acceptance_rate = listing.host_acceptance_rate.astype('float64')\n",
    "\n",
    "# Create Categories\n",
    "bins = [0, 50, 90, 99, 100]\n",
    "labels = ['0-49%', '50-89%', '90-99%', '100%']\n",
    "\n",
    "listing['host_acceptance_rate'] = pd.cut(listing['host_acceptance_rate'],\n",
    "                                      bins=bins, \n",
    "                                      labels=labels, \n",
    "                                      include_lowest= True)\n",
    "\n",
    "# Create Unknown Category for 'NaN'\n",
    "listing['host_acceptance_rate'] = (listing['host_acceptance_rate'].cat\n",
    "                                                            .add_categories('unknown')\n",
    "                                                            .fillna('unknown'))\n",
    "\n",
    "listing.host_acceptance_rate.value_counts()"
   ]
  },
  {
   "cell_type": "code",
   "execution_count": 30,
   "metadata": {},
   "outputs": [
    {
     "data": {
      "text/plain": [
       "time_since_first_review      2643\n",
       "last_review                  2643\n",
       "first_review                 2643\n",
       "neighbourhood                1482\n",
       "security_deposit             1262\n",
       "zipcode                       968\n",
       "cleaning_fee                  702\n",
       "state                         218\n",
       "city                           51\n",
       "beds                           42\n",
       "bedrooms                       23\n",
       "host_identity_verified          7\n",
       "host_has_profile_pic            7\n",
       "host_total_listings_count       7\n",
       "host_listings_count             7\n",
       "host_is_superhost               7\n",
       "host_since                      7\n",
       "bathrooms                       4\n",
       "market                          1\n",
       "dtype: int64"
      ]
     },
     "execution_count": 30,
     "metadata": {},
     "output_type": "execute_result"
    }
   ],
   "source": [
    "listing.isnull().sum()[listing.isnull().sum()>0].sort_values(ascending=False)"
   ]
  },
  {
   "cell_type": "markdown",
   "metadata": {},
   "source": [
    "##### c. Address Related"
   ]
  },
  {
   "cell_type": "markdown",
   "metadata": {},
   "source": [
    "<div class=\"alert alert-block alert-success\">\n",
    "    \n",
    "<b>Observation:</b>\n",
    "\n",
    "Looking at the categorical_df dataset. There are a couple of columns that are address related \n",
    "- street\n",
    "- neighbourhood\n",
    "- neighbourhood_cleansed --> to keep (Since the column is kept, Neighbourhood Dataset will not be required\n",
    "- city\n",
    "- state\n",
    "- zipcode\n",
    "- market\n",
    "- smart_location\n",
    "- country_code --> to keep\n",
    "- country\n",
    "\n",
    "From numerical_df, to safe in a new dataframe for later use\n",
    "- longitute \n",
    "- latitude\n",
    "\n",
    "</div>"
   ]
  },
  {
   "cell_type": "code",
   "execution_count": 31,
   "metadata": {
    "scrolled": true
   },
   "outputs": [
    {
     "name": "stdout",
     "output_type": "stream",
     "text": [
      "55\n"
     ]
    }
   ],
   "source": [
    "# To Check and Compare Address Related Columns\n",
    "\n",
    "# print(listing.street.value_counts())\n",
    "# print(listing.street.nunique())\n",
    "# print(listing.neighbourhood_cleansed.value_counts())\n",
    "print(listing.neighbourhood_cleansed.nunique())\n",
    "# print(listing.city.value_counts())\n",
    "# print(listing.city.nunique())\n",
    "# print(listing.state.value_counts())\n",
    "# print(listing.state.nunique())\n",
    "# print(listing.market.value_counts())\n",
    "# print(listing.market.nunique())\n",
    "# print(listing.smart_location.value_counts())\n",
    "# print(listing.smart_location.nunique())\n",
    "# print(listing.country_code.value_counts())\n",
    "# print(listing.country_code.nunique())\n",
    "\n",
    "# listing[listing.state == 'Shibuya']['neighbourhood']"
   ]
  },
  {
   "cell_type": "code",
   "execution_count": 32,
   "metadata": {},
   "outputs": [],
   "source": [
    "long_lat_df = listing[['longitude','latitude']]\n",
    "long_lat_df.to_csv('../datasets/long_lat_df.csv')"
   ]
  },
  {
   "cell_type": "code",
   "execution_count": 33,
   "metadata": {},
   "outputs": [
    {
     "data": {
      "text/plain": [
       "time_since_first_review      2643\n",
       "last_review                  2643\n",
       "first_review                 2643\n",
       "security_deposit             1262\n",
       "cleaning_fee                  702\n",
       "beds                           42\n",
       "bedrooms                       23\n",
       "host_identity_verified          7\n",
       "host_has_profile_pic            7\n",
       "host_total_listings_count       7\n",
       "host_listings_count             7\n",
       "host_is_superhost               7\n",
       "host_since                      7\n",
       "bathrooms                       4\n",
       "dtype: int64"
      ]
     },
     "execution_count": 33,
     "metadata": {},
     "output_type": "execute_result"
    }
   ],
   "source": [
    "listing.drop(['street','neighbourhood', 'city','state','zipcode',\n",
    "              'market','smart_location','country','longitude','latitude'], \n",
    "             axis=1, inplace=True)\n",
    "\n",
    "# Check\n",
    "listing.isnull().sum()[listing.isnull().sum()>0].sort_values(ascending=False)"
   ]
  },
  {
   "cell_type": "markdown",
   "metadata": {},
   "source": [
    "##### d. Fees"
   ]
  },
  {
   "cell_type": "markdown",
   "metadata": {},
   "source": [
    "<div class=\"alert alert-block alert-success\">\n",
    "    \n",
    "<b>Assumption:</b>\n",
    "\n",
    "Hosts can opt for no security_deposit or cleaning_fee. hence, will imputate null values as `0` and change float to int\n",
    "\n",
    "</div>"
   ]
  },
  {
   "cell_type": "code",
   "execution_count": 34,
   "metadata": {
    "scrolled": false
   },
   "outputs": [
    {
     "data": {
      "text/plain": [
       "time_since_first_review      2643\n",
       "last_review                  2643\n",
       "first_review                 2643\n",
       "beds                           42\n",
       "bedrooms                       23\n",
       "host_identity_verified          7\n",
       "host_has_profile_pic            7\n",
       "host_total_listings_count       7\n",
       "host_listings_count             7\n",
       "host_is_superhost               7\n",
       "host_since                      7\n",
       "bathrooms                       4\n",
       "dtype: int64"
      ]
     },
     "execution_count": 34,
     "metadata": {},
     "output_type": "execute_result"
    }
   ],
   "source": [
    "# Fillna \n",
    "listing.security_deposit.fillna(0, inplace=True)\n",
    "listing.cleaning_fee.fillna(0, inplace=True)\n",
    "\n",
    "# Change dtype\n",
    "listing.security_deposit = listing.security_deposit.astype('int64')\n",
    "listing.cleaning_fee = listing.cleaning_fee.astype('int64')\n",
    "\n",
    "listing.isnull().sum()[listing.isnull().sum()>0].sort_values(ascending=False)"
   ]
  },
  {
   "cell_type": "markdown",
   "metadata": {},
   "source": [
    "##### e. Beds,  Bedrooms , Bathrooms and Host_"
   ]
  },
  {
   "cell_type": "markdown",
   "metadata": {},
   "source": [
    "<div class=\"alert alert-block alert-success\">\n",
    "    \n",
    "<b>Assumption:</b>\n",
    "\n",
    "It is very usual for a listing to have no beds, and/or bathrooms. On top of that, a fully signed up Host on Airbnb will have a date of signing up. Hence I will be checking if they are of the same before i drop them. As for bedrooms, there is a possility that it is a studio apartment however, i cant entire assume. To avoid strange fractions.\n",
    "\n",
    "</div>"
   ]
  },
  {
   "cell_type": "code",
   "execution_count": 35,
   "metadata": {},
   "outputs": [],
   "source": [
    "# Beds and Bathrooms\n",
    "listing.dropna(subset=['beds','bathrooms'], inplace=True)\n",
    "impute_median(listing, 'bedrooms')"
   ]
  },
  {
   "cell_type": "code",
   "execution_count": 36,
   "metadata": {},
   "outputs": [],
   "source": [
    "# Convert continuous to discrete variable\n",
    "listing.beds = listing.beds.astype('int64')\n",
    "listing.bathrooms = listing.bathrooms.astype('int64')\n",
    "listing.bedrooms = listing.bedrooms.astype('int64')"
   ]
  },
  {
   "cell_type": "code",
   "execution_count": 37,
   "metadata": {},
   "outputs": [
    {
     "data": {
      "text/plain": [
       "time_since_first_review      2608\n",
       "last_review                  2608\n",
       "first_review                 2608\n",
       "host_identity_verified          7\n",
       "host_has_profile_pic            7\n",
       "host_total_listings_count       7\n",
       "host_listings_count             7\n",
       "host_is_superhost               7\n",
       "host_since                      7\n",
       "dtype: int64"
      ]
     },
     "execution_count": 37,
     "metadata": {},
     "output_type": "execute_result"
    }
   ],
   "source": [
    "listing.isnull().sum()[listing.isnull().sum()>0].sort_values(ascending=False)"
   ]
  },
  {
   "cell_type": "markdown",
   "metadata": {},
   "source": [
    "##### f. Host_"
   ]
  },
  {
   "cell_type": "code",
   "execution_count": 38,
   "metadata": {},
   "outputs": [
    {
     "data": {
      "text/html": [
       "<div>\n",
       "<style scoped>\n",
       "    .dataframe tbody tr th:only-of-type {\n",
       "        vertical-align: middle;\n",
       "    }\n",
       "\n",
       "    .dataframe tbody tr th {\n",
       "        vertical-align: top;\n",
       "    }\n",
       "\n",
       "    .dataframe thead th {\n",
       "        text-align: right;\n",
       "    }\n",
       "</style>\n",
       "<table border=\"1\" class=\"dataframe\">\n",
       "  <thead>\n",
       "    <tr style=\"text-align: right;\">\n",
       "      <th></th>\n",
       "      <th>id</th>\n",
       "      <th>host_id</th>\n",
       "      <th>host_since</th>\n",
       "      <th>host_response_time</th>\n",
       "      <th>host_response_rate</th>\n",
       "      <th>host_acceptance_rate</th>\n",
       "      <th>host_is_superhost</th>\n",
       "      <th>host_listings_count</th>\n",
       "      <th>host_total_listings_count</th>\n",
       "      <th>host_has_profile_pic</th>\n",
       "      <th>...</th>\n",
       "      <th>instant_bookable</th>\n",
       "      <th>is_business_travel_ready</th>\n",
       "      <th>cancellation_policy</th>\n",
       "      <th>require_guest_profile_picture</th>\n",
       "      <th>require_guest_phone_verification</th>\n",
       "      <th>calculated_host_listings_count</th>\n",
       "      <th>calculated_host_listings_count_entire_homes</th>\n",
       "      <th>calculated_host_listings_count_private_rooms</th>\n",
       "      <th>calculated_host_listings_count_shared_rooms</th>\n",
       "      <th>time_since_first_review</th>\n",
       "    </tr>\n",
       "  </thead>\n",
       "  <tbody>\n",
       "    <tr>\n",
       "      <th>1104</th>\n",
       "      <td>15491845</td>\n",
       "      <td>17400367</td>\n",
       "      <td>NaT</td>\n",
       "      <td>unknown</td>\n",
       "      <td>unknown</td>\n",
       "      <td>unknown</td>\n",
       "      <td>NaN</td>\n",
       "      <td>NaN</td>\n",
       "      <td>NaN</td>\n",
       "      <td>NaN</td>\n",
       "      <td>...</td>\n",
       "      <td>1</td>\n",
       "      <td>0</td>\n",
       "      <td>strict_14_with_grace_period</td>\n",
       "      <td>0</td>\n",
       "      <td>0</td>\n",
       "      <td>7</td>\n",
       "      <td>7</td>\n",
       "      <td>0</td>\n",
       "      <td>0</td>\n",
       "      <td>1221 days</td>\n",
       "    </tr>\n",
       "    <tr>\n",
       "      <th>1105</th>\n",
       "      <td>15500954</td>\n",
       "      <td>17400367</td>\n",
       "      <td>NaT</td>\n",
       "      <td>unknown</td>\n",
       "      <td>unknown</td>\n",
       "      <td>unknown</td>\n",
       "      <td>NaN</td>\n",
       "      <td>NaN</td>\n",
       "      <td>NaN</td>\n",
       "      <td>NaN</td>\n",
       "      <td>...</td>\n",
       "      <td>1</td>\n",
       "      <td>0</td>\n",
       "      <td>strict_14_with_grace_period</td>\n",
       "      <td>0</td>\n",
       "      <td>0</td>\n",
       "      <td>7</td>\n",
       "      <td>7</td>\n",
       "      <td>0</td>\n",
       "      <td>0</td>\n",
       "      <td>1261 days</td>\n",
       "    </tr>\n",
       "    <tr>\n",
       "      <th>1180</th>\n",
       "      <td>15905371</td>\n",
       "      <td>17400367</td>\n",
       "      <td>NaT</td>\n",
       "      <td>unknown</td>\n",
       "      <td>unknown</td>\n",
       "      <td>unknown</td>\n",
       "      <td>NaN</td>\n",
       "      <td>NaN</td>\n",
       "      <td>NaN</td>\n",
       "      <td>NaN</td>\n",
       "      <td>...</td>\n",
       "      <td>1</td>\n",
       "      <td>0</td>\n",
       "      <td>strict_14_with_grace_period</td>\n",
       "      <td>0</td>\n",
       "      <td>0</td>\n",
       "      <td>7</td>\n",
       "      <td>7</td>\n",
       "      <td>0</td>\n",
       "      <td>0</td>\n",
       "      <td>1253 days</td>\n",
       "    </tr>\n",
       "    <tr>\n",
       "      <th>1181</th>\n",
       "      <td>15905427</td>\n",
       "      <td>17400367</td>\n",
       "      <td>NaT</td>\n",
       "      <td>unknown</td>\n",
       "      <td>unknown</td>\n",
       "      <td>unknown</td>\n",
       "      <td>NaN</td>\n",
       "      <td>NaN</td>\n",
       "      <td>NaN</td>\n",
       "      <td>NaN</td>\n",
       "      <td>...</td>\n",
       "      <td>1</td>\n",
       "      <td>0</td>\n",
       "      <td>strict_14_with_grace_period</td>\n",
       "      <td>0</td>\n",
       "      <td>0</td>\n",
       "      <td>7</td>\n",
       "      <td>7</td>\n",
       "      <td>0</td>\n",
       "      <td>0</td>\n",
       "      <td>1241 days</td>\n",
       "    </tr>\n",
       "    <tr>\n",
       "      <th>1182</th>\n",
       "      <td>15905559</td>\n",
       "      <td>17400367</td>\n",
       "      <td>NaT</td>\n",
       "      <td>unknown</td>\n",
       "      <td>unknown</td>\n",
       "      <td>unknown</td>\n",
       "      <td>NaN</td>\n",
       "      <td>NaN</td>\n",
       "      <td>NaN</td>\n",
       "      <td>NaN</td>\n",
       "      <td>...</td>\n",
       "      <td>1</td>\n",
       "      <td>0</td>\n",
       "      <td>strict_14_with_grace_period</td>\n",
       "      <td>0</td>\n",
       "      <td>0</td>\n",
       "      <td>7</td>\n",
       "      <td>7</td>\n",
       "      <td>0</td>\n",
       "      <td>0</td>\n",
       "      <td>1247 days</td>\n",
       "    </tr>\n",
       "    <tr>\n",
       "      <th>1183</th>\n",
       "      <td>15905606</td>\n",
       "      <td>17400367</td>\n",
       "      <td>NaT</td>\n",
       "      <td>unknown</td>\n",
       "      <td>unknown</td>\n",
       "      <td>unknown</td>\n",
       "      <td>NaN</td>\n",
       "      <td>NaN</td>\n",
       "      <td>NaN</td>\n",
       "      <td>NaN</td>\n",
       "      <td>...</td>\n",
       "      <td>1</td>\n",
       "      <td>0</td>\n",
       "      <td>strict_14_with_grace_period</td>\n",
       "      <td>0</td>\n",
       "      <td>0</td>\n",
       "      <td>7</td>\n",
       "      <td>7</td>\n",
       "      <td>0</td>\n",
       "      <td>0</td>\n",
       "      <td>1246 days</td>\n",
       "    </tr>\n",
       "    <tr>\n",
       "      <th>12521</th>\n",
       "      <td>41031782</td>\n",
       "      <td>17400367</td>\n",
       "      <td>NaT</td>\n",
       "      <td>unknown</td>\n",
       "      <td>unknown</td>\n",
       "      <td>unknown</td>\n",
       "      <td>NaN</td>\n",
       "      <td>NaN</td>\n",
       "      <td>NaN</td>\n",
       "      <td>NaN</td>\n",
       "      <td>...</td>\n",
       "      <td>1</td>\n",
       "      <td>0</td>\n",
       "      <td>strict_14_with_grace_period</td>\n",
       "      <td>0</td>\n",
       "      <td>0</td>\n",
       "      <td>7</td>\n",
       "      <td>7</td>\n",
       "      <td>0</td>\n",
       "      <td>0</td>\n",
       "      <td>110 days</td>\n",
       "    </tr>\n",
       "  </tbody>\n",
       "</table>\n",
       "<p>7 rows × 62 columns</p>\n",
       "</div>"
      ],
      "text/plain": [
       "             id   host_id host_since host_response_time host_response_rate  \\\n",
       "1104   15491845  17400367        NaT            unknown            unknown   \n",
       "1105   15500954  17400367        NaT            unknown            unknown   \n",
       "1180   15905371  17400367        NaT            unknown            unknown   \n",
       "1181   15905427  17400367        NaT            unknown            unknown   \n",
       "1182   15905559  17400367        NaT            unknown            unknown   \n",
       "1183   15905606  17400367        NaT            unknown            unknown   \n",
       "12521  41031782  17400367        NaT            unknown            unknown   \n",
       "\n",
       "      host_acceptance_rate  host_is_superhost  host_listings_count  \\\n",
       "1104               unknown                NaN                  NaN   \n",
       "1105               unknown                NaN                  NaN   \n",
       "1180               unknown                NaN                  NaN   \n",
       "1181               unknown                NaN                  NaN   \n",
       "1182               unknown                NaN                  NaN   \n",
       "1183               unknown                NaN                  NaN   \n",
       "12521              unknown                NaN                  NaN   \n",
       "\n",
       "       host_total_listings_count  host_has_profile_pic  ...  instant_bookable  \\\n",
       "1104                         NaN                   NaN  ...                 1   \n",
       "1105                         NaN                   NaN  ...                 1   \n",
       "1180                         NaN                   NaN  ...                 1   \n",
       "1181                         NaN                   NaN  ...                 1   \n",
       "1182                         NaN                   NaN  ...                 1   \n",
       "1183                         NaN                   NaN  ...                 1   \n",
       "12521                        NaN                   NaN  ...                 1   \n",
       "\n",
       "      is_business_travel_ready          cancellation_policy  \\\n",
       "1104                         0  strict_14_with_grace_period   \n",
       "1105                         0  strict_14_with_grace_period   \n",
       "1180                         0  strict_14_with_grace_period   \n",
       "1181                         0  strict_14_with_grace_period   \n",
       "1182                         0  strict_14_with_grace_period   \n",
       "1183                         0  strict_14_with_grace_period   \n",
       "12521                        0  strict_14_with_grace_period   \n",
       "\n",
       "       require_guest_profile_picture require_guest_phone_verification  \\\n",
       "1104                               0                                0   \n",
       "1105                               0                                0   \n",
       "1180                               0                                0   \n",
       "1181                               0                                0   \n",
       "1182                               0                                0   \n",
       "1183                               0                                0   \n",
       "12521                              0                                0   \n",
       "\n",
       "      calculated_host_listings_count  \\\n",
       "1104                               7   \n",
       "1105                               7   \n",
       "1180                               7   \n",
       "1181                               7   \n",
       "1182                               7   \n",
       "1183                               7   \n",
       "12521                              7   \n",
       "\n",
       "       calculated_host_listings_count_entire_homes  \\\n",
       "1104                                             7   \n",
       "1105                                             7   \n",
       "1180                                             7   \n",
       "1181                                             7   \n",
       "1182                                             7   \n",
       "1183                                             7   \n",
       "12521                                            7   \n",
       "\n",
       "       calculated_host_listings_count_private_rooms  \\\n",
       "1104                                              0   \n",
       "1105                                              0   \n",
       "1180                                              0   \n",
       "1181                                              0   \n",
       "1182                                              0   \n",
       "1183                                              0   \n",
       "12521                                             0   \n",
       "\n",
       "       calculated_host_listings_count_shared_rooms  time_since_first_review  \n",
       "1104                                             0                1221 days  \n",
       "1105                                             0                1261 days  \n",
       "1180                                             0                1253 days  \n",
       "1181                                             0                1241 days  \n",
       "1182                                             0                1247 days  \n",
       "1183                                             0                1246 days  \n",
       "12521                                            0                 110 days  \n",
       "\n",
       "[7 rows x 62 columns]"
      ]
     },
     "execution_count": 38,
     "metadata": {},
     "output_type": "execute_result"
    }
   ],
   "source": [
    "# Host_\n",
    "# Checking if the 7 rows are of the same \n",
    "listing[listing['host_identity_verified'].isnull()| \n",
    "        listing['host_has_profile_pic'].isnull() | \n",
    "        listing['host_total_listings_count'].isnull() |\n",
    "        listing['host_listings_count'].isnull() |\n",
    "        listing['host_is_superhost'].isnull() | \n",
    "        listing['host_since'].isnull()]"
   ]
  },
  {
   "cell_type": "code",
   "execution_count": 39,
   "metadata": {},
   "outputs": [
    {
     "data": {
      "text/plain": [
       "(12348, 62)"
      ]
     },
     "execution_count": 39,
     "metadata": {},
     "output_type": "execute_result"
    }
   ],
   "source": [
    "listing.dropna(inplace=True)\n",
    "listing.shape"
   ]
  },
  {
   "cell_type": "markdown",
   "metadata": {},
   "source": [
    "#### 3.2.3  Individual Columns"
   ]
  },
  {
   "cell_type": "markdown",
   "metadata": {},
   "source": [
    "##### a. Listing Count"
   ]
  },
  {
   "cell_type": "code",
   "execution_count": 40,
   "metadata": {
    "scrolled": true
   },
   "outputs": [
    {
     "name": "stdout",
     "output_type": "stream",
     "text": [
      "Total number of listings:  62\n",
      "Differences between columns:  0\n"
     ]
    }
   ],
   "source": [
    "print('Total number of listings: ', listing.shape[1])\n",
    "print('Differences between columns: ', sum((listing.host_listings_count == listing.host_total_listings_count) == False))"
   ]
  },
  {
   "cell_type": "markdown",
   "metadata": {},
   "source": [
    "<div class=\"alert alert-block alert-success\">\n",
    "\n",
    "<b>Observations:</b>\n",
    "\n",
    "Host listing count and host total listings counts seem to have the same data. There are also other columns that are similar to listing counts (which are split up into multiple columns:\n",
    "\n",
    "- calculated_host_listings_count, \n",
    "- calculated_host_listings_count_entire_homes, \n",
    "- calculated_host_listings_count_private_rooms, \n",
    "- calculated_host_listings_count_shared_rooms\n",
    "\n",
    "Hence these columns will be dropped as well.\n",
    "</div>"
   ]
  },
  {
   "cell_type": "code",
   "execution_count": 41,
   "metadata": {},
   "outputs": [],
   "source": [
    "listing.drop(['host_total_listings_count','calculated_host_listings_count', 'calculated_host_listings_count_entire_homes',\n",
    "              'calculated_host_listings_count_private_rooms','calculated_host_listings_count_shared_rooms'], \n",
    "             axis=1, inplace=True)"
   ]
  },
  {
   "cell_type": "code",
   "execution_count": 42,
   "metadata": {},
   "outputs": [],
   "source": [
    "listing.host_listings_count = listing.host_listings_count.astype('int64')"
   ]
  },
  {
   "cell_type": "markdown",
   "metadata": {},
   "source": [
    "##### b. Boolean Columns"
   ]
  },
  {
   "cell_type": "code",
   "execution_count": 43,
   "metadata": {
    "scrolled": false
   },
   "outputs": [
    {
     "data": {
      "image/png": "[encoded data removed]",
      "text/plain": [
       "<Figure size 1440x720 with 12 Axes>"
      ]
     },
     "metadata": {
      "needs_background": "light"
     },
     "output_type": "display_data"
    }
   ],
   "source": [
    "# Columns with only booleans for Verfication Purposes:\n",
    "listing[['host_is_superhost',\n",
    "         'host_has_profile_pic', \n",
    "         'host_identity_verified', \n",
    "         'require_guest_profile_picture',\n",
    "         'require_guest_phone_verification',\n",
    "         'requires_license', \n",
    "         'instant_bookable', \n",
    "         'is_business_travel_ready', \n",
    "         'is_location_exact',\n",
    "         'has_availability'\n",
    "        ]].hist(figsize=(20,10), color='#FF5A5F');"
   ]
  },
  {
   "cell_type": "markdown",
   "metadata": {},
   "source": [
    "<div class=\"alert alert-block alert-success\">\n",
    "\n",
    "<b>Observation:</b>\n",
    "\n",
    "As shown above some of the features showed uniform result. Hence will be dropping them as they will not be affect the price. \n",
    "- host_has_profile_pic\n",
    "- is_business_travel_ready\n",
    "- require_guest_phone_verification\n",
    "- require_guest_profile_picture\n",
    "- requires_license\n",
    "\n",
    "</div>"
   ]
  },
  {
   "cell_type": "code",
   "execution_count": 44,
   "metadata": {},
   "outputs": [],
   "source": [
    "listing.drop(['host_has_profile_pic',\n",
    "              'is_business_travel_ready',\n",
    "              'require_guest_phone_verification',\n",
    "              'require_guest_profile_picture',\n",
    "              'requires_license', \n",
    "              'has_availability'], axis=1, inplace=True)"
   ]
  },
  {
   "cell_type": "code",
   "execution_count": 45,
   "metadata": {
    "scrolled": true
   },
   "outputs": [],
   "source": [
    "# Convert the rest of the boolean to int \n",
    "\n",
    "listing.host_is_superhost = listing.host_is_superhost.astype('int64')\n",
    "listing.host_identity_verified = listing.host_identity_verified.astype('int64')"
   ]
  },
  {
   "cell_type": "markdown",
   "metadata": {},
   "source": [
    "##### c. Minimum and Maximum Nights"
   ]
  },
  {
   "cell_type": "markdown",
   "metadata": {},
   "source": [
    "<div class=\"alert alert-block alert-success\">\n",
    "\n",
    "<b>Observation:</b>\n",
    "\n",
    "There are multiple columns that are related to minimum and maximum night stays. To avoid overlapping of data, I will using the basic two which have not been altered.\n",
    "\n",
    "</div>"
   ]
  },
  {
   "cell_type": "code",
   "execution_count": 46,
   "metadata": {},
   "outputs": [],
   "source": [
    "listing.drop(['minimum_minimum_nights',\n",
    "             'maximum_minimum_nights',\n",
    "             'minimum_maximum_nights',\n",
    "             'maximum_maximum_nights',\n",
    "             'minimum_nights_avg_ntm',\n",
    "             'maximum_nights_avg_ntm'], axis=1, inplace=True)"
   ]
  },
  {
   "cell_type": "markdown",
   "metadata": {},
   "source": [
    "##### d. Categorical Columns"
   ]
  },
  {
   "cell_type": "markdown",
   "metadata": {},
   "source": [
    "##### i. property_type"
   ]
  },
  {
   "cell_type": "markdown",
   "metadata": {},
   "source": [
    "<div class=\"alert alert-block alert-success\">\n",
    "\n",
    "<b>Observation:</b>\n",
    "\n",
    "There are a total of 29 unique property types with a majority being the Apartment. However other property types (e.g. house, condominium, serviced apartment) can be considered to be in the same category as well. \n",
    "\n",
    "</div>"
   ]
  },
  {
   "cell_type": "code",
   "execution_count": 47,
   "metadata": {
    "scrolled": false
   },
   "outputs": [
    {
     "name": "stdout",
     "output_type": "stream",
     "text": [
      "27\n"
     ]
    },
    {
     "data": {
      "text/plain": [
       "Apartment             7558\n",
       "House                 2187\n",
       "Hostel                 854\n",
       "Condominium            418\n",
       "Hotel                  283\n",
       "Aparthotel             198\n",
       "Boutique hotel         164\n",
       "Villa                  140\n",
       "Serviced apartment     135\n",
       "Ryokan (Japan)         130\n",
       "Loft                    49\n",
       "Hut                     49\n",
       "Guesthouse              44\n",
       "Townhouse               34\n",
       "Bed and breakfast       24\n",
       "Guest suite             19\n",
       "Tiny house              19\n",
       "Other                   14\n",
       "Cabin                    9\n",
       "Bungalow                 5\n",
       "Dome house               4\n",
       "Nature lodge             4\n",
       "Tent                     3\n",
       "Camper/RV                1\n",
       "Cottage                  1\n",
       "Dorm                     1\n",
       "Earth house              1\n",
       "Name: property_type, dtype: int64"
      ]
     },
     "execution_count": 47,
     "metadata": {},
     "output_type": "execute_result"
    }
   ],
   "source": [
    "print(listing.property_type.nunique())\n",
    "listing.property_type.value_counts()"
   ]
  },
  {
   "cell_type": "code",
   "execution_count": 48,
   "metadata": {},
   "outputs": [],
   "source": [
    "# # Regroup and rename property type\n",
    "# listing.property_type.replace({\n",
    "#     'Apartment': 'house',\n",
    "#     'House': 'house',\n",
    "#     'Hostel': 'hostel',\n",
    "#     'Condominium': 'apartment', \n",
    "#     'Aparthotel': 'hotel', \n",
    "#     'Boutique hotel': 'hotel', \n",
    "#     'Villa': 'house', \n",
    "#     'Serviced apartment': 'apartment',\n",
    "#     'Ryokan (Japan)': 'apartment',\n",
    "#     'Hut': 'house',\n",
    "#     'Loft': 'apartment',\n",
    "#     'Guesthouse': 'house',\n",
    "#     'Bed and breakfast': '',\n",
    "#     'Townhouse': 'house',\n",
    "#     'Guest suite': '',\n",
    "#     'Tiny house': 'house',\n",
    "#     'Other': '',\n",
    "#     'Cabin': '',\n",
    "#     'Dome house': 'house',\n",
    "#     'Camper/RV': '',\n",
    "#     'Bungalow': 'house',\n",
    "#     'Tent': '',\n",
    "#     'Nature lodge': 'house',\n",
    "#     'Resort','house',\n",
    "#     'Earth house','',\n",
    "#     'Cottage','house',\n",
    "#     'Castle','castle',\n",
    "#     'Dorm','hostel'\n",
    "#     }, inplace=True)"
   ]
  },
  {
   "cell_type": "markdown",
   "metadata": {},
   "source": [
    "##### ii. room_type"
   ]
  },
  {
   "cell_type": "code",
   "execution_count": 49,
   "metadata": {
    "scrolled": true
   },
   "outputs": [
    {
     "data": {
      "text/plain": [
       "Entire home/apt    8804\n",
       "Private room       2469\n",
       "Hotel room          588\n",
       "Shared room         487\n",
       "Name: room_type, dtype: int64"
      ]
     },
     "execution_count": 49,
     "metadata": {},
     "output_type": "execute_result"
    }
   ],
   "source": [
    "listing.room_type.value_counts()"
   ]
  },
  {
   "cell_type": "code",
   "execution_count": 50,
   "metadata": {},
   "outputs": [],
   "source": [
    "# Rename room type\n",
    "listing.room_type.replace({\n",
    "    'Entire home/apt': 'entire_home_apt',\n",
    "    'Private room': 'private_room',\n",
    "    'Hotel room': 'hotel_room',\n",
    "    'Shared room': 'shared_room',  \n",
    "    }, inplace=True)"
   ]
  },
  {
   "cell_type": "markdown",
   "metadata": {},
   "source": [
    "##### iii. bed_type"
   ]
  },
  {
   "cell_type": "markdown",
   "metadata": {},
   "source": [
    "<div class=\"alert alert-block alert-success\">\n",
    "\n",
    "<b>Observation:</b>\n",
    "\n",
    "This column seem kinda redundent since majority are the same bed. Hence will be dropping this column. \n",
    "\n",
    "</div>"
   ]
  },
  {
   "cell_type": "code",
   "execution_count": 51,
   "metadata": {
    "scrolled": true
   },
   "outputs": [
    {
     "data": {
      "text/plain": [
       "Real Bed         12295\n",
       "Futon               45\n",
       "Pull-out Sofa        4\n",
       "Airbed               3\n",
       "Couch                1\n",
       "Name: bed_type, dtype: int64"
      ]
     },
     "execution_count": 51,
     "metadata": {},
     "output_type": "execute_result"
    }
   ],
   "source": [
    "listing.bed_type.value_counts()"
   ]
  },
  {
   "cell_type": "code",
   "execution_count": 52,
   "metadata": {},
   "outputs": [],
   "source": [
    "listing.drop(['bed_type'], axis=1, inplace=True)"
   ]
  },
  {
   "cell_type": "markdown",
   "metadata": {},
   "source": [
    "##### iv. amenities"
   ]
  },
  {
   "cell_type": "markdown",
   "metadata": {},
   "source": [
    "<div class=\"alert alert-block alert-success\">\n",
    "\n",
    "Amenities is a list of additional features in the property where i believe people look at before (e.g. wifi, air conditioning, swimming pool, etc), committing the booking. However not all amenities are of the same importance.\n",
    "\n",
    "There are over 150 unique type of amenities\n",
    "\n",
    "</div>"
   ]
  },
  {
   "cell_type": "code",
   "execution_count": 53,
   "metadata": {
    "scrolled": true
   },
   "outputs": [
    {
     "data": {
      "text/plain": [
       "0    {TV,Internet,Wifi,Kitchen,\"Paid parking off pr...\n",
       "1    {TV,Internet,Wifi,\"Air conditioning\",Kitchen,\"...\n",
       "2    {TV,Wifi,\"Air conditioning\",Kitchen,\"Hot tub\",...\n",
       "3    {TV,Internet,Wifi,\"Air conditioning\",Kitchen,\"...\n",
       "4    {TV,Internet,Wifi,\"Air conditioning\",Kitchen,\"...\n",
       "Name: amenities, dtype: object"
      ]
     },
     "execution_count": 53,
     "metadata": {},
     "output_type": "execute_result"
    }
   ],
   "source": [
    "listing.amenities.head()"
   ]
  },
  {
   "cell_type": "code",
   "execution_count": 54,
   "metadata": {
    "scrolled": true
   },
   "outputs": [],
   "source": [
    "listing['amenities'] = listing['amenities'].str.replace('{', '').str.replace('}','').str.replace('\"', '')\n",
    "listing['amenities'] = listing['amenities'].str.lower()"
   ]
  },
  {
   "cell_type": "markdown",
   "metadata": {},
   "source": [
    "##### v. Calendar_updated"
   ]
  },
  {
   "cell_type": "markdown",
   "metadata": {},
   "source": [
    "<div class=\"alert alert-block alert-warning\">\n",
    "\n",
    "<b>Observation:</b>\n",
    "\n",
    "- to get back to this\n",
    "- or else to be dropped\n",
    "\n",
    "</div>"
   ]
  },
  {
   "cell_type": "code",
   "execution_count": 55,
   "metadata": {},
   "outputs": [
    {
     "name": "stdout",
     "output_type": "stream",
     "text": [
      "Total categories: 42\n",
      "\n",
      "Top 5 categories:\n"
     ]
    },
    {
     "data": {
      "text/plain": [
       "today           2443\n",
       "2 months ago    1552\n",
       "3 months ago    1332\n",
       "yesterday        830\n",
       "2 weeks ago      740\n",
       "Name: calendar_updated, dtype: int64"
      ]
     },
     "execution_count": 55,
     "metadata": {},
     "output_type": "execute_result"
    }
   ],
   "source": [
    "print(\"Total categories:\", listing.calendar_updated.nunique())\n",
    "print('')\n",
    "print(\"Top 5 categories:\")\n",
    "listing.calendar_updated.value_counts()[:5]"
   ]
  },
  {
   "cell_type": "markdown",
   "metadata": {},
   "source": [
    "##### vi. Availability"
   ]
  },
  {
   "cell_type": "markdown",
   "metadata": {},
   "source": [
    "<div class=\"alert alert-block alert-warning\">\n",
    "\n",
    "<b>Observation:</b>\n",
    "\n",
    "- to get back to this\n",
    "- or else to be dropped\n",
    "\n",
    "</div>"
   ]
  },
  {
   "cell_type": "code",
   "execution_count": 56,
   "metadata": {},
   "outputs": [
    {
     "name": "stdout",
     "output_type": "stream",
     "text": [
      "Avail 30days categories: 31\n",
      "Avail 60days categories: 61\n",
      "Avail 90days categories: 91\n",
      "Avail 365days categories: 366\n",
      "\n",
      "Top 5 categories of 30days:\n"
     ]
    },
    {
     "data": {
      "text/plain": [
       "0     3529\n",
       "30    3331\n",
       "29    1708\n",
       "28     704\n",
       "1      387\n",
       "Name: availability_30, dtype: int64"
      ]
     },
     "execution_count": 56,
     "metadata": {},
     "output_type": "execute_result"
    }
   ],
   "source": [
    "print(\"Avail 30days categories:\", listing.availability_30.nunique())\n",
    "print(\"Avail 60days categories:\", listing.availability_60.nunique())\n",
    "print(\"Avail 90days categories:\", listing.availability_90.nunique())\n",
    "print(\"Avail 365days categories:\", listing.availability_365.nunique())\n",
    "print('')\n",
    "print(\"Top 5 categories of 30days:\")\n",
    "listing.availability_30.value_counts()[:5]"
   ]
  },
  {
   "cell_type": "markdown",
   "metadata": {},
   "source": [
    "##### vi. Cancellation Policy"
   ]
  },
  {
   "cell_type": "code",
   "execution_count": 57,
   "metadata": {},
   "outputs": [
    {
     "data": {
      "text/plain": [
       "strict_14_with_grace_period    8327\n",
       "moderate                       2622\n",
       "flexible                       1367\n",
       "strict                           15\n",
       "super_strict_60                  13\n",
       "super_strict_30                   4\n",
       "Name: cancellation_policy, dtype: int64"
      ]
     },
     "execution_count": 57,
     "metadata": {},
     "output_type": "execute_result"
    }
   ],
   "source": [
    "listing.cancellation_policy.value_counts()"
   ]
  },
  {
   "cell_type": "code",
   "execution_count": 58,
   "metadata": {},
   "outputs": [
    {
     "data": {
      "text/plain": [
       "strict          8342\n",
       "moderate        2622\n",
       "flexible        1367\n",
       "super_strict      17\n",
       "Name: cancellation_policy, dtype: int64"
      ]
     },
     "execution_count": 58,
     "metadata": {},
     "output_type": "execute_result"
    }
   ],
   "source": [
    "listing.cancellation_policy.replace({\n",
    "    'strict_14_with_grace_period': 'strict',\n",
    "    'super_strict_30': 'super_strict',\n",
    "    'super_strict_60': 'super_strict',\n",
    "    'strict_14_with_grace_period': 'strict',\n",
    "    'luxury_moderate': 'moderate'\n",
    "    }, inplace=True)\n",
    "listing.cancellation_policy.value_counts()"
   ]
  },
  {
   "cell_type": "code",
   "execution_count": 59,
   "metadata": {
    "scrolled": false
   },
   "outputs": [
    {
     "name": "stdout",
     "output_type": "stream",
     "text": [
      "(12348, 44)\n"
     ]
    }
   ],
   "source": [
    "print(listing.shape)"
   ]
  },
  {
   "cell_type": "markdown",
   "metadata": {},
   "source": [
    "##### Save DataFrame"
   ]
  },
  {
   "cell_type": "code",
   "execution_count": 60,
   "metadata": {},
   "outputs": [],
   "source": [
    "# listing.to_csv(\"../datasets/listing_cleaned.csv\")"
   ]
  },
  {
   "cell_type": "markdown",
   "metadata": {},
   "source": [
    "##### Merge Dataframe"
   ]
  },
  {
   "cell_type": "code",
   "execution_count": 61,
   "metadata": {},
   "outputs": [],
   "source": [
    "# listing_cal = pd.merge(listing, calendar, how='left', on=['id', date','price'])"
   ]
  },
  {
   "cell_type": "markdown",
   "metadata": {},
   "source": [
    "###  <span style='background:yellow'> 3.3. Neighbourhood </span>"
   ]
  },
  {
   "cell_type": "code",
   "execution_count": 62,
   "metadata": {},
   "outputs": [
    {
     "data": {
      "text/html": [
       "<div>\n",
       "<style scoped>\n",
       "    .dataframe tbody tr th:only-of-type {\n",
       "        vertical-align: middle;\n",
       "    }\n",
       "\n",
       "    .dataframe tbody tr th {\n",
       "        vertical-align: top;\n",
       "    }\n",
       "\n",
       "    .dataframe thead th {\n",
       "        text-align: right;\n",
       "    }\n",
       "</style>\n",
       "<table border=\"1\" class=\"dataframe\">\n",
       "  <thead>\n",
       "    <tr style=\"text-align: right;\">\n",
       "      <th></th>\n",
       "      <th>neighbourhood</th>\n",
       "    </tr>\n",
       "  </thead>\n",
       "  <tbody>\n",
       "    <tr>\n",
       "      <th>0</th>\n",
       "      <td>Adachi Ku</td>\n",
       "    </tr>\n",
       "    <tr>\n",
       "      <th>1</th>\n",
       "      <td>Akiruno Shi</td>\n",
       "    </tr>\n",
       "    <tr>\n",
       "      <th>2</th>\n",
       "      <td>Akishima Shi</td>\n",
       "    </tr>\n",
       "    <tr>\n",
       "      <th>3</th>\n",
       "      <td>Aogashima Mura</td>\n",
       "    </tr>\n",
       "    <tr>\n",
       "      <th>4</th>\n",
       "      <td>Arakawa Ku</td>\n",
       "    </tr>\n",
       "    <tr>\n",
       "      <th>...</th>\n",
       "      <td>...</td>\n",
       "    </tr>\n",
       "    <tr>\n",
       "      <th>57</th>\n",
       "      <td>Tachikawa Shi</td>\n",
       "    </tr>\n",
       "    <tr>\n",
       "      <th>58</th>\n",
       "      <td>Taito Ku</td>\n",
       "    </tr>\n",
       "    <tr>\n",
       "      <th>59</th>\n",
       "      <td>Tama Shi</td>\n",
       "    </tr>\n",
       "    <tr>\n",
       "      <th>60</th>\n",
       "      <td>Toshima Ku</td>\n",
       "    </tr>\n",
       "    <tr>\n",
       "      <th>61</th>\n",
       "      <td>Toshima Mura</td>\n",
       "    </tr>\n",
       "  </tbody>\n",
       "</table>\n",
       "<p>62 rows × 1 columns</p>\n",
       "</div>"
      ],
      "text/plain": [
       "     neighbourhood\n",
       "0        Adachi Ku\n",
       "1      Akiruno Shi\n",
       "2     Akishima Shi\n",
       "3   Aogashima Mura\n",
       "4       Arakawa Ku\n",
       "..             ...\n",
       "57   Tachikawa Shi\n",
       "58        Taito Ku\n",
       "59        Tama Shi\n",
       "60      Toshima Ku\n",
       "61    Toshima Mura\n",
       "\n",
       "[62 rows x 1 columns]"
      ]
     },
     "execution_count": 62,
     "metadata": {},
     "output_type": "execute_result"
    }
   ],
   "source": [
    "neighbourhood = neighbourhood.drop(['neighbourhood_group'], axis=1)\n",
    "neighbourhood"
   ]
  },
  {
   "cell_type": "markdown",
   "metadata": {},
   "source": [
    "<div class=\"alert alert-block alert-success\">\n",
    "\n",
    "<b>Observation:</b>\n",
    "Since listing dataframe has the column on neighbourhood_cleansed and country code. This dataframe might not be required. \n",
    "\n",
    "</div>"
   ]
  },
  {
   "cell_type": "markdown",
   "metadata": {},
   "source": [
    "##### Save DataFrame"
   ]
  },
  {
   "cell_type": "code",
   "execution_count": 63,
   "metadata": {},
   "outputs": [],
   "source": [
    "neighbourhood.to_csv(\"../datasets/neighbourhood_cleaned.csv\")"
   ]
  },
  {
   "cell_type": "markdown",
   "metadata": {},
   "source": [
    "### <span style='background:yellow'> 3.4 Reviews </span>"
   ]
  },
  {
   "cell_type": "code",
   "execution_count": 64,
   "metadata": {
    "scrolled": false
   },
   "outputs": [
    {
     "data": {
      "text/html": [
       "<div>\n",
       "<style scoped>\n",
       "    .dataframe tbody tr th:only-of-type {\n",
       "        vertical-align: middle;\n",
       "    }\n",
       "\n",
       "    .dataframe tbody tr th {\n",
       "        vertical-align: top;\n",
       "    }\n",
       "\n",
       "    .dataframe thead th {\n",
       "        text-align: right;\n",
       "    }\n",
       "</style>\n",
       "<table border=\"1\" class=\"dataframe\">\n",
       "  <thead>\n",
       "    <tr style=\"text-align: right;\">\n",
       "      <th></th>\n",
       "      <th>listing_id</th>\n",
       "      <th>id</th>\n",
       "      <th>date</th>\n",
       "      <th>reviewer_id</th>\n",
       "      <th>reviewer_name</th>\n",
       "      <th>comments</th>\n",
       "    </tr>\n",
       "  </thead>\n",
       "  <tbody>\n",
       "    <tr>\n",
       "      <th>0</th>\n",
       "      <td>35303</td>\n",
       "      <td>810980</td>\n",
       "      <td>2011-12-28</td>\n",
       "      <td>1502908</td>\n",
       "      <td>Firuz</td>\n",
       "      <td>Miyuki's has been a great host. Helpful and ve...</td>\n",
       "    </tr>\n",
       "    <tr>\n",
       "      <th>1</th>\n",
       "      <td>35303</td>\n",
       "      <td>2467161</td>\n",
       "      <td>2012-10-01</td>\n",
       "      <td>350719</td>\n",
       "      <td>Jordan</td>\n",
       "      <td>Nice apartment in one of the best areas of Tok...</td>\n",
       "    </tr>\n",
       "    <tr>\n",
       "      <th>2</th>\n",
       "      <td>35303</td>\n",
       "      <td>3572628</td>\n",
       "      <td>2013-02-18</td>\n",
       "      <td>4917704</td>\n",
       "      <td>Aymeric</td>\n",
       "      <td>A very nice host and place. The location is in...</td>\n",
       "    </tr>\n",
       "    <tr>\n",
       "      <th>3</th>\n",
       "      <td>35303</td>\n",
       "      <td>3952097</td>\n",
       "      <td>2013-03-30</td>\n",
       "      <td>3243253</td>\n",
       "      <td>Blandine</td>\n",
       "      <td>Miyuki is the most smily face I met when I lan...</td>\n",
       "    </tr>\n",
       "    <tr>\n",
       "      <th>4</th>\n",
       "      <td>35303</td>\n",
       "      <td>4377509</td>\n",
       "      <td>2013-05-01</td>\n",
       "      <td>1536097</td>\n",
       "      <td>Kayleigh</td>\n",
       "      <td>The location's wonderful. It's close to Haraju...</td>\n",
       "    </tr>\n",
       "  </tbody>\n",
       "</table>\n",
       "</div>"
      ],
      "text/plain": [
       "   listing_id       id        date  reviewer_id reviewer_name  \\\n",
       "0       35303   810980  2011-12-28      1502908         Firuz   \n",
       "1       35303  2467161  2012-10-01       350719        Jordan   \n",
       "2       35303  3572628  2013-02-18      4917704       Aymeric   \n",
       "3       35303  3952097  2013-03-30      3243253      Blandine   \n",
       "4       35303  4377509  2013-05-01      1536097      Kayleigh   \n",
       "\n",
       "                                            comments  \n",
       "0  Miyuki's has been a great host. Helpful and ve...  \n",
       "1  Nice apartment in one of the best areas of Tok...  \n",
       "2  A very nice host and place. The location is in...  \n",
       "3  Miyuki is the most smily face I met when I lan...  \n",
       "4  The location's wonderful. It's close to Haraju...  "
      ]
     },
     "execution_count": 64,
     "metadata": {},
     "output_type": "execute_result"
    }
   ],
   "source": [
    "reviews.head()"
   ]
  },
  {
   "cell_type": "code",
   "execution_count": 65,
   "metadata": {},
   "outputs": [],
   "source": [
    "# Parse date-time string to datetime object\n",
    "reviews.date = pd.to_datetime(reviews['date'])"
   ]
  },
  {
   "cell_type": "code",
   "execution_count": 66,
   "metadata": {},
   "outputs": [],
   "source": [
    "# Drop Unneccessary Columns\n",
    "reviews.drop(['id','reviewer_id','reviewer_name'], axis=1, inplace=True)"
   ]
  },
  {
   "cell_type": "markdown",
   "metadata": {},
   "source": [
    "<div class=\"alert alert-block alert-success\">\n",
    "\n",
    "<b>Observation:</b>\n",
    "\n",
    "In the comments column, there are languages other than english. RNN(?) \n",
    "\n",
    "</div>"
   ]
  },
  {
   "cell_type": "markdown",
   "metadata": {},
   "source": [
    "##### Save DataFrame"
   ]
  },
  {
   "cell_type": "code",
   "execution_count": 67,
   "metadata": {},
   "outputs": [],
   "source": [
    "# reviews.to_csv(\"../datasets/reviews_cleaned.csv\")"
   ]
  },
  {
   "cell_type": "markdown",
   "metadata": {},
   "source": [
    "##### Merge And Save Final Dataframe"
   ]
  },
  {
   "cell_type": "code",
   "execution_count": 68,
   "metadata": {},
   "outputs": [],
   "source": [
    "# merge = pd.merge(listing_cal, reviews, how='left', on=['listing_id'])"
   ]
  },
  {
   "cell_type": "code",
   "execution_count": null,
   "metadata": {},
   "outputs": [],
   "source": [
    "# merge.to_csv(\"../datasets/final.csv\")\n",
    "final = listing"
   ]
  },
  {
   "cell_type": "markdown",
   "metadata": {},
   "source": [
    "## <span style='background:yellow'> 2. Full Exploratory Analysis </span> -- to be split into the next notebook"
   ]
  },
  {
   "cell_type": "code",
   "execution_count": 73,
   "metadata": {
    "scrolled": true
   },
   "outputs": [
    {
     "data": {
      "text/html": [
       "<div>\n",
       "<style scoped>\n",
       "    .dataframe tbody tr th:only-of-type {\n",
       "        vertical-align: middle;\n",
       "    }\n",
       "\n",
       "    .dataframe tbody tr th {\n",
       "        vertical-align: top;\n",
       "    }\n",
       "\n",
       "    .dataframe thead th {\n",
       "        text-align: right;\n",
       "    }\n",
       "</style>\n",
       "<table border=\"1\" class=\"dataframe\">\n",
       "  <thead>\n",
       "    <tr style=\"text-align: right;\">\n",
       "      <th></th>\n",
       "      <th>0</th>\n",
       "      <th>1</th>\n",
       "      <th>2</th>\n",
       "      <th>3</th>\n",
       "      <th>4</th>\n",
       "    </tr>\n",
       "  </thead>\n",
       "  <tbody>\n",
       "    <tr>\n",
       "      <th>id</th>\n",
       "      <td>35303</td>\n",
       "      <td>197677</td>\n",
       "      <td>289597</td>\n",
       "      <td>370759</td>\n",
       "      <td>700253</td>\n",
       "    </tr>\n",
       "    <tr>\n",
       "      <th>host_id</th>\n",
       "      <td>151977</td>\n",
       "      <td>964081</td>\n",
       "      <td>341577</td>\n",
       "      <td>1573631</td>\n",
       "      <td>341577</td>\n",
       "    </tr>\n",
       "    <tr>\n",
       "      <th>host_since</th>\n",
       "      <td>2010-06-25 00:00:00</td>\n",
       "      <td>2011-08-13 00:00:00</td>\n",
       "      <td>2011-01-10 00:00:00</td>\n",
       "      <td>2012-01-06 00:00:00</td>\n",
       "      <td>2011-01-10 00:00:00</td>\n",
       "    </tr>\n",
       "    <tr>\n",
       "      <th>host_response_time</th>\n",
       "      <td>unknown</td>\n",
       "      <td>within a few hours</td>\n",
       "      <td>within a few hours</td>\n",
       "      <td>within a day</td>\n",
       "      <td>within a few hours</td>\n",
       "    </tr>\n",
       "    <tr>\n",
       "      <th>host_response_rate</th>\n",
       "      <td>unknown</td>\n",
       "      <td>100%</td>\n",
       "      <td>100%</td>\n",
       "      <td>100%</td>\n",
       "      <td>100%</td>\n",
       "    </tr>\n",
       "    <tr>\n",
       "      <th>host_acceptance_rate</th>\n",
       "      <td>unknown</td>\n",
       "      <td>50-89%</td>\n",
       "      <td>50-89%</td>\n",
       "      <td>90-99%</td>\n",
       "      <td>50-89%</td>\n",
       "    </tr>\n",
       "    <tr>\n",
       "      <th>host_is_superhost</th>\n",
       "      <td>0</td>\n",
       "      <td>1</td>\n",
       "      <td>0</td>\n",
       "      <td>1</td>\n",
       "      <td>0</td>\n",
       "    </tr>\n",
       "    <tr>\n",
       "      <th>host_listings_count</th>\n",
       "      <td>3</td>\n",
       "      <td>1</td>\n",
       "      <td>2</td>\n",
       "      <td>3</td>\n",
       "      <td>2</td>\n",
       "    </tr>\n",
       "    <tr>\n",
       "      <th>host_identity_verified</th>\n",
       "      <td>1</td>\n",
       "      <td>1</td>\n",
       "      <td>1</td>\n",
       "      <td>1</td>\n",
       "      <td>1</td>\n",
       "    </tr>\n",
       "    <tr>\n",
       "      <th>neighbourhood_cleansed</th>\n",
       "      <td>Shibuya Ku</td>\n",
       "      <td>Sumida Ku</td>\n",
       "      <td>Nerima Ku</td>\n",
       "      <td>Setagaya Ku</td>\n",
       "      <td>Nerima Ku</td>\n",
       "    </tr>\n",
       "    <tr>\n",
       "      <th>country_code</th>\n",
       "      <td>JP</td>\n",
       "      <td>JP</td>\n",
       "      <td>JP</td>\n",
       "      <td>JP</td>\n",
       "      <td>JP</td>\n",
       "    </tr>\n",
       "    <tr>\n",
       "      <th>is_location_exact</th>\n",
       "      <td>1</td>\n",
       "      <td>0</td>\n",
       "      <td>0</td>\n",
       "      <td>1</td>\n",
       "      <td>0</td>\n",
       "    </tr>\n",
       "    <tr>\n",
       "      <th>property_type</th>\n",
       "      <td>Apartment</td>\n",
       "      <td>Apartment</td>\n",
       "      <td>Apartment</td>\n",
       "      <td>Apartment</td>\n",
       "      <td>Apartment</td>\n",
       "    </tr>\n",
       "    <tr>\n",
       "      <th>room_type</th>\n",
       "      <td>private_room</td>\n",
       "      <td>entire_home_apt</td>\n",
       "      <td>entire_home_apt</td>\n",
       "      <td>entire_home_apt</td>\n",
       "      <td>entire_home_apt</td>\n",
       "    </tr>\n",
       "    <tr>\n",
       "      <th>accommodates</th>\n",
       "      <td>1</td>\n",
       "      <td>2</td>\n",
       "      <td>2</td>\n",
       "      <td>2</td>\n",
       "      <td>2</td>\n",
       "    </tr>\n",
       "    <tr>\n",
       "      <th>bathrooms</th>\n",
       "      <td>1</td>\n",
       "      <td>1</td>\n",
       "      <td>1</td>\n",
       "      <td>1</td>\n",
       "      <td>1</td>\n",
       "    </tr>\n",
       "    <tr>\n",
       "      <th>bedrooms</th>\n",
       "      <td>1</td>\n",
       "      <td>1</td>\n",
       "      <td>1</td>\n",
       "      <td>0</td>\n",
       "      <td>1</td>\n",
       "    </tr>\n",
       "    <tr>\n",
       "      <th>beds</th>\n",
       "      <td>1</td>\n",
       "      <td>2</td>\n",
       "      <td>1</td>\n",
       "      <td>1</td>\n",
       "      <td>1</td>\n",
       "    </tr>\n",
       "    <tr>\n",
       "      <th>amenities</th>\n",
       "      <td>tv,internet,wifi,kitchen,paid parking off prem...</td>\n",
       "      <td>tv,internet,wifi,air conditioning,kitchen,buzz...</td>\n",
       "      <td>tv,wifi,air conditioning,kitchen,hot tub,heati...</td>\n",
       "      <td>tv,internet,wifi,air conditioning,kitchen,paid...</td>\n",
       "      <td>tv,internet,wifi,air conditioning,kitchen,hot ...</td>\n",
       "    </tr>\n",
       "    <tr>\n",
       "      <th>price</th>\n",
       "      <td>4192</td>\n",
       "      <td>10965</td>\n",
       "      <td>4192</td>\n",
       "      <td>6987</td>\n",
       "      <td>3977</td>\n",
       "    </tr>\n",
       "    <tr>\n",
       "      <th>security_deposit</th>\n",
       "      <td>30000</td>\n",
       "      <td>40000</td>\n",
       "      <td>32250</td>\n",
       "      <td>20000</td>\n",
       "      <td>32250</td>\n",
       "    </tr>\n",
       "    <tr>\n",
       "      <th>cleaning_fee</th>\n",
       "      <td>5000</td>\n",
       "      <td>5000</td>\n",
       "      <td>5375</td>\n",
       "      <td>6000</td>\n",
       "      <td>5375</td>\n",
       "    </tr>\n",
       "    <tr>\n",
       "      <th>guests_included</th>\n",
       "      <td>1</td>\n",
       "      <td>1</td>\n",
       "      <td>1</td>\n",
       "      <td>1</td>\n",
       "      <td>1</td>\n",
       "    </tr>\n",
       "    <tr>\n",
       "      <th>extra_people</th>\n",
       "      <td>0</td>\n",
       "      <td>0</td>\n",
       "      <td>1075</td>\n",
       "      <td>0</td>\n",
       "      <td>1075</td>\n",
       "    </tr>\n",
       "    <tr>\n",
       "      <th>minimum_nights</th>\n",
       "      <td>28</td>\n",
       "      <td>3</td>\n",
       "      <td>28</td>\n",
       "      <td>28</td>\n",
       "      <td>28</td>\n",
       "    </tr>\n",
       "    <tr>\n",
       "      <th>maximum_nights</th>\n",
       "      <td>1125</td>\n",
       "      <td>365</td>\n",
       "      <td>180</td>\n",
       "      <td>720</td>\n",
       "      <td>180</td>\n",
       "    </tr>\n",
       "    <tr>\n",
       "      <th>calendar_updated</th>\n",
       "      <td>19 months ago</td>\n",
       "      <td>6 weeks ago</td>\n",
       "      <td>7 weeks ago</td>\n",
       "      <td>2 months ago</td>\n",
       "      <td>7 weeks ago</td>\n",
       "    </tr>\n",
       "    <tr>\n",
       "      <th>availability_30</th>\n",
       "      <td>29</td>\n",
       "      <td>28</td>\n",
       "      <td>30</td>\n",
       "      <td>29</td>\n",
       "      <td>30</td>\n",
       "    </tr>\n",
       "    <tr>\n",
       "      <th>availability_60</th>\n",
       "      <td>59</td>\n",
       "      <td>40</td>\n",
       "      <td>51</td>\n",
       "      <td>59</td>\n",
       "      <td>60</td>\n",
       "    </tr>\n",
       "    <tr>\n",
       "      <th>availability_90</th>\n",
       "      <td>89</td>\n",
       "      <td>46</td>\n",
       "      <td>58</td>\n",
       "      <td>89</td>\n",
       "      <td>90</td>\n",
       "    </tr>\n",
       "    <tr>\n",
       "      <th>availability_365</th>\n",
       "      <td>89</td>\n",
       "      <td>270</td>\n",
       "      <td>242</td>\n",
       "      <td>364</td>\n",
       "      <td>353</td>\n",
       "    </tr>\n",
       "    <tr>\n",
       "      <th>number_of_reviews</th>\n",
       "      <td>18</td>\n",
       "      <td>165</td>\n",
       "      <td>113</td>\n",
       "      <td>103</td>\n",
       "      <td>104</td>\n",
       "    </tr>\n",
       "    <tr>\n",
       "      <th>first_review</th>\n",
       "      <td>2011-12-28 00:00:00</td>\n",
       "      <td>2011-09-21 00:00:00</td>\n",
       "      <td>2012-06-15 00:00:00</td>\n",
       "      <td>2014-03-25 00:00:00</td>\n",
       "      <td>2012-10-17 00:00:00</td>\n",
       "    </tr>\n",
       "    <tr>\n",
       "      <th>last_review</th>\n",
       "      <td>2018-07-28 00:00:00</td>\n",
       "      <td>2020-03-04 00:00:00</td>\n",
       "      <td>2020-02-17 00:00:00</td>\n",
       "      <td>2020-04-16 00:00:00</td>\n",
       "      <td>2020-05-12 00:00:00</td>\n",
       "    </tr>\n",
       "    <tr>\n",
       "      <th>review_scores_rating</th>\n",
       "      <td>90-99%</td>\n",
       "      <td>90-99%</td>\n",
       "      <td>90-99%</td>\n",
       "      <td>90-99%</td>\n",
       "      <td>90-99%</td>\n",
       "    </tr>\n",
       "    <tr>\n",
       "      <th>review_scores_accuracy</th>\n",
       "      <td>9</td>\n",
       "      <td>10</td>\n",
       "      <td>9</td>\n",
       "      <td>10</td>\n",
       "      <td>10</td>\n",
       "    </tr>\n",
       "    <tr>\n",
       "      <th>review_scores_cleanliness</th>\n",
       "      <td>9</td>\n",
       "      <td>10</td>\n",
       "      <td>10</td>\n",
       "      <td>10</td>\n",
       "      <td>10</td>\n",
       "    </tr>\n",
       "    <tr>\n",
       "      <th>review_scores_checkin</th>\n",
       "      <td>9</td>\n",
       "      <td>10</td>\n",
       "      <td>10</td>\n",
       "      <td>10</td>\n",
       "      <td>10</td>\n",
       "    </tr>\n",
       "    <tr>\n",
       "      <th>review_scores_communication</th>\n",
       "      <td>10</td>\n",
       "      <td>10</td>\n",
       "      <td>9</td>\n",
       "      <td>10</td>\n",
       "      <td>10</td>\n",
       "    </tr>\n",
       "    <tr>\n",
       "      <th>review_scores_location</th>\n",
       "      <td>10</td>\n",
       "      <td>9</td>\n",
       "      <td>9</td>\n",
       "      <td>10</td>\n",
       "      <td>9</td>\n",
       "    </tr>\n",
       "    <tr>\n",
       "      <th>review_scores_value</th>\n",
       "      <td>9</td>\n",
       "      <td>10</td>\n",
       "      <td>9</td>\n",
       "      <td>10</td>\n",
       "      <td>10</td>\n",
       "    </tr>\n",
       "    <tr>\n",
       "      <th>instant_bookable</th>\n",
       "      <td>0</td>\n",
       "      <td>0</td>\n",
       "      <td>0</td>\n",
       "      <td>0</td>\n",
       "      <td>0</td>\n",
       "    </tr>\n",
       "    <tr>\n",
       "      <th>cancellation_policy</th>\n",
       "      <td>strict</td>\n",
       "      <td>moderate</td>\n",
       "      <td>strict</td>\n",
       "      <td>moderate</td>\n",
       "      <td>strict</td>\n",
       "    </tr>\n",
       "    <tr>\n",
       "      <th>time_since_first_review</th>\n",
       "      <td>2404 days 00:00:00</td>\n",
       "      <td>3087 days 00:00:00</td>\n",
       "      <td>2803 days 00:00:00</td>\n",
       "      <td>2214 days 00:00:00</td>\n",
       "      <td>2764 days 00:00:00</td>\n",
       "    </tr>\n",
       "  </tbody>\n",
       "</table>\n",
       "</div>"
      ],
      "text/plain": [
       "                                                                             0  \\\n",
       "id                                                                       35303   \n",
       "host_id                                                                 151977   \n",
       "host_since                                                 2010-06-25 00:00:00   \n",
       "host_response_time                                                     unknown   \n",
       "host_response_rate                                                     unknown   \n",
       "host_acceptance_rate                                                   unknown   \n",
       "host_is_superhost                                                            0   \n",
       "host_listings_count                                                          3   \n",
       "host_identity_verified                                                       1   \n",
       "neighbourhood_cleansed                                              Shibuya Ku   \n",
       "country_code                                                                JP   \n",
       "is_location_exact                                                            1   \n",
       "property_type                                                        Apartment   \n",
       "room_type                                                         private_room   \n",
       "accommodates                                                                 1   \n",
       "bathrooms                                                                    1   \n",
       "bedrooms                                                                     1   \n",
       "beds                                                                         1   \n",
       "amenities                    tv,internet,wifi,kitchen,paid parking off prem...   \n",
       "price                                                                     4192   \n",
       "security_deposit                                                         30000   \n",
       "cleaning_fee                                                              5000   \n",
       "guests_included                                                              1   \n",
       "extra_people                                                                 0   \n",
       "minimum_nights                                                              28   \n",
       "maximum_nights                                                            1125   \n",
       "calendar_updated                                                 19 months ago   \n",
       "availability_30                                                             29   \n",
       "availability_60                                                             59   \n",
       "availability_90                                                             89   \n",
       "availability_365                                                            89   \n",
       "number_of_reviews                                                           18   \n",
       "first_review                                               2011-12-28 00:00:00   \n",
       "last_review                                                2018-07-28 00:00:00   \n",
       "review_scores_rating                                                    90-99%   \n",
       "review_scores_accuracy                                                       9   \n",
       "review_scores_cleanliness                                                    9   \n",
       "review_scores_checkin                                                        9   \n",
       "review_scores_communication                                                 10   \n",
       "review_scores_location                                                      10   \n",
       "review_scores_value                                                          9   \n",
       "instant_bookable                                                             0   \n",
       "cancellation_policy                                                     strict   \n",
       "time_since_first_review                                     2404 days 00:00:00   \n",
       "\n",
       "                                                                             1  \\\n",
       "id                                                                      197677   \n",
       "host_id                                                                 964081   \n",
       "host_since                                                 2011-08-13 00:00:00   \n",
       "host_response_time                                          within a few hours   \n",
       "host_response_rate                                                        100%   \n",
       "host_acceptance_rate                                                    50-89%   \n",
       "host_is_superhost                                                            1   \n",
       "host_listings_count                                                          1   \n",
       "host_identity_verified                                                       1   \n",
       "neighbourhood_cleansed                                               Sumida Ku   \n",
       "country_code                                                                JP   \n",
       "is_location_exact                                                            0   \n",
       "property_type                                                        Apartment   \n",
       "room_type                                                      entire_home_apt   \n",
       "accommodates                                                                 2   \n",
       "bathrooms                                                                    1   \n",
       "bedrooms                                                                     1   \n",
       "beds                                                                         2   \n",
       "amenities                    tv,internet,wifi,air conditioning,kitchen,buzz...   \n",
       "price                                                                    10965   \n",
       "security_deposit                                                         40000   \n",
       "cleaning_fee                                                              5000   \n",
       "guests_included                                                              1   \n",
       "extra_people                                                                 0   \n",
       "minimum_nights                                                               3   \n",
       "maximum_nights                                                             365   \n",
       "calendar_updated                                                   6 weeks ago   \n",
       "availability_30                                                             28   \n",
       "availability_60                                                             40   \n",
       "availability_90                                                             46   \n",
       "availability_365                                                           270   \n",
       "number_of_reviews                                                          165   \n",
       "first_review                                               2011-09-21 00:00:00   \n",
       "last_review                                                2020-03-04 00:00:00   \n",
       "review_scores_rating                                                    90-99%   \n",
       "review_scores_accuracy                                                      10   \n",
       "review_scores_cleanliness                                                   10   \n",
       "review_scores_checkin                                                       10   \n",
       "review_scores_communication                                                 10   \n",
       "review_scores_location                                                       9   \n",
       "review_scores_value                                                         10   \n",
       "instant_bookable                                                             0   \n",
       "cancellation_policy                                                   moderate   \n",
       "time_since_first_review                                     3087 days 00:00:00   \n",
       "\n",
       "                                                                             2  \\\n",
       "id                                                                      289597   \n",
       "host_id                                                                 341577   \n",
       "host_since                                                 2011-01-10 00:00:00   \n",
       "host_response_time                                          within a few hours   \n",
       "host_response_rate                                                        100%   \n",
       "host_acceptance_rate                                                    50-89%   \n",
       "host_is_superhost                                                            0   \n",
       "host_listings_count                                                          2   \n",
       "host_identity_verified                                                       1   \n",
       "neighbourhood_cleansed                                               Nerima Ku   \n",
       "country_code                                                                JP   \n",
       "is_location_exact                                                            0   \n",
       "property_type                                                        Apartment   \n",
       "room_type                                                      entire_home_apt   \n",
       "accommodates                                                                 2   \n",
       "bathrooms                                                                    1   \n",
       "bedrooms                                                                     1   \n",
       "beds                                                                         1   \n",
       "amenities                    tv,wifi,air conditioning,kitchen,hot tub,heati...   \n",
       "price                                                                     4192   \n",
       "security_deposit                                                         32250   \n",
       "cleaning_fee                                                              5375   \n",
       "guests_included                                                              1   \n",
       "extra_people                                                              1075   \n",
       "minimum_nights                                                              28   \n",
       "maximum_nights                                                             180   \n",
       "calendar_updated                                                   7 weeks ago   \n",
       "availability_30                                                             30   \n",
       "availability_60                                                             51   \n",
       "availability_90                                                             58   \n",
       "availability_365                                                           242   \n",
       "number_of_reviews                                                          113   \n",
       "first_review                                               2012-06-15 00:00:00   \n",
       "last_review                                                2020-02-17 00:00:00   \n",
       "review_scores_rating                                                    90-99%   \n",
       "review_scores_accuracy                                                       9   \n",
       "review_scores_cleanliness                                                   10   \n",
       "review_scores_checkin                                                       10   \n",
       "review_scores_communication                                                  9   \n",
       "review_scores_location                                                       9   \n",
       "review_scores_value                                                          9   \n",
       "instant_bookable                                                             0   \n",
       "cancellation_policy                                                     strict   \n",
       "time_since_first_review                                     2803 days 00:00:00   \n",
       "\n",
       "                                                                             3  \\\n",
       "id                                                                      370759   \n",
       "host_id                                                                1573631   \n",
       "host_since                                                 2012-01-06 00:00:00   \n",
       "host_response_time                                                within a day   \n",
       "host_response_rate                                                        100%   \n",
       "host_acceptance_rate                                                    90-99%   \n",
       "host_is_superhost                                                            1   \n",
       "host_listings_count                                                          3   \n",
       "host_identity_verified                                                       1   \n",
       "neighbourhood_cleansed                                             Setagaya Ku   \n",
       "country_code                                                                JP   \n",
       "is_location_exact                                                            1   \n",
       "property_type                                                        Apartment   \n",
       "room_type                                                      entire_home_apt   \n",
       "accommodates                                                                 2   \n",
       "bathrooms                                                                    1   \n",
       "bedrooms                                                                     0   \n",
       "beds                                                                         1   \n",
       "amenities                    tv,internet,wifi,air conditioning,kitchen,paid...   \n",
       "price                                                                     6987   \n",
       "security_deposit                                                         20000   \n",
       "cleaning_fee                                                              6000   \n",
       "guests_included                                                              1   \n",
       "extra_people                                                                 0   \n",
       "minimum_nights                                                              28   \n",
       "maximum_nights                                                             720   \n",
       "calendar_updated                                                  2 months ago   \n",
       "availability_30                                                             29   \n",
       "availability_60                                                             59   \n",
       "availability_90                                                             89   \n",
       "availability_365                                                           364   \n",
       "number_of_reviews                                                          103   \n",
       "first_review                                               2014-03-25 00:00:00   \n",
       "last_review                                                2020-04-16 00:00:00   \n",
       "review_scores_rating                                                    90-99%   \n",
       "review_scores_accuracy                                                      10   \n",
       "review_scores_cleanliness                                                   10   \n",
       "review_scores_checkin                                                       10   \n",
       "review_scores_communication                                                 10   \n",
       "review_scores_location                                                      10   \n",
       "review_scores_value                                                         10   \n",
       "instant_bookable                                                             0   \n",
       "cancellation_policy                                                   moderate   \n",
       "time_since_first_review                                     2214 days 00:00:00   \n",
       "\n",
       "                                                                             4  \n",
       "id                                                                      700253  \n",
       "host_id                                                                 341577  \n",
       "host_since                                                 2011-01-10 00:00:00  \n",
       "host_response_time                                          within a few hours  \n",
       "host_response_rate                                                        100%  \n",
       "host_acceptance_rate                                                    50-89%  \n",
       "host_is_superhost                                                            0  \n",
       "host_listings_count                                                          2  \n",
       "host_identity_verified                                                       1  \n",
       "neighbourhood_cleansed                                               Nerima Ku  \n",
       "country_code                                                                JP  \n",
       "is_location_exact                                                            0  \n",
       "property_type                                                        Apartment  \n",
       "room_type                                                      entire_home_apt  \n",
       "accommodates                                                                 2  \n",
       "bathrooms                                                                    1  \n",
       "bedrooms                                                                     1  \n",
       "beds                                                                         1  \n",
       "amenities                    tv,internet,wifi,air conditioning,kitchen,hot ...  \n",
       "price                                                                     3977  \n",
       "security_deposit                                                         32250  \n",
       "cleaning_fee                                                              5375  \n",
       "guests_included                                                              1  \n",
       "extra_people                                                              1075  \n",
       "minimum_nights                                                              28  \n",
       "maximum_nights                                                             180  \n",
       "calendar_updated                                                   7 weeks ago  \n",
       "availability_30                                                             30  \n",
       "availability_60                                                             60  \n",
       "availability_90                                                             90  \n",
       "availability_365                                                           353  \n",
       "number_of_reviews                                                          104  \n",
       "first_review                                               2012-10-17 00:00:00  \n",
       "last_review                                                2020-05-12 00:00:00  \n",
       "review_scores_rating                                                    90-99%  \n",
       "review_scores_accuracy                                                      10  \n",
       "review_scores_cleanliness                                                   10  \n",
       "review_scores_checkin                                                       10  \n",
       "review_scores_communication                                                 10  \n",
       "review_scores_location                                                       9  \n",
       "review_scores_value                                                         10  \n",
       "instant_bookable                                                             0  \n",
       "cancellation_policy                                                     strict  \n",
       "time_since_first_review                                     2764 days 00:00:00  "
      ]
     },
     "execution_count": 73,
     "metadata": {},
     "output_type": "execute_result"
    }
   ],
   "source": [
    "final.head().T"
   ]
  },
  {
   "cell_type": "markdown",
   "metadata": {},
   "source": [
    "##### Host"
   ]
  },
  {
   "cell_type": "code",
   "execution_count": 74,
   "metadata": {},
   "outputs": [
    {
     "data": {
      "image/png": "[encoded data removed]",
      "text/plain": [
       "<Figure size 1080x288 with 2 Axes>"
      ]
     },
     "metadata": {
      "needs_background": "light"
     },
     "output_type": "display_data"
    },
    {
     "name": "stdout",
     "output_type": "stream",
     "text": [
      "0    0.629738\n",
      "1    0.370262\n",
      "Name: host_is_superhost, dtype: float64\n"
     ]
    }
   ],
   "source": [
    "def binary_count_and_price_plot(col, figsize=(15,4)):\n",
    "    \"\"\"\n",
    "    Plots a simple bar chart of the counts of true and false categories in the column specified,\n",
    "    next to a bar chart of the median price for each category.\n",
    "    A figure size can optionally be specified.\n",
    "    \"\"\"\n",
    "    fig, (ax1, ax2) = plt.subplots(1, 2, figsize=figsize)\n",
    "    fig.suptitle(col, fontsize=16, y=1)\n",
    "    plt.subplots_adjust(top=0.80) # So that the suptitle does not overlap with the ax plot titles\n",
    "    \n",
    "    final.groupby(col).size().plot(kind='bar', ax=ax1, color=['#FF5A5F', '#00A699'])\n",
    "    ax1.set_xticklabels(labels=['false', 'true'], rotation=0)\n",
    "    ax1.set_title('Category count')\n",
    "    ax1.set_xlabel('')\n",
    "    \n",
    "    final.groupby(col).price.median().plot(kind='bar', ax=ax2, color=['#FF5A5F', '#00A699'])\n",
    "    ax2.set_xticklabels(labels=['false', 'true'], rotation=0)\n",
    "    ax2.set_title('Median price (£)')\n",
    "    ax2.set_xlabel('')\n",
    "    \n",
    "    plt.show()\n",
    "\n",
    "binary_count_and_price_plot('host_is_superhost')\n",
    "print(final.host_is_superhost.value_counts(normalize=True));"
   ]
  },
  {
   "cell_type": "code",
   "execution_count": 75,
   "metadata": {},
   "outputs": [
    {
     "data": {
      "image/png": "[encoded data removed]",
      "text/plain": [
       "<Figure size 1080x288 with 2 Axes>"
      ]
     },
     "metadata": {
      "needs_background": "light"
     },
     "output_type": "display_data"
    },
    {
     "name": "stdout",
     "output_type": "stream",
     "text": [
      "0    0.790735\n",
      "1    0.209265\n",
      "Name: host_identity_verified, dtype: float64\n"
     ]
    }
   ],
   "source": [
    "binary_count_and_price_plot('host_identity_verified')\n",
    "print(final.host_identity_verified.value_counts(normalize=True));"
   ]
  },
  {
   "cell_type": "markdown",
   "metadata": {},
   "source": [
    "<div class=\"alert alert-block alert-success\">\n",
    "\n",
    "<b>Observation:</b>\n",
    "\n",
    "\n",
    "</div>"
   ]
  },
  {
   "cell_type": "markdown",
   "metadata": {},
   "source": [
    "##### Host Listing Count"
   ]
  },
  {
   "cell_type": "code",
   "execution_count": 76,
   "metadata": {
    "scrolled": false
   },
   "outputs": [
    {
     "data": {
      "image/png": "[encoded data removed]",
      "text/plain": [
       "<Figure size 1152x360 with 1 Axes>"
      ]
     },
     "metadata": {
      "needs_background": "light"
     },
     "output_type": "display_data"
    }
   ],
   "source": [
    "plt.figure(figsize=(16,5))\n",
    "plt.hist(final['host_listings_count'], bins=30, color ='#FF5A5F')\n",
    "plt.title('Distribution of Host Listings Count', fontsize=20)\n",
    "plt.xlabel('Number of Listing a Host has', fontsize=15)\n",
    "plt.ylabel('Number of Host', fontsize=15);"
   ]
  },
  {
   "cell_type": "markdown",
   "metadata": {},
   "source": [
    "<div class=\"alert alert-block alert-success\">\n",
    "\n",
    "<b>Observation:</b>\n",
    "\n",
    "Most host does not have any listing, and some has over 100 listings.\n",
    "\n",
    "\n",
    "</div>"
   ]
  },
  {
   "cell_type": "markdown",
   "metadata": {},
   "source": [
    "<div class=\"alert alert-block alert-warning\">\n",
    "\n",
    "<b>To Do:</b>\n",
    "\n",
    "Remove Outlier:\n",
    "\n",
    "- to drop host with zero listings\n",
    "\n",
    "</div>"
   ]
  },
  {
   "cell_type": "code",
   "execution_count": 77,
   "metadata": {},
   "outputs": [
    {
     "data": {
      "text/plain": [
       "75820284     84\n",
       "73463626     66\n",
       "198552582    61\n",
       "261951920    54\n",
       "258668827    49\n",
       "232836811    45\n",
       "232445532    45\n",
       "159375498    44\n",
       "71735650     42\n",
       "185778164    42\n",
       "Name: host_id, dtype: int64"
      ]
     },
     "execution_count": 77,
     "metadata": {},
     "output_type": "execute_result"
    }
   ],
   "source": [
    "top_host=final.host_id.value_counts().head(10)\n",
    "top_host"
   ]
  },
  {
   "cell_type": "code",
   "execution_count": 78,
   "metadata": {},
   "outputs": [
    {
     "data": {
      "image/png": "[encoded data removed]",
      "text/plain": [
       "<Figure size 1152x360 with 1 Axes>"
      ]
     },
     "metadata": {
      "needs_background": "light"
     },
     "output_type": "display_data"
    }
   ],
   "source": [
    "fig = plt.figure(1, figsize=(16,5))\n",
    "ax = fig.add_subplot(111)\n",
    "\n",
    "title = 'Hosts with the most listings in Tokyo'\n",
    "\n",
    "transparency = 0.7\n",
    "color = ['#FF5A5F', '#00A699', '#FC642D']\n",
    "\n",
    "top_host.plot(kind = 'bar', \n",
    "              color = color, \n",
    "              width = 0.9,\n",
    "              title = title)\n",
    "\n",
    "ax.grid(False)\n",
    "ax.set_frame_on(False)\n",
    "\n",
    "ax.set_title(ax.get_title(), fontsize=20, alpha=transparency, ha='left')\n",
    "plt.subplots_adjust(top=0.9)\n",
    "ax.title.set_position((0,1.04))\n",
    "\n",
    "ax.xaxis.set_label_position('top')\n",
    "xlab = 'Hosts'\n",
    "ax.set_xlabel(xlab, fontsize=15, alpha=transparency, ha='left')\n",
    "ax.xaxis.set_label_coords(0, 0.98)\n",
    "plt.xticks(rotation=0)\n",
    "\n",
    "ylab = 'Listing Count'\n",
    "ax.set_ylabel(ylab, fontsize=15, alpha=transparency);\n",
    "\n",
    "# plt.tight_layout()\n",
    "# plt.title('Hosts with the most listings in Tokyo', fontsize=20)\n",
    "# plt.xlabel('Host IDs', fontsize=15)\n"
   ]
  },
  {
   "cell_type": "markdown",
   "metadata": {},
   "source": [
    "<div class=\"alert alert-block alert-success\">\n",
    "\n",
    "<b>Observation:</b>\n",
    "\n",
    "These are the host with most number of listing in Tokyo. Host 75820284 has over 80 listings. \n",
    "\n",
    "\n",
    "</div>"
   ]
  },
  {
   "cell_type": "markdown",
   "metadata": {},
   "source": [
    "##### Neighbourhod"
   ]
  },
  {
   "cell_type": "code",
   "execution_count": 79,
   "metadata": {},
   "outputs": [],
   "source": [
    "# Create new dataframe for neighbourhood count\n",
    "neighbourhood_count = pd.DataFrame()\n",
    "neighbourhood_count['total_hosts'] = final['neighbourhood_cleansed'].value_counts()\n",
    "\n",
    "# Filter out neighbourhood with less than 20 listings\n",
    "neighbourhood_count = neighbourhood_count[neighbourhood_count['total_hosts'] > 20]\n",
    "neighbourhood_count.sort_index(ascending=True, inplace=True)"
   ]
  },
  {
   "cell_type": "code",
   "execution_count": 169,
   "metadata": {
    "scrolled": false
   },
   "outputs": [
    {
     "data": {
      "image/png": "[encoded data removed]",
      "text/plain": [
       "<Figure size 1440x1800 with 1 Axes>"
      ]
     },
     "metadata": {},
     "output_type": "display_data"
    }
   ],
   "source": [
    "fig = plt.figure(1, figsize=(20,25))\n",
    "ax = fig.add_subplot(111)\n",
    "\n",
    "title=\"Distribution of listings based on neighbourhood in Tokyo\"\n",
    "\n",
    "transparency = 0.7\n",
    "cmap = sns.color_palette(\"autumn\")\n",
    "\n",
    "neighbourhood_count['total_hosts'].plot(kind = 'barh',\n",
    "                                        ax = ax,\n",
    "                                        color = cmap,\n",
    "                                        title = title, \n",
    "                                        width = 0.9)\n",
    "\n",
    "ax.grid(False)\n",
    "ax.set_frame_on(False)\n",
    "\n",
    "ax.set_title(ax.get_title(), fontsize=26, alpha=transparency, ha='left')\n",
    "plt.subplots_adjust(top=0.9)\n",
    "ax.title.set_position((0,1.04))\n",
    "\n",
    "ax.xaxis.set_label_position('top')\n",
    "xlab = 'Total number of listings'\n",
    "ax.set_xlabel(xlab, fontsize=20, alpha=transparency, ha='left')\n",
    "ax.xaxis.set_label_coords(0, 1.02)\n",
    "ax.xaxis.tick_top()\n",
    "\n",
    "ylab = 'Neighbourhood in Tokyo'\n",
    "ax.set_ylabel(ylab, fontsize=20, alpha=transparency);"
   ]
  },
  {
   "cell_type": "markdown",
   "metadata": {},
   "source": [
    "<div class=\"alert alert-block alert-success\">\n",
    "\n",
    "<b>Observation:</b>\n",
    "\n",
    "Top most popular neighbourhood - Shinjuku Ku, Taito Ku, Toshima Ku, Sumida Ku, and Shibuya Ku\n",
    "\n",
    "\n",
    "</div>"
   ]
  },
  {
   "cell_type": "markdown",
   "metadata": {},
   "source": [
    "##### Property Type"
   ]
  },
  {
   "cell_type": "code",
   "execution_count": 81,
   "metadata": {
    "scrolled": false
   },
   "outputs": [
    {
     "data": {
      "image/png": "[encoded data removed]",
      "text/plain": [
       "<Figure size 1152x360 with 1 Axes>"
      ]
     },
     "metadata": {
      "needs_background": "light"
     },
     "output_type": "display_data"
    }
   ],
   "source": [
    "fig = plt.figure(1, figsize=(16,5))\n",
    "ax = fig.add_subplot(111)\n",
    "\n",
    "title = 'Property Type'\n",
    "\n",
    "transparency = 0.7\n",
    "color = sns.color_palette(\"autumn\")\n",
    "\n",
    "final['property_type'].value_counts().plot(kind='bar', \n",
    "                                           color = color, \n",
    "                                           width = 0.9,\n",
    "                                           title = title)\n",
    "\n",
    "ax.grid(False)\n",
    "ax.set_frame_on(False)\n",
    "\n",
    "ax.set_title(ax.get_title(), fontsize=20, alpha=transparency, ha='left')\n",
    "plt.subplots_adjust(top=0.9)\n",
    "ax.title.set_position((0,1.04))\n",
    "\n",
    "ylab = 'Listing Count'\n",
    "ax.set_ylabel(ylab, fontsize=15, alpha=transparency);"
   ]
  },
  {
   "cell_type": "markdown",
   "metadata": {},
   "source": [
    "<div class=\"alert alert-block alert-success\">\n",
    "\n",
    "<b>Observation:</b>\n",
    "\n",
    "Most listings are Apartment \n",
    "\n",
    "\n",
    "</div>"
   ]
  },
  {
   "cell_type": "markdown",
   "metadata": {},
   "source": [
    "##### Room Type"
   ]
  },
  {
   "cell_type": "code",
   "execution_count": 171,
   "metadata": {
    "scrolled": true
   },
   "outputs": [
    {
     "data": {
      "image/png": "[encoded data removed]",
      "text/plain": [
       "<Figure size 1080x360 with 1 Axes>"
      ]
     },
     "metadata": {},
     "output_type": "display_data"
    }
   ],
   "source": [
    "fig = plt.figure(1, figsize=(15,5))\n",
    "ax = fig.add_subplot(111)\n",
    "\n",
    "title = 'Room Type'\n",
    "\n",
    "transparency = 0.7\n",
    "color = sns.color_palette(\"autumn\")\n",
    "\n",
    "final['room_type'].value_counts().plot(kind='bar',\n",
    "                                       color = color,\n",
    "                                       width = 0.9, \n",
    "                                       title = title)\n",
    "\n",
    "ax.grid(False)\n",
    "ax.set_frame_on(False)\n",
    "\n",
    "ax.set_title(ax.get_title(), fontsize=20, alpha=transparency, ha='left')\n",
    "plt.subplots_adjust(top=0.9)\n",
    "ax.title.set_position((0,1.04))\n",
    "plt.xticks(rotation=0)\n",
    "\n",
    "ylab = 'Listing Count'\n",
    "ax.set_ylabel(ylab, fontsize=15, alpha=transparency);"
   ]
  },
  {
   "cell_type": "markdown",
   "metadata": {},
   "source": [
    "##### Property Vs Room Type"
   ]
  },
  {
   "cell_type": "code",
   "execution_count": 164,
   "metadata": {},
   "outputs": [],
   "source": [
    "# Create a dataframe with property_type and room_type\n",
    "property_room = final.groupby(['property_type','room_type']).room_type.count().unstack()\n",
    "\n",
    "# Sum up the total number of room types in a property type\n",
    "property_room['total'] = property_room.iloc[:,0:4].sum(axis = 1)\n",
    "property_room.sort_values(by='total', inplace=True)\n",
    "\n",
    "# Filter out properties that are less than 100\n",
    "property_room = property_room[property_room['total']>=100]\n",
    "property_room = property_room.drop(['total'], axis=1)"
   ]
  },
  {
   "cell_type": "code",
   "execution_count": 168,
   "metadata": {},
   "outputs": [
    {
     "data": {
      "image/png": "[encoded data removed]",
      "text/plain": [
       "<Figure size 936x360 with 1 Axes>"
      ]
     },
     "metadata": {},
     "output_type": "display_data"
    }
   ],
   "source": [
    "color = sns.color_palette(\"autumn\")\n",
    "\n",
    "property_room.plot(kind='barh',\n",
    "                   stacked=True, \n",
    "                   color = color,\n",
    "                   width=0.9,\n",
    "                   figsize=(13,5), \n",
    "                   alpha = 0.8)\n",
    "\n",
    "plt.title('Property vs Room Type', fontsize=20)\n",
    "plt.xlabel('Number of listings', fontsize=14)\n",
    "plt.ylabel(\"Property Type\", fontsize=15);"
   ]
  },
  {
   "cell_type": "markdown",
   "metadata": {},
   "source": [
    "<div class=\"alert alert-block alert-success\">\n",
    "\n",
    "<b>Observation:</b>\n",
    "\n",
    "As shown in the figure above, most listings are categorised as apartments which comes in 3 top room types which are entire home, hotel room, and private room\n",
    "\n",
    "\n",
    "</div>"
   ]
  },
  {
   "cell_type": "markdown",
   "metadata": {},
   "source": [
    "##### Accomodates"
   ]
  },
  {
   "cell_type": "code",
   "execution_count": 172,
   "metadata": {
    "scrolled": true
   },
   "outputs": [
    {
     "data": {
      "image/png": "[encoded data removed]",
      "text/plain": [
       "<Figure size 1152x360 with 1 Axes>"
      ]
     },
     "metadata": {},
     "output_type": "display_data"
    }
   ],
   "source": [
    "fig = plt.figure(1, figsize=(16,5))\n",
    "ax = fig.add_subplot(111)\n",
    "\n",
    "title = 'Accomodates (Number of People)'\n",
    "\n",
    "transparency = 0.7\n",
    "color = sns.color_palette(\"autumn\")\n",
    "\n",
    "final['accommodates'].value_counts().sort_index().plot(kind='bar', \n",
    "                                             color = color, \n",
    "                                             width = 0.9, \n",
    "                                             title = title)\n",
    "\n",
    "ax.grid(False)\n",
    "ax.set_frame_on(False)\n",
    "\n",
    "ax.set_title(ax.get_title(), fontsize=20, alpha=transparency, ha='left')\n",
    "plt.subplots_adjust(top=0.9)\n",
    "ax.title.set_position((0,1.04))\n",
    "plt.xticks(rotation=0)\n",
    "\n",
    "ylab = 'Listing Count'\n",
    "ax.set_ylabel(ylab, fontsize=15, alpha=transparency);"
   ]
  },
  {
   "cell_type": "markdown",
   "metadata": {},
   "source": [
    "<div class=\"alert alert-block alert-success\">\n",
    "\n",
    "<b>Observation:</b>\n",
    "\n",
    "Most listings in Tokyo are for 2-4 people\n",
    "\n",
    "</div>"
   ]
  },
  {
   "cell_type": "code",
   "execution_count": null,
   "metadata": {},
   "outputs": [],
   "source": [
    "# feq = listings[listings['accommodates']==2]\n",
    "# feq = feq.groupby('neighbourhood')['price'].mean().sort_values(ascending=True)\n",
    "# feq.plot.barh(figsize=(10, 8), color='b', width=1)\n",
    "# plt.title(\"Average daily price for a 2-persons accommodation\", fontsize=20)\n",
    "# plt.xlabel('Average daily price (Euro)', fontsize=12)\n",
    "# plt.ylabel(\"\")\n",
    "# plt.show()"
   ]
  },
  {
   "cell_type": "markdown",
   "metadata": {},
   "source": [
    "##### Rooms"
   ]
  },
  {
   "cell_type": "code",
   "execution_count": null,
   "metadata": {},
   "outputs": [],
   "source": []
  },
  {
   "cell_type": "markdown",
   "metadata": {},
   "source": [
    "##### Price"
   ]
  },
  {
   "cell_type": "code",
   "execution_count": 84,
   "metadata": {},
   "outputs": [
    {
     "data": {
      "text/plain": [
       "count     12348.00\n",
       "mean      25066.75\n",
       "std       73004.47\n",
       "min           0.00\n",
       "25%        6793.00\n",
       "50%       10998.00\n",
       "75%       19995.00\n",
       "max     1000040.00\n",
       "Name: price, dtype: float64"
      ]
     },
     "execution_count": 84,
     "metadata": {},
     "output_type": "execute_result"
    }
   ],
   "source": [
    "pd.set_option('display.float_format', '{:.2f}'.format)\n",
    "final.price.describe()"
   ]
  },
  {
   "cell_type": "code",
   "execution_count": 103,
   "metadata": {
    "scrolled": false
   },
   "outputs": [
    {
     "data": {
      "image/png": "[encoded data removed]",
      "text/plain": [
       "<Figure size 864x432 with 1 Axes>"
      ]
     },
     "metadata": {},
     "output_type": "display_data"
    }
   ],
   "source": [
    "plt.figure(figsize =(12,6))\n",
    "sns.distplot(final['price'], kde= True, bins=300, color ='#FF5A5F')\n",
    "plt.ticklabel_format(style='plain', axis='y')\n",
    "plt.ticklabel_format(style='plain', axis='x')\n",
    "plt.tight_layout()\n",
    "plt.ylabel('Frequency', fontsize=15)\n",
    "plt.xlabel('Price(¥)', fontsize=15)\n",
    "plt.title('Distribution of Listing Price', fontsize = 20);"
   ]
  },
  {
   "cell_type": "code",
   "execution_count": 86,
   "metadata": {},
   "outputs": [
    {
     "data": {
      "image/png": "[encoded data removed]",
      "text/plain": [
       "<Figure size 864x432 with 1 Axes>"
      ]
     },
     "metadata": {
      "needs_background": "light"
     },
     "output_type": "display_data"
    }
   ],
   "source": [
    "plt.figure(figsize =(12,6))\n",
    "final['price'].hist(bins=[0,5000,10000,15000,20000,25000,30000,35000,40000,45000,50000,55000,\n",
    "                           60000,65000,70000,75000,80000,85000,90000,95000,100000], color ='#FF5A5F')\n",
    "plt.tight_layout()\n",
    "plt.title('Distribution of Listing Prices Below 100,000¥', fontsize=20)\n",
    "plt.xlabel('Price(¥)', fontsize=15)\n",
    "plt.ylabel('Frequency', fontsize=15);"
   ]
  },
  {
   "cell_type": "code",
   "execution_count": 87,
   "metadata": {},
   "outputs": [
    {
     "data": {
      "text/html": [
       "<div>\n",
       "<style scoped>\n",
       "    .dataframe tbody tr th:only-of-type {\n",
       "        vertical-align: middle;\n",
       "    }\n",
       "\n",
       "    .dataframe tbody tr th {\n",
       "        vertical-align: top;\n",
       "    }\n",
       "\n",
       "    .dataframe thead th {\n",
       "        text-align: right;\n",
       "    }\n",
       "</style>\n",
       "<table border=\"1\" class=\"dataframe\">\n",
       "  <thead>\n",
       "    <tr style=\"text-align: right;\">\n",
       "      <th></th>\n",
       "      <th>id</th>\n",
       "      <th>host_id</th>\n",
       "      <th>host_since</th>\n",
       "      <th>host_response_time</th>\n",
       "      <th>host_response_rate</th>\n",
       "      <th>host_acceptance_rate</th>\n",
       "      <th>host_is_superhost</th>\n",
       "      <th>host_listings_count</th>\n",
       "      <th>host_identity_verified</th>\n",
       "      <th>neighbourhood_cleansed</th>\n",
       "      <th>...</th>\n",
       "      <th>review_scores_rating</th>\n",
       "      <th>review_scores_accuracy</th>\n",
       "      <th>review_scores_cleanliness</th>\n",
       "      <th>review_scores_checkin</th>\n",
       "      <th>review_scores_communication</th>\n",
       "      <th>review_scores_location</th>\n",
       "      <th>review_scores_value</th>\n",
       "      <th>instant_bookable</th>\n",
       "      <th>cancellation_policy</th>\n",
       "      <th>time_since_first_review</th>\n",
       "    </tr>\n",
       "  </thead>\n",
       "  <tbody>\n",
       "    <tr>\n",
       "      <th>4715</th>\n",
       "      <td>28502660</td>\n",
       "      <td>215140194</td>\n",
       "      <td>2018-09-13</td>\n",
       "      <td>within an hour</td>\n",
       "      <td>100%</td>\n",
       "      <td>100%</td>\n",
       "      <td>0</td>\n",
       "      <td>5</td>\n",
       "      <td>0</td>\n",
       "      <td>Shibuya Ku</td>\n",
       "      <td>...</td>\n",
       "      <td>100%</td>\n",
       "      <td>10</td>\n",
       "      <td>10</td>\n",
       "      <td>10</td>\n",
       "      <td>10</td>\n",
       "      <td>10</td>\n",
       "      <td>10</td>\n",
       "      <td>1</td>\n",
       "      <td>moderate</td>\n",
       "      <td>0 days</td>\n",
       "    </tr>\n",
       "    <tr>\n",
       "      <th>7872</th>\n",
       "      <td>34131770</td>\n",
       "      <td>255944040</td>\n",
       "      <td>2019-04-15</td>\n",
       "      <td>within an hour</td>\n",
       "      <td>100%</td>\n",
       "      <td>100%</td>\n",
       "      <td>0</td>\n",
       "      <td>1</td>\n",
       "      <td>0</td>\n",
       "      <td>Shibuya Ku</td>\n",
       "      <td>...</td>\n",
       "      <td>50-89%</td>\n",
       "      <td>8</td>\n",
       "      <td>8</td>\n",
       "      <td>9</td>\n",
       "      <td>9</td>\n",
       "      <td>9</td>\n",
       "      <td>8</td>\n",
       "      <td>1</td>\n",
       "      <td>strict</td>\n",
       "      <td>326 days</td>\n",
       "    </tr>\n",
       "    <tr>\n",
       "      <th>11168</th>\n",
       "      <td>39568514</td>\n",
       "      <td>300897462</td>\n",
       "      <td>2019-10-08</td>\n",
       "      <td>within an hour</td>\n",
       "      <td>100%</td>\n",
       "      <td>100%</td>\n",
       "      <td>1</td>\n",
       "      <td>2</td>\n",
       "      <td>1</td>\n",
       "      <td>Shibuya Ku</td>\n",
       "      <td>...</td>\n",
       "      <td>90-99%</td>\n",
       "      <td>10</td>\n",
       "      <td>10</td>\n",
       "      <td>10</td>\n",
       "      <td>10</td>\n",
       "      <td>9</td>\n",
       "      <td>9</td>\n",
       "      <td>1</td>\n",
       "      <td>strict</td>\n",
       "      <td>178 days</td>\n",
       "    </tr>\n",
       "    <tr>\n",
       "      <th>5815</th>\n",
       "      <td>30536245</td>\n",
       "      <td>229126645</td>\n",
       "      <td>2018-12-04</td>\n",
       "      <td>unknown</td>\n",
       "      <td>unknown</td>\n",
       "      <td>100%</td>\n",
       "      <td>0</td>\n",
       "      <td>1</td>\n",
       "      <td>0</td>\n",
       "      <td>Minato Ku</td>\n",
       "      <td>...</td>\n",
       "      <td>90-99%</td>\n",
       "      <td>10</td>\n",
       "      <td>9</td>\n",
       "      <td>10</td>\n",
       "      <td>10</td>\n",
       "      <td>9</td>\n",
       "      <td>9</td>\n",
       "      <td>1</td>\n",
       "      <td>strict</td>\n",
       "      <td>350 days</td>\n",
       "    </tr>\n",
       "    <tr>\n",
       "      <th>11579</th>\n",
       "      <td>40026354</td>\n",
       "      <td>150082965</td>\n",
       "      <td>2017-09-11</td>\n",
       "      <td>within an hour</td>\n",
       "      <td>100%</td>\n",
       "      <td>90-99%</td>\n",
       "      <td>0</td>\n",
       "      <td>6</td>\n",
       "      <td>0</td>\n",
       "      <td>Toshima Ku</td>\n",
       "      <td>...</td>\n",
       "      <td>50-89%</td>\n",
       "      <td>9</td>\n",
       "      <td>10</td>\n",
       "      <td>9</td>\n",
       "      <td>9</td>\n",
       "      <td>9</td>\n",
       "      <td>9</td>\n",
       "      <td>1</td>\n",
       "      <td>moderate</td>\n",
       "      <td>140 days</td>\n",
       "    </tr>\n",
       "    <tr>\n",
       "      <th>...</th>\n",
       "      <td>...</td>\n",
       "      <td>...</td>\n",
       "      <td>...</td>\n",
       "      <td>...</td>\n",
       "      <td>...</td>\n",
       "      <td>...</td>\n",
       "      <td>...</td>\n",
       "      <td>...</td>\n",
       "      <td>...</td>\n",
       "      <td>...</td>\n",
       "      <td>...</td>\n",
       "      <td>...</td>\n",
       "      <td>...</td>\n",
       "      <td>...</td>\n",
       "      <td>...</td>\n",
       "      <td>...</td>\n",
       "      <td>...</td>\n",
       "      <td>...</td>\n",
       "      <td>...</td>\n",
       "      <td>...</td>\n",
       "      <td>...</td>\n",
       "    </tr>\n",
       "    <tr>\n",
       "      <th>9429</th>\n",
       "      <td>36993816</td>\n",
       "      <td>215606612</td>\n",
       "      <td>2018-09-16</td>\n",
       "      <td>within an hour</td>\n",
       "      <td>100%</td>\n",
       "      <td>100%</td>\n",
       "      <td>0</td>\n",
       "      <td>42</td>\n",
       "      <td>0</td>\n",
       "      <td>Toshima Ku</td>\n",
       "      <td>...</td>\n",
       "      <td>90-99%</td>\n",
       "      <td>10</td>\n",
       "      <td>10</td>\n",
       "      <td>9</td>\n",
       "      <td>9</td>\n",
       "      <td>10</td>\n",
       "      <td>9</td>\n",
       "      <td>1</td>\n",
       "      <td>strict</td>\n",
       "      <td>198 days</td>\n",
       "    </tr>\n",
       "    <tr>\n",
       "      <th>9431</th>\n",
       "      <td>36994756</td>\n",
       "      <td>215606612</td>\n",
       "      <td>2018-09-16</td>\n",
       "      <td>within an hour</td>\n",
       "      <td>100%</td>\n",
       "      <td>100%</td>\n",
       "      <td>0</td>\n",
       "      <td>42</td>\n",
       "      <td>0</td>\n",
       "      <td>Toshima Ku</td>\n",
       "      <td>...</td>\n",
       "      <td>90-99%</td>\n",
       "      <td>10</td>\n",
       "      <td>10</td>\n",
       "      <td>9</td>\n",
       "      <td>9</td>\n",
       "      <td>10</td>\n",
       "      <td>10</td>\n",
       "      <td>1</td>\n",
       "      <td>strict</td>\n",
       "      <td>225 days</td>\n",
       "    </tr>\n",
       "    <tr>\n",
       "      <th>313</th>\n",
       "      <td>7620544</td>\n",
       "      <td>39969626</td>\n",
       "      <td>2015-07-29</td>\n",
       "      <td>unknown</td>\n",
       "      <td>unknown</td>\n",
       "      <td>100%</td>\n",
       "      <td>1</td>\n",
       "      <td>3</td>\n",
       "      <td>1</td>\n",
       "      <td>Adachi Ku</td>\n",
       "      <td>...</td>\n",
       "      <td>90-99%</td>\n",
       "      <td>10</td>\n",
       "      <td>10</td>\n",
       "      <td>10</td>\n",
       "      <td>10</td>\n",
       "      <td>9</td>\n",
       "      <td>10</td>\n",
       "      <td>1</td>\n",
       "      <td>moderate</td>\n",
       "      <td>643 days</td>\n",
       "    </tr>\n",
       "    <tr>\n",
       "      <th>5529</th>\n",
       "      <td>30023363</td>\n",
       "      <td>208133335</td>\n",
       "      <td>2018-08-07</td>\n",
       "      <td>within a few hours</td>\n",
       "      <td>100%</td>\n",
       "      <td>100%</td>\n",
       "      <td>1</td>\n",
       "      <td>3</td>\n",
       "      <td>0</td>\n",
       "      <td>Shinjuku Ku</td>\n",
       "      <td>...</td>\n",
       "      <td>100%</td>\n",
       "      <td>10</td>\n",
       "      <td>10</td>\n",
       "      <td>10</td>\n",
       "      <td>10</td>\n",
       "      <td>10</td>\n",
       "      <td>8</td>\n",
       "      <td>1</td>\n",
       "      <td>strict</td>\n",
       "      <td>0 days</td>\n",
       "    </tr>\n",
       "    <tr>\n",
       "      <th>4599</th>\n",
       "      <td>28291588</td>\n",
       "      <td>207648019</td>\n",
       "      <td>2018-08-05</td>\n",
       "      <td>within an hour</td>\n",
       "      <td>100%</td>\n",
       "      <td>90-99%</td>\n",
       "      <td>0</td>\n",
       "      <td>9</td>\n",
       "      <td>0</td>\n",
       "      <td>Bunkyo Ku</td>\n",
       "      <td>...</td>\n",
       "      <td>90-99%</td>\n",
       "      <td>10</td>\n",
       "      <td>9</td>\n",
       "      <td>10</td>\n",
       "      <td>10</td>\n",
       "      <td>9</td>\n",
       "      <td>8</td>\n",
       "      <td>0</td>\n",
       "      <td>strict</td>\n",
       "      <td>282 days</td>\n",
       "    </tr>\n",
       "  </tbody>\n",
       "</table>\n",
       "<p>193 rows × 44 columns</p>\n",
       "</div>"
      ],
      "text/plain": [
       "             id    host_id host_since  host_response_time host_response_rate  \\\n",
       "4715   28502660  215140194 2018-09-13      within an hour               100%   \n",
       "7872   34131770  255944040 2019-04-15      within an hour               100%   \n",
       "11168  39568514  300897462 2019-10-08      within an hour               100%   \n",
       "5815   30536245  229126645 2018-12-04             unknown            unknown   \n",
       "11579  40026354  150082965 2017-09-11      within an hour               100%   \n",
       "...         ...        ...        ...                 ...                ...   \n",
       "9429   36993816  215606612 2018-09-16      within an hour               100%   \n",
       "9431   36994756  215606612 2018-09-16      within an hour               100%   \n",
       "313     7620544   39969626 2015-07-29             unknown            unknown   \n",
       "5529   30023363  208133335 2018-08-07  within a few hours               100%   \n",
       "4599   28291588  207648019 2018-08-05      within an hour               100%   \n",
       "\n",
       "      host_acceptance_rate  host_is_superhost  host_listings_count  \\\n",
       "4715                  100%                  0                    5   \n",
       "7872                  100%                  0                    1   \n",
       "11168                 100%                  1                    2   \n",
       "5815                  100%                  0                    1   \n",
       "11579               90-99%                  0                    6   \n",
       "...                    ...                ...                  ...   \n",
       "9429                  100%                  0                   42   \n",
       "9431                  100%                  0                   42   \n",
       "313                   100%                  1                    3   \n",
       "5529                  100%                  1                    3   \n",
       "4599                90-99%                  0                    9   \n",
       "\n",
       "       host_identity_verified neighbourhood_cleansed  ...  \\\n",
       "4715                        0             Shibuya Ku  ...   \n",
       "7872                        0             Shibuya Ku  ...   \n",
       "11168                       1             Shibuya Ku  ...   \n",
       "5815                        0              Minato Ku  ...   \n",
       "11579                       0             Toshima Ku  ...   \n",
       "...                       ...                    ...  ...   \n",
       "9429                        0             Toshima Ku  ...   \n",
       "9431                        0             Toshima Ku  ...   \n",
       "313                         1              Adachi Ku  ...   \n",
       "5529                        0            Shinjuku Ku  ...   \n",
       "4599                        0              Bunkyo Ku  ...   \n",
       "\n",
       "      review_scores_rating  review_scores_accuracy review_scores_cleanliness  \\\n",
       "4715                  100%                      10                        10   \n",
       "7872                50-89%                       8                         8   \n",
       "11168               90-99%                      10                        10   \n",
       "5815                90-99%                      10                         9   \n",
       "11579               50-89%                       9                        10   \n",
       "...                    ...                     ...                       ...   \n",
       "9429                90-99%                      10                        10   \n",
       "9431                90-99%                      10                        10   \n",
       "313                 90-99%                      10                        10   \n",
       "5529                  100%                      10                        10   \n",
       "4599                90-99%                      10                         9   \n",
       "\n",
       "      review_scores_checkin  review_scores_communication  \\\n",
       "4715                     10                           10   \n",
       "7872                      9                            9   \n",
       "11168                    10                           10   \n",
       "5815                     10                           10   \n",
       "11579                     9                            9   \n",
       "...                     ...                          ...   \n",
       "9429                      9                            9   \n",
       "9431                      9                            9   \n",
       "313                      10                           10   \n",
       "5529                     10                           10   \n",
       "4599                     10                           10   \n",
       "\n",
       "       review_scores_location  review_scores_value  instant_bookable  \\\n",
       "4715                       10                   10                 1   \n",
       "7872                        9                    8                 1   \n",
       "11168                       9                    9                 1   \n",
       "5815                        9                    9                 1   \n",
       "11579                       9                    9                 1   \n",
       "...                       ...                  ...               ...   \n",
       "9429                       10                    9                 1   \n",
       "9431                       10                   10                 1   \n",
       "313                         9                   10                 1   \n",
       "5529                       10                    8                 1   \n",
       "4599                        9                    8                 0   \n",
       "\n",
       "      cancellation_policy  time_since_first_review  \n",
       "4715             moderate                   0 days  \n",
       "7872               strict                 326 days  \n",
       "11168              strict                 178 days  \n",
       "5815               strict                 350 days  \n",
       "11579            moderate                 140 days  \n",
       "...                   ...                      ...  \n",
       "9429               strict                 198 days  \n",
       "9431               strict                 225 days  \n",
       "313              moderate                 643 days  \n",
       "5529               strict                   0 days  \n",
       "4599               strict                 282 days  \n",
       "\n",
       "[193 rows x 44 columns]"
      ]
     },
     "execution_count": 87,
     "metadata": {},
     "output_type": "execute_result"
    }
   ],
   "source": [
    "final[final['price'] == 0]\n",
    "final[final['price'] > 100000].sort_values(by='price', ascending=False)"
   ]
  },
  {
   "cell_type": "code",
   "execution_count": 88,
   "metadata": {},
   "outputs": [
    {
     "data": {
      "text/plain": [
       "Shinjuku Ku    2224\n",
       "Taito Ku       1618\n",
       "Toshima Ku     1342\n",
       "Sumida Ku      1091\n",
       "Shibuya Ku      883\n",
       "Name: neighbourhood_cleansed, dtype: int64"
      ]
     },
     "execution_count": 88,
     "metadata": {},
     "output_type": "execute_result"
    }
   ],
   "source": [
    "top_neighbourhood = final.neighbourhood_cleansed.value_counts().head()\n",
    "top_neighbourhood"
   ]
  },
  {
   "cell_type": "code",
   "execution_count": 89,
   "metadata": {
    "scrolled": true
   },
   "outputs": [
    {
     "data": {
      "image/png": "[encoded data removed]",
      "text/plain": [
       "<Figure size 432x288 with 1 Axes>"
      ]
     },
     "metadata": {
      "needs_background": "light"
     },
     "output_type": "display_data"
    }
   ],
   "source": [
    "#creating a sub-dataframe with no extreme values / less than 500\n",
    "\n",
    "data = final[final.price < 60_000]\n",
    "\n",
    "#using violinplot to showcase density and distribtuion of prices \n",
    "sns.violinplot(data=data , x='neighbourhood_cleansed', y='price');"
   ]
  },
  {
   "cell_type": "markdown",
   "metadata": {},
   "source": [
    "<div class=\"alert alert-block alert-success\">\n",
    "\n",
    "<b>Observation:</b>\n",
    "\n",
    "There seem to have listing that are of zero value. On top of that, there are listing that are listed at outrages price\n",
    "\n",
    "</div>"
   ]
  },
  {
   "cell_type": "markdown",
   "metadata": {},
   "source": [
    "<div class=\"alert alert-block alert-warning\">\n",
    "\n",
    "<b>To Do:</b>\n",
    "\n",
    "Remove Outlier:\n",
    "\n",
    "- to drop prices that are priced at zero \n",
    "- to drop outrages price listings\n",
    "\n",
    "</div>"
   ]
  },
  {
   "cell_type": "markdown",
   "metadata": {},
   "source": [
    "##### Review_Scores"
   ]
  },
  {
   "cell_type": "code",
   "execution_count": 90,
   "metadata": {},
   "outputs": [
    {
     "data": {
      "image/png": "[encoded data removed]",
      "text/plain": [
       "<Figure size 864x576 with 7 Axes>"
      ]
     },
     "metadata": {
      "needs_background": "light"
     },
     "output_type": "display_data"
    }
   ],
   "source": [
    "review_col = list(final.columns[final.columns.str.startswith(\"review_scores\") == True])\n",
    "\n",
    "fig = plt.figure(figsize=(12,8))\n",
    "for i, var_name in enumerate(review_col):\n",
    "    ax = fig.add_subplot(3,3,i+1)\n",
    "    final[var_name].hist(bins=10, ax=ax, color = '#FF5A5F')\n",
    "    ax.set_title(var_name)\n",
    "    \n",
    "fig.tight_layout()"
   ]
  },
  {
   "cell_type": "markdown",
   "metadata": {},
   "source": [
    "## 3. Time Series Analysis"
   ]
  },
  {
   "cell_type": "markdown",
   "metadata": {},
   "source": [
    "##### a. Time Since First Review"
   ]
  },
  {
   "cell_type": "code",
   "execution_count": 91,
   "metadata": {},
   "outputs": [],
   "source": [
    "# final['time_since_first_review'] = final.last_review - final.first_review\n",
    "# final.time_since_first_review.hist(figsize=(11,9), bins=30);"
   ]
  },
  {
   "cell_type": "markdown",
   "metadata": {},
   "source": [
    "## 4. Multicollinearity"
   ]
  },
  {
   "cell_type": "code",
   "execution_count": 92,
   "metadata": {
    "scrolled": false
   },
   "outputs": [
    {
     "data": {
      "image/png": "[encoded data removed]",
      "text/plain": [
       "<Figure size 1440x720 with 2 Axes>"
      ]
     },
     "metadata": {},
     "output_type": "display_data"
    }
   ],
   "source": [
    "sns.set(style=\"white\")\n",
    "\n",
    "corr = final.corr()\n",
    "\n",
    "mask = np.zeros_like(corr, dtype=np.bool)\n",
    "mask[np.triu_indices_from(mask)] = True\n",
    "\n",
    "fig, ax = plt.subplots(figsize=(20,10))\n",
    "\n",
    "cmap = sns.diverging_palette(220, 10, as_cmap=True)\n",
    "\n",
    "sns.heatmap(corr, \n",
    "            mask=mask, \n",
    "            cmap=cmap, \n",
    "            center=0, \n",
    "            square=True, \n",
    "            linewidths=.5, \n",
    "            cbar_kws={\"shrink\": .5}, \n",
    "            vmax=corr[corr != 1.0].max().max())\n",
    "\n",
    "ax.set_title('Collinearity between Features', fontsize=20);"
   ]
  },
  {
   "cell_type": "code",
   "execution_count": 93,
   "metadata": {},
   "outputs": [
    {
     "data": {
      "image/png": "[encoded data removed]",
      "text/plain": [
       "<Figure size 792x648 with 2 Axes>"
      ]
     },
     "metadata": {},
     "output_type": "display_data"
    }
   ],
   "source": [
    "fig = plt.figure(figsize=(11,9))\n",
    "\n",
    "cmap = sns.diverging_palette(220, 10, as_cmap=True)\n",
    "\n",
    "sns.heatmap(final.corr()[['price']].sort_values(by='price', ascending=False), \n",
    "            cmap=cmap, \n",
    "            center=0, \n",
    "            annot=True)\n",
    "\n",
    "plt.title('Correlation with price', fontsize=20)\n",
    "y_min, y_max = ax.get_ylim() \n",
    "x_min, x_max = ax.get_xlim()\n",
    "ax.set_ylim(top=y_max+1) \n",
    "ax.set_xlim(right=x_max-1);"
   ]
  },
  {
   "cell_type": "markdown",
   "metadata": {},
   "source": [
    "<div class=\"alert alert-block alert-warning\">\n",
    "\n",
    "<b>EDA PLOTS:</b> \n",
    "\n",
    "1. Distribution of Review scores \n",
    "\n",
    "2. Distribution of listings based on neighbourhood in Tokyo\n",
    "    - total number of listing (y-axis)\n",
    "    - neighbourhood in Tokyo (x-axis)\n",
    "    \n",
    "3. Popularity of room types in property types\n",
    "\n",
    "4. see if there is any trend on bookings? (seasonality)\n",
    "\n",
    "5. listings per host\n",
    "\n",
    "6. property, room type on price\n",
    "    \n",
    "\n",
    "</div>"
   ]
  },
  {
   "cell_type": "markdown",
   "metadata": {},
   "source": [
    "### <span style='background:yellow'> 5. Feature Engineering </span> "
   ]
  },
  {
   "cell_type": "markdown",
   "metadata": {},
   "source": [
    "##### a. Categorical Variables"
   ]
  },
  {
   "cell_type": "code",
   "execution_count": null,
   "metadata": {},
   "outputs": [],
   "source": [
    "# final = pd.get_dummies(final, columns=['property_type',\n",
    "#                                            'room_type',\n",
    "#                                            'cancellation_policy', \n",
    "#                                            'neighbourhood_cleansed',\n",
    "#                                            'host_response_time'], \n",
    "#                          drop_first = False)\n",
    "# final.shape"
   ]
  },
  {
   "cell_type": "markdown",
   "metadata": {},
   "source": [
    "##### b. Amenities"
   ]
  },
  {
   "cell_type": "code",
   "execution_count": null,
   "metadata": {
    "scrolled": true
   },
   "outputs": [],
   "source": [
    "all_amenities = final['amenities'].str.get_dummies(sep=',')"
   ]
  },
  {
   "cell_type": "code",
   "execution_count": null,
   "metadata": {},
   "outputs": [],
   "source": [
    "all_amenities = pd.concat([final.price, all_amenities], axis=1)"
   ]
  },
  {
   "cell_type": "code",
   "execution_count": null,
   "metadata": {},
   "outputs": [],
   "source": [
    "all_amenities.head()"
   ]
  },
  {
   "cell_type": "code",
   "execution_count": null,
   "metadata": {},
   "outputs": [],
   "source": [
    "sns.set(style=\"white\")\n",
    "\n",
    "corr = all_amenities.corr()\n",
    "\n",
    "mask = np.zeros_like(corr, dtype=np.bool)\n",
    "mask[np.triu_indices_from(mask)] = True\n",
    "\n",
    "fig, ax = plt.subplots(figsize=(20,20))\n",
    "\n",
    "cmap = sns.diverging_palette(220, 10, as_cmap=True)\n",
    "\n",
    "sns.heatmap(corr, \n",
    "            mask=mask, \n",
    "            cmap=cmap, \n",
    "            center=0, \n",
    "            square=True, \n",
    "            linewidths=.5, \n",
    "            cbar_kws={\"shrink\": .5}, \n",
    "            vmax=corr[corr != 1.0].max().max());\n",
    "\n",
    "ax.set_title('Collinearity between Amenities', fontsize=20);"
   ]
  }
 ],
 "metadata": {
  "kernelspec": {
   "display_name": "Python 3",
   "language": "python",
   "name": "python3"
  },
  "language_info": {
   "codemirror_mode": {
    "name": "ipython",
    "version": 3
   },
   "file_extension": ".py",
   "mimetype": "text/x-python",
   "name": "python",
   "nbconvert_exporter": "python",
   "pygments_lexer": "ipython3",
   "version": "3.7.4"
  }
 },
 "nbformat": 4,
 "nbformat_minor": 2
}
