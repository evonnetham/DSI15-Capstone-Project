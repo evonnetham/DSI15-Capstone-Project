{
 "cells": [
  {
   "cell_type": "markdown",
   "metadata": {},
   "source": [
    "# Capstone: Airbnb Price Listing Prediction\n",
    "## Part 2 Full EDA and Time Series Analysis\n",
    "\n",
    "_Authors: Evonne Tham_"
   ]
  },
  {
   "cell_type": "markdown",
   "metadata": {},
   "source": [
    "##  1. Import Necessary Libraries & Load Data "
   ]
  },
  {
   "cell_type": "code",
   "execution_count": null,
   "metadata": {},
   "outputs": [],
   "source": [
    "import pandas as pd\n",
    "import numpy as np\n",
    "\n",
    "# Plots\n",
    "import matplotlib.pyplot as plt\n",
    "import seaborn as sns   \n",
    "%matplotlib inline\n",
    "\n",
    "# Geographical Analysis\n",
    "import geopandas as gpd\n",
    "\n",
    "#Hide warnings\n",
    "import warnings\n",
    "warnings.filterwarnings('ignore')"
   ]
  },
  {
   "cell_type": "code",
   "execution_count": null,
   "metadata": {},
   "outputs": [],
   "source": [
    "# Load in Data \n",
    "final = pd.read_csv('../datasets/final.csv')\n",
    "print(f\"Total Number of Listing: {final.shape[0]} | Total Number of Features: {final.shape[1]}\")\n",
    "final.head().T"
   ]
  },
  {
   "cell_type": "markdown",
   "metadata": {},
   "source": [
    "---\n",
    "##  2. Full Exploratory Analysis"
   ]
  },
  {
   "cell_type": "markdown",
   "metadata": {},
   "source": [
    "##### Price (Target Variable)"
   ]
  },
  {
   "cell_type": "code",
   "execution_count": null,
   "metadata": {
    "scrolled": true
   },
   "outputs": [],
   "source": [
    "print(f\"Nightly advertised prices range from {min(final.price)}¥ to {max(final.price)}¥.\")"
   ]
  },
  {
   "cell_type": "code",
   "execution_count": null,
   "metadata": {},
   "outputs": [],
   "source": [
    "# Distribution of prices up to 50_000 yen \n",
    "plt.figure(figsize=(15,5))\n",
    "\n",
    "final.price.hist(bins=100, \n",
    "                 range=(0, 50_000),\n",
    "                 color ='#FF5A5F')\n",
    "\n",
    "plt.margins(x=0)\n",
    "plt.title(\"Airbnb advertised nightly prices in Tokyo up to 50000¥\", fontsize=20)\n",
    "plt.xlabel(\"Price (¥)\", fontsize=15)\n",
    "plt.ylabel(\"Number of listings\", fontsize=15);"
   ]
  },
  {
   "cell_type": "code",
   "execution_count": null,
   "metadata": {},
   "outputs": [],
   "source": [
    "# Distribution of prices up to 50_000 yen \n",
    "plt.figure(figsize=(15,5))\n",
    "\n",
    "final.price.hist(bins=100, \n",
    "                 range=(50_000, max(final.price)),\n",
    "                 color ='#FF5A5F')\n",
    "\n",
    "plt.title(\"Airbnb advertised nightly prices in Tokyo above 50000¥\", fontsize=20)\n",
    "plt.xlabel(\"Price (¥)\", fontsize=15)\n",
    "plt.ylabel(\"Number of listings\", fontsize=15);"
   ]
  },
  {
   "cell_type": "code",
   "execution_count": null,
   "metadata": {
    "scrolled": false
   },
   "outputs": [],
   "source": [
    "plt.figure(figsize =(15,5))\n",
    "\n",
    "sns.boxplot(final.price, color = '#FF5A5F')\n",
    "plt.title('Price Boxplot With Extreme Outliers', fontsize=20)\n",
    "plt.xlabel('Price (¥)', fontsize = 15);"
   ]
  },
  {
   "cell_type": "markdown",
   "metadata": {},
   "source": [
    "_There are quite a number of listing that are price above 100000 yen. Hence I will be leaving those untouch and drop those that are priced above that and are of lesser frequency._\n"
   ]
  },
  {
   "cell_type": "markdown",
   "metadata": {},
   "source": [
    "<img src=\"../image/listing_over_100000.png\"\n",
    "\ttitle=\"Listing over 100000¥\" width=\"1050\" height=\"1000\" />"
   ]
  },
  {
   "cell_type": "code",
   "execution_count": null,
   "metadata": {},
   "outputs": [],
   "source": [
    "# Drop rows that are listed above 100000 Yen\n",
    "final.drop(final[final['price'] > 100_000].index, inplace=True)"
   ]
  },
  {
   "cell_type": "code",
   "execution_count": null,
   "metadata": {},
   "outputs": [],
   "source": [
    "plt.figure(figsize =(15,5))\n",
    "\n",
    "sns.boxplot(final.price, color = '#FF5A5F')\n",
    "plt.title('Price Boxplot Without Extreme Outliers', fontsize=20)\n",
    "plt.xlabel('Price (¥)', fontsize = 15);"
   ]
  },
  {
   "cell_type": "markdown",
   "metadata": {},
   "source": [
    "<div class=\"alert alert-block alert-info\">\n",
    "\n",
    "<b>Observation:</b> Listing prices have a right skewed distribution\n",
    "</div>"
   ]
  },
  {
   "cell_type": "markdown",
   "metadata": {},
   "source": [
    "---\n",
    "##### Host"
   ]
  },
  {
   "cell_type": "code",
   "execution_count": null,
   "metadata": {
    "scrolled": true
   },
   "outputs": [],
   "source": [
    "def binary_count_and_price_plot(col, figsize=(15,4)):\n",
    "    \"\"\"\n",
    "    Plots a simple bar chart of the counts of true and false categories in the column specified,\n",
    "    next to a bar chart of the median price for each category.\n",
    "    A figure size can optionally be specified.\n",
    "    \"\"\"\n",
    "    fig, (ax1, ax2) = plt.subplots(1, 2, figsize=figsize)\n",
    "    fig.suptitle(col, fontsize=16, y=1)\n",
    "    plt.subplots_adjust(top=0.80) # So that the suptitle does not overlap with the ax plot titles\n",
    "    \n",
    "    final.groupby(col).size().plot(kind='bar', ax=ax1, color=['#FF5A5F', '#00A699'])\n",
    "    ax1.set_xticklabels(labels=['false', 'true'], rotation=0)\n",
    "    ax1.set_title('Category count')\n",
    "    ax1.set_xlabel('')\n",
    "    \n",
    "    final.groupby(col).price.median().plot(kind='bar', ax=ax2, color=['#FF5A5F', '#00A699'])\n",
    "    ax2.set_xticklabels(labels=['false', 'true'], rotation=0)\n",
    "    ax2.set_title('Median price (£)')\n",
    "    ax2.set_xlabel('')\n",
    "    \n",
    "    plt.show()\n",
    "\n",
    "binary_count_and_price_plot('host_is_superhost')\n",
    "print(final.host_is_superhost.value_counts(normalize=True));"
   ]
  },
  {
   "cell_type": "code",
   "execution_count": null,
   "metadata": {},
   "outputs": [],
   "source": [
    "binary_count_and_price_plot('host_identity_verified')\n",
    "print(final.host_identity_verified.value_counts(normalize=True));"
   ]
  },
  {
   "cell_type": "markdown",
   "metadata": {},
   "source": [
    "<div class=\"alert alert-block alert-info\">\n",
    "\n",
    "<b>Observation:</b> About 37% of hosts are superhosts and about 20% of hosts are verified. However, it does not seem to improve the median price per night of their Airbnb listings.\n",
    "</div>"
   ]
  },
  {
   "cell_type": "markdown",
   "metadata": {},
   "source": [
    "---\n",
    "##### Host Listing Count"
   ]
  },
  {
   "cell_type": "code",
   "execution_count": null,
   "metadata": {
    "scrolled": false
   },
   "outputs": [],
   "source": [
    "plt.figure(figsize=(16,5))\n",
    "plt.hist(final['host_listings_count'], bins=30, color ='#FF5A5F')\n",
    "plt.title('Distribution of Host Listings Count', fontsize=20)\n",
    "plt.xlabel('Number of Listing a Host has', fontsize=15)\n",
    "plt.ylabel('Number of Host', fontsize=15);"
   ]
  },
  {
   "cell_type": "code",
   "execution_count": null,
   "metadata": {},
   "outputs": [],
   "source": [
    "final[final['host_listings_count']==0]"
   ]
  },
  {
   "cell_type": "code",
   "execution_count": null,
   "metadata": {},
   "outputs": [],
   "source": [
    "final.drop(final[final['host_listings_count']==0].index, inplace=True)\n",
    "final.shape"
   ]
  },
  {
   "cell_type": "code",
   "execution_count": null,
   "metadata": {},
   "outputs": [],
   "source": [
    "print(\"Median number of listings per host:\", int(final.host_listings_count.median()))\n",
    "print(\"Mean number of listings per host:\", int(round(final.host_listings_count.mean())))\n",
    "print(f\"{int(round(100*len(final[final.host_listings_count == 1])/len(final)))}% of listings are from hosts with one listing.\")"
   ]
  },
  {
   "cell_type": "markdown",
   "metadata": {},
   "source": [
    "<div class=\"alert alert-block alert-info\">\n",
    "\n",
    "<b>Assumption:</b> Listing which leaves host with zero listing counts are dropped. Assumption being these users signed up as host but have yet to list any property. Hence, it will not affect the prediction. \n",
    "\n",
    "<b>Observation:</b> According to the numbers above, it seems like hosts in Tokyo manages quite a number of properties. \n",
    "\n",
    "</div>"
   ]
  },
  {
   "cell_type": "code",
   "execution_count": null,
   "metadata": {
    "scrolled": false
   },
   "outputs": [],
   "source": [
    "top_host=final.host_id.value_counts().head(10)\n",
    "\n",
    "fig = plt.figure(1, figsize=(16,5))\n",
    "ax = fig.add_subplot(111)\n",
    "\n",
    "title = 'Hosts with the most listings in Tokyo'\n",
    "\n",
    "transparency = 0.7\n",
    "color = ['#FF5A5F', '#00A699', '#FC642D']\n",
    "\n",
    "top_host.plot(kind = 'bar', \n",
    "              color = color, \n",
    "              width = 0.9,\n",
    "              title = title)\n",
    "\n",
    "ax.grid(False)\n",
    "ax.set_frame_on(False)\n",
    "\n",
    "ax.set_title(ax.get_title(), fontsize=20, alpha=transparency, ha='left')\n",
    "plt.subplots_adjust(top=0.9)\n",
    "ax.title.set_position((0,1.1))\n",
    "\n",
    "ax.xaxis.set_label_position('top')\n",
    "xlab = 'Hosts'\n",
    "ax.set_xlabel(xlab, fontsize=15, alpha=transparency, ha='left')\n",
    "ax.xaxis.set_label_coords(0, 1.01)\n",
    "plt.xticks(rotation=0)\n",
    "\n",
    "ylab = 'Listing Count'\n",
    "ax.set_ylabel(ylab, fontsize=15, alpha=transparency);"
   ]
  },
  {
   "cell_type": "markdown",
   "metadata": {},
   "source": [
    "<div class=\"alert alert-block alert-info\">\n",
    "\n",
    "<b>Observation:</b> These are the host with most number of listing in Tokyo. Host 75820284 has over 80 listings. \n",
    "\n",
    "\n",
    "</div>"
   ]
  },
  {
   "cell_type": "markdown",
   "metadata": {},
   "source": [
    "---\n",
    "##### Neighbourhod"
   ]
  },
  {
   "cell_type": "code",
   "execution_count": null,
   "metadata": {},
   "outputs": [],
   "source": [
    "# Create new dataframe for neighbourhood count\n",
    "neighbourhood_count = pd.DataFrame()\n",
    "neighbourhood_count['total_hosts'] = final['neighbourhood'].value_counts()\n",
    "\n",
    "# Filter out neighbourhood with less than 20 listings\n",
    "neighbourhood_count = neighbourhood_count[neighbourhood_count['total_hosts'] > 20]\n",
    "neighbourhood_count.sort_index(ascending=True, inplace=True)"
   ]
  },
  {
   "cell_type": "code",
   "execution_count": null,
   "metadata": {
    "scrolled": false
   },
   "outputs": [],
   "source": [
    "fig = plt.figure(1, figsize=(20,25))\n",
    "ax = fig.add_subplot(111)\n",
    "\n",
    "title=\"Distribution of listings based on neighbourhood in Tokyo\"\n",
    "\n",
    "transparency = 0.7\n",
    "cmap = sns.color_palette(\"autumn\")\n",
    "\n",
    "neighbourhood_count['total_hosts'].plot(kind = 'barh',\n",
    "                                        ax = ax,\n",
    "                                        color = cmap,\n",
    "                                        title = title, \n",
    "                                        width = 0.9)\n",
    "\n",
    "ax.grid(False)\n",
    "ax.set_frame_on(False)\n",
    "\n",
    "ax.set_title(ax.get_title(), fontsize=26, alpha=transparency, ha='left')\n",
    "plt.subplots_adjust(top=0.9)\n",
    "ax.title.set_position((0,1.04))\n",
    "\n",
    "ax.xaxis.set_label_position('top')\n",
    "xlab = 'Total number of listings'\n",
    "ax.set_xlabel(xlab, fontsize=20, alpha=transparency, ha='left')\n",
    "ax.xaxis.set_label_coords(0, 1.02)\n",
    "ax.xaxis.tick_top()\n",
    "\n",
    "ylab = 'Neighbourhood in Tokyo'\n",
    "ax.set_ylabel(ylab, fontsize=20, alpha=transparency);"
   ]
  },
  {
   "cell_type": "markdown",
   "metadata": {},
   "source": [
    "<div class=\"alert alert-block alert-info\">\n",
    "\n",
    "<b>Observation:</b> In the chart above, Shinjuku Ku, Taito Ku, Toshima Ku, Sumida Ku, and Shibuya Ku are listed to have the highest number of listing. With about 2000 listings in Shinjuku Ku alone. This is not surprising as Shinjuku Ku is only of the most popular spots to visit as a tourist.\n",
    "\n",
    "\n",
    "</div>"
   ]
  },
  {
   "cell_type": "code",
   "execution_count": null,
   "metadata": {},
   "outputs": [],
   "source": [
    "plt.figure(1, figsize=(15,5))\n",
    "sns.violinplot('neighbourhood', 'price', data=final)\n",
    "plt.xticks(rotation=90);"
   ]
  },
  {
   "cell_type": "markdown",
   "metadata": {},
   "source": [
    "---\n",
    "##### Property Type"
   ]
  },
  {
   "cell_type": "code",
   "execution_count": null,
   "metadata": {
    "scrolled": false
   },
   "outputs": [],
   "source": [
    "fig = plt.figure(1, figsize=(16,5))\n",
    "ax = fig.add_subplot(111)\n",
    "\n",
    "title = 'Property Type'\n",
    "\n",
    "transparency = 0.7\n",
    "color = sns.color_palette(\"autumn\")\n",
    "\n",
    "final['property_type'].value_counts().plot(kind='bar', \n",
    "                                           color = color, \n",
    "                                           width = 0.9,\n",
    "                                           title = title)\n",
    "\n",
    "ax.grid(False)\n",
    "ax.set_frame_on(False)\n",
    "\n",
    "ax.set_title(ax.get_title(), fontsize=20, alpha=transparency, ha='left')\n",
    "plt.subplots_adjust(top=0.9)\n",
    "ax.title.set_position((0,1.04))\n",
    "\n",
    "ylab = 'Listing Count'\n",
    "ax.set_ylabel(ylab, fontsize=15, alpha=transparency);"
   ]
  },
  {
   "cell_type": "code",
   "execution_count": null,
   "metadata": {},
   "outputs": [],
   "source": [
    "print(final.property_type.value_counts(normalize=True))"
   ]
  },
  {
   "cell_type": "markdown",
   "metadata": {},
   "source": [
    "<div class=\"alert alert-block alert-info\">\n",
    "\n",
    "<b>Observation:</b> Most common listings property type: Apartment (More than 61%)\n",
    "\n",
    "\n",
    "</div>"
   ]
  },
  {
   "cell_type": "markdown",
   "metadata": {},
   "source": [
    "---\n",
    "##### Room Type"
   ]
  },
  {
   "cell_type": "code",
   "execution_count": null,
   "metadata": {
    "scrolled": false
   },
   "outputs": [],
   "source": [
    "fig = plt.figure(1, figsize=(15,5))\n",
    "ax = fig.add_subplot(111)\n",
    "\n",
    "title = 'Room Type'\n",
    "\n",
    "transparency = 0.7\n",
    "color = sns.color_palette(\"autumn\")\n",
    "\n",
    "final['room_type'].value_counts().plot(kind='bar',\n",
    "                                       color = color,\n",
    "                                       width = 0.9, \n",
    "                                       title = title)\n",
    "\n",
    "ax.grid(False)\n",
    "ax.set_frame_on(False)\n",
    "\n",
    "ax.set_title(ax.get_title(), fontsize=20, alpha=transparency, ha='left')\n",
    "plt.subplots_adjust(top=0.9)\n",
    "ax.title.set_position((0,1.04))\n",
    "plt.xticks(rotation=0)\n",
    "\n",
    "ylab = 'Listing Count'\n",
    "ax.set_ylabel(ylab, fontsize=15, alpha=transparency);\n",
    "print()"
   ]
  },
  {
   "cell_type": "code",
   "execution_count": null,
   "metadata": {
    "scrolled": true
   },
   "outputs": [],
   "source": [
    "print(final.room_type.value_counts(normalize=True))"
   ]
  },
  {
   "cell_type": "markdown",
   "metadata": {},
   "source": [
    "<div class=\"alert alert-block alert-info\">\n",
    "\n",
    "<b>Observation:</b> With more than 11000 listing, about 8000 of them are entire_home_apt and only 20% are private room. \n",
    "\n",
    "</div>"
   ]
  },
  {
   "cell_type": "markdown",
   "metadata": {},
   "source": [
    "---\n",
    "##### Property Vs Room Type"
   ]
  },
  {
   "cell_type": "code",
   "execution_count": null,
   "metadata": {},
   "outputs": [],
   "source": [
    "# Create a dataframe with property_type and room_type\n",
    "property_room = final.groupby(['property_type','room_type']).room_type.count().unstack()\n",
    "\n",
    "# Sum up the total number of room types in a property type\n",
    "property_room['total'] = property_room.iloc[:,0:4].sum(axis = 1)\n",
    "property_room.sort_values(by='total', inplace=True)\n",
    "\n",
    "# Filter out properties that are less than 100\n",
    "property_room = property_room[property_room['total']>=100]\n",
    "property_room = property_room.drop(['total'], axis=1)"
   ]
  },
  {
   "cell_type": "code",
   "execution_count": null,
   "metadata": {},
   "outputs": [],
   "source": [
    "color = sns.color_palette(\"autumn\")\n",
    "\n",
    "property_room.plot(kind='barh',\n",
    "                   stacked=True, \n",
    "                   color = color,\n",
    "                   width=0.9,\n",
    "                   figsize=(13,5), \n",
    "                   alpha = 0.8)\n",
    "\n",
    "plt.title('Property vs Room Type', fontsize=20)\n",
    "plt.xlabel('Number of listings', fontsize=14)\n",
    "plt.ylabel(\"Property Type\", fontsize=15);"
   ]
  },
  {
   "cell_type": "markdown",
   "metadata": {},
   "source": [
    "<div class=\"alert alert-block alert-info\">\n",
    "\n",
    "<b>Observation:</b> As shown in the figure above, most listings are categorised as apartments which comes in 3 top room types which are entire home, hotel room, and private room\n",
    "\n",
    "\n",
    "</div>"
   ]
  },
  {
   "cell_type": "markdown",
   "metadata": {},
   "source": [
    "---\n",
    "##### Accomodates"
   ]
  },
  {
   "cell_type": "code",
   "execution_count": null,
   "metadata": {
    "scrolled": true
   },
   "outputs": [],
   "source": [
    "fig = plt.figure(1, figsize=(16,5))\n",
    "ax = fig.add_subplot(111)\n",
    "\n",
    "title = 'Accomodates (Number of People)'\n",
    "\n",
    "transparency = 0.7\n",
    "color = sns.color_palette(\"autumn\")\n",
    "\n",
    "final['accommodates'].value_counts().sort_index().plot(kind='bar', \n",
    "                                             color = color, \n",
    "                                             width = 0.9, \n",
    "                                             title = title)\n",
    "\n",
    "ax.grid(False)\n",
    "ax.set_frame_on(False)\n",
    "\n",
    "ax.set_title(ax.get_title(), fontsize=20, alpha=transparency, ha='left')\n",
    "plt.subplots_adjust(top=0.9)\n",
    "ax.title.set_position((0,1.04))\n",
    "plt.xticks(rotation=0)\n",
    "\n",
    "ylab = 'Listing Count'\n",
    "ax.set_ylabel(ylab, fontsize=15, alpha=transparency);"
   ]
  },
  {
   "cell_type": "markdown",
   "metadata": {},
   "source": [
    "<div class=\"alert alert-block alert-info\">\n",
    "\n",
    "<b>Observation:</b> Most listings in Tokyo are for 2-4 people\n",
    "\n",
    "</div>"
   ]
  },
  {
   "cell_type": "code",
   "execution_count": null,
   "metadata": {
    "scrolled": false
   },
   "outputs": [],
   "source": [
    "plt.figure(figsize=(15, 10))\n",
    "\n",
    "color = '#FF5A5F'\n",
    "\n",
    "final.groupby('accommodates').price.mean().plot.barh(color = color, \n",
    "                                                     width=0.9)\n",
    "\n",
    "plt.title(\"Average price for accommodating different number of guests\", fontsize=20)\n",
    "plt.xlabel('Average price (¥)', fontsize=15)\n",
    "plt.ylabel('Neighbourhood in Tokyo', fontsize=15);"
   ]
  },
  {
   "cell_type": "markdown",
   "metadata": {},
   "source": [
    "<div class=\"alert alert-block alert-info\">\n",
    "\n",
    "<b>Observation:</b>\n",
    "\n",
    "\n",
    "</div>"
   ]
  },
  {
   "cell_type": "markdown",
   "metadata": {},
   "source": [
    "---\n",
    "##### Rooms"
   ]
  },
  {
   "cell_type": "code",
   "execution_count": null,
   "metadata": {},
   "outputs": [],
   "source": [
    "final[['bathrooms', 'bedrooms', 'beds']].hist(figsize=(8,6));"
   ]
  },
  {
   "cell_type": "markdown",
   "metadata": {},
   "source": [
    "##### Review_Scores"
   ]
  },
  {
   "cell_type": "code",
   "execution_count": null,
   "metadata": {},
   "outputs": [],
   "source": [
    "review_col = list(final.columns[final.columns.str.startswith(\"review_scores\") == True])\n",
    "\n",
    "fig = plt.figure(figsize=(12,8))\n",
    "for i, var_name in enumerate(review_col):\n",
    "    ax = fig.add_subplot(3,3,i+1)\n",
    "    final[var_name].hist(bins=10, ax=ax, color = '#FF5A5F')\n",
    "    ax.set_title(var_name)\n",
    "    \n",
    "fig.tight_layout()"
   ]
  },
  {
   "cell_type": "code",
   "execution_count": null,
   "metadata": {},
   "outputs": [],
   "source": [
    "review_group = pd.DataFrame(final.groupby('number_of_reviews').sum()['host_id'])\n",
    "most_reviewed = (review_group.sort_values('number_of_reviews', ascending=False)).head(10)\n",
    "most_reviewed['total_reviews'] = most_reviewed.index\n",
    "most_reviewed.reset_index(drop=True, inplace=True)\n",
    "most_reviewed"
   ]
  },
  {
   "cell_type": "markdown",
   "metadata": {},
   "source": [
    "---\n",
    "## 3. Geographical Analysis"
   ]
  },
  {
   "cell_type": "code",
   "execution_count": null,
   "metadata": {},
   "outputs": [],
   "source": [
    "tokyo_map = gpd.read_file('../datasets/japan/neighbourhoods.geojson')\n",
    "tokyo_map.head()"
   ]
  },
  {
   "cell_type": "code",
   "execution_count": null,
   "metadata": {},
   "outputs": [],
   "source": [
    "# Drop neighhourhood_group (None)\n",
    "tokyo_map.drop('neighbourhood_group', axis=1, inplace=True)\n",
    "\n",
    "# Create a dataframe for geographical analysis\n",
    "neighbourhood_df = pd.DataFrame(final.groupby('neighbourhood').size())\n",
    "neighbourhood_df.rename(columns={0: 'total_listings'}, inplace=True)\n",
    "neighbourhood_df['median_price'] = final.groupby('neighbourhood').price.median().values\n",
    "tokyo_map = tokyo_map.set_index('neighbourhood').join(neighbourhood_df)\n",
    "tokyo_map.head()"
   ]
  },
  {
   "cell_type": "code",
   "execution_count": null,
   "metadata": {},
   "outputs": [],
   "source": [
    "fig1, ax1 = plt.subplots(1, figsize=(15, 6))\n",
    "\n",
    "tokyo_map.plot(column='total_listings', \n",
    "               cmap='Blues', \n",
    "               ax=ax1)\n",
    "\n",
    "ax1.set_title('Number of Airbnb listings in neighbourhood', fontsize=14);"
   ]
  },
  {
   "cell_type": "code",
   "execution_count": null,
   "metadata": {},
   "outputs": [],
   "source": [
    "plt.figure(figsize=(15,8))\n",
    "sns.scatterplot(x = 'latitude', \n",
    "                y = 'longitude', \n",
    "                hue = 'property_type', \n",
    "                data = final, \n",
    "                alpha = 0.7)\n",
    "plt.title(\"Property Type\", fontsize=20);"
   ]
  },
  {
   "cell_type": "markdown",
   "metadata": {},
   "source": [
    "<div class=\"alert alert-block alert-info\">\n",
    "\n",
    "<b>Observation:</b> Judging from the this scatter plot, there is some listings that are pretty out of norm (based on latitude and longitute. Hence I will be dropping those.\n",
    "\n",
    "</div>"
   ]
  },
  {
   "cell_type": "code",
   "execution_count": null,
   "metadata": {},
   "outputs": [],
   "source": [
    "final.drop(final[final.latitude < 35].index, inplace=True)"
   ]
  },
  {
   "cell_type": "code",
   "execution_count": null,
   "metadata": {},
   "outputs": [],
   "source": [
    "# plot scatter\n",
    "plt.figure(figsize=(15,8))\n",
    "sns.scatterplot(x = 'latitude', \n",
    "                y = 'longitude', \n",
    "                hue = 'property_type', \n",
    "                data = final, \n",
    "                alpha = 0.7)\n",
    "plt.title(\"Property Type\", fontsize=20);"
   ]
  },
  {
   "cell_type": "code",
   "execution_count": null,
   "metadata": {},
   "outputs": [],
   "source": [
    "plt.figure(figsize=(15,9))\n",
    "sns.scatterplot(x = 'latitude', \n",
    "                y = 'longitude', \n",
    "                hue = 'room_type', \n",
    "                data = final)\n",
    "plt.title('Room Type', fontsize=20);"
   ]
  },
  {
   "cell_type": "code",
   "execution_count": null,
   "metadata": {},
   "outputs": [],
   "source": [
    "plt.figure(figsize=(15,8))\n",
    "sns.scatterplot(x = 'latitude', \n",
    "                y = 'longitude', \n",
    "                hue = 'availability_365', \n",
    "                data = final, \n",
    "                alpha = 0.7)\n",
    "plt.title(\"Availability 365\", fontsize=20);"
   ]
  },
  {
   "cell_type": "markdown",
   "metadata": {},
   "source": [
    "---\n",
    "##  3. Time Series Analysis"
   ]
  },
  {
   "cell_type": "markdown",
   "metadata": {},
   "source": [
    "##### a. Time Since First Review"
   ]
  },
  {
   "cell_type": "code",
   "execution_count": null,
   "metadata": {},
   "outputs": [],
   "source": [
    "# final['time_since_first_review'] = final.last_review - final.first_review\n",
    "# final.time_since_first_review.hist(figsize=(11,9), bins=30);"
   ]
  },
  {
   "cell_type": "markdown",
   "metadata": {},
   "source": [
    "---\n",
    "##### Save Final Dataframe"
   ]
  },
  {
   "cell_type": "code",
   "execution_count": null,
   "metadata": {},
   "outputs": [],
   "source": [
    "final.to_csv(\"../datasets/final_df.csv\", index = False)"
   ]
  },
  {
   "cell_type": "markdown",
   "metadata": {},
   "source": [
    "----> Proceed to the next notebook for Feature Engineering and Model Bench Mark"
   ]
  }
 ],
 "metadata": {
  "kernelspec": {
   "display_name": "Python 3",
   "language": "python",
   "name": "python3"
  },
  "language_info": {
   "codemirror_mode": {
    "name": "ipython",
    "version": 3
   },
   "file_extension": ".py",
   "mimetype": "text/x-python",
   "name": "python",
   "nbconvert_exporter": "python",
   "pygments_lexer": "ipython3",
   "version": "3.7.4"
  }
 },
 "nbformat": 4,
 "nbformat_minor": 2
}
