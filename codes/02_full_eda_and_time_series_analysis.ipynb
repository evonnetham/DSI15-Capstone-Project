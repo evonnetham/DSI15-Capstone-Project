{
 "cells": [
  {
   "cell_type": "markdown",
   "metadata": {},
   "source": [
    "# Capstone: Airbnb Price Listing Prediction\n",
    "##### Part 2 - Full EDA and Time Series Analysis\n",
    "\n",
    "_Authors: Evonne Tham_"
   ]
  },
  {
   "cell_type": "markdown",
   "metadata": {},
   "source": [
    "<div class=\"alert alert-block alert-warning\">\n",
    "\n",
    "\n",
    "<b>Checkin 3</b>\n",
    "\n",
    "The actual deliverable for this section is fairly small. You are expected to submit, via this Google form, a progress report detailing where you are with your Capstone. The format and content is up to you but, at a minimum, we expect the following:\n",
    "\n",
    "\n",
    "- ~~Do you have data fully in hand and if not, what blockers are you facing?~~\n",
    "- Have you done a full EDA on all of your data?\n",
    "- Have you begun the modeling process? How accurate are your predictions so far?\n",
    "- What blockers are you facing, including processing power, data acquisition, modeling difficulties, data cleaning, etc.? How can we help you overcome those challenges?\n",
    "- ~~Have you changed topics since your lightning talk? Since you submitted your Problem Statement and EDA? If so, do you have the necessary data in hand (and the requisite EDA completed) to continue moving forward?~~\n",
    "- ~~What is your timeline for the next week and a half? What do you have to get done versus what would you like to get done?~~\n",
    "- ~~What topics do you want to discuss during your 1:1?~~\n",
    "- ~~We will use your progress report as a leaping off point for a deep 1:1 with a member of the instructional staff. The best use of your time is to really flesh out this document so that your remaining time here can be most productive.~~\n",
    "\n",
    "- Examine the distributions of your data, numerically and/or visually.\n",
    "- Identify outliers.\n",
    "\n",
    "</div>"
   ]
  },
  {
   "cell_type": "markdown",
   "metadata": {},
   "source": [
    "##  1. Import Necessary Libraries & Load Data "
   ]
  },
  {
   "cell_type": "code",
   "execution_count": 4,
   "metadata": {},
   "outputs": [
    {
     "name": "stdout",
     "output_type": "stream",
     "text": [
      "Total Number of Listing: 12345 | Total Number of Features: 46\n"
     ]
    },
    {
     "data": {
      "text/html": [
       "<div>\n",
       "<style scoped>\n",
       "    .dataframe tbody tr th:only-of-type {\n",
       "        vertical-align: middle;\n",
       "    }\n",
       "\n",
       "    .dataframe tbody tr th {\n",
       "        vertical-align: top;\n",
       "    }\n",
       "\n",
       "    .dataframe thead th {\n",
       "        text-align: right;\n",
       "    }\n",
       "</style>\n",
       "<table border=\"1\" class=\"dataframe\">\n",
       "  <thead>\n",
       "    <tr style=\"text-align: right;\">\n",
       "      <th></th>\n",
       "      <th>0</th>\n",
       "      <th>1</th>\n",
       "      <th>2</th>\n",
       "      <th>3</th>\n",
       "      <th>4</th>\n",
       "    </tr>\n",
       "  </thead>\n",
       "  <tbody>\n",
       "    <tr>\n",
       "      <th>id</th>\n",
       "      <td>35303</td>\n",
       "      <td>197677</td>\n",
       "      <td>289597</td>\n",
       "      <td>370759</td>\n",
       "      <td>700253</td>\n",
       "    </tr>\n",
       "    <tr>\n",
       "      <th>host_id</th>\n",
       "      <td>151977</td>\n",
       "      <td>964081</td>\n",
       "      <td>341577</td>\n",
       "      <td>1573631</td>\n",
       "      <td>341577</td>\n",
       "    </tr>\n",
       "    <tr>\n",
       "      <th>host_since</th>\n",
       "      <td>2010-06-25</td>\n",
       "      <td>2011-08-13</td>\n",
       "      <td>2011-01-10</td>\n",
       "      <td>2012-01-06</td>\n",
       "      <td>2011-01-10</td>\n",
       "    </tr>\n",
       "    <tr>\n",
       "      <th>host_response_time</th>\n",
       "      <td>unknown</td>\n",
       "      <td>within a few hours</td>\n",
       "      <td>within a few hours</td>\n",
       "      <td>within a day</td>\n",
       "      <td>within a few hours</td>\n",
       "    </tr>\n",
       "    <tr>\n",
       "      <th>host_response_rate</th>\n",
       "      <td>unknown</td>\n",
       "      <td>100%</td>\n",
       "      <td>100%</td>\n",
       "      <td>100%</td>\n",
       "      <td>100%</td>\n",
       "    </tr>\n",
       "    <tr>\n",
       "      <th>host_acceptance_rate</th>\n",
       "      <td>unknown</td>\n",
       "      <td>50-89%</td>\n",
       "      <td>50-89%</td>\n",
       "      <td>90-99%</td>\n",
       "      <td>50-89%</td>\n",
       "    </tr>\n",
       "    <tr>\n",
       "      <th>host_is_superhost</th>\n",
       "      <td>0</td>\n",
       "      <td>1</td>\n",
       "      <td>0</td>\n",
       "      <td>1</td>\n",
       "      <td>0</td>\n",
       "    </tr>\n",
       "    <tr>\n",
       "      <th>host_listings_count</th>\n",
       "      <td>3</td>\n",
       "      <td>1</td>\n",
       "      <td>2</td>\n",
       "      <td>3</td>\n",
       "      <td>2</td>\n",
       "    </tr>\n",
       "    <tr>\n",
       "      <th>host_identity_verified</th>\n",
       "      <td>1</td>\n",
       "      <td>1</td>\n",
       "      <td>1</td>\n",
       "      <td>1</td>\n",
       "      <td>1</td>\n",
       "    </tr>\n",
       "    <tr>\n",
       "      <th>neighbourhood_cleansed</th>\n",
       "      <td>Shibuya Ku</td>\n",
       "      <td>Sumida Ku</td>\n",
       "      <td>Nerima Ku</td>\n",
       "      <td>Setagaya Ku</td>\n",
       "      <td>Nerima Ku</td>\n",
       "    </tr>\n",
       "    <tr>\n",
       "      <th>country_code</th>\n",
       "      <td>JP</td>\n",
       "      <td>JP</td>\n",
       "      <td>JP</td>\n",
       "      <td>JP</td>\n",
       "      <td>JP</td>\n",
       "    </tr>\n",
       "    <tr>\n",
       "      <th>latitude</th>\n",
       "      <td>35.6715</td>\n",
       "      <td>35.7172</td>\n",
       "      <td>35.7427</td>\n",
       "      <td>35.6644</td>\n",
       "      <td>35.7426</td>\n",
       "    </tr>\n",
       "    <tr>\n",
       "      <th>longitude</th>\n",
       "      <td>139.712</td>\n",
       "      <td>139.826</td>\n",
       "      <td>139.658</td>\n",
       "      <td>139.657</td>\n",
       "      <td>139.658</td>\n",
       "    </tr>\n",
       "    <tr>\n",
       "      <th>is_location_exact</th>\n",
       "      <td>1</td>\n",
       "      <td>0</td>\n",
       "      <td>0</td>\n",
       "      <td>1</td>\n",
       "      <td>0</td>\n",
       "    </tr>\n",
       "    <tr>\n",
       "      <th>property_type</th>\n",
       "      <td>Apartment</td>\n",
       "      <td>Apartment</td>\n",
       "      <td>Apartment</td>\n",
       "      <td>Apartment</td>\n",
       "      <td>Apartment</td>\n",
       "    </tr>\n",
       "    <tr>\n",
       "      <th>room_type</th>\n",
       "      <td>private_room</td>\n",
       "      <td>entire_home_apt</td>\n",
       "      <td>entire_home_apt</td>\n",
       "      <td>entire_home_apt</td>\n",
       "      <td>entire_home_apt</td>\n",
       "    </tr>\n",
       "    <tr>\n",
       "      <th>accommodates</th>\n",
       "      <td>1</td>\n",
       "      <td>2</td>\n",
       "      <td>2</td>\n",
       "      <td>2</td>\n",
       "      <td>2</td>\n",
       "    </tr>\n",
       "    <tr>\n",
       "      <th>bathrooms</th>\n",
       "      <td>1</td>\n",
       "      <td>1</td>\n",
       "      <td>1</td>\n",
       "      <td>1</td>\n",
       "      <td>1</td>\n",
       "    </tr>\n",
       "    <tr>\n",
       "      <th>bedrooms</th>\n",
       "      <td>1</td>\n",
       "      <td>1</td>\n",
       "      <td>1</td>\n",
       "      <td>0</td>\n",
       "      <td>1</td>\n",
       "    </tr>\n",
       "    <tr>\n",
       "      <th>beds</th>\n",
       "      <td>1</td>\n",
       "      <td>2</td>\n",
       "      <td>1</td>\n",
       "      <td>1</td>\n",
       "      <td>1</td>\n",
       "    </tr>\n",
       "    <tr>\n",
       "      <th>amenities</th>\n",
       "      <td>tv,internet,wifi,kitchen,paid parking off prem...</td>\n",
       "      <td>tv,internet,wifi,air conditioning,kitchen,buzz...</td>\n",
       "      <td>tv,wifi,air conditioning,kitchen,hot tub,heati...</td>\n",
       "      <td>tv,internet,wifi,air conditioning,kitchen,paid...</td>\n",
       "      <td>tv,internet,wifi,air conditioning,kitchen,hot ...</td>\n",
       "    </tr>\n",
       "    <tr>\n",
       "      <th>price</th>\n",
       "      <td>4192</td>\n",
       "      <td>10965</td>\n",
       "      <td>4192</td>\n",
       "      <td>6987</td>\n",
       "      <td>3977</td>\n",
       "    </tr>\n",
       "    <tr>\n",
       "      <th>security_deposit</th>\n",
       "      <td>30000</td>\n",
       "      <td>40000</td>\n",
       "      <td>32250</td>\n",
       "      <td>20000</td>\n",
       "      <td>32250</td>\n",
       "    </tr>\n",
       "    <tr>\n",
       "      <th>cleaning_fee</th>\n",
       "      <td>5000</td>\n",
       "      <td>5000</td>\n",
       "      <td>5375</td>\n",
       "      <td>6000</td>\n",
       "      <td>5375</td>\n",
       "    </tr>\n",
       "    <tr>\n",
       "      <th>guests_included</th>\n",
       "      <td>1</td>\n",
       "      <td>1</td>\n",
       "      <td>1</td>\n",
       "      <td>1</td>\n",
       "      <td>1</td>\n",
       "    </tr>\n",
       "    <tr>\n",
       "      <th>extra_people</th>\n",
       "      <td>0</td>\n",
       "      <td>0</td>\n",
       "      <td>1075</td>\n",
       "      <td>0</td>\n",
       "      <td>1075</td>\n",
       "    </tr>\n",
       "    <tr>\n",
       "      <th>minimum_nights</th>\n",
       "      <td>28</td>\n",
       "      <td>3</td>\n",
       "      <td>28</td>\n",
       "      <td>28</td>\n",
       "      <td>28</td>\n",
       "    </tr>\n",
       "    <tr>\n",
       "      <th>maximum_nights</th>\n",
       "      <td>1125</td>\n",
       "      <td>365</td>\n",
       "      <td>180</td>\n",
       "      <td>720</td>\n",
       "      <td>180</td>\n",
       "    </tr>\n",
       "    <tr>\n",
       "      <th>calendar_updated</th>\n",
       "      <td>19 months ago</td>\n",
       "      <td>6 weeks ago</td>\n",
       "      <td>7 weeks ago</td>\n",
       "      <td>2 months ago</td>\n",
       "      <td>7 weeks ago</td>\n",
       "    </tr>\n",
       "    <tr>\n",
       "      <th>availability_30</th>\n",
       "      <td>29</td>\n",
       "      <td>28</td>\n",
       "      <td>30</td>\n",
       "      <td>29</td>\n",
       "      <td>30</td>\n",
       "    </tr>\n",
       "    <tr>\n",
       "      <th>availability_60</th>\n",
       "      <td>59</td>\n",
       "      <td>40</td>\n",
       "      <td>51</td>\n",
       "      <td>59</td>\n",
       "      <td>60</td>\n",
       "    </tr>\n",
       "    <tr>\n",
       "      <th>availability_90</th>\n",
       "      <td>89</td>\n",
       "      <td>46</td>\n",
       "      <td>58</td>\n",
       "      <td>89</td>\n",
       "      <td>90</td>\n",
       "    </tr>\n",
       "    <tr>\n",
       "      <th>availability_365</th>\n",
       "      <td>89</td>\n",
       "      <td>270</td>\n",
       "      <td>242</td>\n",
       "      <td>364</td>\n",
       "      <td>353</td>\n",
       "    </tr>\n",
       "    <tr>\n",
       "      <th>number_of_reviews</th>\n",
       "      <td>18</td>\n",
       "      <td>165</td>\n",
       "      <td>113</td>\n",
       "      <td>103</td>\n",
       "      <td>104</td>\n",
       "    </tr>\n",
       "    <tr>\n",
       "      <th>first_review</th>\n",
       "      <td>2011-12-28</td>\n",
       "      <td>2011-09-21</td>\n",
       "      <td>2012-06-15</td>\n",
       "      <td>2014-03-25</td>\n",
       "      <td>2012-10-17</td>\n",
       "    </tr>\n",
       "    <tr>\n",
       "      <th>last_review</th>\n",
       "      <td>2018-07-28</td>\n",
       "      <td>2020-03-04</td>\n",
       "      <td>2020-02-17</td>\n",
       "      <td>2020-04-16</td>\n",
       "      <td>2020-05-12</td>\n",
       "    </tr>\n",
       "    <tr>\n",
       "      <th>review_scores_rating</th>\n",
       "      <td>90-99%</td>\n",
       "      <td>90-99%</td>\n",
       "      <td>90-99%</td>\n",
       "      <td>90-99%</td>\n",
       "      <td>90-99%</td>\n",
       "    </tr>\n",
       "    <tr>\n",
       "      <th>review_scores_accuracy</th>\n",
       "      <td>9</td>\n",
       "      <td>10</td>\n",
       "      <td>9</td>\n",
       "      <td>10</td>\n",
       "      <td>10</td>\n",
       "    </tr>\n",
       "    <tr>\n",
       "      <th>review_scores_cleanliness</th>\n",
       "      <td>9</td>\n",
       "      <td>10</td>\n",
       "      <td>10</td>\n",
       "      <td>10</td>\n",
       "      <td>10</td>\n",
       "    </tr>\n",
       "    <tr>\n",
       "      <th>review_scores_checkin</th>\n",
       "      <td>9</td>\n",
       "      <td>10</td>\n",
       "      <td>10</td>\n",
       "      <td>10</td>\n",
       "      <td>10</td>\n",
       "    </tr>\n",
       "    <tr>\n",
       "      <th>review_scores_communication</th>\n",
       "      <td>10</td>\n",
       "      <td>10</td>\n",
       "      <td>9</td>\n",
       "      <td>10</td>\n",
       "      <td>10</td>\n",
       "    </tr>\n",
       "    <tr>\n",
       "      <th>review_scores_location</th>\n",
       "      <td>10</td>\n",
       "      <td>9</td>\n",
       "      <td>9</td>\n",
       "      <td>10</td>\n",
       "      <td>9</td>\n",
       "    </tr>\n",
       "    <tr>\n",
       "      <th>review_scores_value</th>\n",
       "      <td>9</td>\n",
       "      <td>10</td>\n",
       "      <td>9</td>\n",
       "      <td>10</td>\n",
       "      <td>10</td>\n",
       "    </tr>\n",
       "    <tr>\n",
       "      <th>instant_bookable</th>\n",
       "      <td>0</td>\n",
       "      <td>0</td>\n",
       "      <td>0</td>\n",
       "      <td>0</td>\n",
       "      <td>0</td>\n",
       "    </tr>\n",
       "    <tr>\n",
       "      <th>cancellation_policy</th>\n",
       "      <td>strict</td>\n",
       "      <td>moderate</td>\n",
       "      <td>strict</td>\n",
       "      <td>moderate</td>\n",
       "      <td>strict</td>\n",
       "    </tr>\n",
       "    <tr>\n",
       "      <th>time_since_first_review</th>\n",
       "      <td>2404 days 00:00:00.000000000</td>\n",
       "      <td>3087 days 00:00:00.000000000</td>\n",
       "      <td>2803 days 00:00:00.000000000</td>\n",
       "      <td>2214 days 00:00:00.000000000</td>\n",
       "      <td>2764 days 00:00:00.000000000</td>\n",
       "    </tr>\n",
       "  </tbody>\n",
       "</table>\n",
       "</div>"
      ],
      "text/plain": [
       "                                                                             0  \\\n",
       "id                                                                       35303   \n",
       "host_id                                                                 151977   \n",
       "host_since                                                          2010-06-25   \n",
       "host_response_time                                                     unknown   \n",
       "host_response_rate                                                     unknown   \n",
       "host_acceptance_rate                                                   unknown   \n",
       "host_is_superhost                                                            0   \n",
       "host_listings_count                                                          3   \n",
       "host_identity_verified                                                       1   \n",
       "neighbourhood_cleansed                                              Shibuya Ku   \n",
       "country_code                                                                JP   \n",
       "latitude                                                               35.6715   \n",
       "longitude                                                              139.712   \n",
       "is_location_exact                                                            1   \n",
       "property_type                                                        Apartment   \n",
       "room_type                                                         private_room   \n",
       "accommodates                                                                 1   \n",
       "bathrooms                                                                    1   \n",
       "bedrooms                                                                     1   \n",
       "beds                                                                         1   \n",
       "amenities                    tv,internet,wifi,kitchen,paid parking off prem...   \n",
       "price                                                                     4192   \n",
       "security_deposit                                                         30000   \n",
       "cleaning_fee                                                              5000   \n",
       "guests_included                                                              1   \n",
       "extra_people                                                                 0   \n",
       "minimum_nights                                                              28   \n",
       "maximum_nights                                                            1125   \n",
       "calendar_updated                                                 19 months ago   \n",
       "availability_30                                                             29   \n",
       "availability_60                                                             59   \n",
       "availability_90                                                             89   \n",
       "availability_365                                                            89   \n",
       "number_of_reviews                                                           18   \n",
       "first_review                                                        2011-12-28   \n",
       "last_review                                                         2018-07-28   \n",
       "review_scores_rating                                                    90-99%   \n",
       "review_scores_accuracy                                                       9   \n",
       "review_scores_cleanliness                                                    9   \n",
       "review_scores_checkin                                                        9   \n",
       "review_scores_communication                                                 10   \n",
       "review_scores_location                                                      10   \n",
       "review_scores_value                                                          9   \n",
       "instant_bookable                                                             0   \n",
       "cancellation_policy                                                     strict   \n",
       "time_since_first_review                           2404 days 00:00:00.000000000   \n",
       "\n",
       "                                                                             1  \\\n",
       "id                                                                      197677   \n",
       "host_id                                                                 964081   \n",
       "host_since                                                          2011-08-13   \n",
       "host_response_time                                          within a few hours   \n",
       "host_response_rate                                                        100%   \n",
       "host_acceptance_rate                                                    50-89%   \n",
       "host_is_superhost                                                            1   \n",
       "host_listings_count                                                          1   \n",
       "host_identity_verified                                                       1   \n",
       "neighbourhood_cleansed                                               Sumida Ku   \n",
       "country_code                                                                JP   \n",
       "latitude                                                               35.7172   \n",
       "longitude                                                              139.826   \n",
       "is_location_exact                                                            0   \n",
       "property_type                                                        Apartment   \n",
       "room_type                                                      entire_home_apt   \n",
       "accommodates                                                                 2   \n",
       "bathrooms                                                                    1   \n",
       "bedrooms                                                                     1   \n",
       "beds                                                                         2   \n",
       "amenities                    tv,internet,wifi,air conditioning,kitchen,buzz...   \n",
       "price                                                                    10965   \n",
       "security_deposit                                                         40000   \n",
       "cleaning_fee                                                              5000   \n",
       "guests_included                                                              1   \n",
       "extra_people                                                                 0   \n",
       "minimum_nights                                                               3   \n",
       "maximum_nights                                                             365   \n",
       "calendar_updated                                                   6 weeks ago   \n",
       "availability_30                                                             28   \n",
       "availability_60                                                             40   \n",
       "availability_90                                                             46   \n",
       "availability_365                                                           270   \n",
       "number_of_reviews                                                          165   \n",
       "first_review                                                        2011-09-21   \n",
       "last_review                                                         2020-03-04   \n",
       "review_scores_rating                                                    90-99%   \n",
       "review_scores_accuracy                                                      10   \n",
       "review_scores_cleanliness                                                   10   \n",
       "review_scores_checkin                                                       10   \n",
       "review_scores_communication                                                 10   \n",
       "review_scores_location                                                       9   \n",
       "review_scores_value                                                         10   \n",
       "instant_bookable                                                             0   \n",
       "cancellation_policy                                                   moderate   \n",
       "time_since_first_review                           3087 days 00:00:00.000000000   \n",
       "\n",
       "                                                                             2  \\\n",
       "id                                                                      289597   \n",
       "host_id                                                                 341577   \n",
       "host_since                                                          2011-01-10   \n",
       "host_response_time                                          within a few hours   \n",
       "host_response_rate                                                        100%   \n",
       "host_acceptance_rate                                                    50-89%   \n",
       "host_is_superhost                                                            0   \n",
       "host_listings_count                                                          2   \n",
       "host_identity_verified                                                       1   \n",
       "neighbourhood_cleansed                                               Nerima Ku   \n",
       "country_code                                                                JP   \n",
       "latitude                                                               35.7427   \n",
       "longitude                                                              139.658   \n",
       "is_location_exact                                                            0   \n",
       "property_type                                                        Apartment   \n",
       "room_type                                                      entire_home_apt   \n",
       "accommodates                                                                 2   \n",
       "bathrooms                                                                    1   \n",
       "bedrooms                                                                     1   \n",
       "beds                                                                         1   \n",
       "amenities                    tv,wifi,air conditioning,kitchen,hot tub,heati...   \n",
       "price                                                                     4192   \n",
       "security_deposit                                                         32250   \n",
       "cleaning_fee                                                              5375   \n",
       "guests_included                                                              1   \n",
       "extra_people                                                              1075   \n",
       "minimum_nights                                                              28   \n",
       "maximum_nights                                                             180   \n",
       "calendar_updated                                                   7 weeks ago   \n",
       "availability_30                                                             30   \n",
       "availability_60                                                             51   \n",
       "availability_90                                                             58   \n",
       "availability_365                                                           242   \n",
       "number_of_reviews                                                          113   \n",
       "first_review                                                        2012-06-15   \n",
       "last_review                                                         2020-02-17   \n",
       "review_scores_rating                                                    90-99%   \n",
       "review_scores_accuracy                                                       9   \n",
       "review_scores_cleanliness                                                   10   \n",
       "review_scores_checkin                                                       10   \n",
       "review_scores_communication                                                  9   \n",
       "review_scores_location                                                       9   \n",
       "review_scores_value                                                          9   \n",
       "instant_bookable                                                             0   \n",
       "cancellation_policy                                                     strict   \n",
       "time_since_first_review                           2803 days 00:00:00.000000000   \n",
       "\n",
       "                                                                             3  \\\n",
       "id                                                                      370759   \n",
       "host_id                                                                1573631   \n",
       "host_since                                                          2012-01-06   \n",
       "host_response_time                                                within a day   \n",
       "host_response_rate                                                        100%   \n",
       "host_acceptance_rate                                                    90-99%   \n",
       "host_is_superhost                                                            1   \n",
       "host_listings_count                                                          3   \n",
       "host_identity_verified                                                       1   \n",
       "neighbourhood_cleansed                                             Setagaya Ku   \n",
       "country_code                                                                JP   \n",
       "latitude                                                               35.6644   \n",
       "longitude                                                              139.657   \n",
       "is_location_exact                                                            1   \n",
       "property_type                                                        Apartment   \n",
       "room_type                                                      entire_home_apt   \n",
       "accommodates                                                                 2   \n",
       "bathrooms                                                                    1   \n",
       "bedrooms                                                                     0   \n",
       "beds                                                                         1   \n",
       "amenities                    tv,internet,wifi,air conditioning,kitchen,paid...   \n",
       "price                                                                     6987   \n",
       "security_deposit                                                         20000   \n",
       "cleaning_fee                                                              6000   \n",
       "guests_included                                                              1   \n",
       "extra_people                                                                 0   \n",
       "minimum_nights                                                              28   \n",
       "maximum_nights                                                             720   \n",
       "calendar_updated                                                  2 months ago   \n",
       "availability_30                                                             29   \n",
       "availability_60                                                             59   \n",
       "availability_90                                                             89   \n",
       "availability_365                                                           364   \n",
       "number_of_reviews                                                          103   \n",
       "first_review                                                        2014-03-25   \n",
       "last_review                                                         2020-04-16   \n",
       "review_scores_rating                                                    90-99%   \n",
       "review_scores_accuracy                                                      10   \n",
       "review_scores_cleanliness                                                   10   \n",
       "review_scores_checkin                                                       10   \n",
       "review_scores_communication                                                 10   \n",
       "review_scores_location                                                      10   \n",
       "review_scores_value                                                         10   \n",
       "instant_bookable                                                             0   \n",
       "cancellation_policy                                                   moderate   \n",
       "time_since_first_review                           2214 days 00:00:00.000000000   \n",
       "\n",
       "                                                                             4  \n",
       "id                                                                      700253  \n",
       "host_id                                                                 341577  \n",
       "host_since                                                          2011-01-10  \n",
       "host_response_time                                          within a few hours  \n",
       "host_response_rate                                                        100%  \n",
       "host_acceptance_rate                                                    50-89%  \n",
       "host_is_superhost                                                            0  \n",
       "host_listings_count                                                          2  \n",
       "host_identity_verified                                                       1  \n",
       "neighbourhood_cleansed                                               Nerima Ku  \n",
       "country_code                                                                JP  \n",
       "latitude                                                               35.7426  \n",
       "longitude                                                              139.658  \n",
       "is_location_exact                                                            0  \n",
       "property_type                                                        Apartment  \n",
       "room_type                                                      entire_home_apt  \n",
       "accommodates                                                                 2  \n",
       "bathrooms                                                                    1  \n",
       "bedrooms                                                                     1  \n",
       "beds                                                                         1  \n",
       "amenities                    tv,internet,wifi,air conditioning,kitchen,hot ...  \n",
       "price                                                                     3977  \n",
       "security_deposit                                                         32250  \n",
       "cleaning_fee                                                              5375  \n",
       "guests_included                                                              1  \n",
       "extra_people                                                              1075  \n",
       "minimum_nights                                                              28  \n",
       "maximum_nights                                                             180  \n",
       "calendar_updated                                                   7 weeks ago  \n",
       "availability_30                                                             30  \n",
       "availability_60                                                             60  \n",
       "availability_90                                                             90  \n",
       "availability_365                                                           353  \n",
       "number_of_reviews                                                          104  \n",
       "first_review                                                        2012-10-17  \n",
       "last_review                                                         2020-05-12  \n",
       "review_scores_rating                                                    90-99%  \n",
       "review_scores_accuracy                                                      10  \n",
       "review_scores_cleanliness                                                   10  \n",
       "review_scores_checkin                                                       10  \n",
       "review_scores_communication                                                 10  \n",
       "review_scores_location                                                       9  \n",
       "review_scores_value                                                         10  \n",
       "instant_bookable                                                             0  \n",
       "cancellation_policy                                                     strict  \n",
       "time_since_first_review                           2764 days 00:00:00.000000000  "
      ]
     },
     "execution_count": 4,
     "metadata": {},
     "output_type": "execute_result"
    }
   ],
   "source": [
    "import pandas as pd\n",
    "import numpy as np\n",
    "import matplotlib.pyplot as plt\n",
    "import seaborn as sns   \n",
    "\n",
    "# RdYlGn\n",
    "# colors = ['#FF5A5F', '#00A699', '#FC642D']\n",
    "sns.set_style('whitegrid')\n",
    "%matplotlib inline\n",
    "\n",
    "import warnings\n",
    "warnings.filterwarnings('ignore')\n",
    "\n",
    "final = pd.read_csv('../datasets/final.csv')\n",
    "# final.drop(columns=['Unnamed: 0'], axis = 1,inplace=True)\n",
    "print(f\"Total Number of Listing: {final.shape[0]} | Total Number of Features: {final.shape[1]}\")\n",
    "final.head().T"
   ]
  },
  {
   "cell_type": "markdown",
   "metadata": {},
   "source": [
    "##  2. Full Exploratory Analysis"
   ]
  },
  {
   "cell_type": "markdown",
   "metadata": {},
   "source": [
    "##### Price (Target Variable)"
   ]
  },
  {
   "cell_type": "code",
   "execution_count": 5,
   "metadata": {
    "scrolled": true
   },
   "outputs": [
    {
     "name": "stdout",
     "output_type": "stream",
     "text": [
      "Nightly advertised prices range from 1075¥ to 1000040¥.\n"
     ]
    }
   ],
   "source": [
    "print(f\"Nightly advertised prices range from {min(final.price)}¥ to {max(final.price)}¥.\")"
   ]
  },
  {
   "cell_type": "code",
   "execution_count": 6,
   "metadata": {},
   "outputs": [
    {
     "data": {
      "image/png": "[encoded data removed]",
      "text/plain": [
       "<Figure size 1080x360 with 1 Axes>"
      ]
     },
     "metadata": {
      "needs_background": "light"
     },
     "output_type": "display_data"
    }
   ],
   "source": [
    "# Distribution of prices up to 50_000 yen \n",
    "plt.figure(figsize=(15,5))\n",
    "\n",
    "final.price.hist(bins=100, \n",
    "                 range=(0, 50_000),\n",
    "                 color ='#FF5A5F')\n",
    "\n",
    "plt.margins(x=0)\n",
    "plt.title(\"Airbnb advertised nightly prices in Tokyo up to 50000¥\", fontsize=20)\n",
    "plt.xlabel(\"Price (¥)\", fontsize=15)\n",
    "plt.ylabel(\"Number of listings\", fontsize=15);"
   ]
  },
  {
   "cell_type": "code",
   "execution_count": 7,
   "metadata": {},
   "outputs": [
    {
     "data": {
      "image/png": "[encoded data removed]",
      "text/plain": [
       "<Figure size 1080x360 with 1 Axes>"
      ]
     },
     "metadata": {
      "needs_background": "light"
     },
     "output_type": "display_data"
    }
   ],
   "source": [
    "# Distribution of prices up to 50_000 yen \n",
    "plt.figure(figsize=(15,5))\n",
    "\n",
    "final.price.hist(bins=100, \n",
    "                 range=(50_000, max(final.price)),\n",
    "                 color ='#FF5A5F')\n",
    "\n",
    "plt.title(\"Airbnb advertised nightly prices in Tokyo above 50000¥\", fontsize=20)\n",
    "plt.xlabel(\"Price (¥)\", fontsize=15)\n",
    "plt.ylabel(\"Number of listings\", fontsize=15);"
   ]
  },
  {
   "cell_type": "code",
   "execution_count": 30,
   "metadata": {
    "scrolled": false
   },
   "outputs": [
    {
     "data": {
      "image/png": "[encoded data removed]",
      "text/plain": [
       "<Figure size 1080x360 with 1 Axes>"
      ]
     },
     "metadata": {
      "needs_background": "light"
     },
     "output_type": "display_data"
    }
   ],
   "source": [
    "plt.figure(figsize =(15,5))\n",
    "\n",
    "sns.boxplot(final.price, color = '#FF5A5F')\n",
    "plt.title('Price Boxplot With Extreme Outliers', fontsize=20)\n",
    "plt.xlabel('Price', fontsize = 15);"
   ]
  },
  {
   "cell_type": "markdown",
   "metadata": {},
   "source": [
    "<img src=\"../image/listing_over_100000.png\"\n",
    "\ttitle=\"Listing over 100000¥\" width=\"1050\" height=\"1000\" />"
   ]
  },
  {
   "cell_type": "markdown",
   "metadata": {},
   "source": [
    "<div class=\"alert alert-block alert-success\">\n",
    "\n",
    "<b>Assumption:</b>\n",
    "\n",
    "As there are quite a number of listing that are price at 100000yen. I will be leaving those untouch and drop those that are priced above that.\n",
    "\n",
    "</div>"
   ]
  },
  {
   "cell_type": "code",
   "execution_count": 24,
   "metadata": {},
   "outputs": [],
   "source": [
    "# Drop rows that are listed above 100000 Yen\n",
    "final.drop(final[final['price'] > 100_000].index, inplace=True)"
   ]
  },
  {
   "cell_type": "code",
   "execution_count": 31,
   "metadata": {},
   "outputs": [
    {
     "data": {
      "image/png": "[encoded data removed]",
      "text/plain": [
       "<Figure size 1080x360 with 1 Axes>"
      ]
     },
     "metadata": {
      "needs_background": "light"
     },
     "output_type": "display_data"
    }
   ],
   "source": [
    "plt.figure(figsize =(15,5))\n",
    "\n",
    "sns.boxplot(final.price, color = '#FF5A5F')\n",
    "plt.title('Price Boxplot Without Extreme Outliers', fontsize=20)\n",
    "plt.xlabel('Price', fontsize = 15);"
   ]
  },
  {
   "cell_type": "markdown",
   "metadata": {},
   "source": [
    "##### Host"
   ]
  },
  {
   "cell_type": "code",
   "execution_count": null,
   "metadata": {
    "scrolled": true
   },
   "outputs": [],
   "source": [
    "def binary_count_and_price_plot(col, figsize=(15,4)):\n",
    "    \"\"\"\n",
    "    Plots a simple bar chart of the counts of true and false categories in the column specified,\n",
    "    next to a bar chart of the median price for each category.\n",
    "    A figure size can optionally be specified.\n",
    "    \"\"\"\n",
    "    fig, (ax1, ax2) = plt.subplots(1, 2, figsize=figsize)\n",
    "    fig.suptitle(col, fontsize=16, y=1)\n",
    "    plt.subplots_adjust(top=0.80) # So that the suptitle does not overlap with the ax plot titles\n",
    "    \n",
    "    final.groupby(col).size().plot(kind='bar', ax=ax1, color=['#FF5A5F', '#00A699'])\n",
    "    ax1.set_xticklabels(labels=['false', 'true'], rotation=0)\n",
    "    ax1.set_title('Category count')\n",
    "    ax1.set_xlabel('')\n",
    "    \n",
    "    final.groupby(col).price.median().plot(kind='bar', ax=ax2, color=['#FF5A5F', '#00A699'])\n",
    "    ax2.set_xticklabels(labels=['false', 'true'], rotation=0)\n",
    "    ax2.set_title('Median price (£)')\n",
    "    ax2.set_xlabel('')\n",
    "    \n",
    "    plt.show()\n",
    "\n",
    "binary_count_and_price_plot('host_is_superhost')\n",
    "print(final.host_is_superhost.value_counts(normalize=True));"
   ]
  },
  {
   "cell_type": "code",
   "execution_count": null,
   "metadata": {},
   "outputs": [],
   "source": [
    "binary_count_and_price_plot('host_identity_verified')\n",
    "print(final.host_identity_verified.value_counts(normalize=True));"
   ]
  },
  {
   "cell_type": "markdown",
   "metadata": {},
   "source": [
    "<div class=\"alert alert-block alert-success\">\n",
    "\n",
    "<b>Observation:</b>\n",
    "\n",
    "About 37% of hosts are superhosts and about 20% of hosts are verified. However, it does not seem to improve the median price per night of their Airbnb listings.\n",
    "</div>"
   ]
  },
  {
   "cell_type": "markdown",
   "metadata": {},
   "source": [
    "##### Host Listing Count"
   ]
  },
  {
   "cell_type": "code",
   "execution_count": null,
   "metadata": {
    "scrolled": false
   },
   "outputs": [],
   "source": [
    "plt.figure(figsize=(16,5))\n",
    "plt.hist(final['host_listings_count'], bins=30, color ='#FF5A5F')\n",
    "plt.title('Distribution of Host Listings Count', fontsize=20)\n",
    "plt.xlabel('Number of Listing a Host has', fontsize=15)\n",
    "plt.ylabel('Number of Host', fontsize=15);"
   ]
  },
  {
   "cell_type": "code",
   "execution_count": null,
   "metadata": {},
   "outputs": [],
   "source": [
    "final[final['host_listings_count']==0]"
   ]
  },
  {
   "cell_type": "code",
   "execution_count": null,
   "metadata": {},
   "outputs": [],
   "source": [
    "print(\"Median number of listings per host:\", int(final.host_listings_count.median()))\n",
    "print(\"Mean number of listings per host:\", int(round(final.host_listings_count.mean())))\n",
    "print(f\"{int(round(100*len(final[final.host_listings_count == 1])/len(final)))}% of listings are from hosts with one listing.\")"
   ]
  },
  {
   "cell_type": "markdown",
   "metadata": {},
   "source": [
    "<div class=\"alert alert-block alert-success\">\n",
    "\n",
    "<b>Observation:</b>\n",
    "\n",
    "Most host does not have any listing, and some has over 100 listings.\n",
    "\n",
    "\n",
    "</div>"
   ]
  },
  {
   "cell_type": "markdown",
   "metadata": {},
   "source": [
    "<div class=\"alert alert-block alert-warning\">\n",
    "\n",
    "<b>To Do:</b>\n",
    "\n",
    "Remove Outlier:\n",
    "\n",
    "- to drop host with zero listings\n",
    "\n",
    "</div>"
   ]
  },
  {
   "cell_type": "code",
   "execution_count": null,
   "metadata": {
    "scrolled": false
   },
   "outputs": [],
   "source": [
    "top_host=final.host_id.value_counts().head(10)\n",
    "\n",
    "fig = plt.figure(1, figsize=(16,5))\n",
    "ax = fig.add_subplot(111)\n",
    "\n",
    "title = 'Hosts with the most listings in Tokyo'\n",
    "\n",
    "transparency = 0.7\n",
    "color = ['#FF5A5F', '#00A699', '#FC642D']\n",
    "\n",
    "top_host.plot(kind = 'bar', \n",
    "              color = color, \n",
    "              width = 0.9,\n",
    "              title = title)\n",
    "\n",
    "# ax.grid(False)\n",
    "# ax.set_frame_on(False)\n",
    "\n",
    "ax.set_title(ax.get_title(), fontsize=20, alpha=transparency, ha='left')\n",
    "plt.subplots_adjust(top=0.9)\n",
    "ax.title.set_position((0,1.1))\n",
    "\n",
    "ax.xaxis.set_label_position('top')\n",
    "xlab = 'Hosts'\n",
    "ax.set_xlabel(xlab, fontsize=15, alpha=transparency, ha='left')\n",
    "ax.xaxis.set_label_coords(0, 1.01)\n",
    "plt.xticks(rotation=0)\n",
    "\n",
    "ylab = 'Listing Count'\n",
    "ax.set_ylabel(ylab, fontsize=15, alpha=transparency);"
   ]
  },
  {
   "cell_type": "markdown",
   "metadata": {},
   "source": [
    "<div class=\"alert alert-block alert-success\">\n",
    "\n",
    "<b>Observation:</b>\n",
    "\n",
    "These are the host with most number of listing in Tokyo. Host 75820284 has over 80 listings. \n",
    "\n",
    "\n",
    "</div>"
   ]
  },
  {
   "cell_type": "markdown",
   "metadata": {},
   "source": [
    "##### Neighbourhod"
   ]
  },
  {
   "cell_type": "code",
   "execution_count": null,
   "metadata": {},
   "outputs": [],
   "source": [
    "# Create new dataframe for neighbourhood count\n",
    "neighbourhood_count = pd.DataFrame()\n",
    "neighbourhood_count['total_hosts'] = final['neighbourhood_cleansed'].value_counts()\n",
    "\n",
    "# Filter out neighbourhood with less than 20 listings\n",
    "neighbourhood_count = neighbourhood_count[neighbourhood_count['total_hosts'] > 20]\n",
    "neighbourhood_count.sort_index(ascending=True, inplace=True)"
   ]
  },
  {
   "cell_type": "code",
   "execution_count": null,
   "metadata": {
    "scrolled": false
   },
   "outputs": [],
   "source": [
    "fig = plt.figure(1, figsize=(20,25))\n",
    "ax = fig.add_subplot(111)\n",
    "\n",
    "title=\"Distribution of listings based on neighbourhood in Tokyo\"\n",
    "\n",
    "transparency = 0.7\n",
    "cmap = sns.color_palette(\"autumn\")\n",
    "\n",
    "neighbourhood_count['total_hosts'].plot(kind = 'barh',\n",
    "                                        ax = ax,\n",
    "                                        color = cmap,\n",
    "                                        title = title, \n",
    "                                        width = 0.9)\n",
    "\n",
    "ax.grid(False)\n",
    "ax.set_frame_on(False)\n",
    "\n",
    "ax.set_title(ax.get_title(), fontsize=26, alpha=transparency, ha='left')\n",
    "plt.subplots_adjust(top=0.9)\n",
    "ax.title.set_position((0,1.04))\n",
    "\n",
    "ax.xaxis.set_label_position('top')\n",
    "xlab = 'Total number of listings'\n",
    "ax.set_xlabel(xlab, fontsize=20, alpha=transparency, ha='left')\n",
    "ax.xaxis.set_label_coords(0, 1.02)\n",
    "ax.xaxis.tick_top()\n",
    "\n",
    "ylab = 'Neighbourhood in Tokyo'\n",
    "ax.set_ylabel(ylab, fontsize=20, alpha=transparency);"
   ]
  },
  {
   "cell_type": "markdown",
   "metadata": {},
   "source": [
    "<div class=\"alert alert-block alert-success\">\n",
    "\n",
    "<b>Observation:</b>\n",
    "\n",
    "Top most popular neighbourhood - Shinjuku Ku, Taito Ku, Toshima Ku, Sumida Ku, and Shibuya Ku\n",
    "\n",
    "\n",
    "</div>"
   ]
  },
  {
   "cell_type": "markdown",
   "metadata": {},
   "source": [
    "##### Property Type"
   ]
  },
  {
   "cell_type": "code",
   "execution_count": null,
   "metadata": {
    "scrolled": false
   },
   "outputs": [],
   "source": [
    "fig = plt.figure(1, figsize=(16,5))\n",
    "ax = fig.add_subplot(111)\n",
    "\n",
    "title = 'Property Type'\n",
    "\n",
    "transparency = 0.7\n",
    "color = sns.color_palette(\"autumn\")\n",
    "\n",
    "final['property_type'].value_counts().plot(kind='bar', \n",
    "                                           color = color, \n",
    "                                           width = 0.9,\n",
    "                                           title = title)\n",
    "\n",
    "ax.grid(False)\n",
    "ax.set_frame_on(False)\n",
    "\n",
    "ax.set_title(ax.get_title(), fontsize=20, alpha=transparency, ha='left')\n",
    "plt.subplots_adjust(top=0.9)\n",
    "ax.title.set_position((0,1.04))\n",
    "\n",
    "ylab = 'Listing Count'\n",
    "ax.set_ylabel(ylab, fontsize=15, alpha=transparency);"
   ]
  },
  {
   "cell_type": "markdown",
   "metadata": {},
   "source": [
    "<div class=\"alert alert-block alert-success\">\n",
    "\n",
    "<b>Observation:</b>\n",
    "\n",
    "Most listings are Apartment \n",
    "\n",
    "\n",
    "</div>"
   ]
  },
  {
   "cell_type": "markdown",
   "metadata": {},
   "source": [
    "##### Room Type"
   ]
  },
  {
   "cell_type": "code",
   "execution_count": null,
   "metadata": {
    "scrolled": false
   },
   "outputs": [],
   "source": [
    "fig = plt.figure(1, figsize=(15,5))\n",
    "ax = fig.add_subplot(111)\n",
    "\n",
    "title = 'Room Type'\n",
    "\n",
    "transparency = 0.7\n",
    "color = sns.color_palette(\"autumn\")\n",
    "\n",
    "final['room_type'].value_counts().plot(kind='bar',\n",
    "                                       color = color,\n",
    "                                       width = 0.9, \n",
    "                                       title = title)\n",
    "\n",
    "ax.grid(False)\n",
    "ax.set_frame_on(False)\n",
    "\n",
    "ax.set_title(ax.get_title(), fontsize=20, alpha=transparency, ha='left')\n",
    "plt.subplots_adjust(top=0.9)\n",
    "ax.title.set_position((0,1.04))\n",
    "plt.xticks(rotation=0)\n",
    "\n",
    "ylab = 'Listing Count'\n",
    "ax.set_ylabel(ylab, fontsize=15, alpha=transparency);"
   ]
  },
  {
   "cell_type": "markdown",
   "metadata": {},
   "source": [
    "##### Property Vs Room Type"
   ]
  },
  {
   "cell_type": "code",
   "execution_count": null,
   "metadata": {},
   "outputs": [],
   "source": [
    "# Create a dataframe with property_type and room_type\n",
    "property_room = final.groupby(['property_type','room_type']).room_type.count().unstack()\n",
    "\n",
    "# Sum up the total number of room types in a property type\n",
    "property_room['total'] = property_room.iloc[:,0:4].sum(axis = 1)\n",
    "property_room.sort_values(by='total', inplace=True)\n",
    "\n",
    "# Filter out properties that are less than 100\n",
    "property_room = property_room[property_room['total']>=100]\n",
    "property_room = property_room.drop(['total'], axis=1)"
   ]
  },
  {
   "cell_type": "code",
   "execution_count": null,
   "metadata": {},
   "outputs": [],
   "source": [
    "color = sns.color_palette(\"autumn\")\n",
    "\n",
    "property_room.plot(kind='barh',\n",
    "                   stacked=True, \n",
    "                   color = color,\n",
    "                   width=0.9,\n",
    "                   figsize=(13,5), \n",
    "                   alpha = 0.8)\n",
    "\n",
    "plt.title('Property vs Room Type', fontsize=20)\n",
    "plt.xlabel('Number of listings', fontsize=14)\n",
    "plt.ylabel(\"Property Type\", fontsize=15);"
   ]
  },
  {
   "cell_type": "markdown",
   "metadata": {},
   "source": [
    "<div class=\"alert alert-block alert-success\">\n",
    "\n",
    "<b>Observation:</b>\n",
    "\n",
    "As shown in the figure above, most listings are categorised as apartments which comes in 3 top room types which are entire home, hotel room, and private room\n",
    "\n",
    "\n",
    "</div>"
   ]
  },
  {
   "cell_type": "markdown",
   "metadata": {},
   "source": [
    "##### Accomodates"
   ]
  },
  {
   "cell_type": "code",
   "execution_count": null,
   "metadata": {
    "scrolled": true
   },
   "outputs": [],
   "source": [
    "fig = plt.figure(1, figsize=(16,5))\n",
    "ax = fig.add_subplot(111)\n",
    "\n",
    "title = 'Accomodates (Number of People)'\n",
    "\n",
    "transparency = 0.7\n",
    "color = sns.color_palette(\"autumn\")\n",
    "\n",
    "final['accommodates'].value_counts().sort_index().plot(kind='bar', \n",
    "                                             color = color, \n",
    "                                             width = 0.9, \n",
    "                                             title = title)\n",
    "\n",
    "ax.grid(False)\n",
    "ax.set_frame_on(False)\n",
    "\n",
    "ax.set_title(ax.get_title(), fontsize=20, alpha=transparency, ha='left')\n",
    "plt.subplots_adjust(top=0.9)\n",
    "ax.title.set_position((0,1.04))\n",
    "plt.xticks(rotation=0)\n",
    "\n",
    "ylab = 'Listing Count'\n",
    "ax.set_ylabel(ylab, fontsize=15, alpha=transparency);"
   ]
  },
  {
   "cell_type": "markdown",
   "metadata": {},
   "source": [
    "<div class=\"alert alert-block alert-success\">\n",
    "\n",
    "<b>Observation:</b>\n",
    "\n",
    "Most listings in Tokyo are for 2-4 people\n",
    "\n",
    "</div>"
   ]
  },
  {
   "cell_type": "code",
   "execution_count": null,
   "metadata": {
    "scrolled": false
   },
   "outputs": [],
   "source": [
    "plt.figure(figsize=(15, 10))\n",
    "\n",
    "color = '#FF5A5F'\n",
    "\n",
    "final.groupby('accommodates').price.mean().plot.barh(color = color, \n",
    "                                                     width=0.9)\n",
    "\n",
    "plt.title(\"Average price for accommodating different number of guests\", fontsize=20)\n",
    "plt.xlabel('Average price (¥)', fontsize=15)\n",
    "plt.ylabel('Neighbourhood in Tokyo', fontsize=15);"
   ]
  },
  {
   "cell_type": "markdown",
   "metadata": {},
   "source": [
    "##### Rooms"
   ]
  },
  {
   "cell_type": "code",
   "execution_count": null,
   "metadata": {},
   "outputs": [],
   "source": [
    "final[['bathrooms', 'bedrooms', 'beds']].hist(figsize=(8,6));"
   ]
  },
  {
   "cell_type": "markdown",
   "metadata": {},
   "source": [
    "##### Review_Scores"
   ]
  },
  {
   "cell_type": "code",
   "execution_count": null,
   "metadata": {},
   "outputs": [],
   "source": [
    "review_col = list(final.columns[final.columns.str.startswith(\"review_scores\") == True])\n",
    "\n",
    "fig = plt.figure(figsize=(12,8))\n",
    "for i, var_name in enumerate(review_col):\n",
    "    ax = fig.add_subplot(3,3,i+1)\n",
    "    final[var_name].hist(bins=10, ax=ax, color = '#FF5A5F')\n",
    "    ax.set_title(var_name)\n",
    "    \n",
    "fig.tight_layout()"
   ]
  },
  {
   "cell_type": "markdown",
   "metadata": {},
   "source": [
    "##  3. Time Series Analysis"
   ]
  },
  {
   "cell_type": "markdown",
   "metadata": {},
   "source": [
    "##### a. Time Since First Review"
   ]
  },
  {
   "cell_type": "code",
   "execution_count": null,
   "metadata": {},
   "outputs": [],
   "source": [
    "# final['time_since_first_review'] = final.last_review - final.first_review\n",
    "# final.time_since_first_review.hist(figsize=(11,9), bins=30);"
   ]
  },
  {
   "cell_type": "markdown",
   "metadata": {},
   "source": [
    "## 4. Multicollinearity"
   ]
  },
  {
   "cell_type": "code",
   "execution_count": null,
   "metadata": {
    "scrolled": false
   },
   "outputs": [],
   "source": [
    "sns.set(style=\"white\")\n",
    "\n",
    "corr = final.corr()\n",
    "\n",
    "mask = np.zeros_like(corr, dtype=np.bool)\n",
    "mask[np.triu_indices_from(mask)] = True\n",
    "\n",
    "fig, ax = plt.subplots(figsize=(20,10))\n",
    "\n",
    "cmap = sns.diverging_palette(220, 10, as_cmap=True)\n",
    "\n",
    "sns.heatmap(corr, \n",
    "            mask=mask, \n",
    "            cmap=cmap, \n",
    "            center=0, \n",
    "            square=True, \n",
    "            linewidths=.5, \n",
    "            cbar_kws={\"shrink\": .5}, \n",
    "            vmax=corr[corr != 1.0].max().max())\n",
    "\n",
    "ax.set_title('Collinearity between Features', fontsize=20);"
   ]
  },
  {
   "cell_type": "code",
   "execution_count": null,
   "metadata": {},
   "outputs": [],
   "source": [
    "fig = plt.figure(figsize=(11,9))\n",
    "\n",
    "cmap = sns.diverging_palette(220, 10, as_cmap=True)\n",
    "\n",
    "sns.heatmap(final.corr()[['price']].sort_values(by='price', ascending=False), \n",
    "            cmap=cmap, \n",
    "            center=0, \n",
    "            annot=True)\n",
    "\n",
    "plt.title('Correlation with price', fontsize=20)\n",
    "y_min, y_max = ax.get_ylim() \n",
    "x_min, x_max = ax.get_xlim()\n",
    "ax.set_ylim(top=y_max+1) \n",
    "ax.set_xlim(right=x_max-1);"
   ]
  },
  {
   "cell_type": "markdown",
   "metadata": {},
   "source": [
    "<div class=\"alert alert-block alert-warning\">\n",
    "\n",
    "<b>EDA PLOTS:</b> \n",
    "\n",
    "1. Distribution of Review scores \n",
    "\n",
    "2. Distribution of listings based on neighbourhood in Tokyo\n",
    "    - total number of listing (y-axis)\n",
    "    - neighbourhood in Tokyo (x-axis)\n",
    "    \n",
    "3. Popularity of room types in property types\n",
    "\n",
    "4. see if there is any trend on bookings? (seasonality)\n",
    "\n",
    "5. listings per host\n",
    "\n",
    "6. property, room type on price\n",
    "    \n",
    "\n",
    "</div>"
   ]
  },
  {
   "cell_type": "code",
   "execution_count": null,
   "metadata": {},
   "outputs": [],
   "source": []
  },
  {
   "cell_type": "code",
   "execution_count": null,
   "metadata": {},
   "outputs": [],
   "source": []
  },
  {
   "cell_type": "code",
   "execution_count": null,
   "metadata": {},
   "outputs": [],
   "source": []
  },
  {
   "cell_type": "code",
   "execution_count": null,
   "metadata": {},
   "outputs": [],
   "source": []
  },
  {
   "cell_type": "code",
   "execution_count": null,
   "metadata": {},
   "outputs": [],
   "source": []
  },
  {
   "cell_type": "markdown",
   "metadata": {},
   "source": [
    "### <span style='background:yellow'> 2. Feature Engineering </span>  --- to break notebook"
   ]
  },
  {
   "cell_type": "markdown",
   "metadata": {},
   "source": [
    "##### a. Categorical Variables"
   ]
  },
  {
   "cell_type": "code",
   "execution_count": null,
   "metadata": {},
   "outputs": [],
   "source": [
    "# final = pd.get_dummies(final, columns=['property_type',\n",
    "#                                            'room_type',\n",
    "#                                            'cancellation_policy', \n",
    "#                                            'neighbourhood_cleansed',\n",
    "#                                            'host_response_time'], \n",
    "#                          drop_first = False)\n",
    "# final.shape"
   ]
  },
  {
   "cell_type": "markdown",
   "metadata": {},
   "source": [
    "##### b. Amenities"
   ]
  },
  {
   "cell_type": "code",
   "execution_count": null,
   "metadata": {
    "scrolled": true
   },
   "outputs": [],
   "source": [
    "all_amenities = final['amenities'].str.get_dummies(sep=',')"
   ]
  },
  {
   "cell_type": "code",
   "execution_count": null,
   "metadata": {},
   "outputs": [],
   "source": [
    "all_amenities = pd.concat([final.price, all_amenities], axis=1)"
   ]
  },
  {
   "cell_type": "code",
   "execution_count": null,
   "metadata": {},
   "outputs": [],
   "source": [
    "all_amenities.head()"
   ]
  },
  {
   "cell_type": "code",
   "execution_count": null,
   "metadata": {},
   "outputs": [],
   "source": [
    "sns.set(style=\"white\")\n",
    "\n",
    "corr = all_amenities.corr()\n",
    "\n",
    "mask = np.zeros_like(corr, dtype=np.bool)\n",
    "mask[np.triu_indices_from(mask)] = True\n",
    "\n",
    "fig, ax = plt.subplots(figsize=(20,20))\n",
    "\n",
    "cmap = sns.diverging_palette(220, 10, as_cmap=True)\n",
    "\n",
    "sns.heatmap(corr, \n",
    "            mask=mask, \n",
    "            cmap=cmap, \n",
    "            center=0, \n",
    "            square=True, \n",
    "            linewidths=.5, \n",
    "            cbar_kws={\"shrink\": .5}, \n",
    "            vmax=corr[corr != 1.0].max().max());\n",
    "\n",
    "ax.set_title('Collinearity between Amenities', fontsize=20);"
   ]
  },
  {
   "cell_type": "code",
   "execution_count": null,
   "metadata": {},
   "outputs": [],
   "source": []
  }
 ],
 "metadata": {
  "kernelspec": {
   "display_name": "Python 3",
   "language": "python",
   "name": "python3"
  },
  "language_info": {
   "codemirror_mode": {
    "name": "ipython",
    "version": 3
   },
   "file_extension": ".py",
   "mimetype": "text/x-python",
   "name": "python",
   "nbconvert_exporter": "python",
   "pygments_lexer": "ipython3",
   "version": "3.7.4"
  }
 },
 "nbformat": 4,
 "nbformat_minor": 2
}
