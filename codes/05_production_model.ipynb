{
 "cells": [
  {
   "cell_type": "markdown",
   "metadata": {},
   "source": [
    "# Capstone: Airbnb Price Listing Prediction\n",
    "## Part 5 Production Model\n",
    "\n",
    "_Authors: Evonne Tham_"
   ]
  },
  {
   "cell_type": "markdown",
   "metadata": {},
   "source": [
    "___Example___\n",
    "\n",
    "_In this notebook, I will calculate the r2 score and RMSE from the production model on the train set. I will then fit the same model on the test dataset to obtain the predicted sale prices, which will be used for the Kaggle submission. I will also state the insights gleaned from the model and subsequent business recommendations_"
   ]
  },
  {
   "cell_type": "markdown",
   "metadata": {},
   "source": [
    "## Contents of this notebook\n",
    "1. [Import Necessary Libraries and Load Data](#1.-Import-Necessary-Libraries-and-Load-Data)\n",
    "2. [](#2.-)\n",
    "3. [](#3.-)\n",
    "4. [](#4.-) \n"
   ]
  },
  {
   "cell_type": "markdown",
   "metadata": {},
   "source": [
    "## 1. Import Necessary Libraries & Load Data </span>"
   ]
  },
  {
   "cell_type": "code",
   "execution_count": null,
   "metadata": {},
   "outputs": [],
   "source": [
    "import pandas as pd\n",
    "import numpy as np\n",
    "from geopy.distance import great_circle\n",
    "import seaborn as sns\n",
    "import matplotlib.pyplot as plt\n",
    "%matplotlib inline\n",
    "\n",
    "# modelling\n",
    "from sklearn.dummy import DummyRegressor\n",
    "from sklearn.model_selection import train_test_split, cross_val_score\n",
    "from sklearn.preprocessing import RobustScaler\n",
    "from sklearn.linear_model import LinearRegression, ElasticNetCV\n",
    "from sklearn.svm import SVR\n",
    "from xgboost import XGBRegressor\n",
    "\n",
    "#Hide warnings\n",
    "import warnings\n",
    "warnings.filterwarnings('ignore')"
   ]
  },
  {
   "cell_type": "code",
   "execution_count": null,
   "metadata": {
    "scrolled": false
   },
   "outputs": [],
   "source": [
    "# Load in Data \n",
    "df = pd.read_csv('../datasets/df_dummies.csv')\n",
    "print(f\"Total Number of Listing: {df.shape[0]} | Total Number of Features: {df.shape[1]}\")\n",
    "df.head().T"
   ]
  },
  {
   "cell_type": "markdown",
   "metadata": {},
   "source": [
    "---\n",
    "##  2. Model Prep"
   ]
  },
  {
   "cell_type": "code",
   "execution_count": null,
   "metadata": {},
   "outputs": [],
   "source": [
    "# Create X and y variables\n",
    "features = [col for col in train._get_numeric_data().columns \n",
    "            if col != 'price' \n",
    "            and col != 'log_price' \n",
    "            and col != 'id' \n",
    "            and col != 'host_id']\n",
    "\n",
    "X = train[features]\n",
    "y = train['price']\n",
    "\n",
    "# Train/Test Split\n",
    "X_train, X_test, y_train, y_test = train_test_split(X,\n",
    "                                                    y,\n",
    "                                                    test_size = 0.25, \n",
    "                                                    random_state = 42) \n",
    "\n",
    "# Scale \n",
    "rs = RobustScaler()\n",
    "X_train_rs = rs.fit_transform(X_train)\n",
    "X_test_rs = rs.transform(X_test)\n",
    "\n",
    "# Instantiate Best Model\n",
    "xgb = XGBRegressor(gamma = 0,\n",
    "                   learning_rate = 0.05, \n",
    "                   max_depth = 5, \n",
    "                   n_estimators = 1000, \n",
    "                   subsample = 0.5)\n",
    "\n",
    "# Fit Model\n",
    "xgb.fit(X_train_rs, y_train)\n",
    "\n",
    "# Predict\n",
    "y_pred_train = xgb.predict(X_train_rs)\n",
    "y_pred_test = xgb.predict(X_test_rs)\n",
    "\n",
    "# Model Evaluation\n",
    "r2 = r2_score(y_test, y_pred_test)\n",
    "print(f\"r2: {round(r2, 4)}\")\n",
    "\n",
    "mse = mean_squared_error(y_val, y_pred)\n",
    "\n",
    "rmse = np.sqrt(mean_squared_error(y_test, y_pred_test))\n",
    "print(f\"RMSE: {round(RMSE, 4)}\")\n"
   ]
  },
  {
   "cell_type": "markdown",
   "metadata": {},
   "source": [
    "--- \n",
    "## 3. Model Evaluation"
   ]
  },
  {
   "cell_type": "markdown",
   "metadata": {},
   "source": [
    "The evaluation metrics used will be mean squared error (for loss) and r squared (for accuracy)."
   ]
  },
  {
   "cell_type": "code",
   "execution_count": null,
   "metadata": {},
   "outputs": [],
   "source": []
  }
 ],
 "metadata": {
  "kernelspec": {
   "display_name": "Python 3",
   "language": "python",
   "name": "python3"
  },
  "language_info": {
   "codemirror_mode": {
    "name": "ipython",
    "version": 3
   },
   "file_extension": ".py",
   "mimetype": "text/x-python",
   "name": "python",
   "nbconvert_exporter": "python",
   "pygments_lexer": "ipython3",
   "version": "3.7.4"
  }
 },
 "nbformat": 4,
 "nbformat_minor": 2
}
