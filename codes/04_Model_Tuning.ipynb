{
 "cells": [
  {
   "cell_type": "markdown",
   "metadata": {},
   "source": [
    "# Capstone: Airbnb Price Listing Prediction\n",
    "## Part 4 Model Tuning\n",
    "\n",
    "_Authors: Evonne Tham_"
   ]
  },
  {
   "cell_type": "markdown",
   "metadata": {},
   "source": [
    "In the previous notebook, the XGBoost produced a high $R^2$ score of 0.967 and 0.749 for the train and validation sets respectively. Despite this, the model needs to be improve and fully leverage its advantages over other algorithms\n",
    "\n",
    "This will be done by utilising gridsearch after which we will be able to look into the the features importance, a built-in function in XGBoost,. This model will be used as the production model in the next notebook as well."
   ]
  },
  {
   "cell_type": "markdown",
   "metadata": {},
   "source": [
    "## Contents of this notebook\n",
    "- [1. Import Necessary Libraries and Load Data](#1.-Import-Necessary-Libraries-and-Load-Data)\n",
    "- [2. Model Prep](#2.-Model-Prep)\n",
    "- [3. GridSearch for Hyperparameter Tuning](#3.-GridSearch-for-Hyperparameter-Tuning)\n",
    "    - [3.1. Defining Function for modelling](#3.1-Defining-Function-for-modelling)\n",
    "    - [3.2. Fitting Models](#3.2.-Fitting-Models)\n",
    "- [4. Model Evaluation](#3.-Model-Evaluation)\n",
    "- [5. Re-training the Best Model (XGBoost)](#5.-Re-training-the-Best-Model-(XGBoost))\n",
    "- [6. Feature Importances](#6.1.-Feature-Importances)\n",
    "- [7.Evaluation of Final XGBoost Model on Test Set](#7.-Evaluation-of-Final-XGBoost-Model-on-Test-Set)\n",
    "    - [7.1. Model Prep](#7.1.-Model-Prep)\n",
    "    - [7.2. Model Evaluation](#7.2.-Model-Evaluation)"
   ]
  },
  {
   "cell_type": "markdown",
   "metadata": {},
   "source": [
    "## 1. Import Necessary Libraries and Load Data"
   ]
  },
  {
   "cell_type": "code",
   "execution_count": 1,
   "metadata": {},
   "outputs": [
    {
     "name": "stderr",
     "output_type": "stream",
     "text": [
      "/opt/anaconda3/lib/python3.7/site-packages/dask/dataframe/utils.py:14: FutureWarning: pandas.util.testing is deprecated. Use the functions in the public API at pandas.testing instead.\n",
      "  import pandas.util.testing as tm\n"
     ]
    }
   ],
   "source": [
    "import pandas as pd\n",
    "import numpy as np\n",
    "import seaborn as sns\n",
    "import matplotlib.pyplot as plt\n",
    "%matplotlib inline\n",
    "\n",
    "# modelling\n",
    "import time\n",
    "from sklearn.model_selection import train_test_split, cross_val_score, GridSearchCV\n",
    "from sklearn.pipeline import Pipeline\n",
    "from sklearn.preprocessing import RobustScaler \n",
    "from sklearn.linear_model import LinearRegression, ElasticNetCV\n",
    "from sklearn.svm import SVR\n",
    "from xgboost import XGBRegressor\n",
    "from sklearn.metrics import mean_squared_error, r2_score\n",
    "\n",
    "# Saving models\n",
    "import pickle\n",
    "\n",
    "#Hide warnings\n",
    "import warnings\n",
    "warnings.filterwarnings('ignore')"
   ]
  },
  {
   "cell_type": "code",
   "execution_count": 2,
   "metadata": {},
   "outputs": [
    {
     "name": "stdout",
     "output_type": "stream",
     "text": [
      "Total Number of Listing: 10564 | Total Number of Features: 132\n"
     ]
    }
   ],
   "source": [
    "# Load in Data \n",
    "train = pd.read_csv('../datasets/train.csv')\n",
    "\n",
    "#Set id as index \n",
    "train.set_index('id', inplace=True)\n",
    "\n",
    "print(f\"Total Number of Listing: {train.shape[0]} | Total Number of Features: {train.shape[1]}\")"
   ]
  },
  {
   "cell_type": "markdown",
   "metadata": {},
   "source": [
    "---\n",
    "## 2. Model Prep"
   ]
  },
  {
   "cell_type": "code",
   "execution_count": 3,
   "metadata": {},
   "outputs": [],
   "source": [
    "# Create X and y variables\n",
    "features = [col for col in train._get_numeric_data().columns \n",
    "            if col != 'price' \n",
    "            and col != 'log_price' \n",
    "            and col != 'id' \n",
    "            and col != 'host_id']\n",
    "\n",
    "X = train[features]\n",
    "y = train['price']\n",
    "\n",
    "# Validation Set \n",
    "X_train, X_val, y_train, y_val = train_test_split(X, \n",
    "                                                  y, \n",
    "                                                  test_size=0.25,\n",
    "                                                  random_state = 42) "
   ]
  },
  {
   "cell_type": "markdown",
   "metadata": {},
   "source": [
    "---\n",
    "## 3. GridSearch for Hyperparameter Tuning"
   ]
  },
  {
   "cell_type": "markdown",
   "metadata": {},
   "source": [
    "### 3.1 Defining Function for modelling"
   ]
  },
  {
   "cell_type": "markdown",
   "metadata": {},
   "source": [
    "Some of the important hyperparameters to tune an SVR are:\n",
    "- C: Regularization parameter\n",
    "- gamma: defines how much influence a single training example has\n",
    "- Kernel: helps find a hyperplane in the higher dimensional space without increasing the computational cost.\n",
    "\n",
    "Some of the important hyperparameters to tune an XGBoost are:\n",
    "\n",
    "- gamma: Specifies the minimum loss reduction required to make a split.\n",
    "- learning_rate: Rate at which our model learns patterns in data. After every round, it shrinks the feature weights to reach the best optimum.\n",
    "- max_depth: Determines how deeply each tree is allowed to grow during any boosting round.\n",
    "- n_estimators:  Number of trees one wants to build.\n",
    "- subsample: Ratio of the training instances which help in prevent overfitting."
   ]
  },
  {
   "cell_type": "code",
   "execution_count": 4,
   "metadata": {},
   "outputs": [],
   "source": [
    "def grid_modeller_val_scorer(classifier): \n",
    "    \n",
    "    '''\n",
    "    takes arguments \"lr\", \"enet\", \"svr\", \"xgb\"\n",
    "    '''\n",
    "    \n",
    "    start = time.time()\n",
    "    \n",
    "    # Model instantiation\n",
    "    clf_lr = LinearRegression()\n",
    "    clf_enet = ElasticNetCV()\n",
    "    clf_svr = SVR()\n",
    "    clf_xgb = XGBRegressor()\n",
    "    \n",
    "    # Building the model pipelines incl. preprocessing where needed \n",
    "    # Setting up the parameter grids\n",
    "    if classifier == \"lr\":\n",
    "        pipe_lr = Pipeline([('rs', RobustScaler()),\n",
    "                             ('clf_lr', clf_lr)])\n",
    "        \n",
    "        param_grid_lr = [{'clf_lr__fit_intercept': [True, False],\n",
    "                          'clf_lr__normalize': [True, False]}]\n",
    "        \n",
    "\n",
    "        gs = GridSearchCV(pipe_lr, \n",
    "                          param_grid_lr, \n",
    "                          cv=5, \n",
    "                          n_jobs=1, \n",
    "                          verbose=1, \n",
    "                          scoring = \"r2\") \n",
    "        \n",
    "        gs.fit(X_train, y_train)\n",
    "        \n",
    "        \n",
    "    elif classifier == \"enet\":\n",
    "        pipe_enet = Pipeline([('rs', RobustScaler()), \n",
    "                             ('clf_enet', clf_enet)])\n",
    "        \n",
    "        param_grid_enet = [{'clf_enet__l1_ratio': [.1, .5, .7, .9, .95, .99, 1],\n",
    "                            'clf_enet__n_alphas': [1,10,100,1000,10000]}]\n",
    "    \n",
    "        gs = GridSearchCV(pipe_enet, \n",
    "                          param_grid_enet, \n",
    "                          cv=5, \n",
    "                          n_jobs=1, \n",
    "                          verbose=1, \n",
    "                          scoring = \"r2\") \n",
    "    \n",
    "        gs.fit(X_train, y_train)\n",
    "        \n",
    "        \n",
    "    elif classifier == \"svr\":\n",
    "        pipe_svr = Pipeline([('rs', RobustScaler()),\n",
    "                             (\"clf_svr\", clf_svr)])\n",
    "\n",
    "        param_grid_svr = [{\"clf_svr__C\":[1,10], \n",
    "                          \"clf_svr__gamma\":[0.001, 0.01, 0.1, 1], \n",
    "                          \"clf_svr__kernel\":('linear', 'rbf')}]  \n",
    "        \n",
    "        gs = GridSearchCV(pipe_svr, \n",
    "                          param_grid_svr, \n",
    "                          cv=5, \n",
    "                          n_jobs=1, \n",
    "                          verbose=1,\n",
    "                          scoring = \"r2\") \n",
    "        \n",
    "        gs.fit(X_train, y_train)   \n",
    "        \n",
    "    \n",
    "    elif classifier == \"xgb\":\n",
    "        pipe_xgb = Pipeline([('rs', RobustScaler()),\n",
    "                            (\"clf_xgb\",clf_xgb)])\n",
    "        \n",
    "        param_grid_xgb  = [{\n",
    "            'clf_xgb__gamma':[0, 0.3], \n",
    "            'clf_xgb__learning_rate': [0.05, 0.3], \n",
    "            'clf_xgb__max_depth':[2,3,5], \n",
    "            'clf_xgb__n_estimators': [1000], \n",
    "            'clf_xgb__subsample': [0.05, 0.3, 0.5]\n",
    "        }]\n",
    "                        \n",
    "        gs = GridSearchCV(pipe_xgb, \n",
    "                          param_grid_xgb, \n",
    "                          cv=5, \n",
    "                          n_jobs=-1, \n",
    "                          verbose=1,\n",
    "                          scoring = \"r2\") \n",
    "        \n",
    "        gs.fit(X_train, y_train)\n",
    "        \n",
    "    end = time.time()\n",
    "        \n",
    "    #get scores\n",
    "    train_score = gs.score(X_train, y_train)\n",
    "    val_score = gs.score(X_val, y_val)\n",
    "    y_pred = gs.predict(X_val)\n",
    "    \n",
    "    #get R2, MSE Score, RMSE score\n",
    "    r2 = r2_score(y_val, y_pred)\n",
    "    mse = mean_squared_error(y_val, y_pred)\n",
    "    rmse = (mean_squared_error(y_val, y_pred))**0.5\n",
    "    \n",
    "    \n",
    "    \n",
    "    metrics_list= [train_score, val_score, gs.best_score_, r2, mse, rmse]\n",
    "    \n",
    "    # Print out total run time \n",
    "    print(f\"Time taken to run: {round((end - start)/60,1)} minutes\")\n",
    "    print('==================================================================================')\n",
    "    print('')\n",
    "\n",
    "    # print out accuracy, estimator and parameters from GridSearchCV\n",
    "    print(f'Best train accuracy score = {train_score}')\n",
    "    print(f'Best validation accuracy score = {val_score}')\n",
    "    print(f'Best grid search score = {gs.best_score_}')\n",
    "    print(f'R2 score = {r2}')\n",
    "    print(f'Mean Square Error = {mse}')\n",
    "    print(f\"Root mean squared error = {rmse}\")\n",
    "    print('==================================================================================')\n",
    "    print('')\n",
    "    \n",
    "    print(f'Best estimator = {gs.best_estimator_}')\n",
    "    print(f'Best parameters = {gs.best_params_}')\n",
    "    print('==================================================================================')\n",
    "    print('')\n",
    "    \n",
    "    print(f\"metrics list for {classifier}:\", metrics_list)\n",
    "    \n",
    "    return"
   ]
  },
  {
   "cell_type": "markdown",
   "metadata": {},
   "source": [
    "### 3.2. Fitting Models"
   ]
  },
  {
   "cell_type": "markdown",
   "metadata": {},
   "source": [
    "#### i. Linear Regression"
   ]
  },
  {
   "cell_type": "code",
   "execution_count": 5,
   "metadata": {
    "scrolled": false
   },
   "outputs": [
    {
     "name": "stdout",
     "output_type": "stream",
     "text": [
      "Fitting 5 folds for each of 4 candidates, totalling 20 fits\n"
     ]
    },
    {
     "name": "stderr",
     "output_type": "stream",
     "text": [
      "[Parallel(n_jobs=1)]: Using backend SequentialBackend with 1 concurrent workers.\n",
      "[Parallel(n_jobs=1)]: Done  20 out of  20 | elapsed:    6.6s finished\n"
     ]
    },
    {
     "name": "stdout",
     "output_type": "stream",
     "text": [
      "Time taken to run: 0.1 minutes\n",
      "==================================================================================\n",
      "\n",
      "Best train accuracy score = 0.2650879092230466\n",
      "Best validation accuracy score = 0.22068547609798173\n",
      "Best grid search score = -3.546866311878883e+16\n",
      "R2 score = 0.22068547609798173\n",
      "Mean Square Error = 334578848.58170253\n",
      "Root mean squared error = 18291.496619514284\n",
      "==================================================================================\n",
      "\n",
      "Best estimator = Pipeline(memory=None,\n",
      "         steps=[('rs',\n",
      "                 RobustScaler(copy=True, quantile_range=(25.0, 75.0),\n",
      "                              with_centering=True, with_scaling=True)),\n",
      "                ('clf_lr',\n",
      "                 LinearRegression(copy_X=True, fit_intercept=False, n_jobs=None,\n",
      "                                  normalize=True))],\n",
      "         verbose=False)\n",
      "Best parameters = {'clf_lr__fit_intercept': False, 'clf_lr__normalize': True}\n",
      "==================================================================================\n",
      "\n",
      "metrics list for lr: [0.2650879092230466, 0.22068547609798173, -3.546866311878883e+16, 0.22068547609798173, 334578848.58170253, 18291.496619514284]\n"
     ]
    }
   ],
   "source": [
    "grid_modeller_val_scorer(\"lr\")"
   ]
  },
  {
   "cell_type": "markdown",
   "metadata": {},
   "source": [
    "#### ii. ElasticNetCV"
   ]
  },
  {
   "cell_type": "code",
   "execution_count": 6,
   "metadata": {
    "scrolled": false
   },
   "outputs": [
    {
     "name": "stdout",
     "output_type": "stream",
     "text": [
      "Fitting 5 folds for each of 35 candidates, totalling 175 fits\n"
     ]
    },
    {
     "name": "stderr",
     "output_type": "stream",
     "text": [
      "[Parallel(n_jobs=1)]: Using backend SequentialBackend with 1 concurrent workers.\n",
      "[Parallel(n_jobs=1)]: Done 175 out of 175 | elapsed: 17.6min finished\n"
     ]
    },
    {
     "name": "stdout",
     "output_type": "stream",
     "text": [
      "Time taken to run: 18.2 minutes\n",
      "==================================================================================\n",
      "\n",
      "Best train accuracy score = 0.2612188063746045\n",
      "Best validation accuracy score = 0.22410695376376955\n",
      "Best grid search score = 0.2483970578687794\n",
      "R2 score = 0.22410695376376955\n",
      "Mean Square Error = 333109924.26070374\n",
      "Root mean squared error = 18251.29924856594\n",
      "==================================================================================\n",
      "\n",
      "Best estimator = Pipeline(memory=None,\n",
      "         steps=[('rs',\n",
      "                 RobustScaler(copy=True, quantile_range=(25.0, 75.0),\n",
      "                              with_centering=True, with_scaling=True)),\n",
      "                ('clf_enet',\n",
      "                 ElasticNetCV(alphas=None, copy_X=True, cv='warn', eps=0.001,\n",
      "                              fit_intercept=True, l1_ratio=1, max_iter=1000,\n",
      "                              n_alphas=10000, n_jobs=None, normalize=False,\n",
      "                              positive=False, precompute='auto',\n",
      "                              random_state=None, selection='cyclic', tol=0.0001,\n",
      "                              verbose=0))],\n",
      "         verbose=False)\n",
      "Best parameters = {'clf_enet__l1_ratio': 1, 'clf_enet__n_alphas': 10000}\n",
      "==================================================================================\n",
      "\n",
      "metrics list for enet: [0.2612188063746045, 0.22410695376376955, 0.2483970578687794, 0.22410695376376955, 333109924.26070374, 18251.29924856594]\n"
     ]
    }
   ],
   "source": [
    "grid_modeller_val_scorer(\"enet\")"
   ]
  },
  {
   "cell_type": "markdown",
   "metadata": {},
   "source": [
    "#### iii. Support Vector Regressor"
   ]
  },
  {
   "cell_type": "code",
   "execution_count": null,
   "metadata": {},
   "outputs": [
    {
     "name": "stdout",
     "output_type": "stream",
     "text": [
      "Fitting 5 folds for each of 16 candidates, totalling 80 fits\n"
     ]
    },
    {
     "name": "stderr",
     "output_type": "stream",
     "text": [
      "[Parallel(n_jobs=1)]: Using backend SequentialBackend with 1 concurrent workers.\n"
     ]
    }
   ],
   "source": [
    "grid_modeller_val_scorer(\"svr\")"
   ]
  },
  {
   "cell_type": "markdown",
   "metadata": {},
   "source": [
    "#### iv. Extreme Gradient Boosting Trees Regressor (\"XGB\") "
   ]
  },
  {
   "cell_type": "code",
   "execution_count": null,
   "metadata": {
    "scrolled": false
   },
   "outputs": [],
   "source": [
    "grid_modeller_val_scorer(\"xgb\")"
   ]
  },
  {
   "cell_type": "markdown",
   "metadata": {},
   "source": [
    "---\n",
    "## 4. Model Evaluation\n",
    "The evaluation metrics used will be mean squared error (for loss) and r squared (for accuracy)."
   ]
  },
  {
   "cell_type": "code",
   "execution_count": null,
   "metadata": {},
   "outputs": [],
   "source": [
    "metrics_list= [\"train_score\", \"val_score\", \"gs.best_score_\", \"r2\", \"mse\", \"rmse\"]\n",
    "\n",
    "lr = [0.2650879092230466, 0.22068547609798173, \n",
    "      -3.546866311878883e+16, 0.22068547609798173, \n",
    "      334578848.58170253, 18291.496619514284]\n",
    "    \n",
    "enet = [0.2612188063746045, 0.22410695376376955, \n",
    "        0.2483970578687794, 0.22410695376376955, \n",
    "        333109924.26070374, 18251.29924856594]\n",
    "\n",
    "svr = [0.05695912386046931, 0.04614044559045005, \n",
    "       0.05151517371362776, 0.04614044559045005, \n",
    "       409515313.310301, 20236.484707337415]\n",
    "\n",
    "xgb = [0.9620456204103222, 0.766377423060412, \n",
    "       0.7677560654782276, 0.766377423060412, \n",
    "       100299905.1060482, 10014.984029245788]\n",
    "\n",
    "\n",
    "eval_data = [lr, enet, svr, xgb]\n",
    "\n",
    "column_names = metrics_list\n",
    "\n",
    "index = [\"Linear Regression\", \"ElasticNetCV\", \"Support Vector Regressor\", \"XGBoost\"]\n",
    "\n",
    "eval_df = pd.DataFrame(eval_data, columns=column_names, index=index)\n",
    "    \n",
    "eval_df = eval_df.round(decimals = 4)\n",
    "eval_df"
   ]
  },
  {
   "cell_type": "markdown",
   "metadata": {},
   "source": [
    "Based on this table and our particular output reproduced above, we can see that Support Vector Machine Regressor performed the worst as the train set and validation set has a $R^2$ less than 0.01. This handily beats the baseline model score of -0.00029, nevertheless.\n",
    "\n",
    "Linear Regression and ElasticNet performed poorly as well, eventhough there's not much difference between the $R^2$ score on train set and the validation set. \n",
    "\n",
    "Hence the clear winner is eXtreme Gradient Boosting. It has the highest $R^2$ of 0.7884 on the entire validation set, which means that the model is able to account for almost 80% of the variance in the target variable. With a $RMSE$ score of 10015, what this means is that our model's prediction is on average off by 10015¥ in terms of predicting the property's price. This is pretty good for a preliminary model using regression techniques.\n",
    "\n",
    "***The best parameters are:*** \n",
    "- gamma: 0, \n",
    "- learning_rate: 0.05, \n",
    "- max_depth: 5, \n",
    "- n_estimators: 1000, \n",
    "- subsample: 0.5"
   ]
  },
  {
   "cell_type": "markdown",
   "metadata": {},
   "source": [
    "---\n",
    "## 5. Price Vs Log Price Comparison"
   ]
  },
  {
   "cell_type": "markdown",
   "metadata": {},
   "source": [
    "Let's see if our model is better at predicting price as it is or better when it is transformed."
   ]
  },
  {
   "cell_type": "markdown",
   "metadata": {},
   "source": [
    "### 5.1. Price"
   ]
  },
  {
   "cell_type": "code",
   "execution_count": null,
   "metadata": {
    "scrolled": true
   },
   "outputs": [],
   "source": [
    "# Create X and y variables\n",
    "features = [col for col in train._get_numeric_data().columns \n",
    "            if col != 'price' \n",
    "            and col != 'log_price' \n",
    "            and col != 'id' \n",
    "            and col != 'host_id']\n",
    "\n",
    "X = train[features]\n",
    "y = train['price']\n",
    "\n",
    "# Train/Validation Split\n",
    "X_train, X_val, y_train, y_val = train_test_split(X, \n",
    "                                                  y, \n",
    "                                                  test_size=0.25,\n",
    "                                                  random_state = 42) \n",
    "\n",
    "# Scale \n",
    "rs = RobustScaler()\n",
    "X_train_rs = rs.fit_transform(X_train)\n",
    "X_val_rs = rs.transform(X_val)\n",
    "\n",
    "# Instantiate Best Model\n",
    "xgb = XGBRegressor(gamma = 0,\n",
    "                   learning_rate = 0.05, \n",
    "                   max_depth = 5, \n",
    "                   n_estimators = 1000, \n",
    "                   subsample = 0.5)\n",
    "\n",
    "# Fit Model\n",
    "xgb.fit(X_train_rs, y_train)\n",
    "\n",
    "# Predict\n",
    "y_pred_train = xgb.predict(X_train_rs)\n",
    "y_pred_val = xgb.predict(X_val_rs)\n",
    "\n",
    "# Model Evaluation\n",
    "r2_train = r2_score(y_train, y_pred_train)\n",
    "r2_val = r2_score(y_val, y_pred_val)\n",
    "print(f\"R2 Score on Training Set: {round(r2_train, 4)}\")\n",
    "print(f\"R2 Score on Validation Set: {round(r2_val, 4)}\")\n",
    "print('===============================================')\n",
    "\n",
    "mse_train = mean_squared_error(y_train, y_pred_train)\n",
    "mse_val = mean_squared_error(y_val, y_pred_val)\n",
    "print(f\"MSE Score on Training Set: {round(mse_train, 4)}\")\n",
    "print(f\"MSE Score on Validation Set: {round(mse_val, 4)}\")\n",
    "print('===============================================')\n",
    "\n",
    "rmse_train = np.sqrt(mean_squared_error(y_train, y_pred_train))\n",
    "rmse_val = np.sqrt(mean_squared_error(y_val, y_pred_val))\n",
    "print(f\"RMSE Score on Training Set: {round(rmse_train, 4)}\")\n",
    "print(f\"RMSE Score on Validation Set: {round(rmse_val, 4)}\")"
   ]
  },
  {
   "cell_type": "markdown",
   "metadata": {},
   "source": [
    "Once again, it has a $R^2$ of 0.7664 and a $RMSE$ score of 10014.98 on the validation set. hence we can proceed futher with the analysis"
   ]
  },
  {
   "cell_type": "markdown",
   "metadata": {},
   "source": [
    "### 5.2. Log Price"
   ]
  },
  {
   "cell_type": "code",
   "execution_count": null,
   "metadata": {
    "scrolled": true
   },
   "outputs": [],
   "source": [
    "# Create X and y variables\n",
    "features = [col for col in train._get_numeric_data().columns \n",
    "            if col != 'price' \n",
    "            and col != 'log_price' \n",
    "            and col != 'id' \n",
    "            and col != 'host_id']\n",
    "\n",
    "X = train[features]\n",
    "y = train['price']\n",
    "\n",
    "# Train/Validation Split\n",
    "X_train, X_val, y_train, y_val = train_test_split(X, \n",
    "                                                  y, \n",
    "                                                  test_size=0.25,\n",
    "                                                  random_state = 42) \n",
    "\n",
    "# Scale \n",
    "rs = RobustScaler()\n",
    "X_train_rs = rs.fit_transform(X_train)\n",
    "X_val_rs = rs.transform(X_val)\n",
    "\n",
    "# Instantiate Best Model\n",
    "xgb = XGBRegressor(gamma = 0,\n",
    "                   learning_rate = 0.05, \n",
    "                   max_depth = 5, \n",
    "                   n_estimators = 1000, \n",
    "                   subsample = 0.5)\n",
    "\n",
    "# Fit Model\n",
    "xgb.fit(X_train_rs, np.log(y_train))\n",
    "\n",
    "# Predict\n",
    "y_pred_train = np.exp(xgb.predict(X_train_rs))\n",
    "y_pred_val = np.exp(xgb.predict(X_val_rs))\n",
    "\n",
    "# Model Evaluation\n",
    "r2_train = r2_score(y_train, y_pred_train)\n",
    "r2_val = r2_score(y_val, y_pred_val)\n",
    "print(f\"R2 Score on Training Set: {round(r2_train, 4)}\")\n",
    "print(f\"R2 Score on Validation Set: {round(r2_val, 4)}\")\n",
    "print('===============================================')\n",
    "\n",
    "mse_train = mean_squared_error(y_train, y_pred_train)\n",
    "mse_val = mean_squared_error(y_val, y_pred_val)\n",
    "print(f\"MSE Score on Training Set: {round(mse_train, 4)}\")\n",
    "print(f\"MSE Score on Validation Set: {round(mse_val, 4)}\")\n",
    "print('===============================================')\n",
    "\n",
    "rmse_train = np.sqrt(mean_squared_error(y_train, y_pred_train))\n",
    "rmse_val = np.sqrt(mean_squared_error(y_val, y_pred_val))\n",
    "print(f\"RMSE Score on Training Set: {round(rmse_train, 4)}\")\n",
    "print(f\"RMSE Score on Validation Set: {round(rmse_val, 4)}\")"
   ]
  },
  {
   "cell_type": "markdown",
   "metadata": {},
   "source": [
    "As seen above, XGBoost model got a worse performance when the target variable is being transformed. This is because regression trees make splits in a way that minimizes the MSE, which means that they minimize the sum of the variances of the target in the children nodes. Hence, when variable is skewed, high values will affect the variances and push the split points towards higher values - forcing the decision tree to make less balanced splits and trying to \"isolate\" the tail from the rest of the points. "
   ]
  },
  {
   "cell_type": "markdown",
   "metadata": {},
   "source": [
    "--- \n",
    "## 6. Feature Importances"
   ]
  },
  {
   "cell_type": "markdown",
   "metadata": {},
   "source": [
    "Apart from its superior performance, a benefit of using ensembles of decision tree methods like gradient boosting is that they can automatically provide estimates of feature importance from a trained predictive model.\n",
    "\n",
    "Generally, importance provides a score that indicates how useful or valuable each feature was in the construction of the boosted decision trees within the model. The more an attribute is used to make key decisions with decision trees, the higher its relative importance.\n",
    "\n",
    "This importance is calculated explicitly for each attribute in the dataset, allowing attributes to be ranked and compared to each other.\n",
    "\n",
    "Importance is calculated for a single decision tree by the amount that each attribute split point improves the performance measure, weighted by the number of observations the node is responsible for. The performance measure may be the purity (Gini index) used to select the split points or another more specific error function.\n",
    "\n",
    "The feature importances are then averaged across all of the the decision trees within the model.\n",
    "\n",
    "Credit: [Feature Importance and Feature Selection With XGBoost in Python](https://machinelearningmastery.com/feature-importance-and-feature-selection-with-xgboost-in-python/)"
   ]
  },
  {
   "cell_type": "code",
   "execution_count": null,
   "metadata": {
    "scrolled": false
   },
   "outputs": [],
   "source": [
    "# Visualizing top features in our production model. \n",
    "key_features = pd.Series(xgb.feature_importances_, index = X.columns)\n",
    "key_features.nlargest(20).sort_values().plot(kind='barh', color = '#FF5A5F', figsize = (12,5))\n",
    "plt.xlabel(\"Feature importance\", fontsize=20);"
   ]
  },
  {
   "cell_type": "markdown",
   "metadata": {},
   "source": [
    "About a quiet a number of features have a very low feature importance or are of of 0 in this XGBoost regression model. And here are the top 10 most important features:\n",
    "1. Room Type: Entire home/apt\n",
    "2. Room Type: Shared room\n",
    "3. Number of guests listing can Accommodate \n",
    "4. Whether there's Elevator\n",
    "5. Property Type: Hotel\n",
    "6. Number of Guests Included\n",
    "7. Distance from city centers\n",
    "8. The Maximum Night Stay \n",
    "9. Instant Bookable\n",
    "10. Cleaning Fee\n",
    "\n",
    "As expected the most important features being the room type which came out to be the entire flat. Listings are priced higher if the offer is for the entire flat/house. This could also suggest that offering the flat/house as a whole, rather than each bedroom individually, may be better overall, given the large difference in importance compared to the second most important feature, which is room type as well.\n",
    "\n",
    "The third highest is how many people the property accommodates, which explains as that's one of the main things one would use to filter when searching for properties with in the first place.\n",
    "\n",
    "However, it is surprising that location or distance features did not appear in the top ten list. "
   ]
  },
  {
   "cell_type": "markdown",
   "metadata": {},
   "source": [
    "## 7. Evaluation of Final XGBoost Model on Test Set"
   ]
  },
  {
   "cell_type": "markdown",
   "metadata": {},
   "source": [
    "Now that we've selected the model with the best performance on the validation set and target variable, we're going to retrain the model on the combined train + validation sets using our best hyperparameter combination and see how well the model fair on the \"unseen\" data."
   ]
  },
  {
   "cell_type": "code",
   "execution_count": null,
   "metadata": {},
   "outputs": [],
   "source": [
    "# Load in Data \n",
    "test = pd.read_csv('../datasets/test.csv')\n",
    "\n",
    "# Set id as index \n",
    "test.set_index('id', inplace=True)"
   ]
  },
  {
   "cell_type": "markdown",
   "metadata": {},
   "source": [
    "### 7.1. Model Prep"
   ]
  },
  {
   "cell_type": "code",
   "execution_count": null,
   "metadata": {},
   "outputs": [],
   "source": [
    "# Create X and y variables\n",
    "features = [col for col in train._get_numeric_data().columns \n",
    "            if col != 'price' \n",
    "            and col != 'log_price' \n",
    "            and col != 'id' \n",
    "            and col != 'host_id']\n",
    "\n",
    "X_train = train[features]\n",
    "y_train  = train['price']\n",
    "X_test = test[features]\n",
    "y_test = test['price']\n",
    "\n",
    "# Scale \n",
    "rs = RobustScaler()\n",
    "X_train_rs = rs.fit_transform(X_train)\n",
    "X_test_rs = rs.transform(X_test)\n",
    "\n",
    "# Instantiate Best Model\n",
    "xgb = XGBRegressor(gamma = 0,\n",
    "                   learning_rate = 0.05, \n",
    "                   max_depth = 5, \n",
    "                   n_estimators = 1000, \n",
    "                   subsample = 0.5)\n",
    "\n",
    "# Model Fit\n",
    "xgb.fit(X_train_rs, y_train)"
   ]
  },
  {
   "cell_type": "markdown",
   "metadata": {},
   "source": [
    "### 7.2. Model Evaluation"
   ]
  },
  {
   "cell_type": "code",
   "execution_count": null,
   "metadata": {},
   "outputs": [],
   "source": [
    "# Predict\n",
    "y_pred_test = xgb.predict(X_test_rs)\n",
    "\n",
    "# Model Evaluation\n",
    "r2_cross_val_score = np.mean(cross_val_score(xgb, X_train_rs, y_train, scoring=\"r2\"))\n",
    "train_score = xgb.score(X_train_rs, y_train)\n",
    "test_score = xgb.score(X_test_rs, y_test)\n",
    "\n",
    "r2 = r2_score(y_test, y_pred_test)\n",
    "print(f\"R2 Score on Test Set: {round(r2, 4)}\")\n",
    "print('===============================================')\n",
    "\n",
    "mse = mean_squared_error(y_test, y_pred_test)\n",
    "print(f\"MSE Score on Test Set: {round(mse, 4)}\")\n",
    "print('===============================================')\n",
    "\n",
    "rmse = np.sqrt(mean_squared_error(y_test, y_pred_test))\n",
    "print(f\"RMSE Score on Test Set: {round(rmse, 4)}\")\n",
    "print('===============================================')\n",
    "\n",
    "metrics_list= [train_score, test_score, r2_cross_val_score, r2, mse, rmse]\n",
    "print(f\"Metrics list for XGB on Test Set = {metrics_list}\")"
   ]
  },
  {
   "cell_type": "code",
   "execution_count": null,
   "metadata": {
    "scrolled": true
   },
   "outputs": [],
   "source": [
    "# building our final XGB Model metrics into a DataFrame\n",
    "xgb_metrics_list= [\"train_score\", \"val_score\", \"gs.best_score_\", \"r2\", \"mse\", \"rmse\"]\n",
    "\n",
    "xgb_final = [0.9511465965934983, 0.7959612172185586, \n",
    "             0.7737680129450859, 0.7959612172185586, \n",
    "             98592908.21221578, 9929.396165538757]\n",
    "\n",
    "xgb_final_df = pd.DataFrame(xgb_final).T\n",
    "\n",
    "xgb_final_df.columns = xgb_metrics_list\n",
    "\n",
    "xgb_final_df.rename(index = {0:\"XGBoost (Test Set)\"}, inplace=True)\n",
    "\n",
    "# Stack the DataFrames on top of each other\n",
    "vertical_stack = pd.concat([eval_df, xgb_final_df], axis=0)\n",
    "\n",
    "vertical_stack = vertical_stack.round(decimals = 4)\n",
    "\n",
    "vertical_stack"
   ]
  },
  {
   "cell_type": "markdown",
   "metadata": {},
   "source": [
    "Looking at all our metrics above in the combined table, after training our XGB model with its ideal parameters onto the entire train set, the $R^2$ rises to 0.8029 from the initial validation $R^2$ to 0.7659. $RMSE$ has also decreased from 10024.7122 to 9759.1505\n",
    "\n",
    "The fact that $R^2$ score on the full recombined train set has a a higher score than the validation set $R^2$ score, as well as the lower RMSE Score, indicates that the model will generalize well on unseen data. Hence, we can now proceed to our production model."
   ]
  },
  {
   "cell_type": "markdown",
   "metadata": {},
   "source": [
    "<---- Go back to the previous notebook [Feature Engineering and Model Benchmarks](./03_Feature_Engineering_and_Model_Benchmarks.ipynb)\n",
    "\n",
    "----> Proceed to the next notebook for [Production Model](./05_Production_Model.ipynb)"
   ]
  }
 ],
 "metadata": {
  "kernelspec": {
   "display_name": "Python 3",
   "language": "python",
   "name": "python3"
  },
  "language_info": {
   "codemirror_mode": {
    "name": "ipython",
    "version": 3
   },
   "file_extension": ".py",
   "mimetype": "text/x-python",
   "name": "python",
   "nbconvert_exporter": "python",
   "pygments_lexer": "ipython3",
   "version": "3.7.4"
  }
 },
 "nbformat": 4,
 "nbformat_minor": 2
}
