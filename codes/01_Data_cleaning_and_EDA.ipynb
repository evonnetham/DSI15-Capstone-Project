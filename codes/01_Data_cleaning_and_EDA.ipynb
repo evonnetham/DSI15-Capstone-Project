{
 "cells": [
  {
   "cell_type": "markdown",
   "metadata": {},
   "source": [
    "# Capstone: Airbnb Price Listing Prediction\n",
    "\n",
    "_Authors: Evonne Tham_\n"
   ]
  },
  {
   "cell_type": "markdown",
   "metadata": {},
   "source": [
    "<div class=\"alert alert-block alert-danger\">\n",
    "\n",
    "\n",
    "<b>Checkin 3</b>\n",
    "\n",
    "The actual deliverable for this section is fairly small. You are expected to submit, via this Google form, a progress report detailing where you are with your Capstone. The format and content is up to you but, at a minimum, we expect the following:\n",
    "\n",
    "\n",
    "- Do you have data fully in hand and if not, what blockers are you facing?\n",
    "- Have you done a full EDA on all of your data?\n",
    "- Have you begun the modeling process? How accurate are your predictions so far?\n",
    "- What blockers are you facing, including processing power, data acquisition, modeling difficulties, data cleaning, etc.? How can we help you overcome those challenges?\n",
    "- Have you changed topics since your lightning talk? Since you submitted your Problem Statement and EDA? If so, do you have the necessary data in hand (and the requisite EDA completed) to continue moving forward?\n",
    "- What is your timeline for the next week and a half? What do you have to get done versus what would you like to get done?\n",
    "- What topics do you want to discuss during your 1:1?\n",
    "- We will use your progress report as a leaping off point for a deep 1:1 with a member of the instructional staff. The best use of your time is to really flesh out this document so that your remaining time here can be most productive.\n",
    "\n",
    "</div>"
   ]
  },
  {
   "cell_type": "markdown",
   "metadata": {},
   "source": [
    "<div class=\"alert alert-block alert-warning\">\n",
    "\n",
    "\n",
    "<b>Checkin 2: Think about the following as you perform your initial EDA.</b>\n",
    "\n",
    "- Examine the distributions of your data, numerically and/or visually.\n",
    "- Identify outliers.\n",
    "- ~~Identify missing data and look for patterns of missing data.~~\n",
    "- Describe how your EDA will inform your modeling decisions and process.\n",
    "\n",
    "</div>"
   ]
  },
  {
   "cell_type": "markdown",
   "metadata": {},
   "source": [
    "## <span style='background:yellow'> 1. Import Necessary Libraries & Load Data </span>"
   ]
  },
  {
   "cell_type": "code",
   "execution_count": 1,
   "metadata": {},
   "outputs": [],
   "source": [
    "import pandas as pd\n",
    "import numpy as np\n",
    "import matplotlib.pyplot as plt\n",
    "import seaborn as sns   \n",
    "\n",
    "# RdYlGn\n",
    "\n",
    "sns.set_style('whitegrid')\n",
    "%matplotlib inline\n",
    "\n",
    "import warnings\n",
    "warnings.filterwarnings('ignore')"
   ]
  },
  {
   "cell_type": "code",
   "execution_count": 2,
   "metadata": {
    "scrolled": true
   },
   "outputs": [],
   "source": [
    "country = 'japan/'\n",
    "path = '../datasets/'\n",
    "\n",
    "calendar = pd.read_csv(path + country + 'calendar.csv')\n",
    "listing = pd.read_csv(path + country + 'listings.csv')\n",
    "neighbourhood = pd.read_csv(path + country + 'neighbourhoods.csv')\n",
    "reviews = pd.read_csv(path + country + 'reviews.csv')"
   ]
  },
  {
   "cell_type": "code",
   "execution_count": 3,
   "metadata": {},
   "outputs": [],
   "source": [
    "# # show all rows and columns\n",
    "# pd.set_option('display.max_columns', None)\n",
    "# pd.set_option('display.max_rows', None)"
   ]
  },
  {
   "cell_type": "markdown",
   "metadata": {},
   "source": [
    "## <span style='background:yellow'> 2. Initial Exploratory Analysis </span>\n",
    "Evaluate the current state of the data"
   ]
  },
  {
   "cell_type": "markdown",
   "metadata": {},
   "source": [
    "##### Defining Functions"
   ]
  },
  {
   "cell_type": "code",
   "execution_count": 4,
   "metadata": {},
   "outputs": [],
   "source": [
    "def eda(dataframe):\n",
    "    \n",
    "    \"\"\"Runs basic EDA on dataframe.\"\"\"\n",
    "    \n",
    "    print(\"DF shape: \", dataframe.shape)\n",
    "    print(\"\")\n",
    "    print(\"DF types:\\n\", dataframe.dtypes)\n",
    "    print(\"***********************************************************************************\")\n",
    "    print(\"\")\n",
    "    print(\"DF describe: \\n\", dataframe.describe())\n",
    "    print(\"***********************************************************************************\")\n",
    "    print(\"\")\n",
    "    print(\"DF describe: \\n\", dataframe.describe(exclude=np.number).T)\n",
    "    print(\"***********************************************************************************\")\n",
    "    print(\"\")\n",
    "    print(\"Missing values: \\n\", \n",
    "          (dataframe.isnull().sum())[dataframe.isnull().sum()>0].sort_values(ascending=False))\n",
    "    print(\"***********************************************************************************\")\n",
    "    print(\"\")\n",
    "    print(\"duplicate values: \", dataframe.duplicated().sum())\n",
    "    print(\"***********************************************************************************\")\n",
    "    print(\"\")\n",
    "    #check if column is unique\n",
    "    for i in dataframe.columns:\n",
    "        print('{} is unique: {}'.format(i, dataframe[i].is_unique))\n",
    "    print(\"***********************************************************************************\")\n",
    "    print(\"***********************************************************************************\")\n",
    "    print(\"\")"
   ]
  },
  {
   "cell_type": "markdown",
   "metadata": {},
   "source": [
    "### <span style='background:yellow'> 2.1. Calendar Dataset</span>"
   ]
  },
  {
   "cell_type": "code",
   "execution_count": 5,
   "metadata": {},
   "outputs": [
    {
     "name": "stdout",
     "output_type": "stream",
     "text": [
      "DF shape:  (5478916, 7)\n",
      "\n",
      "DF types:\n",
      " listing_id          int64\n",
      "date               object\n",
      "available          object\n",
      "price              object\n",
      "adjusted_price     object\n",
      "minimum_nights    float64\n",
      "maximum_nights    float64\n",
      "dtype: object\n",
      "***********************************************************************************\n",
      "\n",
      "DF describe: \n",
      "          listing_id  minimum_nights  maximum_nights\n",
      "count  5.478916e+06    5.478304e+06    5.478304e+06\n",
      "mean   3.171776e+07    3.755993e+00    7.605496e+02\n",
      "std    9.436219e+06    9.781669e+00    4.582027e+02\n",
      "min    3.530300e+04    1.000000e+00    1.000000e+00\n",
      "25%    2.651004e+07    1.000000e+00    3.650000e+02\n",
      "50%    3.344028e+07    1.000000e+00    1.125000e+03\n",
      "75%    3.967955e+07    2.000000e+00    1.125000e+03\n",
      "max    4.357856e+07    3.650000e+02    1.163000e+03\n",
      "***********************************************************************************\n",
      "\n",
      "DF describe: \n",
      "                   count unique         top     freq\n",
      "date            5478916    366  2021-03-21    15009\n",
      "available       5478916      2           f  3057977\n",
      "price           5478916  26942  $10,000.00   247827\n",
      "adjusted_price  5478916  27359  $10,000.00   231993\n",
      "***********************************************************************************\n",
      "\n",
      "Missing values: \n",
      " maximum_nights    612\n",
      "minimum_nights    612\n",
      "dtype: int64\n",
      "***********************************************************************************\n",
      "\n",
      "duplicate values:  0\n",
      "***********************************************************************************\n",
      "\n",
      "listing_id is unique: False\n",
      "date is unique: False\n",
      "available is unique: False\n",
      "price is unique: False\n",
      "adjusted_price is unique: False\n",
      "minimum_nights is unique: False\n",
      "maximum_nights is unique: False\n",
      "***********************************************************************************\n",
      "***********************************************************************************\n",
      "\n"
     ]
    }
   ],
   "source": [
    "eda(calendar)"
   ]
  },
  {
   "cell_type": "code",
   "execution_count": 6,
   "metadata": {},
   "outputs": [
    {
     "data": {
      "text/html": [
       "<div>\n",
       "<style scoped>\n",
       "    .dataframe tbody tr th:only-of-type {\n",
       "        vertical-align: middle;\n",
       "    }\n",
       "\n",
       "    .dataframe tbody tr th {\n",
       "        vertical-align: top;\n",
       "    }\n",
       "\n",
       "    .dataframe thead th {\n",
       "        text-align: right;\n",
       "    }\n",
       "</style>\n",
       "<table border=\"1\" class=\"dataframe\">\n",
       "  <thead>\n",
       "    <tr style=\"text-align: right;\">\n",
       "      <th></th>\n",
       "      <th>listing_id</th>\n",
       "      <th>date</th>\n",
       "      <th>available</th>\n",
       "      <th>price</th>\n",
       "      <th>adjusted_price</th>\n",
       "      <th>minimum_nights</th>\n",
       "      <th>maximum_nights</th>\n",
       "    </tr>\n",
       "  </thead>\n",
       "  <tbody>\n",
       "    <tr>\n",
       "      <th>0</th>\n",
       "      <td>3395898</td>\n",
       "      <td>2020-05-30</td>\n",
       "      <td>f</td>\n",
       "      <td>$5,000.00</td>\n",
       "      <td>$5,000.00</td>\n",
       "      <td>28.0</td>\n",
       "      <td>1125.0</td>\n",
       "    </tr>\n",
       "    <tr>\n",
       "      <th>1</th>\n",
       "      <td>5262640</td>\n",
       "      <td>2020-05-30</td>\n",
       "      <td>t</td>\n",
       "      <td>$4,515.00</td>\n",
       "      <td>$4,515.00</td>\n",
       "      <td>3.0</td>\n",
       "      <td>1125.0</td>\n",
       "    </tr>\n",
       "    <tr>\n",
       "      <th>2</th>\n",
       "      <td>5262640</td>\n",
       "      <td>2020-05-31</td>\n",
       "      <td>t</td>\n",
       "      <td>$4,515.00</td>\n",
       "      <td>$4,515.00</td>\n",
       "      <td>3.0</td>\n",
       "      <td>1125.0</td>\n",
       "    </tr>\n",
       "    <tr>\n",
       "      <th>3</th>\n",
       "      <td>5262640</td>\n",
       "      <td>2020-06-01</td>\n",
       "      <td>t</td>\n",
       "      <td>$4,515.00</td>\n",
       "      <td>$4,515.00</td>\n",
       "      <td>3.0</td>\n",
       "      <td>1125.0</td>\n",
       "    </tr>\n",
       "    <tr>\n",
       "      <th>4</th>\n",
       "      <td>5262640</td>\n",
       "      <td>2020-06-02</td>\n",
       "      <td>t</td>\n",
       "      <td>$4,515.00</td>\n",
       "      <td>$4,515.00</td>\n",
       "      <td>3.0</td>\n",
       "      <td>1125.0</td>\n",
       "    </tr>\n",
       "  </tbody>\n",
       "</table>\n",
       "</div>"
      ],
      "text/plain": [
       "   listing_id        date available      price adjusted_price  minimum_nights  \\\n",
       "0     3395898  2020-05-30         f  $5,000.00      $5,000.00            28.0   \n",
       "1     5262640  2020-05-30         t  $4,515.00      $4,515.00             3.0   \n",
       "2     5262640  2020-05-31         t  $4,515.00      $4,515.00             3.0   \n",
       "3     5262640  2020-06-01         t  $4,515.00      $4,515.00             3.0   \n",
       "4     5262640  2020-06-02         t  $4,515.00      $4,515.00             3.0   \n",
       "\n",
       "   maximum_nights  \n",
       "0          1125.0  \n",
       "1          1125.0  \n",
       "2          1125.0  \n",
       "3          1125.0  \n",
       "4          1125.0  "
      ]
     },
     "execution_count": 6,
     "metadata": {},
     "output_type": "execute_result"
    }
   ],
   "source": [
    "calendar.head()"
   ]
  },
  {
   "cell_type": "code",
   "execution_count": 7,
   "metadata": {
    "scrolled": true
   },
   "outputs": [
    {
     "name": "stdout",
     "output_type": "stream",
     "text": [
      "2020-05-30\n",
      "2021-05-30\n"
     ]
    }
   ],
   "source": [
    "print(calendar['date'].min())\n",
    "print(calendar['date'].max())"
   ]
  },
  {
   "cell_type": "markdown",
   "metadata": {},
   "source": [
    "<div class=\"alert alert-block alert-success\">\n",
    "\n",
    "<b> Calendar Dataset Observations: </b>\n",
    "- calendar ranged from 2020-05-30 to 21-05-30\n",
    "- most likely t and f represents true and false\n",
    "- columns that might be useful \n",
    "    - listing_id (to combine with other datasets)\n",
    "    - date\n",
    "    - available\n",
    "    - price\n",
    "\n",
    "<b> To-Dos: </b>\n",
    "- convert date object to datetime\n",
    "- remove $, from price column\n",
    "- get dummy for available column\n",
    "- replace t and f value to 1s and 0s\n",
    "- fill Null values fro minimum and maximum nights\n",
    "</div>"
   ]
  },
  {
   "cell_type": "markdown",
   "metadata": {},
   "source": [
    "### <span style='background:yellow'> 2.2. Listing Dataset </span>"
   ]
  },
  {
   "cell_type": "code",
   "execution_count": 8,
   "metadata": {
    "scrolled": false
   },
   "outputs": [
    {
     "name": "stdout",
     "output_type": "stream",
     "text": [
      "DF shape:  (15009, 106)\n",
      "\n",
      "DF types:\n",
      " id                                                int64\n",
      "listing_url                                      object\n",
      "scrape_id                                         int64\n",
      "last_scraped                                     object\n",
      "name                                             object\n",
      "                                                 ...   \n",
      "calculated_host_listings_count                    int64\n",
      "calculated_host_listings_count_entire_homes       int64\n",
      "calculated_host_listings_count_private_rooms      int64\n",
      "calculated_host_listings_count_shared_rooms       int64\n",
      "reviews_per_month                               float64\n",
      "Length: 106, dtype: object\n",
      "***********************************************************************************\n",
      "\n",
      "DF describe: \n",
      "                  id     scrape_id  thumbnail_url  medium_url  xl_picture_url  \\\n",
      "count  1.500900e+04  1.500900e+04            0.0         0.0             0.0   \n",
      "mean   3.171782e+07  2.020053e+13            NaN         NaN             NaN   \n",
      "std    9.436473e+06  3.523555e+00            NaN         NaN             NaN   \n",
      "min    3.530300e+04  2.020053e+13            NaN         NaN             NaN   \n",
      "25%    2.651004e+07  2.020053e+13            NaN         NaN             NaN   \n",
      "50%    3.344028e+07  2.020053e+13            NaN         NaN             NaN   \n",
      "75%    3.967955e+07  2.020053e+13            NaN         NaN             NaN   \n",
      "max    4.357856e+07  2.020053e+13            NaN         NaN             NaN   \n",
      "\n",
      "            host_id  host_listings_count  host_total_listings_count  \\\n",
      "count  1.500900e+04         15002.000000               15002.000000   \n",
      "mean   1.704263e+08            15.065791                  15.065791   \n",
      "std    1.005129e+08            22.937756                  22.937756   \n",
      "min    1.519770e+05             0.000000                   0.000000   \n",
      "25%    7.061679e+07             3.000000                   3.000000   \n",
      "50%    1.857782e+08             7.000000                   7.000000   \n",
      "75%    2.529105e+08            17.000000                  17.000000   \n",
      "max    3.469412e+08           136.000000                 136.000000   \n",
      "\n",
      "       neighbourhood_group_cleansed      latitude  ...  review_scores_checkin  \\\n",
      "count                           0.0  15009.000000  ...           12342.000000   \n",
      "mean                            NaN     35.694697  ...               9.682953   \n",
      "std                             NaN      0.143989  ...               0.687815   \n",
      "min                             NaN     27.072330  ...               2.000000   \n",
      "25%                             NaN     35.685800  ...              10.000000   \n",
      "50%                             NaN     35.702810  ...              10.000000   \n",
      "75%                             NaN     35.724600  ...              10.000000   \n",
      "max                             NaN     35.832430  ...              10.000000   \n",
      "\n",
      "       review_scores_communication  review_scores_location  \\\n",
      "count                 12342.000000            12342.000000   \n",
      "mean                      9.695430                9.454626   \n",
      "std                       0.699481                0.742741   \n",
      "min                       2.000000                2.000000   \n",
      "25%                      10.000000                9.000000   \n",
      "50%                      10.000000               10.000000   \n",
      "75%                      10.000000               10.000000   \n",
      "max                      10.000000               10.000000   \n",
      "\n",
      "       review_scores_value  jurisdiction_names  \\\n",
      "count         12342.000000                 0.0   \n",
      "mean              9.261789                 NaN   \n",
      "std               0.814401                 NaN   \n",
      "min               2.000000                 NaN   \n",
      "25%               9.000000                 NaN   \n",
      "50%               9.000000                 NaN   \n",
      "75%              10.000000                 NaN   \n",
      "max              10.000000                 NaN   \n",
      "\n",
      "       calculated_host_listings_count  \\\n",
      "count                    15009.000000   \n",
      "mean                        13.563262   \n",
      "std                         16.145016   \n",
      "min                          1.000000   \n",
      "25%                          3.000000   \n",
      "50%                          8.000000   \n",
      "75%                         18.000000   \n",
      "max                         95.000000   \n",
      "\n",
      "       calculated_host_listings_count_entire_homes  \\\n",
      "count                                 15009.000000   \n",
      "mean                                      8.937371   \n",
      "std                                      13.132553   \n",
      "min                                       0.000000   \n",
      "25%                                       1.000000   \n",
      "50%                                       4.000000   \n",
      "75%                                      11.000000   \n",
      "max                                      71.000000   \n",
      "\n",
      "       calculated_host_listings_count_private_rooms  \\\n",
      "count                                  15009.000000   \n",
      "mean                                       2.815044   \n",
      "std                                        8.973741   \n",
      "min                                        0.000000   \n",
      "25%                                        0.000000   \n",
      "50%                                        0.000000   \n",
      "75%                                        2.000000   \n",
      "max                                       95.000000   \n",
      "\n",
      "       calculated_host_listings_count_shared_rooms  reviews_per_month  \n",
      "count                                 15009.000000       12366.000000  \n",
      "mean                                      0.652475           1.565028  \n",
      "std                                       2.998948           1.297347  \n",
      "min                                       0.000000           0.020000  \n",
      "25%                                       0.000000           0.600000  \n",
      "50%                                       0.000000           1.360000  \n",
      "75%                                       0.000000           2.240000  \n",
      "max                                      35.000000          40.080000  \n",
      "\n",
      "[8 rows x 44 columns]\n",
      "***********************************************************************************\n",
      "\n",
      "DF describe: \n",
      "                                   count unique  \\\n",
      "listing_url                       15009  15009   \n",
      "last_scraped                      15009      2   \n",
      "name                              15009  13829   \n",
      "summary                           14897   8826   \n",
      "space                             13264   8486   \n",
      "...                                 ...    ...   \n",
      "instant_bookable                  15009      2   \n",
      "is_business_travel_ready          15009      1   \n",
      "cancellation_policy               15009      6   \n",
      "require_guest_profile_picture     15009      2   \n",
      "require_guest_phone_verification  15009      2   \n",
      "\n",
      "                                                                                top  \\\n",
      "listing_url                                   https://www.airbnb.com/rooms/42522516   \n",
      "last_scraped                                                             2020-05-30   \n",
      "name                              10㎡ Convenient Private Bath 1min Ikebukuro C1 ...   \n",
      "summary                           Hello! Welcome to Tokyo! This is a dormitory h...   \n",
      "space                             ★Hotel★ This listing is for 【men only】. You ca...   \n",
      "...                                                                             ...   \n",
      "instant_bookable                                                                  t   \n",
      "is_business_travel_ready                                                          f   \n",
      "cancellation_policy                                     strict_14_with_grace_period   \n",
      "require_guest_profile_picture                                                     f   \n",
      "require_guest_phone_verification                                                  f   \n",
      "\n",
      "                                   freq  \n",
      "listing_url                           1  \n",
      "last_scraped                      13292  \n",
      "name                                 27  \n",
      "summary                              89  \n",
      "space                                48  \n",
      "...                                 ...  \n",
      "instant_bookable                  11975  \n",
      "is_business_travel_ready          15009  \n",
      "cancellation_policy                9787  \n",
      "require_guest_profile_picture     14985  \n",
      "require_guest_phone_verification  14991  \n",
      "\n",
      "[62 rows x 4 columns]\n",
      "***********************************************************************************\n",
      "\n",
      "Missing values: \n",
      " neighbourhood_group_cleansed    15009\n",
      "medium_url                      15009\n",
      "thumbnail_url                   15009\n",
      "xl_picture_url                  15009\n",
      "jurisdiction_names              15009\n",
      "square_feet                     14998\n",
      "monthly_price                   14835\n",
      "weekly_price                    14824\n",
      "house_rules                      6494\n",
      "host_about                       4434\n",
      "access                           4179\n",
      "notes                            3936\n",
      "interaction                      3685\n",
      "review_scores_location           2667\n",
      "review_scores_communication      2667\n",
      "review_scores_checkin            2667\n",
      "review_scores_cleanliness        2667\n",
      "review_scores_accuracy           2667\n",
      "review_scores_rating             2667\n",
      "review_scores_value              2667\n",
      "host_neighbourhood               2661\n",
      "neighborhood_overview            2651\n",
      "reviews_per_month                2643\n",
      "first_review                     2643\n",
      "last_review                      2643\n",
      "transit                          1952\n",
      "host_response_rate               1851\n",
      "host_response_time               1851\n",
      "space                            1745\n",
      "neighbourhood                    1482\n",
      "security_deposit                 1262\n",
      "zipcode                           968\n",
      "cleaning_fee                      702\n",
      "host_acceptance_rate              435\n",
      "state                             218\n",
      "summary                           112\n",
      "description                        92\n",
      "city                               51\n",
      "beds                               42\n",
      "bedrooms                           23\n",
      "license                            11\n",
      "host_is_superhost                   7\n",
      "host_thumbnail_url                  7\n",
      "host_has_profile_pic                7\n",
      "host_total_listings_count           7\n",
      "host_listings_count                 7\n",
      "host_picture_url                    7\n",
      "host_name                           7\n",
      "host_since                          7\n",
      "host_location                       7\n",
      "host_identity_verified              7\n",
      "bathrooms                           4\n",
      "market                              1\n",
      "dtype: int64\n",
      "***********************************************************************************\n",
      "\n"
     ]
    },
    {
     "name": "stdout",
     "output_type": "stream",
     "text": [
      "duplicate values:  0\n",
      "***********************************************************************************\n",
      "\n",
      "id is unique: True\n",
      "listing_url is unique: True\n",
      "scrape_id is unique: False\n",
      "last_scraped is unique: False\n",
      "name is unique: False\n",
      "summary is unique: False\n",
      "space is unique: False\n",
      "description is unique: False\n",
      "experiences_offered is unique: False\n",
      "neighborhood_overview is unique: False\n",
      "notes is unique: False\n",
      "transit is unique: False\n",
      "access is unique: False\n",
      "interaction is unique: False\n",
      "house_rules is unique: False\n",
      "thumbnail_url is unique: False\n",
      "medium_url is unique: False\n",
      "picture_url is unique: False\n",
      "xl_picture_url is unique: False\n",
      "host_id is unique: False\n",
      "host_url is unique: False\n",
      "host_name is unique: False\n",
      "host_since is unique: False\n",
      "host_location is unique: False\n",
      "host_about is unique: False\n",
      "host_response_time is unique: False\n",
      "host_response_rate is unique: False\n",
      "host_acceptance_rate is unique: False\n",
      "host_is_superhost is unique: False\n",
      "host_thumbnail_url is unique: False\n",
      "host_picture_url is unique: False\n",
      "host_neighbourhood is unique: False\n",
      "host_listings_count is unique: False\n",
      "host_total_listings_count is unique: False\n",
      "host_verifications is unique: False\n",
      "host_has_profile_pic is unique: False\n",
      "host_identity_verified is unique: False\n",
      "street is unique: False\n",
      "neighbourhood is unique: False\n",
      "neighbourhood_cleansed is unique: False\n",
      "neighbourhood_group_cleansed is unique: False\n",
      "city is unique: False\n",
      "state is unique: False\n",
      "zipcode is unique: False\n",
      "market is unique: False\n",
      "smart_location is unique: False\n",
      "country_code is unique: False\n",
      "country is unique: False\n",
      "latitude is unique: False\n",
      "longitude is unique: False\n",
      "is_location_exact is unique: False\n",
      "property_type is unique: False\n",
      "room_type is unique: False\n",
      "accommodates is unique: False\n",
      "bathrooms is unique: False\n",
      "bedrooms is unique: False\n",
      "beds is unique: False\n",
      "bed_type is unique: False\n",
      "amenities is unique: False\n",
      "square_feet is unique: False\n",
      "price is unique: False\n",
      "weekly_price is unique: False\n",
      "monthly_price is unique: False\n",
      "security_deposit is unique: False\n",
      "cleaning_fee is unique: False\n",
      "guests_included is unique: False\n",
      "extra_people is unique: False\n",
      "minimum_nights is unique: False\n",
      "maximum_nights is unique: False\n",
      "minimum_minimum_nights is unique: False\n",
      "maximum_minimum_nights is unique: False\n",
      "minimum_maximum_nights is unique: False\n",
      "maximum_maximum_nights is unique: False\n",
      "minimum_nights_avg_ntm is unique: False\n",
      "maximum_nights_avg_ntm is unique: False\n",
      "calendar_updated is unique: False\n",
      "has_availability is unique: False\n",
      "availability_30 is unique: False\n",
      "availability_60 is unique: False\n",
      "availability_90 is unique: False\n",
      "availability_365 is unique: False\n",
      "calendar_last_scraped is unique: False\n",
      "number_of_reviews is unique: False\n",
      "number_of_reviews_ltm is unique: False\n",
      "first_review is unique: False\n",
      "last_review is unique: False\n",
      "review_scores_rating is unique: False\n",
      "review_scores_accuracy is unique: False\n",
      "review_scores_cleanliness is unique: False\n",
      "review_scores_checkin is unique: False\n",
      "review_scores_communication is unique: False\n",
      "review_scores_location is unique: False\n",
      "review_scores_value is unique: False\n",
      "requires_license is unique: False\n",
      "license is unique: False\n",
      "jurisdiction_names is unique: False\n",
      "instant_bookable is unique: False\n",
      "is_business_travel_ready is unique: False\n",
      "cancellation_policy is unique: False\n",
      "require_guest_profile_picture is unique: False\n",
      "require_guest_phone_verification is unique: False\n",
      "calculated_host_listings_count is unique: False\n",
      "calculated_host_listings_count_entire_homes is unique: False\n",
      "calculated_host_listings_count_private_rooms is unique: False\n",
      "calculated_host_listings_count_shared_rooms is unique: False\n",
      "reviews_per_month is unique: False\n",
      "***********************************************************************************\n",
      "***********************************************************************************\n",
      "\n"
     ]
    }
   ],
   "source": [
    "eda(listing)"
   ]
  },
  {
   "cell_type": "code",
   "execution_count": 9,
   "metadata": {
    "scrolled": false
   },
   "outputs": [
    {
     "data": {
      "text/html": [
       "<div>\n",
       "<style scoped>\n",
       "    .dataframe tbody tr th:only-of-type {\n",
       "        vertical-align: middle;\n",
       "    }\n",
       "\n",
       "    .dataframe tbody tr th {\n",
       "        vertical-align: top;\n",
       "    }\n",
       "\n",
       "    .dataframe thead th {\n",
       "        text-align: right;\n",
       "    }\n",
       "</style>\n",
       "<table border=\"1\" class=\"dataframe\">\n",
       "  <thead>\n",
       "    <tr style=\"text-align: right;\">\n",
       "      <th></th>\n",
       "      <th>0</th>\n",
       "      <th>1</th>\n",
       "      <th>2</th>\n",
       "      <th>3</th>\n",
       "      <th>4</th>\n",
       "    </tr>\n",
       "  </thead>\n",
       "  <tbody>\n",
       "    <tr>\n",
       "      <th>id</th>\n",
       "      <td>35303</td>\n",
       "      <td>197677</td>\n",
       "      <td>289597</td>\n",
       "      <td>370759</td>\n",
       "      <td>700253</td>\n",
       "    </tr>\n",
       "    <tr>\n",
       "      <th>listing_url</th>\n",
       "      <td>https://www.airbnb.com/rooms/35303</td>\n",
       "      <td>https://www.airbnb.com/rooms/197677</td>\n",
       "      <td>https://www.airbnb.com/rooms/289597</td>\n",
       "      <td>https://www.airbnb.com/rooms/370759</td>\n",
       "      <td>https://www.airbnb.com/rooms/700253</td>\n",
       "    </tr>\n",
       "    <tr>\n",
       "      <th>scrape_id</th>\n",
       "      <td>20200530034812</td>\n",
       "      <td>20200530034812</td>\n",
       "      <td>20200530034812</td>\n",
       "      <td>20200530034812</td>\n",
       "      <td>20200530034812</td>\n",
       "    </tr>\n",
       "    <tr>\n",
       "      <th>last_scraped</th>\n",
       "      <td>2020-05-30</td>\n",
       "      <td>2020-05-30</td>\n",
       "      <td>2020-05-30</td>\n",
       "      <td>2020-05-30</td>\n",
       "      <td>2020-05-30</td>\n",
       "    </tr>\n",
       "    <tr>\n",
       "      <th>name</th>\n",
       "      <td>La Casa Gaienmae C Harajuku, Omotesando is nearby</td>\n",
       "      <td>Oshiage Holiday Apartment</td>\n",
       "      <td>Private apt in central Tokyo #203</td>\n",
       "      <td>Cozy flat #203, local area YET 10 mins to shib...</td>\n",
       "      <td>Private apt in central Tokyo #201</td>\n",
       "    </tr>\n",
       "    <tr>\n",
       "      <th>...</th>\n",
       "      <td>...</td>\n",
       "      <td>...</td>\n",
       "      <td>...</td>\n",
       "      <td>...</td>\n",
       "      <td>...</td>\n",
       "    </tr>\n",
       "    <tr>\n",
       "      <th>calculated_host_listings_count</th>\n",
       "      <td>3</td>\n",
       "      <td>1</td>\n",
       "      <td>2</td>\n",
       "      <td>3</td>\n",
       "      <td>2</td>\n",
       "    </tr>\n",
       "    <tr>\n",
       "      <th>calculated_host_listings_count_entire_homes</th>\n",
       "      <td>2</td>\n",
       "      <td>1</td>\n",
       "      <td>2</td>\n",
       "      <td>3</td>\n",
       "      <td>2</td>\n",
       "    </tr>\n",
       "    <tr>\n",
       "      <th>calculated_host_listings_count_private_rooms</th>\n",
       "      <td>1</td>\n",
       "      <td>0</td>\n",
       "      <td>0</td>\n",
       "      <td>0</td>\n",
       "      <td>0</td>\n",
       "    </tr>\n",
       "    <tr>\n",
       "      <th>calculated_host_listings_count_shared_rooms</th>\n",
       "      <td>0</td>\n",
       "      <td>0</td>\n",
       "      <td>0</td>\n",
       "      <td>0</td>\n",
       "      <td>0</td>\n",
       "    </tr>\n",
       "    <tr>\n",
       "      <th>reviews_per_month</th>\n",
       "      <td>0.18</td>\n",
       "      <td>1.56</td>\n",
       "      <td>1.17</td>\n",
       "      <td>1.37</td>\n",
       "      <td>1.12</td>\n",
       "    </tr>\n",
       "  </tbody>\n",
       "</table>\n",
       "<p>106 rows × 5 columns</p>\n",
       "</div>"
      ],
      "text/plain": [
       "                                                                                              0  \\\n",
       "id                                                                                        35303   \n",
       "listing_url                                                  https://www.airbnb.com/rooms/35303   \n",
       "scrape_id                                                                        20200530034812   \n",
       "last_scraped                                                                         2020-05-30   \n",
       "name                                          La Casa Gaienmae C Harajuku, Omotesando is nearby   \n",
       "...                                                                                         ...   \n",
       "calculated_host_listings_count                                                                3   \n",
       "calculated_host_listings_count_entire_homes                                                   2   \n",
       "calculated_host_listings_count_private_rooms                                                  1   \n",
       "calculated_host_listings_count_shared_rooms                                                   0   \n",
       "reviews_per_month                                                                          0.18   \n",
       "\n",
       "                                                                                1  \\\n",
       "id                                                                         197677   \n",
       "listing_url                                   https://www.airbnb.com/rooms/197677   \n",
       "scrape_id                                                          20200530034812   \n",
       "last_scraped                                                           2020-05-30   \n",
       "name                                                    Oshiage Holiday Apartment   \n",
       "...                                                                           ...   \n",
       "calculated_host_listings_count                                                  1   \n",
       "calculated_host_listings_count_entire_homes                                     1   \n",
       "calculated_host_listings_count_private_rooms                                    0   \n",
       "calculated_host_listings_count_shared_rooms                                     0   \n",
       "reviews_per_month                                                            1.56   \n",
       "\n",
       "                                                                                2  \\\n",
       "id                                                                         289597   \n",
       "listing_url                                   https://www.airbnb.com/rooms/289597   \n",
       "scrape_id                                                          20200530034812   \n",
       "last_scraped                                                           2020-05-30   \n",
       "name                                            Private apt in central Tokyo #203   \n",
       "...                                                                           ...   \n",
       "calculated_host_listings_count                                                  2   \n",
       "calculated_host_listings_count_entire_homes                                     2   \n",
       "calculated_host_listings_count_private_rooms                                    0   \n",
       "calculated_host_listings_count_shared_rooms                                     0   \n",
       "reviews_per_month                                                            1.17   \n",
       "\n",
       "                                                                                              3  \\\n",
       "id                                                                                       370759   \n",
       "listing_url                                                 https://www.airbnb.com/rooms/370759   \n",
       "scrape_id                                                                        20200530034812   \n",
       "last_scraped                                                                         2020-05-30   \n",
       "name                                          Cozy flat #203, local area YET 10 mins to shib...   \n",
       "...                                                                                         ...   \n",
       "calculated_host_listings_count                                                                3   \n",
       "calculated_host_listings_count_entire_homes                                                   3   \n",
       "calculated_host_listings_count_private_rooms                                                  0   \n",
       "calculated_host_listings_count_shared_rooms                                                   0   \n",
       "reviews_per_month                                                                          1.37   \n",
       "\n",
       "                                                                                4  \n",
       "id                                                                         700253  \n",
       "listing_url                                   https://www.airbnb.com/rooms/700253  \n",
       "scrape_id                                                          20200530034812  \n",
       "last_scraped                                                           2020-05-30  \n",
       "name                                            Private apt in central Tokyo #201  \n",
       "...                                                                           ...  \n",
       "calculated_host_listings_count                                                  2  \n",
       "calculated_host_listings_count_entire_homes                                     2  \n",
       "calculated_host_listings_count_private_rooms                                    0  \n",
       "calculated_host_listings_count_shared_rooms                                     0  \n",
       "reviews_per_month                                                            1.12  \n",
       "\n",
       "[106 rows x 5 columns]"
      ]
     },
     "execution_count": 9,
     "metadata": {},
     "output_type": "execute_result"
    }
   ],
   "source": [
    "listing.head().T"
   ]
  },
  {
   "cell_type": "markdown",
   "metadata": {},
   "source": [
    "<div class=\"alert alert-block alert-success\">\n",
    "\n",
    "<b> Observations: </b>\n",
    "- Dataset consist of 15009 listings \n",
    "- has over 100 features\n",
    "\n",
    "<b> To-Dos: </b>\n",
    "- To dropping columns (entirely made up of NaNs): \n",
    "    - neighbourhood_group_cleansed,\n",
    "    - medium_url, \n",
    "    - thumbnail_url, \n",
    "    - xl_picture_url, \n",
    "    - jurisdiction_names\n",
    "    - experiences_offered\n",
    "- consider dropping columns(consist of only about 100 data):\n",
    "    - square_feet \n",
    "    - monthly_price\n",
    "    - weekly_price\n",
    "- consider dropping columns that are text focused\n",
    "- drop rows with mostly null value\n",
    "- replace t and f value to 1s and 0s\n",
    "- one hot coding for categorical variables, for example\n",
    "    - cancellation policy ('strict_14_with_grace_period', 'moderate', 'flexible', 'strict',\n",
    "       'super_strict_60', 'super_strict_30')\n",
    "    - property_type\n",
    "    - room_type\n",
    "- clean columns with $ \n",
    "- review scores - imputate with median\n",
    "</div>"
   ]
  },
  {
   "cell_type": "markdown",
   "metadata": {},
   "source": [
    "### <span style='background:yellow'> 2.3. Neighbourhood Dataset </span>"
   ]
  },
  {
   "cell_type": "code",
   "execution_count": 10,
   "metadata": {},
   "outputs": [
    {
     "name": "stdout",
     "output_type": "stream",
     "text": [
      "DF shape:  (62, 2)\n",
      "\n",
      "DF types:\n",
      " neighbourhood_group    float64\n",
      "neighbourhood           object\n",
      "dtype: object\n",
      "***********************************************************************************\n",
      "\n",
      "DF describe: \n",
      "        neighbourhood_group\n",
      "count                  0.0\n",
      "mean                   NaN\n",
      "std                    NaN\n",
      "min                    NaN\n",
      "25%                    NaN\n",
      "50%                    NaN\n",
      "75%                    NaN\n",
      "max                    NaN\n",
      "***********************************************************************************\n",
      "\n",
      "DF describe: \n",
      "               count unique            top freq\n",
      "neighbourhood    62     62  Okutama Machi    1\n",
      "***********************************************************************************\n",
      "\n",
      "Missing values: \n",
      " neighbourhood_group    62\n",
      "dtype: int64\n",
      "***********************************************************************************\n",
      "\n",
      "duplicate values:  0\n",
      "***********************************************************************************\n",
      "\n",
      "neighbourhood_group is unique: False\n",
      "neighbourhood is unique: True\n",
      "***********************************************************************************\n",
      "***********************************************************************************\n",
      "\n"
     ]
    }
   ],
   "source": [
    "eda(neighbourhood)"
   ]
  },
  {
   "cell_type": "code",
   "execution_count": 11,
   "metadata": {
    "scrolled": true
   },
   "outputs": [
    {
     "data": {
      "text/html": [
       "<div>\n",
       "<style scoped>\n",
       "    .dataframe tbody tr th:only-of-type {\n",
       "        vertical-align: middle;\n",
       "    }\n",
       "\n",
       "    .dataframe tbody tr th {\n",
       "        vertical-align: top;\n",
       "    }\n",
       "\n",
       "    .dataframe thead th {\n",
       "        text-align: right;\n",
       "    }\n",
       "</style>\n",
       "<table border=\"1\" class=\"dataframe\">\n",
       "  <thead>\n",
       "    <tr style=\"text-align: right;\">\n",
       "      <th></th>\n",
       "      <th>neighbourhood_group</th>\n",
       "      <th>neighbourhood</th>\n",
       "    </tr>\n",
       "  </thead>\n",
       "  <tbody>\n",
       "    <tr>\n",
       "      <th>0</th>\n",
       "      <td>NaN</td>\n",
       "      <td>Adachi Ku</td>\n",
       "    </tr>\n",
       "    <tr>\n",
       "      <th>1</th>\n",
       "      <td>NaN</td>\n",
       "      <td>Akiruno Shi</td>\n",
       "    </tr>\n",
       "    <tr>\n",
       "      <th>2</th>\n",
       "      <td>NaN</td>\n",
       "      <td>Akishima Shi</td>\n",
       "    </tr>\n",
       "    <tr>\n",
       "      <th>3</th>\n",
       "      <td>NaN</td>\n",
       "      <td>Aogashima Mura</td>\n",
       "    </tr>\n",
       "    <tr>\n",
       "      <th>4</th>\n",
       "      <td>NaN</td>\n",
       "      <td>Arakawa Ku</td>\n",
       "    </tr>\n",
       "  </tbody>\n",
       "</table>\n",
       "</div>"
      ],
      "text/plain": [
       "   neighbourhood_group   neighbourhood\n",
       "0                  NaN       Adachi Ku\n",
       "1                  NaN     Akiruno Shi\n",
       "2                  NaN    Akishima Shi\n",
       "3                  NaN  Aogashima Mura\n",
       "4                  NaN      Arakawa Ku"
      ]
     },
     "execution_count": 11,
     "metadata": {},
     "output_type": "execute_result"
    }
   ],
   "source": [
    "neighbourhood.head()"
   ]
  },
  {
   "cell_type": "markdown",
   "metadata": {},
   "source": [
    "<div class=\"alert alert-block alert-success\">\n",
    "\n",
    "<b> Neighbourhood Dataset Observations: </b>\n",
    "- fairly simple dataset \n",
    "- total 62 neighbourhood\n",
    "- might not need this dataset for analysis\n",
    "\n",
    "<b> To-Dos: </b>\n",
    "- to drop neighbourhood_group column (fully NaNs)\n",
    "</div>"
   ]
  },
  {
   "cell_type": "markdown",
   "metadata": {},
   "source": [
    "### <span style='background:yellow'> 2.4. Reviews Dataset </span>"
   ]
  },
  {
   "cell_type": "code",
   "execution_count": 12,
   "metadata": {
    "scrolled": false
   },
   "outputs": [
    {
     "name": "stdout",
     "output_type": "stream",
     "text": [
      "DF shape:  (398181, 6)\n",
      "\n",
      "DF types:\n",
      " listing_id        int64\n",
      "id                int64\n",
      "date             object\n",
      "reviewer_id       int64\n",
      "reviewer_name    object\n",
      "comments         object\n",
      "dtype: object\n",
      "***********************************************************************************\n",
      "\n",
      "DF describe: \n",
      "          listing_id            id   reviewer_id\n",
      "count  3.981810e+05  3.981810e+05  3.981810e+05\n",
      "mean   2.205042e+07  3.896922e+08  1.186371e+08\n",
      "std    1.015416e+07  1.666141e+08  8.974241e+07\n",
      "min    3.530300e+04  5.542850e+05  4.840000e+02\n",
      "25%    1.381362e+07  2.535705e+08  4.174010e+07\n",
      "50%    2.243749e+07  4.253372e+08  1.011082e+08\n",
      "75%    3.009148e+07  5.406577e+08  1.822047e+08\n",
      "max    4.343082e+07  6.267388e+08  3.479244e+08\n",
      "***********************************************************************************\n",
      "\n",
      "DF describe: \n",
      "                 count  unique         top  freq\n",
      "date           398181    2542  2019-11-03  1162\n",
      "reviewer_name  398179  103821     Michael  1785\n",
      "comments       397901  383139        Good   572\n",
      "***********************************************************************************\n",
      "\n",
      "Missing values: \n",
      " comments         280\n",
      "reviewer_name      2\n",
      "dtype: int64\n",
      "***********************************************************************************\n",
      "\n",
      "duplicate values:  0\n",
      "***********************************************************************************\n",
      "\n",
      "listing_id is unique: False\n",
      "id is unique: True\n",
      "date is unique: False\n",
      "reviewer_id is unique: False\n",
      "reviewer_name is unique: False\n",
      "comments is unique: False\n",
      "***********************************************************************************\n",
      "***********************************************************************************\n",
      "\n"
     ]
    }
   ],
   "source": [
    "eda(reviews)"
   ]
  },
  {
   "cell_type": "code",
   "execution_count": 13,
   "metadata": {
    "scrolled": true
   },
   "outputs": [
    {
     "data": {
      "text/html": [
       "<div>\n",
       "<style scoped>\n",
       "    .dataframe tbody tr th:only-of-type {\n",
       "        vertical-align: middle;\n",
       "    }\n",
       "\n",
       "    .dataframe tbody tr th {\n",
       "        vertical-align: top;\n",
       "    }\n",
       "\n",
       "    .dataframe thead th {\n",
       "        text-align: right;\n",
       "    }\n",
       "</style>\n",
       "<table border=\"1\" class=\"dataframe\">\n",
       "  <thead>\n",
       "    <tr style=\"text-align: right;\">\n",
       "      <th></th>\n",
       "      <th>listing_id</th>\n",
       "      <th>id</th>\n",
       "      <th>date</th>\n",
       "      <th>reviewer_id</th>\n",
       "      <th>reviewer_name</th>\n",
       "      <th>comments</th>\n",
       "    </tr>\n",
       "  </thead>\n",
       "  <tbody>\n",
       "    <tr>\n",
       "      <th>0</th>\n",
       "      <td>35303</td>\n",
       "      <td>810980</td>\n",
       "      <td>2011-12-28</td>\n",
       "      <td>1502908</td>\n",
       "      <td>Firuz</td>\n",
       "      <td>Miyuki's has been a great host. Helpful and ve...</td>\n",
       "    </tr>\n",
       "    <tr>\n",
       "      <th>1</th>\n",
       "      <td>35303</td>\n",
       "      <td>2467161</td>\n",
       "      <td>2012-10-01</td>\n",
       "      <td>350719</td>\n",
       "      <td>Jordan</td>\n",
       "      <td>Nice apartment in one of the best areas of Tok...</td>\n",
       "    </tr>\n",
       "    <tr>\n",
       "      <th>2</th>\n",
       "      <td>35303</td>\n",
       "      <td>3572628</td>\n",
       "      <td>2013-02-18</td>\n",
       "      <td>4917704</td>\n",
       "      <td>Aymeric</td>\n",
       "      <td>A very nice host and place. The location is in...</td>\n",
       "    </tr>\n",
       "    <tr>\n",
       "      <th>3</th>\n",
       "      <td>35303</td>\n",
       "      <td>3952097</td>\n",
       "      <td>2013-03-30</td>\n",
       "      <td>3243253</td>\n",
       "      <td>Blandine</td>\n",
       "      <td>Miyuki is the most smily face I met when I lan...</td>\n",
       "    </tr>\n",
       "    <tr>\n",
       "      <th>4</th>\n",
       "      <td>35303</td>\n",
       "      <td>4377509</td>\n",
       "      <td>2013-05-01</td>\n",
       "      <td>1536097</td>\n",
       "      <td>Kayleigh</td>\n",
       "      <td>The location's wonderful. It's close to Haraju...</td>\n",
       "    </tr>\n",
       "  </tbody>\n",
       "</table>\n",
       "</div>"
      ],
      "text/plain": [
       "   listing_id       id        date  reviewer_id reviewer_name  \\\n",
       "0       35303   810980  2011-12-28      1502908         Firuz   \n",
       "1       35303  2467161  2012-10-01       350719        Jordan   \n",
       "2       35303  3572628  2013-02-18      4917704       Aymeric   \n",
       "3       35303  3952097  2013-03-30      3243253      Blandine   \n",
       "4       35303  4377509  2013-05-01      1536097      Kayleigh   \n",
       "\n",
       "                                            comments  \n",
       "0  Miyuki's has been a great host. Helpful and ve...  \n",
       "1  Nice apartment in one of the best areas of Tok...  \n",
       "2  A very nice host and place. The location is in...  \n",
       "3  Miyuki is the most smily face I met when I lan...  \n",
       "4  The location's wonderful. It's close to Haraju...  "
      ]
     },
     "execution_count": 13,
     "metadata": {},
     "output_type": "execute_result"
    }
   ],
   "source": [
    "reviews.head()"
   ]
  },
  {
   "cell_type": "code",
   "execution_count": 14,
   "metadata": {},
   "outputs": [
    {
     "name": "stdout",
     "output_type": "stream",
     "text": [
      "2011-09-21\n",
      "2020-05-30\n"
     ]
    }
   ],
   "source": [
    "print(reviews['date'].min())\n",
    "print(reviews['date'].max())"
   ]
  },
  {
   "cell_type": "markdown",
   "metadata": {},
   "source": [
    "<div class=\"alert alert-block alert-success\">\n",
    "\n",
    "<b> Reviews Dataset Observations: </b>\n",
    "- there are 398181 reviews\n",
    "- dated from 2011-09-21 to 2020-05-30\n",
    "- 280 missing comments\n",
    "\n",
    "<b> To dos: </b>\n",
    "\n",
    "- convert date object to datetime\n",
    "- clean comments\n",
    "\n",
    "</div>"
   ]
  },
  {
   "cell_type": "markdown",
   "metadata": {},
   "source": [
    "## <span style='background:yellow'> 3. Data Cleaning </span>"
   ]
  },
  {
   "cell_type": "markdown",
   "metadata": {},
   "source": [
    "##### Defining Functions"
   ]
  },
  {
   "cell_type": "code",
   "execution_count": 15,
   "metadata": {},
   "outputs": [],
   "source": [
    "def mass_cleaning(df):\n",
    "    \n",
    "    \"\"\"Clean date and replace ts and fs\"\"\"\n",
    "    \n",
    "    # Convert date column\n",
    "    if 'date' in df.columns: \n",
    "        df['date'] = pd.to_datetime(df['date'])\n",
    "        df['year'] = df.date.dt.year\n",
    "        df['month'] = df.date.dt.month\n",
    "    \n",
    "    #Columns with Ts and Fs\n",
    "    df.replace({'f': 0, 't': 1}, inplace=True)\n",
    "    \n",
    "    # Clean Currency\n",
    "    df = df.applymap(lambda x: int(x.replace('$','').replace(',','').replace('.00','')) \n",
    "                     if (type(x) == str) and (x[0]=='$') else x )\n",
    "    \n",
    "    return df"
   ]
  },
  {
   "cell_type": "code",
   "execution_count": 16,
   "metadata": {},
   "outputs": [],
   "source": [
    "def impute_median(df, column):\n",
    "    \n",
    "    \"\"\" replace NaN values with median\"\"\"\n",
    "    \n",
    "    df[column].fillna((df[column].median()), inplace=True)"
   ]
  },
  {
   "cell_type": "markdown",
   "metadata": {},
   "source": [
    "### <span style='background:yellow'> 3.1. Calendar </span>"
   ]
  },
  {
   "cell_type": "code",
   "execution_count": 17,
   "metadata": {
    "scrolled": true
   },
   "outputs": [
    {
     "data": {
      "text/html": [
       "<div>\n",
       "<style scoped>\n",
       "    .dataframe tbody tr th:only-of-type {\n",
       "        vertical-align: middle;\n",
       "    }\n",
       "\n",
       "    .dataframe tbody tr th {\n",
       "        vertical-align: top;\n",
       "    }\n",
       "\n",
       "    .dataframe thead th {\n",
       "        text-align: right;\n",
       "    }\n",
       "</style>\n",
       "<table border=\"1\" class=\"dataframe\">\n",
       "  <thead>\n",
       "    <tr style=\"text-align: right;\">\n",
       "      <th></th>\n",
       "      <th>listing_id</th>\n",
       "      <th>date</th>\n",
       "      <th>available</th>\n",
       "      <th>price</th>\n",
       "      <th>adjusted_price</th>\n",
       "      <th>minimum_nights</th>\n",
       "      <th>maximum_nights</th>\n",
       "      <th>year</th>\n",
       "      <th>month</th>\n",
       "    </tr>\n",
       "  </thead>\n",
       "  <tbody>\n",
       "    <tr>\n",
       "      <th>0</th>\n",
       "      <td>3395898</td>\n",
       "      <td>2020-05-30</td>\n",
       "      <td>0</td>\n",
       "      <td>5000</td>\n",
       "      <td>5000</td>\n",
       "      <td>28.0</td>\n",
       "      <td>1125.0</td>\n",
       "      <td>2020</td>\n",
       "      <td>5</td>\n",
       "    </tr>\n",
       "    <tr>\n",
       "      <th>1</th>\n",
       "      <td>5262640</td>\n",
       "      <td>2020-05-30</td>\n",
       "      <td>1</td>\n",
       "      <td>4515</td>\n",
       "      <td>4515</td>\n",
       "      <td>3.0</td>\n",
       "      <td>1125.0</td>\n",
       "      <td>2020</td>\n",
       "      <td>5</td>\n",
       "    </tr>\n",
       "    <tr>\n",
       "      <th>2</th>\n",
       "      <td>5262640</td>\n",
       "      <td>2020-05-31</td>\n",
       "      <td>1</td>\n",
       "      <td>4515</td>\n",
       "      <td>4515</td>\n",
       "      <td>3.0</td>\n",
       "      <td>1125.0</td>\n",
       "      <td>2020</td>\n",
       "      <td>5</td>\n",
       "    </tr>\n",
       "    <tr>\n",
       "      <th>3</th>\n",
       "      <td>5262640</td>\n",
       "      <td>2020-06-01</td>\n",
       "      <td>1</td>\n",
       "      <td>4515</td>\n",
       "      <td>4515</td>\n",
       "      <td>3.0</td>\n",
       "      <td>1125.0</td>\n",
       "      <td>2020</td>\n",
       "      <td>6</td>\n",
       "    </tr>\n",
       "    <tr>\n",
       "      <th>4</th>\n",
       "      <td>5262640</td>\n",
       "      <td>2020-06-02</td>\n",
       "      <td>1</td>\n",
       "      <td>4515</td>\n",
       "      <td>4515</td>\n",
       "      <td>3.0</td>\n",
       "      <td>1125.0</td>\n",
       "      <td>2020</td>\n",
       "      <td>6</td>\n",
       "    </tr>\n",
       "  </tbody>\n",
       "</table>\n",
       "</div>"
      ],
      "text/plain": [
       "   listing_id       date  available  price  adjusted_price  minimum_nights  \\\n",
       "0     3395898 2020-05-30          0   5000            5000            28.0   \n",
       "1     5262640 2020-05-30          1   4515            4515             3.0   \n",
       "2     5262640 2020-05-31          1   4515            4515             3.0   \n",
       "3     5262640 2020-06-01          1   4515            4515             3.0   \n",
       "4     5262640 2020-06-02          1   4515            4515             3.0   \n",
       "\n",
       "   maximum_nights  year  month  \n",
       "0          1125.0  2020      5  \n",
       "1          1125.0  2020      5  \n",
       "2          1125.0  2020      5  \n",
       "3          1125.0  2020      6  \n",
       "4          1125.0  2020      6  "
      ]
     },
     "execution_count": 17,
     "metadata": {},
     "output_type": "execute_result"
    }
   ],
   "source": [
    "calendar = mass_cleaning(calendar)\n",
    "calendar.head()"
   ]
  },
  {
   "cell_type": "code",
   "execution_count": 18,
   "metadata": {
    "scrolled": true
   },
   "outputs": [
    {
     "data": {
      "text/plain": [
       "listing_id        0\n",
       "date              0\n",
       "available         0\n",
       "price             0\n",
       "adjusted_price    0\n",
       "minimum_nights    0\n",
       "maximum_nights    0\n",
       "year              0\n",
       "month             0\n",
       "dtype: int64"
      ]
     },
     "execution_count": 18,
     "metadata": {},
     "output_type": "execute_result"
    }
   ],
   "source": [
    "# Imputate missing values in minimum maximum nights with 1s, 0s \n",
    "calendar['minimum_nights'].fillna(0, inplace=True)\n",
    "calendar['maximum_nights'].fillna(0, inplace=True)\n",
    "\n",
    "# Replace continuous to discrete\n",
    "calendar['minimum_nights'] = calendar['minimum_nights'].astype(int)\n",
    "calendar['maximum_nights'] = calendar['maximum_nights'].astype(int)\n",
    "\n",
    "#Check for nulls\n",
    "calendar.isnull().sum()"
   ]
  },
  {
   "cell_type": "markdown",
   "metadata": {},
   "source": [
    "<div class=\"alert alert-block alert-warning\">\n",
    "\n",
    "^ Might consider dropping `minimum_nights` and  `maximum_nights`\n",
    "</div>"
   ]
  },
  {
   "cell_type": "code",
   "execution_count": 19,
   "metadata": {
    "scrolled": false
   },
   "outputs": [
    {
     "data": {
      "image/png": "[encoded data removed]",
      "text/plain": [
       "<Figure size 1080x360 with 1 Axes>"
      ]
     },
     "metadata": {
      "needs_background": "light"
     },
     "output_type": "display_data"
    }
   ],
   "source": [
    "plt.figure(figsize=(15,5))\n",
    "calendar['price'].plot.line(alpha=0.5, color = '#FF5A5F')\n",
    "calendar['adjusted_price'].plot.line(alpha=0.5, color = '#00A699')\n",
    "plt.ylabel('$', fontsize = 15)\n",
    "plt.legend(['Price', 'Adjusted Price']);"
   ]
  },
  {
   "cell_type": "markdown",
   "metadata": {},
   "source": [
    "<div class=\"alert alert-block alert-warning\">\n",
    "\n",
    "Doesnt seem to have much difference here, can consider dropping `adjusted_price`?\n",
    "\n",
    "\n",
    "</div>"
   ]
  },
  {
   "cell_type": "markdown",
   "metadata": {},
   "source": [
    "##### Dropping Columns"
   ]
  },
  {
   "cell_type": "code",
   "execution_count": 20,
   "metadata": {},
   "outputs": [],
   "source": [
    "# cols_to_drop = ['adjusted_price', 'minimum_nights', 'maximum_nights']\n",
    "\n",
    "# calendar = calendar.drop(cols_to_drop, axis=1)\n",
    "# calendar.shape"
   ]
  },
  {
   "cell_type": "markdown",
   "metadata": {},
   "source": [
    "##### Save DataFrame"
   ]
  },
  {
   "cell_type": "code",
   "execution_count": 21,
   "metadata": {},
   "outputs": [],
   "source": [
    "# calendar.to_csv(\"../datasets/calendar_cleaned.csv\")"
   ]
  },
  {
   "cell_type": "markdown",
   "metadata": {},
   "source": [
    "### <span style='background:yellow'> 3.2. Listing </span>"
   ]
  },
  {
   "cell_type": "code",
   "execution_count": 22,
   "metadata": {},
   "outputs": [],
   "source": [
    "listing = mass_cleaning(listing)"
   ]
  },
  {
   "cell_type": "markdown",
   "metadata": {},
   "source": [
    "##### Isolate and inspect categorical and numerical variable"
   ]
  },
  {
   "cell_type": "code",
   "execution_count": 23,
   "metadata": {},
   "outputs": [],
   "source": [
    "categorical_df = listing.select_dtypes(include=['object', 'bool'])\n",
    "categorical_cols = listing.select_dtypes(include=['object', 'bool']).columns.values"
   ]
  },
  {
   "cell_type": "code",
   "execution_count": 24,
   "metadata": {
    "scrolled": false
   },
   "outputs": [
    {
     "data": {
      "text/html": [
       "<div>\n",
       "<style scoped>\n",
       "    .dataframe tbody tr th:only-of-type {\n",
       "        vertical-align: middle;\n",
       "    }\n",
       "\n",
       "    .dataframe tbody tr th {\n",
       "        vertical-align: top;\n",
       "    }\n",
       "\n",
       "    .dataframe thead th {\n",
       "        text-align: right;\n",
       "    }\n",
       "</style>\n",
       "<table border=\"1\" class=\"dataframe\">\n",
       "  <thead>\n",
       "    <tr style=\"text-align: right;\">\n",
       "      <th></th>\n",
       "      <th>0</th>\n",
       "      <th>1</th>\n",
       "    </tr>\n",
       "  </thead>\n",
       "  <tbody>\n",
       "    <tr>\n",
       "      <th>listing_url</th>\n",
       "      <td>https://www.airbnb.com/rooms/35303</td>\n",
       "      <td>https://www.airbnb.com/rooms/197677</td>\n",
       "    </tr>\n",
       "    <tr>\n",
       "      <th>last_scraped</th>\n",
       "      <td>2020-05-30</td>\n",
       "      <td>2020-05-30</td>\n",
       "    </tr>\n",
       "    <tr>\n",
       "      <th>name</th>\n",
       "      <td>La Casa Gaienmae C Harajuku, Omotesando is nearby</td>\n",
       "      <td>Oshiage Holiday Apartment</td>\n",
       "    </tr>\n",
       "    <tr>\n",
       "      <th>summary</th>\n",
       "      <td>This shared flat is locating at very close to ...</td>\n",
       "      <td>NaN</td>\n",
       "    </tr>\n",
       "    <tr>\n",
       "      <th>space</th>\n",
       "      <td>This apartment is 3 bedroom flat shared with t...</td>\n",
       "      <td>We are happy to welcome you to our apartment, ...</td>\n",
       "    </tr>\n",
       "    <tr>\n",
       "      <th>description</th>\n",
       "      <td>This shared flat is locating at very close to ...</td>\n",
       "      <td>We are happy to welcome you to our apartment, ...</td>\n",
       "    </tr>\n",
       "    <tr>\n",
       "      <th>experiences_offered</th>\n",
       "      <td>none</td>\n",
       "      <td>none</td>\n",
       "    </tr>\n",
       "    <tr>\n",
       "      <th>neighborhood_overview</th>\n",
       "      <td>10 min walking to Harajuku ~ Urahara ~ Omotesa...</td>\n",
       "      <td>NaN</td>\n",
       "    </tr>\n",
       "    <tr>\n",
       "      <th>notes</th>\n",
       "      <td>Current tenants are living in this flat over 2...</td>\n",
       "      <td>NaN</td>\n",
       "    </tr>\n",
       "    <tr>\n",
       "      <th>transit</th>\n",
       "      <td>5min to subway, 10min to JR stations, you can ...</td>\n",
       "      <td>NaN</td>\n",
       "    </tr>\n",
       "    <tr>\n",
       "      <th>access</th>\n",
       "      <td>Your private room, Kitchen, Bathroom, Toilet, ...</td>\n",
       "      <td>NaN</td>\n",
       "    </tr>\n",
       "    <tr>\n",
       "      <th>interaction</th>\n",
       "      <td>I provide common space cleaning twice a week. ...</td>\n",
       "      <td>NaN</td>\n",
       "    </tr>\n",
       "    <tr>\n",
       "      <th>house_rules</th>\n",
       "      <td>If you would like to stay monthly, there is a ...</td>\n",
       "      <td>1. Smoking is NOT allowed inside the property....</td>\n",
       "    </tr>\n",
       "    <tr>\n",
       "      <th>picture_url</th>\n",
       "      <td>https://a0.muscache.com/im/pictures/67365319/c...</td>\n",
       "      <td>https://a0.muscache.com/im/pictures/38437056/d...</td>\n",
       "    </tr>\n",
       "    <tr>\n",
       "      <th>host_url</th>\n",
       "      <td>https://www.airbnb.com/users/show/151977</td>\n",
       "      <td>https://www.airbnb.com/users/show/964081</td>\n",
       "    </tr>\n",
       "    <tr>\n",
       "      <th>host_name</th>\n",
       "      <td>Miyuki</td>\n",
       "      <td>Yoshimi &amp; Marek</td>\n",
       "    </tr>\n",
       "    <tr>\n",
       "      <th>host_since</th>\n",
       "      <td>2010-06-25</td>\n",
       "      <td>2011-08-13</td>\n",
       "    </tr>\n",
       "    <tr>\n",
       "      <th>host_location</th>\n",
       "      <td>Shibuya, Tokyo, Japan</td>\n",
       "      <td>Tokyo</td>\n",
       "    </tr>\n",
       "    <tr>\n",
       "      <th>host_about</th>\n",
       "      <td>Hi I am Miyuki Kanda. I run a real estate &amp; pr...</td>\n",
       "      <td>Would love to travel all over the world and me...</td>\n",
       "    </tr>\n",
       "    <tr>\n",
       "      <th>host_response_time</th>\n",
       "      <td>NaN</td>\n",
       "      <td>within a few hours</td>\n",
       "    </tr>\n",
       "    <tr>\n",
       "      <th>host_response_rate</th>\n",
       "      <td>NaN</td>\n",
       "      <td>100%</td>\n",
       "    </tr>\n",
       "    <tr>\n",
       "      <th>host_acceptance_rate</th>\n",
       "      <td>NaN</td>\n",
       "      <td>86%</td>\n",
       "    </tr>\n",
       "    <tr>\n",
       "      <th>host_thumbnail_url</th>\n",
       "      <td>https://a0.muscache.com/im/users/151977/profil...</td>\n",
       "      <td>https://a0.muscache.com/im/users/964081/profil...</td>\n",
       "    </tr>\n",
       "    <tr>\n",
       "      <th>host_picture_url</th>\n",
       "      <td>https://a0.muscache.com/im/users/151977/profil...</td>\n",
       "      <td>https://a0.muscache.com/im/users/964081/profil...</td>\n",
       "    </tr>\n",
       "    <tr>\n",
       "      <th>host_neighbourhood</th>\n",
       "      <td>Shibuya District</td>\n",
       "      <td>Sumida District</td>\n",
       "    </tr>\n",
       "    <tr>\n",
       "      <th>host_verifications</th>\n",
       "      <td>['email', 'phone', 'facebook', 'reviews', 'jum...</td>\n",
       "      <td>['email', 'phone', 'facebook', 'reviews', 'jum...</td>\n",
       "    </tr>\n",
       "    <tr>\n",
       "      <th>street</th>\n",
       "      <td>Shibuya, Tokyo, Japan</td>\n",
       "      <td>Sumida, Tokyo, Japan</td>\n",
       "    </tr>\n",
       "    <tr>\n",
       "      <th>neighbourhood</th>\n",
       "      <td>Shibuya District</td>\n",
       "      <td>Sumida District</td>\n",
       "    </tr>\n",
       "    <tr>\n",
       "      <th>neighbourhood_cleansed</th>\n",
       "      <td>Shibuya Ku</td>\n",
       "      <td>Sumida Ku</td>\n",
       "    </tr>\n",
       "    <tr>\n",
       "      <th>city</th>\n",
       "      <td>Shibuya</td>\n",
       "      <td>Sumida</td>\n",
       "    </tr>\n",
       "    <tr>\n",
       "      <th>state</th>\n",
       "      <td>Tokyo</td>\n",
       "      <td>Tokyo</td>\n",
       "    </tr>\n",
       "    <tr>\n",
       "      <th>zipcode</th>\n",
       "      <td>150-0001</td>\n",
       "      <td>NaN</td>\n",
       "    </tr>\n",
       "    <tr>\n",
       "      <th>market</th>\n",
       "      <td>Tokyo</td>\n",
       "      <td>Tokyo</td>\n",
       "    </tr>\n",
       "    <tr>\n",
       "      <th>smart_location</th>\n",
       "      <td>Shibuya, Japan</td>\n",
       "      <td>Sumida, Japan</td>\n",
       "    </tr>\n",
       "    <tr>\n",
       "      <th>country_code</th>\n",
       "      <td>JP</td>\n",
       "      <td>JP</td>\n",
       "    </tr>\n",
       "    <tr>\n",
       "      <th>country</th>\n",
       "      <td>Japan</td>\n",
       "      <td>Japan</td>\n",
       "    </tr>\n",
       "    <tr>\n",
       "      <th>property_type</th>\n",
       "      <td>Apartment</td>\n",
       "      <td>Apartment</td>\n",
       "    </tr>\n",
       "    <tr>\n",
       "      <th>room_type</th>\n",
       "      <td>Private room</td>\n",
       "      <td>Entire home/apt</td>\n",
       "    </tr>\n",
       "    <tr>\n",
       "      <th>bed_type</th>\n",
       "      <td>Real Bed</td>\n",
       "      <td>Futon</td>\n",
       "    </tr>\n",
       "    <tr>\n",
       "      <th>amenities</th>\n",
       "      <td>{TV,Internet,Wifi,Kitchen,\"Paid parking off pr...</td>\n",
       "      <td>{TV,Internet,Wifi,\"Air conditioning\",Kitchen,\"...</td>\n",
       "    </tr>\n",
       "    <tr>\n",
       "      <th>calendar_updated</th>\n",
       "      <td>19 months ago</td>\n",
       "      <td>6 weeks ago</td>\n",
       "    </tr>\n",
       "    <tr>\n",
       "      <th>calendar_last_scraped</th>\n",
       "      <td>2020-05-30</td>\n",
       "      <td>2020-05-30</td>\n",
       "    </tr>\n",
       "    <tr>\n",
       "      <th>first_review</th>\n",
       "      <td>2011-12-28</td>\n",
       "      <td>2011-09-21</td>\n",
       "    </tr>\n",
       "    <tr>\n",
       "      <th>last_review</th>\n",
       "      <td>2018-07-28</td>\n",
       "      <td>2020-03-04</td>\n",
       "    </tr>\n",
       "    <tr>\n",
       "      <th>license</th>\n",
       "      <td>Other reasons | \\n弊社は不動産事業者であり賃貸住宅管理事業者でもあります。...</td>\n",
       "      <td>M130003350</td>\n",
       "    </tr>\n",
       "    <tr>\n",
       "      <th>cancellation_policy</th>\n",
       "      <td>strict_14_with_grace_period</td>\n",
       "      <td>moderate</td>\n",
       "    </tr>\n",
       "  </tbody>\n",
       "</table>\n",
       "</div>"
      ],
      "text/plain": [
       "                                                                        0  \\\n",
       "listing_url                            https://www.airbnb.com/rooms/35303   \n",
       "last_scraped                                                   2020-05-30   \n",
       "name                    La Casa Gaienmae C Harajuku, Omotesando is nearby   \n",
       "summary                 This shared flat is locating at very close to ...   \n",
       "space                   This apartment is 3 bedroom flat shared with t...   \n",
       "description             This shared flat is locating at very close to ...   \n",
       "experiences_offered                                                  none   \n",
       "neighborhood_overview   10 min walking to Harajuku ~ Urahara ~ Omotesa...   \n",
       "notes                   Current tenants are living in this flat over 2...   \n",
       "transit                 5min to subway, 10min to JR stations, you can ...   \n",
       "access                  Your private room, Kitchen, Bathroom, Toilet, ...   \n",
       "interaction             I provide common space cleaning twice a week. ...   \n",
       "house_rules             If you would like to stay monthly, there is a ...   \n",
       "picture_url             https://a0.muscache.com/im/pictures/67365319/c...   \n",
       "host_url                         https://www.airbnb.com/users/show/151977   \n",
       "host_name                                                          Miyuki   \n",
       "host_since                                                     2010-06-25   \n",
       "host_location                                       Shibuya, Tokyo, Japan   \n",
       "host_about              Hi I am Miyuki Kanda. I run a real estate & pr...   \n",
       "host_response_time                                                    NaN   \n",
       "host_response_rate                                                    NaN   \n",
       "host_acceptance_rate                                                  NaN   \n",
       "host_thumbnail_url      https://a0.muscache.com/im/users/151977/profil...   \n",
       "host_picture_url        https://a0.muscache.com/im/users/151977/profil...   \n",
       "host_neighbourhood                                       Shibuya District   \n",
       "host_verifications      ['email', 'phone', 'facebook', 'reviews', 'jum...   \n",
       "street                                              Shibuya, Tokyo, Japan   \n",
       "neighbourhood                                            Shibuya District   \n",
       "neighbourhood_cleansed                                         Shibuya Ku   \n",
       "city                                                              Shibuya   \n",
       "state                                                               Tokyo   \n",
       "zipcode                                                          150-0001   \n",
       "market                                                              Tokyo   \n",
       "smart_location                                             Shibuya, Japan   \n",
       "country_code                                                           JP   \n",
       "country                                                             Japan   \n",
       "property_type                                                   Apartment   \n",
       "room_type                                                    Private room   \n",
       "bed_type                                                         Real Bed   \n",
       "amenities               {TV,Internet,Wifi,Kitchen,\"Paid parking off pr...   \n",
       "calendar_updated                                            19 months ago   \n",
       "calendar_last_scraped                                          2020-05-30   \n",
       "first_review                                                   2011-12-28   \n",
       "last_review                                                    2018-07-28   \n",
       "license                 Other reasons | \\n弊社は不動産事業者であり賃貸住宅管理事業者でもあります。...   \n",
       "cancellation_policy                           strict_14_with_grace_period   \n",
       "\n",
       "                                                                        1  \n",
       "listing_url                           https://www.airbnb.com/rooms/197677  \n",
       "last_scraped                                                   2020-05-30  \n",
       "name                                            Oshiage Holiday Apartment  \n",
       "summary                                                               NaN  \n",
       "space                   We are happy to welcome you to our apartment, ...  \n",
       "description             We are happy to welcome you to our apartment, ...  \n",
       "experiences_offered                                                  none  \n",
       "neighborhood_overview                                                 NaN  \n",
       "notes                                                                 NaN  \n",
       "transit                                                               NaN  \n",
       "access                                                                NaN  \n",
       "interaction                                                           NaN  \n",
       "house_rules             1. Smoking is NOT allowed inside the property....  \n",
       "picture_url             https://a0.muscache.com/im/pictures/38437056/d...  \n",
       "host_url                         https://www.airbnb.com/users/show/964081  \n",
       "host_name                                                 Yoshimi & Marek  \n",
       "host_since                                                     2011-08-13  \n",
       "host_location                                                       Tokyo  \n",
       "host_about              Would love to travel all over the world and me...  \n",
       "host_response_time                                     within a few hours  \n",
       "host_response_rate                                                   100%  \n",
       "host_acceptance_rate                                                  86%  \n",
       "host_thumbnail_url      https://a0.muscache.com/im/users/964081/profil...  \n",
       "host_picture_url        https://a0.muscache.com/im/users/964081/profil...  \n",
       "host_neighbourhood                                        Sumida District  \n",
       "host_verifications      ['email', 'phone', 'facebook', 'reviews', 'jum...  \n",
       "street                                               Sumida, Tokyo, Japan  \n",
       "neighbourhood                                             Sumida District  \n",
       "neighbourhood_cleansed                                          Sumida Ku  \n",
       "city                                                               Sumida  \n",
       "state                                                               Tokyo  \n",
       "zipcode                                                               NaN  \n",
       "market                                                              Tokyo  \n",
       "smart_location                                              Sumida, Japan  \n",
       "country_code                                                           JP  \n",
       "country                                                             Japan  \n",
       "property_type                                                   Apartment  \n",
       "room_type                                                 Entire home/apt  \n",
       "bed_type                                                            Futon  \n",
       "amenities               {TV,Internet,Wifi,\"Air conditioning\",Kitchen,\"...  \n",
       "calendar_updated                                              6 weeks ago  \n",
       "calendar_last_scraped                                          2020-05-30  \n",
       "first_review                                                   2011-09-21  \n",
       "last_review                                                    2020-03-04  \n",
       "license                                                        M130003350  \n",
       "cancellation_policy                                              moderate  "
      ]
     },
     "execution_count": 24,
     "metadata": {},
     "output_type": "execute_result"
    }
   ],
   "source": [
    "categorical_df.head(2).T"
   ]
  },
  {
   "cell_type": "code",
   "execution_count": 25,
   "metadata": {},
   "outputs": [],
   "source": [
    "numerical_df = listing.select_dtypes(include=['int', 'float'])\n",
    "numerical_cols = listing.select_dtypes(include=['int', 'float']).columns.values"
   ]
  },
  {
   "cell_type": "code",
   "execution_count": 26,
   "metadata": {
    "scrolled": false
   },
   "outputs": [
    {
     "data": {
      "text/html": [
       "<div>\n",
       "<style scoped>\n",
       "    .dataframe tbody tr th:only-of-type {\n",
       "        vertical-align: middle;\n",
       "    }\n",
       "\n",
       "    .dataframe tbody tr th {\n",
       "        vertical-align: top;\n",
       "    }\n",
       "\n",
       "    .dataframe thead th {\n",
       "        text-align: right;\n",
       "    }\n",
       "</style>\n",
       "<table border=\"1\" class=\"dataframe\">\n",
       "  <thead>\n",
       "    <tr style=\"text-align: right;\">\n",
       "      <th></th>\n",
       "      <th>0</th>\n",
       "      <th>1</th>\n",
       "    </tr>\n",
       "  </thead>\n",
       "  <tbody>\n",
       "    <tr>\n",
       "      <th>id</th>\n",
       "      <td>3.530300e+04</td>\n",
       "      <td>1.976770e+05</td>\n",
       "    </tr>\n",
       "    <tr>\n",
       "      <th>scrape_id</th>\n",
       "      <td>2.020053e+13</td>\n",
       "      <td>2.020053e+13</td>\n",
       "    </tr>\n",
       "    <tr>\n",
       "      <th>thumbnail_url</th>\n",
       "      <td>NaN</td>\n",
       "      <td>NaN</td>\n",
       "    </tr>\n",
       "    <tr>\n",
       "      <th>medium_url</th>\n",
       "      <td>NaN</td>\n",
       "      <td>NaN</td>\n",
       "    </tr>\n",
       "    <tr>\n",
       "      <th>xl_picture_url</th>\n",
       "      <td>NaN</td>\n",
       "      <td>NaN</td>\n",
       "    </tr>\n",
       "    <tr>\n",
       "      <th>host_id</th>\n",
       "      <td>1.519770e+05</td>\n",
       "      <td>9.640810e+05</td>\n",
       "    </tr>\n",
       "    <tr>\n",
       "      <th>host_is_superhost</th>\n",
       "      <td>0.000000e+00</td>\n",
       "      <td>1.000000e+00</td>\n",
       "    </tr>\n",
       "    <tr>\n",
       "      <th>host_listings_count</th>\n",
       "      <td>3.000000e+00</td>\n",
       "      <td>1.000000e+00</td>\n",
       "    </tr>\n",
       "    <tr>\n",
       "      <th>host_total_listings_count</th>\n",
       "      <td>3.000000e+00</td>\n",
       "      <td>1.000000e+00</td>\n",
       "    </tr>\n",
       "    <tr>\n",
       "      <th>host_has_profile_pic</th>\n",
       "      <td>1.000000e+00</td>\n",
       "      <td>1.000000e+00</td>\n",
       "    </tr>\n",
       "    <tr>\n",
       "      <th>host_identity_verified</th>\n",
       "      <td>1.000000e+00</td>\n",
       "      <td>1.000000e+00</td>\n",
       "    </tr>\n",
       "    <tr>\n",
       "      <th>neighbourhood_group_cleansed</th>\n",
       "      <td>NaN</td>\n",
       "      <td>NaN</td>\n",
       "    </tr>\n",
       "    <tr>\n",
       "      <th>latitude</th>\n",
       "      <td>3.567152e+01</td>\n",
       "      <td>3.571721e+01</td>\n",
       "    </tr>\n",
       "    <tr>\n",
       "      <th>longitude</th>\n",
       "      <td>1.397120e+02</td>\n",
       "      <td>1.398260e+02</td>\n",
       "    </tr>\n",
       "    <tr>\n",
       "      <th>is_location_exact</th>\n",
       "      <td>1.000000e+00</td>\n",
       "      <td>0.000000e+00</td>\n",
       "    </tr>\n",
       "    <tr>\n",
       "      <th>accommodates</th>\n",
       "      <td>1.000000e+00</td>\n",
       "      <td>2.000000e+00</td>\n",
       "    </tr>\n",
       "    <tr>\n",
       "      <th>bathrooms</th>\n",
       "      <td>1.000000e+00</td>\n",
       "      <td>1.000000e+00</td>\n",
       "    </tr>\n",
       "    <tr>\n",
       "      <th>bedrooms</th>\n",
       "      <td>1.000000e+00</td>\n",
       "      <td>1.000000e+00</td>\n",
       "    </tr>\n",
       "    <tr>\n",
       "      <th>beds</th>\n",
       "      <td>1.000000e+00</td>\n",
       "      <td>2.000000e+00</td>\n",
       "    </tr>\n",
       "    <tr>\n",
       "      <th>square_feet</th>\n",
       "      <td>NaN</td>\n",
       "      <td>NaN</td>\n",
       "    </tr>\n",
       "    <tr>\n",
       "      <th>price</th>\n",
       "      <td>4.192000e+03</td>\n",
       "      <td>1.096500e+04</td>\n",
       "    </tr>\n",
       "    <tr>\n",
       "      <th>weekly_price</th>\n",
       "      <td>NaN</td>\n",
       "      <td>6.600000e+04</td>\n",
       "    </tr>\n",
       "    <tr>\n",
       "      <th>monthly_price</th>\n",
       "      <td>1.100000e+05</td>\n",
       "      <td>2.400000e+05</td>\n",
       "    </tr>\n",
       "    <tr>\n",
       "      <th>security_deposit</th>\n",
       "      <td>3.000000e+04</td>\n",
       "      <td>4.000000e+04</td>\n",
       "    </tr>\n",
       "    <tr>\n",
       "      <th>cleaning_fee</th>\n",
       "      <td>5.000000e+03</td>\n",
       "      <td>5.000000e+03</td>\n",
       "    </tr>\n",
       "    <tr>\n",
       "      <th>guests_included</th>\n",
       "      <td>1.000000e+00</td>\n",
       "      <td>1.000000e+00</td>\n",
       "    </tr>\n",
       "    <tr>\n",
       "      <th>extra_people</th>\n",
       "      <td>0.000000e+00</td>\n",
       "      <td>0.000000e+00</td>\n",
       "    </tr>\n",
       "    <tr>\n",
       "      <th>minimum_nights</th>\n",
       "      <td>2.800000e+01</td>\n",
       "      <td>3.000000e+00</td>\n",
       "    </tr>\n",
       "    <tr>\n",
       "      <th>maximum_nights</th>\n",
       "      <td>1.125000e+03</td>\n",
       "      <td>3.650000e+02</td>\n",
       "    </tr>\n",
       "    <tr>\n",
       "      <th>minimum_minimum_nights</th>\n",
       "      <td>2.800000e+01</td>\n",
       "      <td>3.000000e+00</td>\n",
       "    </tr>\n",
       "    <tr>\n",
       "      <th>maximum_minimum_nights</th>\n",
       "      <td>2.800000e+01</td>\n",
       "      <td>3.000000e+00</td>\n",
       "    </tr>\n",
       "    <tr>\n",
       "      <th>minimum_maximum_nights</th>\n",
       "      <td>1.125000e+03</td>\n",
       "      <td>3.650000e+02</td>\n",
       "    </tr>\n",
       "    <tr>\n",
       "      <th>maximum_maximum_nights</th>\n",
       "      <td>1.125000e+03</td>\n",
       "      <td>3.650000e+02</td>\n",
       "    </tr>\n",
       "    <tr>\n",
       "      <th>minimum_nights_avg_ntm</th>\n",
       "      <td>2.800000e+01</td>\n",
       "      <td>3.000000e+00</td>\n",
       "    </tr>\n",
       "    <tr>\n",
       "      <th>maximum_nights_avg_ntm</th>\n",
       "      <td>1.125000e+03</td>\n",
       "      <td>3.650000e+02</td>\n",
       "    </tr>\n",
       "    <tr>\n",
       "      <th>has_availability</th>\n",
       "      <td>1.000000e+00</td>\n",
       "      <td>1.000000e+00</td>\n",
       "    </tr>\n",
       "    <tr>\n",
       "      <th>availability_30</th>\n",
       "      <td>2.900000e+01</td>\n",
       "      <td>2.800000e+01</td>\n",
       "    </tr>\n",
       "    <tr>\n",
       "      <th>availability_60</th>\n",
       "      <td>5.900000e+01</td>\n",
       "      <td>4.000000e+01</td>\n",
       "    </tr>\n",
       "    <tr>\n",
       "      <th>availability_90</th>\n",
       "      <td>8.900000e+01</td>\n",
       "      <td>4.600000e+01</td>\n",
       "    </tr>\n",
       "    <tr>\n",
       "      <th>availability_365</th>\n",
       "      <td>8.900000e+01</td>\n",
       "      <td>2.700000e+02</td>\n",
       "    </tr>\n",
       "    <tr>\n",
       "      <th>number_of_reviews</th>\n",
       "      <td>1.800000e+01</td>\n",
       "      <td>1.650000e+02</td>\n",
       "    </tr>\n",
       "    <tr>\n",
       "      <th>number_of_reviews_ltm</th>\n",
       "      <td>0.000000e+00</td>\n",
       "      <td>9.000000e+00</td>\n",
       "    </tr>\n",
       "    <tr>\n",
       "      <th>review_scores_rating</th>\n",
       "      <td>9.400000e+01</td>\n",
       "      <td>9.500000e+01</td>\n",
       "    </tr>\n",
       "    <tr>\n",
       "      <th>review_scores_accuracy</th>\n",
       "      <td>9.000000e+00</td>\n",
       "      <td>1.000000e+01</td>\n",
       "    </tr>\n",
       "    <tr>\n",
       "      <th>review_scores_cleanliness</th>\n",
       "      <td>9.000000e+00</td>\n",
       "      <td>1.000000e+01</td>\n",
       "    </tr>\n",
       "    <tr>\n",
       "      <th>review_scores_checkin</th>\n",
       "      <td>9.000000e+00</td>\n",
       "      <td>1.000000e+01</td>\n",
       "    </tr>\n",
       "    <tr>\n",
       "      <th>review_scores_communication</th>\n",
       "      <td>1.000000e+01</td>\n",
       "      <td>1.000000e+01</td>\n",
       "    </tr>\n",
       "    <tr>\n",
       "      <th>review_scores_location</th>\n",
       "      <td>1.000000e+01</td>\n",
       "      <td>9.000000e+00</td>\n",
       "    </tr>\n",
       "    <tr>\n",
       "      <th>review_scores_value</th>\n",
       "      <td>9.000000e+00</td>\n",
       "      <td>1.000000e+01</td>\n",
       "    </tr>\n",
       "    <tr>\n",
       "      <th>requires_license</th>\n",
       "      <td>1.000000e+00</td>\n",
       "      <td>1.000000e+00</td>\n",
       "    </tr>\n",
       "    <tr>\n",
       "      <th>jurisdiction_names</th>\n",
       "      <td>NaN</td>\n",
       "      <td>NaN</td>\n",
       "    </tr>\n",
       "    <tr>\n",
       "      <th>instant_bookable</th>\n",
       "      <td>0.000000e+00</td>\n",
       "      <td>0.000000e+00</td>\n",
       "    </tr>\n",
       "    <tr>\n",
       "      <th>is_business_travel_ready</th>\n",
       "      <td>0.000000e+00</td>\n",
       "      <td>0.000000e+00</td>\n",
       "    </tr>\n",
       "    <tr>\n",
       "      <th>require_guest_profile_picture</th>\n",
       "      <td>0.000000e+00</td>\n",
       "      <td>0.000000e+00</td>\n",
       "    </tr>\n",
       "    <tr>\n",
       "      <th>require_guest_phone_verification</th>\n",
       "      <td>0.000000e+00</td>\n",
       "      <td>0.000000e+00</td>\n",
       "    </tr>\n",
       "    <tr>\n",
       "      <th>calculated_host_listings_count</th>\n",
       "      <td>3.000000e+00</td>\n",
       "      <td>1.000000e+00</td>\n",
       "    </tr>\n",
       "    <tr>\n",
       "      <th>calculated_host_listings_count_entire_homes</th>\n",
       "      <td>2.000000e+00</td>\n",
       "      <td>1.000000e+00</td>\n",
       "    </tr>\n",
       "    <tr>\n",
       "      <th>calculated_host_listings_count_private_rooms</th>\n",
       "      <td>1.000000e+00</td>\n",
       "      <td>0.000000e+00</td>\n",
       "    </tr>\n",
       "    <tr>\n",
       "      <th>calculated_host_listings_count_shared_rooms</th>\n",
       "      <td>0.000000e+00</td>\n",
       "      <td>0.000000e+00</td>\n",
       "    </tr>\n",
       "    <tr>\n",
       "      <th>reviews_per_month</th>\n",
       "      <td>1.800000e-01</td>\n",
       "      <td>1.560000e+00</td>\n",
       "    </tr>\n",
       "  </tbody>\n",
       "</table>\n",
       "</div>"
      ],
      "text/plain": [
       "                                                         0             1\n",
       "id                                            3.530300e+04  1.976770e+05\n",
       "scrape_id                                     2.020053e+13  2.020053e+13\n",
       "thumbnail_url                                          NaN           NaN\n",
       "medium_url                                             NaN           NaN\n",
       "xl_picture_url                                         NaN           NaN\n",
       "host_id                                       1.519770e+05  9.640810e+05\n",
       "host_is_superhost                             0.000000e+00  1.000000e+00\n",
       "host_listings_count                           3.000000e+00  1.000000e+00\n",
       "host_total_listings_count                     3.000000e+00  1.000000e+00\n",
       "host_has_profile_pic                          1.000000e+00  1.000000e+00\n",
       "host_identity_verified                        1.000000e+00  1.000000e+00\n",
       "neighbourhood_group_cleansed                           NaN           NaN\n",
       "latitude                                      3.567152e+01  3.571721e+01\n",
       "longitude                                     1.397120e+02  1.398260e+02\n",
       "is_location_exact                             1.000000e+00  0.000000e+00\n",
       "accommodates                                  1.000000e+00  2.000000e+00\n",
       "bathrooms                                     1.000000e+00  1.000000e+00\n",
       "bedrooms                                      1.000000e+00  1.000000e+00\n",
       "beds                                          1.000000e+00  2.000000e+00\n",
       "square_feet                                            NaN           NaN\n",
       "price                                         4.192000e+03  1.096500e+04\n",
       "weekly_price                                           NaN  6.600000e+04\n",
       "monthly_price                                 1.100000e+05  2.400000e+05\n",
       "security_deposit                              3.000000e+04  4.000000e+04\n",
       "cleaning_fee                                  5.000000e+03  5.000000e+03\n",
       "guests_included                               1.000000e+00  1.000000e+00\n",
       "extra_people                                  0.000000e+00  0.000000e+00\n",
       "minimum_nights                                2.800000e+01  3.000000e+00\n",
       "maximum_nights                                1.125000e+03  3.650000e+02\n",
       "minimum_minimum_nights                        2.800000e+01  3.000000e+00\n",
       "maximum_minimum_nights                        2.800000e+01  3.000000e+00\n",
       "minimum_maximum_nights                        1.125000e+03  3.650000e+02\n",
       "maximum_maximum_nights                        1.125000e+03  3.650000e+02\n",
       "minimum_nights_avg_ntm                        2.800000e+01  3.000000e+00\n",
       "maximum_nights_avg_ntm                        1.125000e+03  3.650000e+02\n",
       "has_availability                              1.000000e+00  1.000000e+00\n",
       "availability_30                               2.900000e+01  2.800000e+01\n",
       "availability_60                               5.900000e+01  4.000000e+01\n",
       "availability_90                               8.900000e+01  4.600000e+01\n",
       "availability_365                              8.900000e+01  2.700000e+02\n",
       "number_of_reviews                             1.800000e+01  1.650000e+02\n",
       "number_of_reviews_ltm                         0.000000e+00  9.000000e+00\n",
       "review_scores_rating                          9.400000e+01  9.500000e+01\n",
       "review_scores_accuracy                        9.000000e+00  1.000000e+01\n",
       "review_scores_cleanliness                     9.000000e+00  1.000000e+01\n",
       "review_scores_checkin                         9.000000e+00  1.000000e+01\n",
       "review_scores_communication                   1.000000e+01  1.000000e+01\n",
       "review_scores_location                        1.000000e+01  9.000000e+00\n",
       "review_scores_value                           9.000000e+00  1.000000e+01\n",
       "requires_license                              1.000000e+00  1.000000e+00\n",
       "jurisdiction_names                                     NaN           NaN\n",
       "instant_bookable                              0.000000e+00  0.000000e+00\n",
       "is_business_travel_ready                      0.000000e+00  0.000000e+00\n",
       "require_guest_profile_picture                 0.000000e+00  0.000000e+00\n",
       "require_guest_phone_verification              0.000000e+00  0.000000e+00\n",
       "calculated_host_listings_count                3.000000e+00  1.000000e+00\n",
       "calculated_host_listings_count_entire_homes   2.000000e+00  1.000000e+00\n",
       "calculated_host_listings_count_private_rooms  1.000000e+00  0.000000e+00\n",
       "calculated_host_listings_count_shared_rooms   0.000000e+00  0.000000e+00\n",
       "reviews_per_month                             1.800000e-01  1.560000e+00"
      ]
     },
     "execution_count": 26,
     "metadata": {},
     "output_type": "execute_result"
    }
   ],
   "source": [
    "numerical_df.head(2).T"
   ]
  },
  {
   "cell_type": "markdown",
   "metadata": {},
   "source": [
    "#### 3.2.1. Dropping  and Convert Columns"
   ]
  },
  {
   "cell_type": "markdown",
   "metadata": {},
   "source": [
    "<div class=\"alert alert-block alert-success\">\n",
    "    \n",
    "<b>Explanation:</b>\n",
    "\n",
    "From the data shown above (categorical/numerical), I will be dropping text columns for now and columns that might not be useful for predicting price. \n",
    "</div>"
   ]
  },
  {
   "cell_type": "code",
   "execution_count": 27,
   "metadata": {
    "scrolled": false
   },
   "outputs": [
    {
     "data": {
      "text/plain": [
       "(15009, 79)"
      ]
     },
     "execution_count": 27,
     "metadata": {},
     "output_type": "execute_result"
    }
   ],
   "source": [
    "cols_to_drop = ['listing_url', 'last_scraped', 'name', 'summary','space', \n",
    "                'description', 'neighborhood_overview', 'notes', 'transit', 'access', \n",
    "                'interaction', 'house_rules', 'picture_url', 'host_url','host_name', \n",
    "                'host_location', 'host_about', 'host_thumbnail_url', 'host_picture_url','host_neighbourhood', \n",
    "                'host_verifications', 'calendar_last_scraped', 'license', 'scrape_id','thumbnail_url',\n",
    "                'medium_url', 'xl_picture_url'\n",
    "               ]\n",
    "\n",
    "listing = listing.drop(cols_to_drop, axis=1)\n",
    "listing.shape"
   ]
  },
  {
   "cell_type": "code",
   "execution_count": 28,
   "metadata": {},
   "outputs": [],
   "source": [
    "# Convert rest of the date object column to datetime columns\n",
    "listing['host_since'] = pd.to_datetime(listing['host_since'])\n",
    "listing['first_review'] = pd.to_datetime(listing['first_review'])\n",
    "listing['last_review'] = pd.to_datetime(listing['last_review'])"
   ]
  },
  {
   "cell_type": "code",
   "execution_count": 29,
   "metadata": {
    "scrolled": false
   },
   "outputs": [
    {
     "data": {
      "text/plain": [
       "jurisdiction_names              15009\n",
       "neighbourhood_group_cleansed    15009\n",
       "square_feet                     14998\n",
       "monthly_price                   14835\n",
       "weekly_price                    14824\n",
       "dtype: int64"
      ]
     },
     "execution_count": 29,
     "metadata": {},
     "output_type": "execute_result"
    }
   ],
   "source": [
    "# Check for columns that has more than 10000 Null values\n",
    "listing.isnull().sum()[listing.isnull().sum()>10000].sort_values(ascending=False)"
   ]
  },
  {
   "cell_type": "code",
   "execution_count": 30,
   "metadata": {
    "scrolled": false
   },
   "outputs": [],
   "source": [
    "# Drop columns consist of a majority of NaNs \n",
    "# reviews_per_month and number_of_reviews_ltm columns will be dropped as well as there is number_of_reviews \n",
    "# experiences_offered are all 'none' \n",
    "listing.drop(['jurisdiction_names','neighbourhood_group_cleansed','square_feet',\n",
    "              'monthly_price','weekly_price', 'reviews_per_month','number_of_reviews_ltm', \n",
    "              'experiences_offered'], \n",
    "             axis=1, inplace=True)"
   ]
  },
  {
   "cell_type": "code",
   "execution_count": 31,
   "metadata": {
    "scrolled": true
   },
   "outputs": [
    {
     "data": {
      "text/plain": [
       "(15009, 71)"
      ]
     },
     "execution_count": 31,
     "metadata": {},
     "output_type": "execute_result"
    }
   ],
   "source": [
    "listing.shape"
   ]
  },
  {
   "cell_type": "markdown",
   "metadata": {},
   "source": [
    "#### 3.2.2  Imputation of Missing Values"
   ]
  },
  {
   "cell_type": "code",
   "execution_count": 32,
   "metadata": {},
   "outputs": [
    {
     "data": {
      "text/plain": [
       "review_scores_value            2667\n",
       "review_scores_location         2667\n",
       "review_scores_communication    2667\n",
       "review_scores_checkin          2667\n",
       "review_scores_cleanliness      2667\n",
       "review_scores_accuracy         2667\n",
       "review_scores_rating           2667\n",
       "last_review                    2643\n",
       "first_review                   2643\n",
       "host_response_rate             1851\n",
       "host_response_time             1851\n",
       "neighbourhood                  1482\n",
       "security_deposit               1262\n",
       "dtype: int64"
      ]
     },
     "execution_count": 32,
     "metadata": {},
     "output_type": "execute_result"
    }
   ],
   "source": [
    "listing.isnull().sum()[listing.isnull().sum()>1000].sort_values(ascending=False)"
   ]
  },
  {
   "cell_type": "markdown",
   "metadata": {},
   "source": [
    "<div class=\"alert alert-block alert-success\">\n",
    "    \n",
    "<b>Assumption:</b>\n",
    "\n",
    "Missing data from (cols that start with name): \n",
    "\n",
    "- review_scores \n",
    "- host_response\n",
    "- last_review \n",
    "- first_review\n",
    "- host_acceptance_rate\n",
    "\n",
    "Might be an indication of properties that are new listing that has not been contacted yet. Hence they do not have any response time and rate, and/or ratings . Hence, null values for these features will be filled with `unknown`\n",
    "\n",
    "</div>"
   ]
  },
  {
   "cell_type": "markdown",
   "metadata": {},
   "source": [
    "##### a. Review Scores"
   ]
  },
  {
   "cell_type": "code",
   "execution_count": 33,
   "metadata": {},
   "outputs": [],
   "source": [
    "# Imputate null values with 'Unknown' for column that\n",
    "# starts with review_scores_ and ends with _review\n",
    "for col in listing.columns:\n",
    "    if (col in listing.columns[listing.columns.str.startswith('review_')]) | (col in listing.columns[listing.columns.str.endswith('_review')]):\n",
    "        listing[col].fillna('Unknown', inplace = True)"
   ]
  },
  {
   "cell_type": "code",
   "execution_count": 34,
   "metadata": {
    "scrolled": false
   },
   "outputs": [
    {
     "data": {
      "text/plain": [
       "host_response_time           1851\n",
       "host_response_rate           1851\n",
       "neighbourhood                1482\n",
       "security_deposit             1262\n",
       "zipcode                       968\n",
       "cleaning_fee                  702\n",
       "host_acceptance_rate          435\n",
       "state                         218\n",
       "city                           51\n",
       "beds                           42\n",
       "bedrooms                       23\n",
       "host_identity_verified          7\n",
       "host_has_profile_pic            7\n",
       "host_total_listings_count       7\n",
       "host_listings_count             7\n",
       "host_is_superhost               7\n",
       "host_since                      7\n",
       "bathrooms                       4\n",
       "market                          1\n",
       "dtype: int64"
      ]
     },
     "execution_count": 34,
     "metadata": {},
     "output_type": "execute_result"
    }
   ],
   "source": [
    "listing.isnull().sum()[listing.isnull().sum()>0].sort_values(ascending=False)"
   ]
  },
  {
   "cell_type": "markdown",
   "metadata": {},
   "source": [
    "##### b. Host response time , rate and acceptance rate"
   ]
  },
  {
   "cell_type": "code",
   "execution_count": 35,
   "metadata": {
    "scrolled": false
   },
   "outputs": [
    {
     "data": {
      "text/plain": [
       "within an hour        11028\n",
       "within a few hours     1195\n",
       "within a day            783\n",
       "a few days or more      152\n",
       "Name: host_response_time, dtype: int64"
      ]
     },
     "execution_count": 35,
     "metadata": {},
     "output_type": "execute_result"
    }
   ],
   "source": [
    "# Host response time\n",
    "listing.host_response_time.value_counts()"
   ]
  },
  {
   "cell_type": "code",
   "execution_count": 36,
   "metadata": {
    "scrolled": true
   },
   "outputs": [
    {
     "data": {
      "text/plain": [
       "within an hour        0.734759\n",
       "unknown               0.123326\n",
       "within a few hours    0.079619\n",
       "within a day          0.052169\n",
       "a few days or more    0.010127\n",
       "Name: host_response_time, dtype: float64"
      ]
     },
     "execution_count": 36,
     "metadata": {},
     "output_type": "execute_result"
    }
   ],
   "source": [
    "listing.host_response_time.fillna(\"unknown\", inplace=True)\n",
    "listing.host_response_time.value_counts(normalize=True)"
   ]
  },
  {
   "cell_type": "code",
   "execution_count": 37,
   "metadata": {
    "scrolled": true
   },
   "outputs": [
    {
     "data": {
      "text/plain": [
       "100%    10905\n",
       "90%       762\n",
       "80%       164\n",
       "94%       133\n",
       "0%        127\n",
       "50%       118\n",
       "67%       106\n",
       "88%       100\n",
       "70%        83\n",
       "92%        72\n",
       "75%        71\n",
       "95%        71\n",
       "71%        66\n",
       "86%        63\n",
       "83%        47\n",
       "98%        45\n",
       "89%        38\n",
       "96%        25\n",
       "99%        21\n",
       "91%        21\n",
       "85%        20\n",
       "40%        14\n",
       "81%        14\n",
       "97%        13\n",
       "63%        11\n",
       "73%        10\n",
       "60%        10\n",
       "93%         7\n",
       "33%         7\n",
       "78%         5\n",
       "64%         5\n",
       "20%         3\n",
       "25%         1\n",
       "Name: host_response_rate, dtype: int64"
      ]
     },
     "execution_count": 37,
     "metadata": {},
     "output_type": "execute_result"
    }
   ],
   "source": [
    "# Host response rate\n",
    "listing.host_response_rate.value_counts()"
   ]
  },
  {
   "cell_type": "code",
   "execution_count": 38,
   "metadata": {},
   "outputs": [],
   "source": [
    "# Remove unneccessary characters\n",
    "listing.host_response_rate = listing.host_response_rate.str[:-1].astype('float64')\n",
    "\n",
    "# Impute missing values with unknown\n",
    "listing.host_response_rate.fillna('unknown', inplace=True)"
   ]
  },
  {
   "cell_type": "code",
   "execution_count": 39,
   "metadata": {
    "scrolled": true
   },
   "outputs": [
    {
     "data": {
      "text/plain": [
       "100%    9822\n",
       "99%     1350\n",
       "98%      768\n",
       "97%      435\n",
       "96%      278\n",
       "Name: host_acceptance_rate, dtype: int64"
      ]
     },
     "execution_count": 39,
     "metadata": {},
     "output_type": "execute_result"
    }
   ],
   "source": [
    "listing.host_acceptance_rate.value_counts().head()"
   ]
  },
  {
   "cell_type": "code",
   "execution_count": 40,
   "metadata": {},
   "outputs": [
    {
     "data": {
      "text/plain": [
       "neighbourhood                1482\n",
       "security_deposit             1262\n",
       "zipcode                       968\n",
       "cleaning_fee                  702\n",
       "state                         218\n",
       "city                           51\n",
       "beds                           42\n",
       "bedrooms                       23\n",
       "host_identity_verified          7\n",
       "host_has_profile_pic            7\n",
       "host_total_listings_count       7\n",
       "host_listings_count             7\n",
       "host_is_superhost               7\n",
       "host_since                      7\n",
       "bathrooms                       4\n",
       "market                          1\n",
       "dtype: int64"
      ]
     },
     "execution_count": 40,
     "metadata": {},
     "output_type": "execute_result"
    }
   ],
   "source": [
    "# Host acceptance rate\n",
    "# Remove unneccessary characters\n",
    "listing.host_acceptance_rate = listing.host_acceptance_rate.str[:-1].astype('float64')\n",
    "\n",
    "# Impute missing values with unknown\n",
    "listing.host_acceptance_rate.fillna('unknown', inplace=True)\n",
    "\n",
    "# Check\n",
    "listing.isnull().sum()[listing.isnull().sum()>0].sort_values(ascending=False)"
   ]
  },
  {
   "cell_type": "code",
   "execution_count": 41,
   "metadata": {
    "scrolled": true
   },
   "outputs": [
    {
     "data": {
      "text/plain": [
       "neighbourhood                1482\n",
       "security_deposit             1262\n",
       "zipcode                       968\n",
       "cleaning_fee                  702\n",
       "state                         218\n",
       "city                           51\n",
       "beds                           42\n",
       "bedrooms                       23\n",
       "host_identity_verified          7\n",
       "host_has_profile_pic            7\n",
       "host_total_listings_count       7\n",
       "host_listings_count             7\n",
       "host_is_superhost               7\n",
       "host_since                      7\n",
       "bathrooms                       4\n",
       "market                          1\n",
       "dtype: int64"
      ]
     },
     "execution_count": 41,
     "metadata": {},
     "output_type": "execute_result"
    }
   ],
   "source": [
    "listing.isnull().sum()[listing.isnull().sum()>0].sort_values(ascending=False)"
   ]
  },
  {
   "cell_type": "markdown",
   "metadata": {},
   "source": [
    "##### c. Address Related"
   ]
  },
  {
   "cell_type": "markdown",
   "metadata": {},
   "source": [
    "<div class=\"alert alert-block alert-success\">\n",
    "    \n",
    "<b>Observation:</b>\n",
    "\n",
    "Looking at the categorical_df dataset. There are a couple of columns that are address related \n",
    "- street\n",
    "- neighbourhood\n",
    "- neighbourhood_cleansed --> to keep (Since the column is kept, Neighbourhood Dataset will not be required\n",
    "- city\n",
    "- state\n",
    "- zipcode\n",
    "- market\n",
    "- smart_location\n",
    "- country_code --> to keep\n",
    "- country\n",
    "\n",
    "From numerical_df, to safe in a new dataframe for later use\n",
    "- longitute \n",
    "- latitude\n",
    "\n",
    "</div>"
   ]
  },
  {
   "cell_type": "code",
   "execution_count": 42,
   "metadata": {
    "scrolled": true
   },
   "outputs": [
    {
     "name": "stdout",
     "output_type": "stream",
     "text": [
      "55\n"
     ]
    }
   ],
   "source": [
    "# To Check and Compare Address Related Columns\n",
    "\n",
    "# print(listing.street.value_counts())\n",
    "# print(listing.street.nunique())\n",
    "# print(listing.neighbourhood_cleansed.value_counts())\n",
    "print(listing.neighbourhood_cleansed.nunique())\n",
    "# print(listing.city.value_counts())\n",
    "# print(listing.city.nunique())\n",
    "# print(listing.state.value_counts())\n",
    "# print(listing.state.nunique())\n",
    "# print(listing.market.value_counts())\n",
    "# print(listing.market.nunique())\n",
    "# print(listing.smart_location.value_counts())\n",
    "# print(listing.smart_location.nunique())\n",
    "# print(listing.country_code.value_counts())\n",
    "# print(listing.country_code.nunique())\n",
    "\n",
    "# listing[listing.state == 'Shibuya']['neighbourhood']"
   ]
  },
  {
   "cell_type": "code",
   "execution_count": 43,
   "metadata": {},
   "outputs": [],
   "source": [
    "long_lat_df = listing[['longitude','latitude']]\n",
    "long_lat_df.to_csv('../datasets/long_lat_df.csv')"
   ]
  },
  {
   "cell_type": "code",
   "execution_count": 44,
   "metadata": {},
   "outputs": [
    {
     "data": {
      "text/plain": [
       "security_deposit             1262\n",
       "cleaning_fee                  702\n",
       "beds                           42\n",
       "bedrooms                       23\n",
       "host_identity_verified          7\n",
       "host_has_profile_pic            7\n",
       "host_total_listings_count       7\n",
       "host_listings_count             7\n",
       "host_is_superhost               7\n",
       "host_since                      7\n",
       "bathrooms                       4\n",
       "dtype: int64"
      ]
     },
     "execution_count": 44,
     "metadata": {},
     "output_type": "execute_result"
    }
   ],
   "source": [
    "listing.drop(['street','neighbourhood', 'city','state','zipcode',\n",
    "              'market','smart_location','country','longitude','latitude'], \n",
    "             axis=1, inplace=True)\n",
    "\n",
    "# Check\n",
    "listing.isnull().sum()[listing.isnull().sum()>0].sort_values(ascending=False)"
   ]
  },
  {
   "cell_type": "markdown",
   "metadata": {},
   "source": [
    "##### d. Fees"
   ]
  },
  {
   "cell_type": "markdown",
   "metadata": {},
   "source": [
    "<div class=\"alert alert-block alert-success\">\n",
    "    \n",
    "<b>Assumption:</b>\n",
    "\n",
    "Hosts can opt for no security_deposit or cleaning_fee. hence, will imputate null values as `0`\n",
    "\n",
    "</div>"
   ]
  },
  {
   "cell_type": "code",
   "execution_count": 45,
   "metadata": {
    "scrolled": false
   },
   "outputs": [
    {
     "data": {
      "text/plain": [
       "beds                         42\n",
       "bedrooms                     23\n",
       "host_identity_verified        7\n",
       "host_has_profile_pic          7\n",
       "host_total_listings_count     7\n",
       "host_listings_count           7\n",
       "host_is_superhost             7\n",
       "host_since                    7\n",
       "bathrooms                     4\n",
       "dtype: int64"
      ]
     },
     "execution_count": 45,
     "metadata": {},
     "output_type": "execute_result"
    }
   ],
   "source": [
    "listing.security_deposit.fillna(0, inplace=True)\n",
    "listing.cleaning_fee.fillna(0, inplace=True)\n",
    "\n",
    "listing.isnull().sum()[listing.isnull().sum()>0].sort_values(ascending=False)"
   ]
  },
  {
   "cell_type": "markdown",
   "metadata": {},
   "source": [
    "##### e. Beds,  Bedrooms , Bathrooms and Host_"
   ]
  },
  {
   "cell_type": "markdown",
   "metadata": {},
   "source": [
    "<div class=\"alert alert-block alert-success\">\n",
    "    \n",
    "<b>Assumption:</b>\n",
    "\n",
    "It is very usual for a listing to have no beds, and/or bathrooms. On top of that, a fully signed up Host on Airbnb will have a date of signing up. Hence I will be checking if they are of the same before i drop them. As for bedrooms, there is a possility that it is a studio apartment however, i cant entire assume. To avoid strange fractions.\n",
    "\n",
    "</div>"
   ]
  },
  {
   "cell_type": "code",
   "execution_count": 46,
   "metadata": {},
   "outputs": [],
   "source": [
    "# Beds and Bathrooms\n",
    "listing.dropna(subset=['beds','bathrooms'], inplace=True)\n",
    "impute_median(listing, 'bedrooms')"
   ]
  },
  {
   "cell_type": "code",
   "execution_count": 47,
   "metadata": {},
   "outputs": [
    {
     "data": {
      "text/html": [
       "<div>\n",
       "<style scoped>\n",
       "    .dataframe tbody tr th:only-of-type {\n",
       "        vertical-align: middle;\n",
       "    }\n",
       "\n",
       "    .dataframe tbody tr th {\n",
       "        vertical-align: top;\n",
       "    }\n",
       "\n",
       "    .dataframe thead th {\n",
       "        text-align: right;\n",
       "    }\n",
       "</style>\n",
       "<table border=\"1\" class=\"dataframe\">\n",
       "  <thead>\n",
       "    <tr style=\"text-align: right;\">\n",
       "      <th></th>\n",
       "      <th>id</th>\n",
       "      <th>host_id</th>\n",
       "      <th>host_since</th>\n",
       "      <th>host_response_time</th>\n",
       "      <th>host_response_rate</th>\n",
       "      <th>host_acceptance_rate</th>\n",
       "      <th>host_is_superhost</th>\n",
       "      <th>host_listings_count</th>\n",
       "      <th>host_total_listings_count</th>\n",
       "      <th>host_has_profile_pic</th>\n",
       "      <th>...</th>\n",
       "      <th>requires_license</th>\n",
       "      <th>instant_bookable</th>\n",
       "      <th>is_business_travel_ready</th>\n",
       "      <th>cancellation_policy</th>\n",
       "      <th>require_guest_profile_picture</th>\n",
       "      <th>require_guest_phone_verification</th>\n",
       "      <th>calculated_host_listings_count</th>\n",
       "      <th>calculated_host_listings_count_entire_homes</th>\n",
       "      <th>calculated_host_listings_count_private_rooms</th>\n",
       "      <th>calculated_host_listings_count_shared_rooms</th>\n",
       "    </tr>\n",
       "  </thead>\n",
       "  <tbody>\n",
       "    <tr>\n",
       "      <th>1104</th>\n",
       "      <td>15491845</td>\n",
       "      <td>17400367</td>\n",
       "      <td>NaT</td>\n",
       "      <td>unknown</td>\n",
       "      <td>unknown</td>\n",
       "      <td>unknown</td>\n",
       "      <td>NaN</td>\n",
       "      <td>NaN</td>\n",
       "      <td>NaN</td>\n",
       "      <td>NaN</td>\n",
       "      <td>...</td>\n",
       "      <td>1</td>\n",
       "      <td>1</td>\n",
       "      <td>0</td>\n",
       "      <td>strict_14_with_grace_period</td>\n",
       "      <td>0</td>\n",
       "      <td>0</td>\n",
       "      <td>7</td>\n",
       "      <td>7</td>\n",
       "      <td>0</td>\n",
       "      <td>0</td>\n",
       "    </tr>\n",
       "    <tr>\n",
       "      <th>1105</th>\n",
       "      <td>15500954</td>\n",
       "      <td>17400367</td>\n",
       "      <td>NaT</td>\n",
       "      <td>unknown</td>\n",
       "      <td>unknown</td>\n",
       "      <td>unknown</td>\n",
       "      <td>NaN</td>\n",
       "      <td>NaN</td>\n",
       "      <td>NaN</td>\n",
       "      <td>NaN</td>\n",
       "      <td>...</td>\n",
       "      <td>1</td>\n",
       "      <td>1</td>\n",
       "      <td>0</td>\n",
       "      <td>strict_14_with_grace_period</td>\n",
       "      <td>0</td>\n",
       "      <td>0</td>\n",
       "      <td>7</td>\n",
       "      <td>7</td>\n",
       "      <td>0</td>\n",
       "      <td>0</td>\n",
       "    </tr>\n",
       "    <tr>\n",
       "      <th>1180</th>\n",
       "      <td>15905371</td>\n",
       "      <td>17400367</td>\n",
       "      <td>NaT</td>\n",
       "      <td>unknown</td>\n",
       "      <td>unknown</td>\n",
       "      <td>unknown</td>\n",
       "      <td>NaN</td>\n",
       "      <td>NaN</td>\n",
       "      <td>NaN</td>\n",
       "      <td>NaN</td>\n",
       "      <td>...</td>\n",
       "      <td>1</td>\n",
       "      <td>1</td>\n",
       "      <td>0</td>\n",
       "      <td>strict_14_with_grace_period</td>\n",
       "      <td>0</td>\n",
       "      <td>0</td>\n",
       "      <td>7</td>\n",
       "      <td>7</td>\n",
       "      <td>0</td>\n",
       "      <td>0</td>\n",
       "    </tr>\n",
       "    <tr>\n",
       "      <th>1181</th>\n",
       "      <td>15905427</td>\n",
       "      <td>17400367</td>\n",
       "      <td>NaT</td>\n",
       "      <td>unknown</td>\n",
       "      <td>unknown</td>\n",
       "      <td>unknown</td>\n",
       "      <td>NaN</td>\n",
       "      <td>NaN</td>\n",
       "      <td>NaN</td>\n",
       "      <td>NaN</td>\n",
       "      <td>...</td>\n",
       "      <td>1</td>\n",
       "      <td>1</td>\n",
       "      <td>0</td>\n",
       "      <td>strict_14_with_grace_period</td>\n",
       "      <td>0</td>\n",
       "      <td>0</td>\n",
       "      <td>7</td>\n",
       "      <td>7</td>\n",
       "      <td>0</td>\n",
       "      <td>0</td>\n",
       "    </tr>\n",
       "    <tr>\n",
       "      <th>1182</th>\n",
       "      <td>15905559</td>\n",
       "      <td>17400367</td>\n",
       "      <td>NaT</td>\n",
       "      <td>unknown</td>\n",
       "      <td>unknown</td>\n",
       "      <td>unknown</td>\n",
       "      <td>NaN</td>\n",
       "      <td>NaN</td>\n",
       "      <td>NaN</td>\n",
       "      <td>NaN</td>\n",
       "      <td>...</td>\n",
       "      <td>1</td>\n",
       "      <td>1</td>\n",
       "      <td>0</td>\n",
       "      <td>strict_14_with_grace_period</td>\n",
       "      <td>0</td>\n",
       "      <td>0</td>\n",
       "      <td>7</td>\n",
       "      <td>7</td>\n",
       "      <td>0</td>\n",
       "      <td>0</td>\n",
       "    </tr>\n",
       "    <tr>\n",
       "      <th>1183</th>\n",
       "      <td>15905606</td>\n",
       "      <td>17400367</td>\n",
       "      <td>NaT</td>\n",
       "      <td>unknown</td>\n",
       "      <td>unknown</td>\n",
       "      <td>unknown</td>\n",
       "      <td>NaN</td>\n",
       "      <td>NaN</td>\n",
       "      <td>NaN</td>\n",
       "      <td>NaN</td>\n",
       "      <td>...</td>\n",
       "      <td>1</td>\n",
       "      <td>1</td>\n",
       "      <td>0</td>\n",
       "      <td>strict_14_with_grace_period</td>\n",
       "      <td>0</td>\n",
       "      <td>0</td>\n",
       "      <td>7</td>\n",
       "      <td>7</td>\n",
       "      <td>0</td>\n",
       "      <td>0</td>\n",
       "    </tr>\n",
       "    <tr>\n",
       "      <th>12521</th>\n",
       "      <td>41031782</td>\n",
       "      <td>17400367</td>\n",
       "      <td>NaT</td>\n",
       "      <td>unknown</td>\n",
       "      <td>unknown</td>\n",
       "      <td>unknown</td>\n",
       "      <td>NaN</td>\n",
       "      <td>NaN</td>\n",
       "      <td>NaN</td>\n",
       "      <td>NaN</td>\n",
       "      <td>...</td>\n",
       "      <td>1</td>\n",
       "      <td>1</td>\n",
       "      <td>0</td>\n",
       "      <td>strict_14_with_grace_period</td>\n",
       "      <td>0</td>\n",
       "      <td>0</td>\n",
       "      <td>7</td>\n",
       "      <td>7</td>\n",
       "      <td>0</td>\n",
       "      <td>0</td>\n",
       "    </tr>\n",
       "  </tbody>\n",
       "</table>\n",
       "<p>7 rows × 61 columns</p>\n",
       "</div>"
      ],
      "text/plain": [
       "             id   host_id host_since host_response_time host_response_rate  \\\n",
       "1104   15491845  17400367        NaT            unknown            unknown   \n",
       "1105   15500954  17400367        NaT            unknown            unknown   \n",
       "1180   15905371  17400367        NaT            unknown            unknown   \n",
       "1181   15905427  17400367        NaT            unknown            unknown   \n",
       "1182   15905559  17400367        NaT            unknown            unknown   \n",
       "1183   15905606  17400367        NaT            unknown            unknown   \n",
       "12521  41031782  17400367        NaT            unknown            unknown   \n",
       "\n",
       "      host_acceptance_rate  host_is_superhost  host_listings_count  \\\n",
       "1104               unknown                NaN                  NaN   \n",
       "1105               unknown                NaN                  NaN   \n",
       "1180               unknown                NaN                  NaN   \n",
       "1181               unknown                NaN                  NaN   \n",
       "1182               unknown                NaN                  NaN   \n",
       "1183               unknown                NaN                  NaN   \n",
       "12521              unknown                NaN                  NaN   \n",
       "\n",
       "       host_total_listings_count  host_has_profile_pic  ...  requires_license  \\\n",
       "1104                         NaN                   NaN  ...                 1   \n",
       "1105                         NaN                   NaN  ...                 1   \n",
       "1180                         NaN                   NaN  ...                 1   \n",
       "1181                         NaN                   NaN  ...                 1   \n",
       "1182                         NaN                   NaN  ...                 1   \n",
       "1183                         NaN                   NaN  ...                 1   \n",
       "12521                        NaN                   NaN  ...                 1   \n",
       "\n",
       "      instant_bookable is_business_travel_ready          cancellation_policy  \\\n",
       "1104                 1                        0  strict_14_with_grace_period   \n",
       "1105                 1                        0  strict_14_with_grace_period   \n",
       "1180                 1                        0  strict_14_with_grace_period   \n",
       "1181                 1                        0  strict_14_with_grace_period   \n",
       "1182                 1                        0  strict_14_with_grace_period   \n",
       "1183                 1                        0  strict_14_with_grace_period   \n",
       "12521                1                        0  strict_14_with_grace_period   \n",
       "\n",
       "      require_guest_profile_picture require_guest_phone_verification  \\\n",
       "1104                              0                                0   \n",
       "1105                              0                                0   \n",
       "1180                              0                                0   \n",
       "1181                              0                                0   \n",
       "1182                              0                                0   \n",
       "1183                              0                                0   \n",
       "12521                             0                                0   \n",
       "\n",
       "       calculated_host_listings_count  \\\n",
       "1104                                7   \n",
       "1105                                7   \n",
       "1180                                7   \n",
       "1181                                7   \n",
       "1182                                7   \n",
       "1183                                7   \n",
       "12521                               7   \n",
       "\n",
       "       calculated_host_listings_count_entire_homes  \\\n",
       "1104                                             7   \n",
       "1105                                             7   \n",
       "1180                                             7   \n",
       "1181                                             7   \n",
       "1182                                             7   \n",
       "1183                                             7   \n",
       "12521                                            7   \n",
       "\n",
       "       calculated_host_listings_count_private_rooms  \\\n",
       "1104                                              0   \n",
       "1105                                              0   \n",
       "1180                                              0   \n",
       "1181                                              0   \n",
       "1182                                              0   \n",
       "1183                                              0   \n",
       "12521                                             0   \n",
       "\n",
       "       calculated_host_listings_count_shared_rooms  \n",
       "1104                                             0  \n",
       "1105                                             0  \n",
       "1180                                             0  \n",
       "1181                                             0  \n",
       "1182                                             0  \n",
       "1183                                             0  \n",
       "12521                                            0  \n",
       "\n",
       "[7 rows x 61 columns]"
      ]
     },
     "execution_count": 47,
     "metadata": {},
     "output_type": "execute_result"
    }
   ],
   "source": [
    "# Host_\n",
    "# Checking if the 7 rows are of the same \n",
    "listing[listing['host_identity_verified'].isnull()| \n",
    "        listing['host_has_profile_pic'].isnull() | \n",
    "        listing['host_total_listings_count'].isnull() |\n",
    "        listing['host_listings_count'].isnull() |\n",
    "        listing['host_is_superhost'].isnull() | \n",
    "        listing['host_since'].isnull()]"
   ]
  },
  {
   "cell_type": "code",
   "execution_count": 48,
   "metadata": {},
   "outputs": [
    {
     "data": {
      "text/plain": [
       "(14956, 61)"
      ]
     },
     "execution_count": 48,
     "metadata": {},
     "output_type": "execute_result"
    }
   ],
   "source": [
    "listing.dropna(inplace=True)\n",
    "listing.shape"
   ]
  },
  {
   "cell_type": "markdown",
   "metadata": {},
   "source": [
    "#### 3.2.3  Individual Columns"
   ]
  },
  {
   "cell_type": "markdown",
   "metadata": {},
   "source": [
    "##### a. Listing Count"
   ]
  },
  {
   "cell_type": "code",
   "execution_count": 49,
   "metadata": {
    "scrolled": true
   },
   "outputs": [
    {
     "name": "stdout",
     "output_type": "stream",
     "text": [
      "(14956, 61)\n"
     ]
    },
    {
     "data": {
      "text/plain": [
       "True    14956\n",
       "dtype: int64"
      ]
     },
     "execution_count": 49,
     "metadata": {},
     "output_type": "execute_result"
    }
   ],
   "source": [
    "print(listing.shape)\n",
    "(listing.host_listings_count == listing.host_total_listings_count).value_counts()"
   ]
  },
  {
   "cell_type": "markdown",
   "metadata": {},
   "source": [
    "<div class=\"alert alert-block alert-success\">\n",
    "\n",
    "Host listing count and host total listings counts seem to have the same data. There are also other columns that are similar to listing counts(which are split up into multiple columns:\n",
    "\n",
    "- calculated_host_listings_count, \n",
    "- calculated_host_listings_count_entire_homes, \n",
    "- calculated_host_listings_count_private_rooms, \n",
    "- calculated_host_listings_count_shared_rooms\n",
    "\n",
    "Hence these columns will be dropped as well.\n",
    "</div>"
   ]
  },
  {
   "cell_type": "code",
   "execution_count": 50,
   "metadata": {},
   "outputs": [],
   "source": [
    "listing.drop(['host_total_listings_count','calculated_host_listings_count', 'calculated_host_listings_count_entire_homes',\n",
    "              'calculated_host_listings_count_private_rooms','calculated_host_listings_count_shared_rooms'], \n",
    "             axis=1, inplace=True)"
   ]
  },
  {
   "cell_type": "markdown",
   "metadata": {},
   "source": [
    "##### b. Boolean Columns"
   ]
  },
  {
   "cell_type": "code",
   "execution_count": 51,
   "metadata": {
    "scrolled": false
   },
   "outputs": [
    {
     "data": {
      "image/png": "[encoded data removed]",
      "text/plain": [
       "<Figure size 1440x720 with 9 Axes>"
      ]
     },
     "metadata": {
      "needs_background": "light"
     },
     "output_type": "display_data"
    }
   ],
   "source": [
    "# Columns with only booleans for Verfication Purposes:\n",
    "listing[['host_is_superhost',\n",
    "         'host_has_profile_pic', \n",
    "         'host_identity_verified', \n",
    "         'require_guest_profile_picture',\n",
    "         'require_guest_phone_verification',\n",
    "         'requires_license', \n",
    "         'instant_bookable', \n",
    "         'is_business_travel_ready', \n",
    "         'is_location_exact'\n",
    "        ]].hist(figsize=(20,10), color='#FF5A5F');"
   ]
  },
  {
   "cell_type": "markdown",
   "metadata": {},
   "source": [
    "<div class=\"alert alert-block alert-success\">\n",
    "\n",
    "<b>Observation:</b>\n",
    "\n",
    "As shown above some of the features showed uniform result. Hence will be dropping them as they will not be affect the price. \n",
    "- host_has_profile_pic\n",
    "- is_business_travel_ready\n",
    "- require_guest_phone_verification\n",
    "- require_guest_profile_picture\n",
    "- requires_license\n",
    "\n",
    "</div>"
   ]
  },
  {
   "cell_type": "code",
   "execution_count": 52,
   "metadata": {},
   "outputs": [],
   "source": [
    "listing.drop(['host_has_profile_pic',\n",
    "              'is_business_travel_ready',\n",
    "              'require_guest_phone_verification',\n",
    "              'require_guest_profile_picture',\n",
    "              'requires_license'], axis=1, inplace=True)"
   ]
  },
  {
   "cell_type": "markdown",
   "metadata": {},
   "source": [
    "##### c. Minimum and Maximum Nights"
   ]
  },
  {
   "cell_type": "markdown",
   "metadata": {},
   "source": [
    "<div class=\"alert alert-block alert-success\">\n",
    "\n",
    "<b>Observation:</b>\n",
    "\n",
    "There are multiple columns that are related to minimum and maximum night stays. To avoid overlapping of data, I will using the basic two which have not been altered.\n",
    "\n",
    "</div>"
   ]
  },
  {
   "cell_type": "code",
   "execution_count": 53,
   "metadata": {},
   "outputs": [],
   "source": [
    "listing.drop(['minimum_minimum_nights',\n",
    "             'maximum_minimum_nights',\n",
    "             'minimum_maximum_nights',\n",
    "             'maximum_maximum_nights',\n",
    "             'minimum_nights_avg_ntm',\n",
    "             'maximum_nights_avg_ntm'], axis=1, inplace=True)"
   ]
  },
  {
   "cell_type": "markdown",
   "metadata": {},
   "source": [
    "<div class=\"alert alert-block alert-warning\">\n",
    "    \n",
    "<b>Columns Left to Clean Inspect/Clean:</b>\n",
    "- amenities\n",
    "- calendar_updated, availability_30, availability_60, availability_90, availability_365\n",
    "\n",
    "</div>"
   ]
  },
  {
   "cell_type": "markdown",
   "metadata": {},
   "source": [
    "##### d. Categorical Columns"
   ]
  },
  {
   "cell_type": "markdown",
   "metadata": {},
   "source": [
    "##### i. property_type"
   ]
  },
  {
   "cell_type": "code",
   "execution_count": 54,
   "metadata": {
    "scrolled": false
   },
   "outputs": [
    {
     "data": {
      "text/plain": [
       "Apartment             8801\n",
       "House                 2543\n",
       "Hostel                1122\n",
       "Hotel                  719\n",
       "Condominium            463\n",
       "Aparthotel             243\n",
       "Boutique hotel         227\n",
       "Villa                  169\n",
       "Serviced apartment     168\n",
       "Ryokan (Japan)         166\n",
       "Hut                     55\n",
       "Loft                    52\n",
       "Guesthouse              48\n",
       "Bed and breakfast       41\n",
       "Townhouse               38\n",
       "Guest suite             23\n",
       "Tiny house              20\n",
       "Other                   18\n",
       "Cabin                    9\n",
       "Tent                     5\n",
       "Bungalow                 5\n",
       "Camper/RV                5\n",
       "Dome house               5\n",
       "Nature lodge             4\n",
       "Resort                   3\n",
       "Dorm                     1\n",
       "Cottage                  1\n",
       "Castle                   1\n",
       "Earth house              1\n",
       "Name: property_type, dtype: int64"
      ]
     },
     "execution_count": 54,
     "metadata": {},
     "output_type": "execute_result"
    }
   ],
   "source": [
    "listing.property_type.value_counts()"
   ]
  },
  {
   "cell_type": "code",
   "execution_count": 55,
   "metadata": {},
   "outputs": [],
   "source": [
    "# to regroup?"
   ]
  },
  {
   "cell_type": "markdown",
   "metadata": {},
   "source": [
    "##### ii. room_type"
   ]
  },
  {
   "cell_type": "code",
   "execution_count": 56,
   "metadata": {
    "scrolled": false
   },
   "outputs": [
    {
     "data": {
      "text/plain": [
       "Entire home/apt    10275\n",
       "Private room        3268\n",
       "Hotel room           724\n",
       "Shared room          689\n",
       "Name: room_type, dtype: int64"
      ]
     },
     "execution_count": 56,
     "metadata": {},
     "output_type": "execute_result"
    }
   ],
   "source": [
    "listing.room_type.value_counts()"
   ]
  },
  {
   "cell_type": "markdown",
   "metadata": {},
   "source": [
    "##### iii. bed_type"
   ]
  },
  {
   "cell_type": "markdown",
   "metadata": {},
   "source": [
    "<div class=\"alert alert-block alert-success\">\n",
    "\n",
    "<b>Observation:</b>\n",
    "\n",
    "This column seem kinda redundent since majority are the same bed. Hence will be dropping this column. \n",
    "\n",
    "</div>"
   ]
  },
  {
   "cell_type": "code",
   "execution_count": 57,
   "metadata": {
    "scrolled": true
   },
   "outputs": [
    {
     "data": {
      "text/plain": [
       "Real Bed         14903\n",
       "Futon               45\n",
       "Pull-out Sofa        4\n",
       "Airbed               3\n",
       "Couch                1\n",
       "Name: bed_type, dtype: int64"
      ]
     },
     "execution_count": 57,
     "metadata": {},
     "output_type": "execute_result"
    }
   ],
   "source": [
    "listing.bed_type.value_counts()"
   ]
  },
  {
   "cell_type": "code",
   "execution_count": 58,
   "metadata": {},
   "outputs": [],
   "source": [
    "listing.drop(['bed_type'], axis=1, inplace=True)"
   ]
  },
  {
   "cell_type": "markdown",
   "metadata": {},
   "source": [
    "##### iv. amenities"
   ]
  },
  {
   "cell_type": "code",
   "execution_count": 59,
   "metadata": {
    "scrolled": true
   },
   "outputs": [
    {
     "data": {
      "text/plain": [
       "0    {TV,Internet,Wifi,Kitchen,\"Paid parking off pr...\n",
       "1    {TV,Internet,Wifi,\"Air conditioning\",Kitchen,\"...\n",
       "2    {TV,Wifi,\"Air conditioning\",Kitchen,\"Hot tub\",...\n",
       "3    {TV,Internet,Wifi,\"Air conditioning\",Kitchen,\"...\n",
       "4    {TV,Internet,Wifi,\"Air conditioning\",Kitchen,\"...\n",
       "Name: amenities, dtype: object"
      ]
     },
     "execution_count": 59,
     "metadata": {},
     "output_type": "execute_result"
    }
   ],
   "source": [
    "listing.amenities.head()"
   ]
  },
  {
   "cell_type": "code",
   "execution_count": 60,
   "metadata": {},
   "outputs": [
    {
     "data": {
      "text/plain": [
       "0    {TV,Internet,Wifi,Kitchen,\"Paid parking off pr...\n",
       "Name: amenities, dtype: object"
      ]
     },
     "execution_count": 60,
     "metadata": {},
     "output_type": "execute_result"
    }
   ],
   "source": [
    "listing.amenities[:1]"
   ]
  },
  {
   "cell_type": "code",
   "execution_count": 61,
   "metadata": {},
   "outputs": [],
   "source": [
    "listing['amenities'] = listing['amenities'].str.replace('{', '').str.replace('}','').str.replace('\"', '')\n",
    "listing['amenities'] = listing['amenities'].replace(' ', '_').str.lower()"
   ]
  },
  {
   "cell_type": "code",
   "execution_count": 62,
   "metadata": {
    "scrolled": false
   },
   "outputs": [
    {
     "data": {
      "text/plain": [
       "0    tv,internet,wifi,kitchen,paid parking off prem...\n",
       "1    tv,internet,wifi,air conditioning,kitchen,buzz...\n",
       "2    tv,wifi,air conditioning,kitchen,hot tub,heati...\n",
       "3    tv,internet,wifi,air conditioning,kitchen,paid...\n",
       "4    tv,internet,wifi,air conditioning,kitchen,hot ...\n",
       "Name: amenities, dtype: object"
      ]
     },
     "execution_count": 62,
     "metadata": {},
     "output_type": "execute_result"
    }
   ],
   "source": [
    "listing.amenities.head()"
   ]
  },
  {
   "cell_type": "code",
   "execution_count": 63,
   "metadata": {},
   "outputs": [
    {
     "data": {
      "text/plain": [
       "air conditioning    14813\n",
       "hair dryer          14744\n",
       "essentials          14473\n",
       "shampoo             14470\n",
       "smoke alarm         13768\n",
       "                    ...  \n",
       "bidet                   1\n",
       "convection oven         1\n",
       "mobile hoist            1\n",
       "bottled water           1\n",
       "balcony                 1\n",
       "Length: 156, dtype: Int64"
      ]
     },
     "execution_count": 63,
     "metadata": {},
     "output_type": "execute_result"
    }
   ],
   "source": [
    "all_amenities_count = pd.array(listing.amenities.str.split(',').sum()).value_counts()\n",
    "all_amenities_count"
   ]
  },
  {
   "cell_type": "code",
   "execution_count": 64,
   "metadata": {},
   "outputs": [
    {
     "data": {
      "text/plain": [
       "air conditioning              14813\n",
       "hair dryer                    14744\n",
       "essentials                    14473\n",
       "shampoo                       14470\n",
       "smoke alarm                   13768\n",
       "wifi                          13606\n",
       "hangers                       12732\n",
       "washer                        12689\n",
       "heating                       12332\n",
       "fire extinguisher             12108\n",
       "kitchen                       12055\n",
       "hot water                     11490\n",
       "refrigerator                  10678\n",
       "tv                            10663\n",
       "laptop-friendly workspace     10338\n",
       "microwave                      9990\n",
       "dishes and silverware          9212\n",
       "carbon monoxide alarm          9194\n",
       "iron                           9057\n",
       "private entrance               8322\n",
       "stove                          7670\n",
       "long term stays allowed        7294\n",
       "bed linens                     7065\n",
       "cooking basics                 6152\n",
       "self check-in                  5755\n",
       "elevator                       5158\n",
       "lock on bedroom door           5036\n",
       "dryer                          4492\n",
       "first aid kit                  4371\n",
       "luggage dropoff allowed        4125\n",
       "room-darkening shades          3726\n",
       "paid parking off premises      3481\n",
       "lockbox                        3408\n",
       "bathtub                        3310\n",
       "pocket wifi                    3212\n",
       "patio or balcony               2987\n",
       "family/kid friendly            2768\n",
       "extra pillows and blankets     2633\n",
       "private living room            2342\n",
       "trash can                      2003\n",
       "safety card                    1754\n",
       "shower gel                     1711\n",
       "ethernet connection            1648\n",
       "internet                       1565\n",
       "hot tub                        1516\n",
       "coffee maker                   1437\n",
       "oven                           1423\n",
       "keypad                         1382\n",
       "host greets you                1136\n",
       "suitable for events             954\n",
       "dtype: Int64"
      ]
     },
     "execution_count": 64,
     "metadata": {},
     "output_type": "execute_result"
    }
   ],
   "source": [
    "all_amenities_count.head(50)"
   ]
  },
  {
   "cell_type": "code",
   "execution_count": 65,
   "metadata": {},
   "outputs": [
    {
     "data": {
      "text/plain": [
       "doorman                       41\n",
       "bread maker                   33\n",
       "barbecue utensils             31\n",
       "roll-in shower                30\n",
       "full kitchen                  29\n",
       "fixed grab bars for toilet    29\n",
       "bathtub with bath chair       25\n",
       "lake access                   23\n",
       "pool                          22\n",
       "baking sheet                  21\n",
       "disabled parking spot         19\n",
       "shower chair                  19\n",
       "beach essentials              16\n",
       "other pet(s)                  13\n",
       "fireplace guards              11\n",
       "bath towel                    11\n",
       "roll-in shower with chair      9\n",
       "beachfront                     8\n",
       "body soap                      6\n",
       "toilet paper                   6\n",
       "bedroom comforts               6\n",
       "bathroom essentials            6\n",
       "slippers                       5\n",
       "baby monitor                   5\n",
       "private bathroom               5\n",
       "breakfast table                3\n",
       "kitchenette                    3\n",
       "firm mattress                  3\n",
       "ground floor access            3\n",
       "                               3\n",
       "netflix                        2\n",
       "smart tv                       2\n",
       "projector and screen           2\n",
       "soaking tub                    2\n",
       "terrace                        2\n",
       "walk-in shower                 1\n",
       "en suite bathroom              1\n",
       "memory foam mattress           1\n",
       "air purifier                   1\n",
       "pool with pool hoist           1\n",
       "dvd player                     1\n",
       "heated towel rack              1\n",
       "gas oven                       1\n",
       "heated floors                  1\n",
       "electric profiling bed         1\n",
       "bidet                          1\n",
       "convection oven                1\n",
       "mobile hoist                   1\n",
       "bottled water                  1\n",
       "balcony                        1\n",
       "dtype: Int64"
      ]
     },
     "execution_count": 65,
     "metadata": {},
     "output_type": "execute_result"
    }
   ],
   "source": [
    "all_amenities_count.tail(50)"
   ]
  },
  {
   "cell_type": "code",
   "execution_count": 66,
   "metadata": {
    "scrolled": true
   },
   "outputs": [
    {
     "data": {
      "text/html": [
       "<div>\n",
       "<style scoped>\n",
       "    .dataframe tbody tr th:only-of-type {\n",
       "        vertical-align: middle;\n",
       "    }\n",
       "\n",
       "    .dataframe tbody tr th {\n",
       "        vertical-align: top;\n",
       "    }\n",
       "\n",
       "    .dataframe thead th {\n",
       "        text-align: right;\n",
       "    }\n",
       "</style>\n",
       "<table border=\"1\" class=\"dataframe\">\n",
       "  <thead>\n",
       "    <tr style=\"text-align: right;\">\n",
       "      <th></th>\n",
       "      <th>0</th>\n",
       "      <th>1</th>\n",
       "      <th>2</th>\n",
       "    </tr>\n",
       "  </thead>\n",
       "  <tbody>\n",
       "    <tr>\n",
       "      <th>id</th>\n",
       "      <td>35303</td>\n",
       "      <td>197677</td>\n",
       "      <td>289597</td>\n",
       "    </tr>\n",
       "    <tr>\n",
       "      <th>host_id</th>\n",
       "      <td>151977</td>\n",
       "      <td>964081</td>\n",
       "      <td>341577</td>\n",
       "    </tr>\n",
       "    <tr>\n",
       "      <th>host_since</th>\n",
       "      <td>2010-06-25 00:00:00</td>\n",
       "      <td>2011-08-13 00:00:00</td>\n",
       "      <td>2011-01-10 00:00:00</td>\n",
       "    </tr>\n",
       "    <tr>\n",
       "      <th>host_response_time</th>\n",
       "      <td>unknown</td>\n",
       "      <td>within a few hours</td>\n",
       "      <td>within a few hours</td>\n",
       "    </tr>\n",
       "    <tr>\n",
       "      <th>host_response_rate</th>\n",
       "      <td>unknown</td>\n",
       "      <td>100</td>\n",
       "      <td>100</td>\n",
       "    </tr>\n",
       "    <tr>\n",
       "      <th>host_acceptance_rate</th>\n",
       "      <td>unknown</td>\n",
       "      <td>86</td>\n",
       "      <td>82</td>\n",
       "    </tr>\n",
       "    <tr>\n",
       "      <th>host_is_superhost</th>\n",
       "      <td>0</td>\n",
       "      <td>1</td>\n",
       "      <td>0</td>\n",
       "    </tr>\n",
       "    <tr>\n",
       "      <th>host_listings_count</th>\n",
       "      <td>3</td>\n",
       "      <td>1</td>\n",
       "      <td>2</td>\n",
       "    </tr>\n",
       "    <tr>\n",
       "      <th>host_identity_verified</th>\n",
       "      <td>1</td>\n",
       "      <td>1</td>\n",
       "      <td>1</td>\n",
       "    </tr>\n",
       "    <tr>\n",
       "      <th>neighbourhood_cleansed</th>\n",
       "      <td>Shibuya Ku</td>\n",
       "      <td>Sumida Ku</td>\n",
       "      <td>Nerima Ku</td>\n",
       "    </tr>\n",
       "    <tr>\n",
       "      <th>country_code</th>\n",
       "      <td>JP</td>\n",
       "      <td>JP</td>\n",
       "      <td>JP</td>\n",
       "    </tr>\n",
       "    <tr>\n",
       "      <th>is_location_exact</th>\n",
       "      <td>1</td>\n",
       "      <td>0</td>\n",
       "      <td>0</td>\n",
       "    </tr>\n",
       "    <tr>\n",
       "      <th>property_type</th>\n",
       "      <td>Apartment</td>\n",
       "      <td>Apartment</td>\n",
       "      <td>Apartment</td>\n",
       "    </tr>\n",
       "    <tr>\n",
       "      <th>room_type</th>\n",
       "      <td>Private room</td>\n",
       "      <td>Entire home/apt</td>\n",
       "      <td>Entire home/apt</td>\n",
       "    </tr>\n",
       "    <tr>\n",
       "      <th>accommodates</th>\n",
       "      <td>1</td>\n",
       "      <td>2</td>\n",
       "      <td>2</td>\n",
       "    </tr>\n",
       "    <tr>\n",
       "      <th>bathrooms</th>\n",
       "      <td>1</td>\n",
       "      <td>1</td>\n",
       "      <td>1</td>\n",
       "    </tr>\n",
       "    <tr>\n",
       "      <th>bedrooms</th>\n",
       "      <td>1</td>\n",
       "      <td>1</td>\n",
       "      <td>1</td>\n",
       "    </tr>\n",
       "    <tr>\n",
       "      <th>beds</th>\n",
       "      <td>1</td>\n",
       "      <td>2</td>\n",
       "      <td>1</td>\n",
       "    </tr>\n",
       "    <tr>\n",
       "      <th>amenities</th>\n",
       "      <td>tv,internet,wifi,kitchen,paid parking off prem...</td>\n",
       "      <td>tv,internet,wifi,air conditioning,kitchen,buzz...</td>\n",
       "      <td>tv,wifi,air conditioning,kitchen,hot tub,heati...</td>\n",
       "    </tr>\n",
       "    <tr>\n",
       "      <th>price</th>\n",
       "      <td>4192</td>\n",
       "      <td>10965</td>\n",
       "      <td>4192</td>\n",
       "    </tr>\n",
       "    <tr>\n",
       "      <th>security_deposit</th>\n",
       "      <td>30000</td>\n",
       "      <td>40000</td>\n",
       "      <td>32250</td>\n",
       "    </tr>\n",
       "    <tr>\n",
       "      <th>cleaning_fee</th>\n",
       "      <td>5000</td>\n",
       "      <td>5000</td>\n",
       "      <td>5375</td>\n",
       "    </tr>\n",
       "    <tr>\n",
       "      <th>guests_included</th>\n",
       "      <td>1</td>\n",
       "      <td>1</td>\n",
       "      <td>1</td>\n",
       "    </tr>\n",
       "    <tr>\n",
       "      <th>extra_people</th>\n",
       "      <td>0</td>\n",
       "      <td>0</td>\n",
       "      <td>1075</td>\n",
       "    </tr>\n",
       "    <tr>\n",
       "      <th>minimum_nights</th>\n",
       "      <td>28</td>\n",
       "      <td>3</td>\n",
       "      <td>28</td>\n",
       "    </tr>\n",
       "    <tr>\n",
       "      <th>maximum_nights</th>\n",
       "      <td>1125</td>\n",
       "      <td>365</td>\n",
       "      <td>180</td>\n",
       "    </tr>\n",
       "    <tr>\n",
       "      <th>calendar_updated</th>\n",
       "      <td>19 months ago</td>\n",
       "      <td>6 weeks ago</td>\n",
       "      <td>7 weeks ago</td>\n",
       "    </tr>\n",
       "    <tr>\n",
       "      <th>has_availability</th>\n",
       "      <td>1</td>\n",
       "      <td>1</td>\n",
       "      <td>1</td>\n",
       "    </tr>\n",
       "    <tr>\n",
       "      <th>availability_30</th>\n",
       "      <td>29</td>\n",
       "      <td>28</td>\n",
       "      <td>30</td>\n",
       "    </tr>\n",
       "    <tr>\n",
       "      <th>availability_60</th>\n",
       "      <td>59</td>\n",
       "      <td>40</td>\n",
       "      <td>51</td>\n",
       "    </tr>\n",
       "    <tr>\n",
       "      <th>availability_90</th>\n",
       "      <td>89</td>\n",
       "      <td>46</td>\n",
       "      <td>58</td>\n",
       "    </tr>\n",
       "    <tr>\n",
       "      <th>availability_365</th>\n",
       "      <td>89</td>\n",
       "      <td>270</td>\n",
       "      <td>242</td>\n",
       "    </tr>\n",
       "    <tr>\n",
       "      <th>number_of_reviews</th>\n",
       "      <td>18</td>\n",
       "      <td>165</td>\n",
       "      <td>113</td>\n",
       "    </tr>\n",
       "    <tr>\n",
       "      <th>first_review</th>\n",
       "      <td>2011-12-28 00:00:00</td>\n",
       "      <td>2011-09-21 00:00:00</td>\n",
       "      <td>2012-06-15 00:00:00</td>\n",
       "    </tr>\n",
       "    <tr>\n",
       "      <th>last_review</th>\n",
       "      <td>2018-07-28 00:00:00</td>\n",
       "      <td>2020-03-04 00:00:00</td>\n",
       "      <td>2020-02-17 00:00:00</td>\n",
       "    </tr>\n",
       "    <tr>\n",
       "      <th>review_scores_rating</th>\n",
       "      <td>94</td>\n",
       "      <td>95</td>\n",
       "      <td>95</td>\n",
       "    </tr>\n",
       "    <tr>\n",
       "      <th>review_scores_accuracy</th>\n",
       "      <td>9</td>\n",
       "      <td>10</td>\n",
       "      <td>9</td>\n",
       "    </tr>\n",
       "    <tr>\n",
       "      <th>review_scores_cleanliness</th>\n",
       "      <td>9</td>\n",
       "      <td>10</td>\n",
       "      <td>10</td>\n",
       "    </tr>\n",
       "    <tr>\n",
       "      <th>review_scores_checkin</th>\n",
       "      <td>9</td>\n",
       "      <td>10</td>\n",
       "      <td>10</td>\n",
       "    </tr>\n",
       "    <tr>\n",
       "      <th>review_scores_communication</th>\n",
       "      <td>10</td>\n",
       "      <td>10</td>\n",
       "      <td>9</td>\n",
       "    </tr>\n",
       "    <tr>\n",
       "      <th>review_scores_location</th>\n",
       "      <td>10</td>\n",
       "      <td>9</td>\n",
       "      <td>9</td>\n",
       "    </tr>\n",
       "    <tr>\n",
       "      <th>review_scores_value</th>\n",
       "      <td>9</td>\n",
       "      <td>10</td>\n",
       "      <td>9</td>\n",
       "    </tr>\n",
       "    <tr>\n",
       "      <th>instant_bookable</th>\n",
       "      <td>0</td>\n",
       "      <td>0</td>\n",
       "      <td>0</td>\n",
       "    </tr>\n",
       "    <tr>\n",
       "      <th>cancellation_policy</th>\n",
       "      <td>strict_14_with_grace_period</td>\n",
       "      <td>moderate</td>\n",
       "      <td>strict_14_with_grace_period</td>\n",
       "    </tr>\n",
       "  </tbody>\n",
       "</table>\n",
       "</div>"
      ],
      "text/plain": [
       "                                                                             0  \\\n",
       "id                                                                       35303   \n",
       "host_id                                                                 151977   \n",
       "host_since                                                 2010-06-25 00:00:00   \n",
       "host_response_time                                                     unknown   \n",
       "host_response_rate                                                     unknown   \n",
       "host_acceptance_rate                                                   unknown   \n",
       "host_is_superhost                                                            0   \n",
       "host_listings_count                                                          3   \n",
       "host_identity_verified                                                       1   \n",
       "neighbourhood_cleansed                                              Shibuya Ku   \n",
       "country_code                                                                JP   \n",
       "is_location_exact                                                            1   \n",
       "property_type                                                        Apartment   \n",
       "room_type                                                         Private room   \n",
       "accommodates                                                                 1   \n",
       "bathrooms                                                                    1   \n",
       "bedrooms                                                                     1   \n",
       "beds                                                                         1   \n",
       "amenities                    tv,internet,wifi,kitchen,paid parking off prem...   \n",
       "price                                                                     4192   \n",
       "security_deposit                                                         30000   \n",
       "cleaning_fee                                                              5000   \n",
       "guests_included                                                              1   \n",
       "extra_people                                                                 0   \n",
       "minimum_nights                                                              28   \n",
       "maximum_nights                                                            1125   \n",
       "calendar_updated                                                 19 months ago   \n",
       "has_availability                                                             1   \n",
       "availability_30                                                             29   \n",
       "availability_60                                                             59   \n",
       "availability_90                                                             89   \n",
       "availability_365                                                            89   \n",
       "number_of_reviews                                                           18   \n",
       "first_review                                               2011-12-28 00:00:00   \n",
       "last_review                                                2018-07-28 00:00:00   \n",
       "review_scores_rating                                                        94   \n",
       "review_scores_accuracy                                                       9   \n",
       "review_scores_cleanliness                                                    9   \n",
       "review_scores_checkin                                                        9   \n",
       "review_scores_communication                                                 10   \n",
       "review_scores_location                                                      10   \n",
       "review_scores_value                                                          9   \n",
       "instant_bookable                                                             0   \n",
       "cancellation_policy                                strict_14_with_grace_period   \n",
       "\n",
       "                                                                             1  \\\n",
       "id                                                                      197677   \n",
       "host_id                                                                 964081   \n",
       "host_since                                                 2011-08-13 00:00:00   \n",
       "host_response_time                                          within a few hours   \n",
       "host_response_rate                                                         100   \n",
       "host_acceptance_rate                                                        86   \n",
       "host_is_superhost                                                            1   \n",
       "host_listings_count                                                          1   \n",
       "host_identity_verified                                                       1   \n",
       "neighbourhood_cleansed                                               Sumida Ku   \n",
       "country_code                                                                JP   \n",
       "is_location_exact                                                            0   \n",
       "property_type                                                        Apartment   \n",
       "room_type                                                      Entire home/apt   \n",
       "accommodates                                                                 2   \n",
       "bathrooms                                                                    1   \n",
       "bedrooms                                                                     1   \n",
       "beds                                                                         2   \n",
       "amenities                    tv,internet,wifi,air conditioning,kitchen,buzz...   \n",
       "price                                                                    10965   \n",
       "security_deposit                                                         40000   \n",
       "cleaning_fee                                                              5000   \n",
       "guests_included                                                              1   \n",
       "extra_people                                                                 0   \n",
       "minimum_nights                                                               3   \n",
       "maximum_nights                                                             365   \n",
       "calendar_updated                                                   6 weeks ago   \n",
       "has_availability                                                             1   \n",
       "availability_30                                                             28   \n",
       "availability_60                                                             40   \n",
       "availability_90                                                             46   \n",
       "availability_365                                                           270   \n",
       "number_of_reviews                                                          165   \n",
       "first_review                                               2011-09-21 00:00:00   \n",
       "last_review                                                2020-03-04 00:00:00   \n",
       "review_scores_rating                                                        95   \n",
       "review_scores_accuracy                                                      10   \n",
       "review_scores_cleanliness                                                   10   \n",
       "review_scores_checkin                                                       10   \n",
       "review_scores_communication                                                 10   \n",
       "review_scores_location                                                       9   \n",
       "review_scores_value                                                         10   \n",
       "instant_bookable                                                             0   \n",
       "cancellation_policy                                                   moderate   \n",
       "\n",
       "                                                                             2  \n",
       "id                                                                      289597  \n",
       "host_id                                                                 341577  \n",
       "host_since                                                 2011-01-10 00:00:00  \n",
       "host_response_time                                          within a few hours  \n",
       "host_response_rate                                                         100  \n",
       "host_acceptance_rate                                                        82  \n",
       "host_is_superhost                                                            0  \n",
       "host_listings_count                                                          2  \n",
       "host_identity_verified                                                       1  \n",
       "neighbourhood_cleansed                                               Nerima Ku  \n",
       "country_code                                                                JP  \n",
       "is_location_exact                                                            0  \n",
       "property_type                                                        Apartment  \n",
       "room_type                                                      Entire home/apt  \n",
       "accommodates                                                                 2  \n",
       "bathrooms                                                                    1  \n",
       "bedrooms                                                                     1  \n",
       "beds                                                                         1  \n",
       "amenities                    tv,wifi,air conditioning,kitchen,hot tub,heati...  \n",
       "price                                                                     4192  \n",
       "security_deposit                                                         32250  \n",
       "cleaning_fee                                                              5375  \n",
       "guests_included                                                              1  \n",
       "extra_people                                                              1075  \n",
       "minimum_nights                                                              28  \n",
       "maximum_nights                                                             180  \n",
       "calendar_updated                                                   7 weeks ago  \n",
       "has_availability                                                             1  \n",
       "availability_30                                                             30  \n",
       "availability_60                                                             51  \n",
       "availability_90                                                             58  \n",
       "availability_365                                                           242  \n",
       "number_of_reviews                                                          113  \n",
       "first_review                                               2012-06-15 00:00:00  \n",
       "last_review                                                2020-02-17 00:00:00  \n",
       "review_scores_rating                                                        95  \n",
       "review_scores_accuracy                                                       9  \n",
       "review_scores_cleanliness                                                   10  \n",
       "review_scores_checkin                                                       10  \n",
       "review_scores_communication                                                  9  \n",
       "review_scores_location                                                       9  \n",
       "review_scores_value                                                          9  \n",
       "instant_bookable                                                             0  \n",
       "cancellation_policy                                strict_14_with_grace_period  "
      ]
     },
     "execution_count": 66,
     "metadata": {},
     "output_type": "execute_result"
    }
   ],
   "source": [
    "listing.head(3).T"
   ]
  },
  {
   "cell_type": "code",
   "execution_count": 67,
   "metadata": {},
   "outputs": [
    {
     "data": {
      "text/plain": [
       "(14956, 44)"
      ]
     },
     "execution_count": 67,
     "metadata": {},
     "output_type": "execute_result"
    }
   ],
   "source": [
    "listing.shape"
   ]
  },
  {
   "cell_type": "markdown",
   "metadata": {},
   "source": [
    "##### Save DataFrame"
   ]
  },
  {
   "cell_type": "code",
   "execution_count": null,
   "metadata": {},
   "outputs": [],
   "source": [
    "# listing.to_csv(\"../datasets/listing_cleaned.csv\")"
   ]
  },
  {
   "cell_type": "markdown",
   "metadata": {},
   "source": [
    "##### Merge Dataframe"
   ]
  },
  {
   "cell_type": "code",
   "execution_count": null,
   "metadata": {},
   "outputs": [],
   "source": [
    "# listing_cal = pd.merge(listing, calendar, how='left', on=['id', date','price'])"
   ]
  },
  {
   "cell_type": "markdown",
   "metadata": {},
   "source": [
    "###  <span style='background:yellow'> 3.3. Neighbourhood </span>"
   ]
  },
  {
   "cell_type": "code",
   "execution_count": 69,
   "metadata": {},
   "outputs": [
    {
     "data": {
      "text/html": [
       "<div>\n",
       "<style scoped>\n",
       "    .dataframe tbody tr th:only-of-type {\n",
       "        vertical-align: middle;\n",
       "    }\n",
       "\n",
       "    .dataframe tbody tr th {\n",
       "        vertical-align: top;\n",
       "    }\n",
       "\n",
       "    .dataframe thead th {\n",
       "        text-align: right;\n",
       "    }\n",
       "</style>\n",
       "<table border=\"1\" class=\"dataframe\">\n",
       "  <thead>\n",
       "    <tr style=\"text-align: right;\">\n",
       "      <th></th>\n",
       "      <th>neighbourhood</th>\n",
       "    </tr>\n",
       "  </thead>\n",
       "  <tbody>\n",
       "    <tr>\n",
       "      <th>0</th>\n",
       "      <td>Adachi Ku</td>\n",
       "    </tr>\n",
       "    <tr>\n",
       "      <th>1</th>\n",
       "      <td>Akiruno Shi</td>\n",
       "    </tr>\n",
       "    <tr>\n",
       "      <th>2</th>\n",
       "      <td>Akishima Shi</td>\n",
       "    </tr>\n",
       "    <tr>\n",
       "      <th>3</th>\n",
       "      <td>Aogashima Mura</td>\n",
       "    </tr>\n",
       "    <tr>\n",
       "      <th>4</th>\n",
       "      <td>Arakawa Ku</td>\n",
       "    </tr>\n",
       "    <tr>\n",
       "      <th>...</th>\n",
       "      <td>...</td>\n",
       "    </tr>\n",
       "    <tr>\n",
       "      <th>57</th>\n",
       "      <td>Tachikawa Shi</td>\n",
       "    </tr>\n",
       "    <tr>\n",
       "      <th>58</th>\n",
       "      <td>Taito Ku</td>\n",
       "    </tr>\n",
       "    <tr>\n",
       "      <th>59</th>\n",
       "      <td>Tama Shi</td>\n",
       "    </tr>\n",
       "    <tr>\n",
       "      <th>60</th>\n",
       "      <td>Toshima Ku</td>\n",
       "    </tr>\n",
       "    <tr>\n",
       "      <th>61</th>\n",
       "      <td>Toshima Mura</td>\n",
       "    </tr>\n",
       "  </tbody>\n",
       "</table>\n",
       "<p>62 rows × 1 columns</p>\n",
       "</div>"
      ],
      "text/plain": [
       "     neighbourhood\n",
       "0        Adachi Ku\n",
       "1      Akiruno Shi\n",
       "2     Akishima Shi\n",
       "3   Aogashima Mura\n",
       "4       Arakawa Ku\n",
       "..             ...\n",
       "57   Tachikawa Shi\n",
       "58        Taito Ku\n",
       "59        Tama Shi\n",
       "60      Toshima Ku\n",
       "61    Toshima Mura\n",
       "\n",
       "[62 rows x 1 columns]"
      ]
     },
     "execution_count": 69,
     "metadata": {},
     "output_type": "execute_result"
    }
   ],
   "source": [
    "neighbourhood = neighbourhood.drop(['neighbourhood_group'], axis=1)\n",
    "neighbourhood"
   ]
  },
  {
   "cell_type": "markdown",
   "metadata": {},
   "source": [
    "### <span style='background:yellow'> 3.4 Reviews </span>"
   ]
  },
  {
   "cell_type": "code",
   "execution_count": 71,
   "metadata": {
    "scrolled": true
   },
   "outputs": [
    {
     "data": {
      "text/html": [
       "<div>\n",
       "<style scoped>\n",
       "    .dataframe tbody tr th:only-of-type {\n",
       "        vertical-align: middle;\n",
       "    }\n",
       "\n",
       "    .dataframe tbody tr th {\n",
       "        vertical-align: top;\n",
       "    }\n",
       "\n",
       "    .dataframe thead th {\n",
       "        text-align: right;\n",
       "    }\n",
       "</style>\n",
       "<table border=\"1\" class=\"dataframe\">\n",
       "  <thead>\n",
       "    <tr style=\"text-align: right;\">\n",
       "      <th></th>\n",
       "      <th>listing_id</th>\n",
       "      <th>id</th>\n",
       "      <th>date</th>\n",
       "      <th>reviewer_id</th>\n",
       "      <th>reviewer_name</th>\n",
       "      <th>comments</th>\n",
       "    </tr>\n",
       "  </thead>\n",
       "  <tbody>\n",
       "    <tr>\n",
       "      <th>0</th>\n",
       "      <td>35303</td>\n",
       "      <td>810980</td>\n",
       "      <td>2011-12-28</td>\n",
       "      <td>1502908</td>\n",
       "      <td>Firuz</td>\n",
       "      <td>Miyuki's has been a great host. Helpful and ve...</td>\n",
       "    </tr>\n",
       "    <tr>\n",
       "      <th>1</th>\n",
       "      <td>35303</td>\n",
       "      <td>2467161</td>\n",
       "      <td>2012-10-01</td>\n",
       "      <td>350719</td>\n",
       "      <td>Jordan</td>\n",
       "      <td>Nice apartment in one of the best areas of Tok...</td>\n",
       "    </tr>\n",
       "    <tr>\n",
       "      <th>2</th>\n",
       "      <td>35303</td>\n",
       "      <td>3572628</td>\n",
       "      <td>2013-02-18</td>\n",
       "      <td>4917704</td>\n",
       "      <td>Aymeric</td>\n",
       "      <td>A very nice host and place. The location is in...</td>\n",
       "    </tr>\n",
       "    <tr>\n",
       "      <th>3</th>\n",
       "      <td>35303</td>\n",
       "      <td>3952097</td>\n",
       "      <td>2013-03-30</td>\n",
       "      <td>3243253</td>\n",
       "      <td>Blandine</td>\n",
       "      <td>Miyuki is the most smily face I met when I lan...</td>\n",
       "    </tr>\n",
       "    <tr>\n",
       "      <th>4</th>\n",
       "      <td>35303</td>\n",
       "      <td>4377509</td>\n",
       "      <td>2013-05-01</td>\n",
       "      <td>1536097</td>\n",
       "      <td>Kayleigh</td>\n",
       "      <td>The location's wonderful. It's close to Haraju...</td>\n",
       "    </tr>\n",
       "  </tbody>\n",
       "</table>\n",
       "</div>"
      ],
      "text/plain": [
       "   listing_id       id        date  reviewer_id reviewer_name  \\\n",
       "0       35303   810980  2011-12-28      1502908         Firuz   \n",
       "1       35303  2467161  2012-10-01       350719        Jordan   \n",
       "2       35303  3572628  2013-02-18      4917704       Aymeric   \n",
       "3       35303  3952097  2013-03-30      3243253      Blandine   \n",
       "4       35303  4377509  2013-05-01      1536097      Kayleigh   \n",
       "\n",
       "                                            comments  \n",
       "0  Miyuki's has been a great host. Helpful and ve...  \n",
       "1  Nice apartment in one of the best areas of Tok...  \n",
       "2  A very nice host and place. The location is in...  \n",
       "3  Miyuki is the most smily face I met when I lan...  \n",
       "4  The location's wonderful. It's close to Haraju...  "
      ]
     },
     "execution_count": 71,
     "metadata": {},
     "output_type": "execute_result"
    }
   ],
   "source": [
    "reviews.head()"
   ]
  },
  {
   "cell_type": "code",
   "execution_count": null,
   "metadata": {},
   "outputs": [],
   "source": []
  },
  {
   "cell_type": "code",
   "execution_count": null,
   "metadata": {},
   "outputs": [],
   "source": [
    "# # Save all cleaned dataset\n",
    "# calendar.to_csv(\"../datasets/calendar_cleaned.csv\")\n",
    "# listing.to_csv(\"../datasets/listing_cleaned.csv\")\n",
    "# neighbourhood.to_csv(\"../datasets/neighbourhood_cleaned.csv\")\n",
    "# reviews.to_csv(\"../datasets/reviews_cleaned.csv\")"
   ]
  },
  {
   "cell_type": "markdown",
   "metadata": {},
   "source": [
    "### <span style='background:yellow'> 4. Full Exploratory Analysis </span>"
   ]
  },
  {
   "cell_type": "code",
   "execution_count": null,
   "metadata": {},
   "outputs": [],
   "source": [
    "listing.price.describe()"
   ]
  },
  {
   "cell_type": "code",
   "execution_count": 68,
   "metadata": {
    "scrolled": false
   },
   "outputs": [
    {
     "data": {
      "image/png": "[encoded data removed]",
      "text/plain": [
       "<Figure size 864x432 with 1 Axes>"
      ]
     },
     "metadata": {
      "needs_background": "light"
     },
     "output_type": "display_data"
    }
   ],
   "source": [
    "plt.figure(figsize =(12,6))\n",
    "sns.distplot(listing['price'], kde= True, bins=300, norm_hist = False, color ='#FF5A5F')\n",
    "plt.tight_layout()\n",
    "plt.title('Distribution of Listing Price', fontsize = 20);"
   ]
  },
  {
   "cell_type": "code",
   "execution_count": 83,
   "metadata": {},
   "outputs": [
    {
     "data": {
      "text/plain": [
       "Entire home/apt    10275\n",
       "Private room        3268\n",
       "Hotel room           724\n",
       "Shared room          689\n",
       "Name: room_type, dtype: int64"
      ]
     },
     "execution_count": 83,
     "metadata": {},
     "output_type": "execute_result"
    }
   ],
   "source": [
    "listing.room_type.value_counts()"
   ]
  },
  {
   "cell_type": "code",
   "execution_count": null,
   "metadata": {},
   "outputs": [],
   "source": [
    "room_type_count = listing.room_type.value_counts()\n",
    "\n",
    "# Customise plot color\n",
    "colors = ['#FF5A5F', '#00A699', '#FC642D']\n",
    "sns.set_palette(sns.color_palette(colors)\n",
    "\n",
    "# Plot                \n",
    "sns.catplot(x=\"property_type\", y=\"room_type_count\", hue=\"room_type\", kind=\"bar\", data=listing);"
   ]
  },
  {
   "cell_type": "code",
   "execution_count": 82,
   "metadata": {},
   "outputs": [
    {
     "data": {
      "image/png": "[encoded data removed]",
      "text/plain": [
       "<Figure size 792x648 with 2 Axes>"
      ]
     },
     "metadata": {
      "needs_background": "light"
     },
     "output_type": "display_data"
    }
   ],
   "source": [
    "fig = plt.figure(figsize=(11,9))\n",
    "mask = np.triu(np.ones_like(listing.corr()))\n",
    "\n",
    "# Customise plot color\n",
    "cmap = sns.diverging_palette(220, 10, as_cmap=True)\n",
    "\n",
    "ax = sns.heatmap(listing.corr(), \n",
    "                 annot=False, \n",
    "                 annot_kws={'size':10}, \n",
    "                 mask=mask,\n",
    "                 cmap=cmap)\n",
    "\n",
    "ax.set_title('Collinearity between Features', fontsize=20)\n",
    "y_min, y_max = ax.get_ylim() \n",
    "x_min, x_max = ax.get_xlim()\n",
    "ax.set_ylim(top=y_max+1) \n",
    "ax.set_xlim(right=x_max-1);"
   ]
  },
  {
   "cell_type": "markdown",
   "metadata": {},
   "source": [
    "<div class=\"alert alert-block alert-warning\">\n",
    "\n",
    "<b>EDA PLOTS:</b> \n",
    "\n",
    "1. Distribution of Review scores \n",
    "\n",
    "2. Distribution of listings based on neighbourhood in Tokyo\n",
    "    - total number of listing (y-axis)\n",
    "    - neighbourhood in Tokyo (x-axis)\n",
    "    \n",
    "3. Popularity of room types in property types\n",
    "\n",
    "4. see if there is any trend on bookings? (seasonality)\n",
    "\n",
    "5. listings per host\n",
    "\n",
    "6. property, room type on price\n",
    "    \n",
    "\n",
    "</div>"
   ]
  },
  {
   "cell_type": "markdown",
   "metadata": {},
   "source": [
    "### <span style='background:yellow'> 5. Feature Engineering </span>"
   ]
  },
  {
   "cell_type": "code",
   "execution_count": null,
   "metadata": {},
   "outputs": [],
   "source": []
  },
  {
   "cell_type": "markdown",
   "metadata": {},
   "source": [
    "<div class=\"alert alert-block alert-warning\">\n",
    "\n",
    "<b> Feature Engineering:</b>\n",
    "- property_type\n",
    "- room_type\n",
    "- bed_type\n",
    "- cancellation_policy\n",
    "- neighbourhood_group_cleansed\n",
    "- host_response_time\n",
    "\n",
    "</div>"
   ]
  }
 ],
 "metadata": {
  "kernelspec": {
   "display_name": "Python 3",
   "language": "python",
   "name": "python3"
  },
  "language_info": {
   "codemirror_mode": {
    "name": "ipython",
    "version": 3
   },
   "file_extension": ".py",
   "mimetype": "text/x-python",
   "name": "python",
   "nbconvert_exporter": "python",
   "pygments_lexer": "ipython3",
   "version": "3.7.4"
  }
 },
 "nbformat": 4,
 "nbformat_minor": 2
}
