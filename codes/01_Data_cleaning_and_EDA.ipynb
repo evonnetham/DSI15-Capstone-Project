{
 "cells": [
  {
   "cell_type": "markdown",
   "metadata": {},
   "source": [
    "# Capstone: Airbnb Price Listing Prediction\n",
    "## Part 1 Data Cleaning\n",
    "\n",
    "_Authors: Evonne Tham_\n"
   ]
  },
  {
   "cell_type": "markdown",
   "metadata": {},
   "source": [
    "## 1. Import Necessary Libraries & Load Data"
   ]
  },
  {
   "cell_type": "code",
   "execution_count": null,
   "metadata": {},
   "outputs": [],
   "source": [
    "import pandas as pd\n",
    "import numpy as np\n",
    "import matplotlib.pyplot as plt\n",
    "import seaborn as sns   \n",
    "\n",
    "%matplotlib inline\n",
    "\n",
    "import warnings\n",
    "warnings.filterwarnings('ignore')"
   ]
  },
  {
   "cell_type": "code",
   "execution_count": null,
   "metadata": {
    "scrolled": true
   },
   "outputs": [],
   "source": [
    "country = 'japan/'\n",
    "path = '../datasets/'\n",
    "\n",
    "calendar = pd.read_csv(path + country + 'calendar.csv')\n",
    "listing = pd.read_csv(path + country + 'listings.csv')\n",
    "neighbourhood = pd.read_csv(path + country + 'neighbourhoods.csv')\n",
    "reviews = pd.read_csv(path + country + 'reviews.csv')"
   ]
  },
  {
   "cell_type": "code",
   "execution_count": null,
   "metadata": {},
   "outputs": [],
   "source": [
    "# # show all rows and columns\n",
    "# pd.set_option('display.max_columns', None)\n",
    "# pd.set_option('display.max_rows', None)"
   ]
  },
  {
   "cell_type": "markdown",
   "metadata": {},
   "source": [
    "---\n",
    "## 2. Initial Exploratory Analysis \n",
    "Evaluate the current state of the data"
   ]
  },
  {
   "cell_type": "markdown",
   "metadata": {},
   "source": [
    "##### Defining Functions"
   ]
  },
  {
   "cell_type": "code",
   "execution_count": null,
   "metadata": {},
   "outputs": [],
   "source": [
    "def eda(dataframe):\n",
    "    \n",
    "    \"\"\"\n",
    "    Runs basic EDA on dataframe.\n",
    "    \"\"\"\n",
    "    \n",
    "    print(\"DF shape: \", dataframe.shape)\n",
    "    print(\"\")\n",
    "    print(\"DF types:\\n\", dataframe.dtypes)\n",
    "    print(\"***********************************************************************************\")\n",
    "    print(\"\")\n",
    "    print(\"DF describe: \\n\", dataframe.describe())\n",
    "    print(\"***********************************************************************************\")\n",
    "    print(\"\")\n",
    "    print(\"DF describe: \\n\", dataframe.describe(exclude=np.number).T)\n",
    "    print(\"***********************************************************************************\")\n",
    "    print(\"\")\n",
    "    print(\"Missing values: \\n\", \n",
    "          (dataframe.isnull().sum())[dataframe.isnull().sum()>0].sort_values(ascending=False))\n",
    "    print(\"***********************************************************************************\")\n",
    "    print(\"\")\n",
    "    print(\"duplicate values: \", dataframe.duplicated().sum())\n",
    "    print(\"***********************************************************************************\")\n",
    "    print(\"\")\n",
    "    #check if column is unique\n",
    "    for i in dataframe.columns:\n",
    "        print('{} is unique: {}'.format(i, dataframe[i].is_unique))\n",
    "    print(\"***********************************************************************************\")"
   ]
  },
  {
   "cell_type": "markdown",
   "metadata": {},
   "source": [
    "### 2.1. Calendar Dataset"
   ]
  },
  {
   "cell_type": "code",
   "execution_count": null,
   "metadata": {},
   "outputs": [],
   "source": [
    "eda(calendar)"
   ]
  },
  {
   "cell_type": "code",
   "execution_count": null,
   "metadata": {},
   "outputs": [],
   "source": [
    "calendar.head()"
   ]
  },
  {
   "cell_type": "code",
   "execution_count": null,
   "metadata": {
    "scrolled": true
   },
   "outputs": [],
   "source": [
    "print(calendar['date'].min())\n",
    "print(calendar['date'].max())"
   ]
  },
  {
   "cell_type": "markdown",
   "metadata": {},
   "source": [
    "<div class=\"alert alert-block alert-info\">\n",
    "\n",
    "<b> Calendar Dataset Observations: </b>\n",
    "- calendar ranged from 2020-05-30 to 21-05-30\n",
    "- most likely t and f represents true and false\n",
    "- columns that might be useful \n",
    "    - listing_id (to combine with other datasets)\n",
    "    - date\n",
    "    - available\n",
    "    - price\n",
    "\n",
    "<b> To-Dos: </b>\n",
    "- convert date object to datetime\n",
    "- remove $, from price column\n",
    "- get dummy for available column\n",
    "- replace t and f value to 1s and 0s\n",
    "- fill Null values fro minimum and maximum nights\n",
    "</div>"
   ]
  },
  {
   "cell_type": "markdown",
   "metadata": {},
   "source": [
    "### 2.2. Listing Dataset "
   ]
  },
  {
   "cell_type": "code",
   "execution_count": null,
   "metadata": {
    "scrolled": false
   },
   "outputs": [],
   "source": [
    "eda(listing)"
   ]
  },
  {
   "cell_type": "code",
   "execution_count": null,
   "metadata": {
    "scrolled": false
   },
   "outputs": [],
   "source": [
    "listing.head().T"
   ]
  },
  {
   "cell_type": "markdown",
   "metadata": {},
   "source": [
    "<div class=\"alert alert-block alert-info\">\n",
    "\n",
    "<b> Observations: </b>\n",
    "- Dataset consist of 15009 listings \n",
    "- has over 100 features\n",
    "\n",
    "<b> To-Dos: </b>\n",
    "- To dropping columns (entirely made up of NaNs): \n",
    "    - neighbourhood_group_cleansed,\n",
    "    - medium_url, \n",
    "    - thumbnail_url, \n",
    "    - xl_picture_url, \n",
    "    - jurisdiction_names\n",
    "    - experiences_offered\n",
    "- consider dropping columns(consist of only about 100 data):\n",
    "    - square_feet \n",
    "    - monthly_price\n",
    "    - weekly_price\n",
    "- consider dropping columns that are text focused\n",
    "- drop rows with mostly null value\n",
    "- replace t and f value to 1s and 0s\n",
    "- one hot coding for categorical variables, for example\n",
    "    - cancellation policy ('strict_14_with_grace_period', 'moderate', 'flexible', 'strict',\n",
    "       'super_strict_60', 'super_strict_30')\n",
    "    - property_type\n",
    "    - room_type\n",
    "- clean columns with $ \n",
    "- review scores - imputate with median\n",
    "</div>"
   ]
  },
  {
   "cell_type": "markdown",
   "metadata": {},
   "source": [
    "---\n",
    "### 2.3. Neighbourhood Dataset "
   ]
  },
  {
   "cell_type": "code",
   "execution_count": null,
   "metadata": {},
   "outputs": [],
   "source": [
    "eda(neighbourhood)"
   ]
  },
  {
   "cell_type": "code",
   "execution_count": null,
   "metadata": {
    "scrolled": true
   },
   "outputs": [],
   "source": [
    "neighbourhood.head()"
   ]
  },
  {
   "cell_type": "markdown",
   "metadata": {},
   "source": [
    "<div class=\"alert alert-block alert-info\">\n",
    "\n",
    "<b> Neighbourhood Dataset Observations: </b>\n",
    "- fairly simple dataset \n",
    "- total 62 neighbourhood\n",
    "- might not need this dataset for analysis\n",
    "\n",
    "<b> To-Dos: </b>\n",
    "- to drop neighbourhood_group column (fully NaNs)\n",
    "</div>"
   ]
  },
  {
   "cell_type": "markdown",
   "metadata": {},
   "source": [
    "---\n",
    "### 2.4. Reviews Dataset "
   ]
  },
  {
   "cell_type": "code",
   "execution_count": null,
   "metadata": {
    "scrolled": false
   },
   "outputs": [],
   "source": [
    "eda(reviews)"
   ]
  },
  {
   "cell_type": "code",
   "execution_count": null,
   "metadata": {
    "scrolled": true
   },
   "outputs": [],
   "source": [
    "reviews.head()"
   ]
  },
  {
   "cell_type": "code",
   "execution_count": null,
   "metadata": {},
   "outputs": [],
   "source": [
    "print(reviews['date'].min())\n",
    "print(reviews['date'].max())"
   ]
  },
  {
   "cell_type": "markdown",
   "metadata": {},
   "source": [
    "<div class=\"alert alert-block alert-info\">\n",
    "\n",
    "<b> Reviews Dataset Observations: </b>\n",
    "- there are 398181 reviews\n",
    "- dated from 2011-09-21 to 2020-05-30\n",
    "- 280 missing comments\n",
    "\n",
    "<b> To dos: </b>\n",
    "\n",
    "- convert date object to datetime\n",
    "- clean comments\n",
    "\n",
    "</div>"
   ]
  },
  {
   "cell_type": "markdown",
   "metadata": {},
   "source": [
    "---\n",
    "## 3. Data Cleaning"
   ]
  },
  {
   "cell_type": "markdown",
   "metadata": {},
   "source": [
    "##### Defining Functions"
   ]
  },
  {
   "cell_type": "code",
   "execution_count": null,
   "metadata": {},
   "outputs": [],
   "source": [
    "def mass_cleaning(df):\n",
    "    \n",
    "    \"\"\"\n",
    "    Clean date and replace ts and fs\n",
    "    \"\"\"\n",
    "    \n",
    "    # Parse date-time string to datetime object\n",
    "    if 'date' in df.columns: \n",
    "        df['date'] = pd.to_datetime(df['date'])\n",
    "\n",
    "    \n",
    "    #Columns with Ts and Fs\n",
    "    df.replace({'f': 0, 't': 1}, inplace=True)\n",
    "    \n",
    "    # Clean Currency\n",
    "    df = df.applymap(lambda x: int(x.replace('$','').replace(',','').replace('.00','')) \n",
    "                     if (type(x) == str) and (x[0]=='$') else x )\n",
    "    \n",
    "    return df"
   ]
  },
  {
   "cell_type": "code",
   "execution_count": null,
   "metadata": {},
   "outputs": [],
   "source": [
    "def impute_median(df, column):\n",
    "    \n",
    "    \"\"\"\n",
    "    Replace NaN values with median\n",
    "    \"\"\"\n",
    "    \n",
    "    df[column].fillna((df[column].median()), inplace=True)"
   ]
  },
  {
   "cell_type": "markdown",
   "metadata": {},
   "source": [
    "---\n",
    "### 3.1. Calendar "
   ]
  },
  {
   "cell_type": "code",
   "execution_count": null,
   "metadata": {
    "scrolled": true
   },
   "outputs": [],
   "source": [
    "calendar = mass_cleaning(calendar)\n",
    "calendar.head()"
   ]
  },
  {
   "cell_type": "code",
   "execution_count": null,
   "metadata": {
    "scrolled": true
   },
   "outputs": [],
   "source": [
    "# Imputate missing values in minimum maximum nights with 1s, 0s \n",
    "calendar['minimum_nights'].fillna(0, inplace=True)\n",
    "calendar['maximum_nights'].fillna(0, inplace=True)\n",
    "\n",
    "# Replace continuous to discrete\n",
    "calendar['minimum_nights'] = calendar['minimum_nights'].astype(int)\n",
    "calendar['maximum_nights'] = calendar['maximum_nights'].astype(int)\n",
    "\n",
    "#Check for nulls\n",
    "calendar.isnull().sum()"
   ]
  },
  {
   "cell_type": "markdown",
   "metadata": {},
   "source": [
    "<div class=\"alert alert-block alert-warning\">\n",
    "<b>Note to self:</b>\n",
    "^ Might consider dropping `minimum_nights` and  `maximum_nights`\n",
    "</div>"
   ]
  },
  {
   "cell_type": "code",
   "execution_count": null,
   "metadata": {
    "scrolled": false
   },
   "outputs": [],
   "source": [
    "plt.figure(figsize=(15,5))\n",
    "calendar['price'].plot.line(alpha=0.5, color = '#FF5A5F')\n",
    "calendar['adjusted_price'].plot.line(alpha=0.5, color = '#00A699')\n",
    "plt.ylabel('$ ', fontsize = 25, rotation=0)\n",
    "plt.legend(['Price', 'Adjusted Price']);"
   ]
  },
  {
   "cell_type": "markdown",
   "metadata": {},
   "source": [
    "<div class=\"alert alert-block alert-warning\">\n",
    "\n",
    "<b>Note to self:</b>\n",
    "Doesnt seem to have much difference in majority of the lising, can consider dropping `adjusted_price`?\n",
    "\n",
    "\n",
    "</div>"
   ]
  },
  {
   "cell_type": "markdown",
   "metadata": {},
   "source": [
    "##### Dropping Columns"
   ]
  },
  {
   "cell_type": "markdown",
   "metadata": {},
   "source": [
    "<div class=\"alert alert-block alert-warning\">\n",
    "\n",
    "<b>Note to self:</b>\n",
    "To remove lines in line18, if dropping cols\n",
    "\n",
    "</div>"
   ]
  },
  {
   "cell_type": "code",
   "execution_count": null,
   "metadata": {},
   "outputs": [],
   "source": [
    "# cols_to_drop = ['adjusted_price', 'minimum_nights', 'maximum_nights']\n",
    "\n",
    "# calendar = calendar.drop(cols_to_drop, axis=1)\n",
    "# calendar.shape"
   ]
  },
  {
   "cell_type": "markdown",
   "metadata": {},
   "source": [
    "##### Save DataFrame"
   ]
  },
  {
   "cell_type": "code",
   "execution_count": null,
   "metadata": {},
   "outputs": [],
   "source": [
    "calendar.to_csv(\"../datasets/calendar_cleaned.csv\")"
   ]
  },
  {
   "cell_type": "markdown",
   "metadata": {},
   "source": [
    "---\n",
    "### 3.2. Listing"
   ]
  },
  {
   "cell_type": "code",
   "execution_count": null,
   "metadata": {},
   "outputs": [],
   "source": [
    "listing = mass_cleaning(listing)"
   ]
  },
  {
   "cell_type": "markdown",
   "metadata": {},
   "source": [
    "##### Isolate and inspect categorical and numerical variable"
   ]
  },
  {
   "cell_type": "markdown",
   "metadata": {},
   "source": [
    "<div class=\"alert alert-block alert-info\">\n",
    "As the the number of features is fairly large, I will be splitting them up by categorical and numerical.\n",
    "</div>"
   ]
  },
  {
   "cell_type": "code",
   "execution_count": null,
   "metadata": {},
   "outputs": [],
   "source": [
    "categorical_df = listing.select_dtypes(include=['object', 'bool'])\n",
    "categorical_cols = listing.select_dtypes(include=['object', 'bool']).columns.values"
   ]
  },
  {
   "cell_type": "code",
   "execution_count": null,
   "metadata": {
    "scrolled": false
   },
   "outputs": [],
   "source": [
    "categorical_df.head(2).T"
   ]
  },
  {
   "cell_type": "code",
   "execution_count": null,
   "metadata": {},
   "outputs": [],
   "source": [
    "numerical_df = listing.select_dtypes(include=['int', 'float'])\n",
    "numerical_cols = listing.select_dtypes(include=['int', 'float']).columns.values"
   ]
  },
  {
   "cell_type": "code",
   "execution_count": null,
   "metadata": {
    "scrolled": false
   },
   "outputs": [],
   "source": [
    "numerical_df.head(2).T"
   ]
  },
  {
   "cell_type": "markdown",
   "metadata": {},
   "source": [
    "### 3.2.1. Dropping  and Convert Columns"
   ]
  },
  {
   "cell_type": "markdown",
   "metadata": {},
   "source": [
    "<div class=\"alert alert-block alert-info\">\n",
    "    \n",
    "<b>Explanation:</b> From the data shown above (categorical/numerical), I will be dropping text columns for now and columns that might not be useful for predicting price. \n",
    "</div>"
   ]
  },
  {
   "cell_type": "code",
   "execution_count": null,
   "metadata": {
    "scrolled": false
   },
   "outputs": [],
   "source": [
    "cols_to_drop = ['listing_url', 'last_scraped', 'name', 'summary','space', \n",
    "                'description', 'neighborhood_overview', 'notes', 'transit', 'access', \n",
    "                'interaction', 'house_rules', 'picture_url', 'host_url','host_name', \n",
    "                'host_location', 'host_about', 'host_thumbnail_url', 'host_picture_url','host_neighbourhood', \n",
    "                'host_verifications', 'calendar_last_scraped', 'license', 'scrape_id','thumbnail_url',\n",
    "                'medium_url', 'xl_picture_url'\n",
    "               ]\n",
    "\n",
    "listing = listing.drop(cols_to_drop, axis=1)\n",
    "listing.shape"
   ]
  },
  {
   "cell_type": "code",
   "execution_count": null,
   "metadata": {},
   "outputs": [],
   "source": [
    "# Convert rest of the datetime string column to datetime object\n",
    "\n",
    "listing['host_since'] = pd.to_datetime(listing['host_since'])\n",
    "listing['first_review'] = pd.to_datetime(listing['first_review'])\n",
    "listing['last_review'] = pd.to_datetime(listing['last_review'])"
   ]
  },
  {
   "cell_type": "code",
   "execution_count": null,
   "metadata": {
    "scrolled": false
   },
   "outputs": [],
   "source": [
    "# Check for columns that has more than 10000 Null values\n",
    "\n",
    "listing.isnull().sum()[listing.isnull().sum()>10000].sort_values(ascending=False)"
   ]
  },
  {
   "cell_type": "code",
   "execution_count": null,
   "metadata": {
    "scrolled": false
   },
   "outputs": [],
   "source": [
    "# Drop columns consist a majority of NaNs \n",
    "# reviews_per_month and number_of_reviews_ltm columns will be dropped as well as there is number_of_reviews \n",
    "# experiences_offered are all 'none' values as well\n",
    "\n",
    "listing.drop(['jurisdiction_names','neighbourhood_group_cleansed','square_feet',\n",
    "              'monthly_price','weekly_price', 'reviews_per_month','number_of_reviews_ltm', \n",
    "              'experiences_offered'], \n",
    "             axis=1, inplace=True)"
   ]
  },
  {
   "cell_type": "code",
   "execution_count": null,
   "metadata": {
    "scrolled": true
   },
   "outputs": [],
   "source": [
    "listing.shape"
   ]
  },
  {
   "cell_type": "markdown",
   "metadata": {},
   "source": [
    "### 3.2.2  Imputation of Missing Values"
   ]
  },
  {
   "cell_type": "code",
   "execution_count": null,
   "metadata": {},
   "outputs": [],
   "source": [
    "listing.isnull().sum()[listing.isnull().sum()>1000].sort_values(ascending=False)"
   ]
  },
  {
   "cell_type": "markdown",
   "metadata": {},
   "source": [
    "<div class=\"alert alert-block alert-info\">\n",
    "    \n",
    "<b>Assumption:</b>\n",
    "\n",
    "Missing data from (cols that start with name): \n",
    "\n",
    "- review_scores\n",
    "- host_response\n",
    "- last_review \n",
    "- first_review\n",
    "- host_acceptance_rate\n",
    "\n",
    "Might be an indication of properties that are new listing that has not been contacted yet. Hence they do not have any response time and rate, and/or ratings . Hence, null values for these features will be filled with `unrated`, `unknown` accordingly. \n",
    "\n",
    "I will also be splitting them into categories.\n",
    "- reviews_scores does not have all the rating from 0-10, hence I will categorise them according to \n",
    "    - low \n",
    "    - acceptable \n",
    "    - good\n",
    "    - very good \n",
    "    - excellent\n",
    "\n",
    "</div>"
   ]
  },
  {
   "cell_type": "markdown",
   "metadata": {},
   "source": [
    "##### a. Review_Scores_"
   ]
  },
  {
   "cell_type": "code",
   "execution_count": null,
   "metadata": {},
   "outputs": [],
   "source": [
    "print('Unique Review Scores Value: ', listing.review_scores_value.unique())\n",
    "print('**************************************************************')\n",
    "print('Unique Review Scores Location: ', listing.review_scores_location.unique())\n",
    "print('**************************************************************')\n",
    "print('Unique Review Scores Comm: ', listing.review_scores_communication.unique())\n",
    "print('**************************************************************')\n",
    "print('Unique Review Scores Checkin: ', listing.review_scores_checkin.unique())\n",
    "print('**************************************************************')\n",
    "print('Unique Review Scores Cleaniness: ', listing.review_scores_cleanliness.unique())\n",
    "print('**************************************************************')\n",
    "print('Unique Review Scores Acc: ', listing.review_scores_accuracy.unique())\n",
    "print('**************************************************************')\n",
    "print('Unique Review Scores Rating: ', listing.review_scores_rating.unique())"
   ]
  },
  {
   "cell_type": "code",
   "execution_count": null,
   "metadata": {
    "scrolled": true
   },
   "outputs": [],
   "source": [
    "# Base on the the distribution of the scores, I will create bins accordingly.\n",
    "# All Review Score excluding Review Score Rating as it is in different weightage\n",
    "\n",
    "for col in listing.columns:\n",
    "    if (col in listing.columns[listing.columns.str.startswith('review_scores_')]) and not (col in listing.columns[listing.columns.str.endswith('_rating')]):\n",
    "        \n",
    "        # Create Categories\n",
    "        bins = [0,3,7,8,9,10]\n",
    "        labels = ['0-3','4-7','8','9','10']\n",
    "        \n",
    "        listing[col] = pd.cut(listing[col],\n",
    "                                      bins=bins, \n",
    "                                      labels=labels, \n",
    "                                      include_lowest= True)\n",
    "        \n",
    "        # Create unrated Category for 'NaN'\n",
    "        listing[col] = (listing[col].cat.add_categories('unrated').fillna('unrated'))\n",
    "        \n",
    "listing.review_scores_value.value_counts()"
   ]
  },
  {
   "cell_type": "code",
   "execution_count": null,
   "metadata": {},
   "outputs": [],
   "source": [
    "# Create Categories for Review Score Rating\n",
    "\n",
    "bins = [0, 50, 90, 99, 100]\n",
    "labels = ['0-49%', '50-89%', '90-99%', '100%']\n",
    "\n",
    "listing['review_scores_rating'] = pd.cut(listing['review_scores_rating'],\n",
    "                                      bins=bins, \n",
    "                                      labels=labels, \n",
    "                                      include_lowest= True)\n",
    "\n",
    "# Create Unknown Category for 'NaN'\n",
    "listing['review_scores_rating'] = (listing['review_scores_rating'].cat\n",
    "                                                            .add_categories('unrated')\n",
    "                                                            .fillna('unrated'))\n",
    "\n",
    "listing.review_scores_rating.value_counts()"
   ]
  },
  {
   "cell_type": "code",
   "execution_count": null,
   "metadata": {
    "scrolled": false
   },
   "outputs": [],
   "source": [
    "listing.isnull().sum()[listing.isnull().sum()>0].sort_values(ascending=False)"
   ]
  },
  {
   "cell_type": "markdown",
   "metadata": {},
   "source": [
    "##### b. _Reviews"
   ]
  },
  {
   "cell_type": "markdown",
   "metadata": {},
   "source": [
    "<div class=\"alert alert-block alert-warning\">\n",
    "    \n",
    "- Not sure what to do with this.\n",
    "- fillna with ??? \n",
    "- drop last and first review??? \n",
    "\n",
    "- BRB\n",
    "\n",
    "</div>"
   ]
  },
  {
   "cell_type": "code",
   "execution_count": null,
   "metadata": {},
   "outputs": [],
   "source": [
    "# last and first reviews\n",
    "listing['time_since_first_review'] = listing.last_review - listing.first_review\n",
    "# listing.time_since_first_review.hist(figsize=(11,9), bins=30);"
   ]
  },
  {
   "cell_type": "code",
   "execution_count": null,
   "metadata": {},
   "outputs": [],
   "source": [
    "listing['time_since_first_review'].value_counts()"
   ]
  },
  {
   "cell_type": "code",
   "execution_count": null,
   "metadata": {
    "scrolled": false
   },
   "outputs": [],
   "source": [
    "listing.isnull().sum()[listing.isnull().sum()>0].sort_values(ascending=False)"
   ]
  },
  {
   "cell_type": "markdown",
   "metadata": {},
   "source": [
    "##### b. Host \n",
    "_i. Response time_"
   ]
  },
  {
   "cell_type": "code",
   "execution_count": null,
   "metadata": {
    "scrolled": false
   },
   "outputs": [],
   "source": [
    "listing.host_response_time.value_counts()"
   ]
  },
  {
   "cell_type": "code",
   "execution_count": null,
   "metadata": {
    "scrolled": true
   },
   "outputs": [],
   "source": [
    "listing.host_response_time.fillna(\"unknown\", inplace=True)\n",
    "listing.host_response_time.value_counts(normalize=True)"
   ]
  },
  {
   "cell_type": "markdown",
   "metadata": {},
   "source": [
    "_ii. Response rate_"
   ]
  },
  {
   "cell_type": "code",
   "execution_count": null,
   "metadata": {
    "scrolled": true
   },
   "outputs": [],
   "source": [
    "listing.host_response_rate.unique()"
   ]
  },
  {
   "cell_type": "code",
   "execution_count": null,
   "metadata": {
    "scrolled": true
   },
   "outputs": [],
   "source": [
    "# Replace Unneccessary Character and convert string to float\n",
    "listing.host_response_rate = listing.host_response_rate.str.replace('%','')\n",
    "listing.host_response_rate = listing.host_response_rate.astype('float64')\n",
    "\n",
    "# Create Categories\n",
    "bins = [0, 50, 90, 99, 100]\n",
    "labels = ['0-49%', '50-89%', '90-99%', '100%']\n",
    "\n",
    "listing['host_response_rate'] = pd.cut(listing['host_response_rate'],\n",
    "                                      bins=bins, \n",
    "                                      labels=labels, \n",
    "                                      include_lowest= True)\n",
    "\n",
    "# Create Unknown Category for 'NaN'\n",
    "listing['host_response_rate'] = (listing['host_response_rate'].cat\n",
    "                                                            .add_categories('unknown')\n",
    "                                                            .fillna('unknown'))\n",
    "\n",
    "listing.host_response_rate.value_counts()"
   ]
  },
  {
   "cell_type": "markdown",
   "metadata": {},
   "source": [
    "_iii. Acceptance rate_"
   ]
  },
  {
   "cell_type": "code",
   "execution_count": null,
   "metadata": {
    "scrolled": true
   },
   "outputs": [],
   "source": [
    "listing.host_acceptance_rate.unique()"
   ]
  },
  {
   "cell_type": "code",
   "execution_count": null,
   "metadata": {},
   "outputs": [],
   "source": [
    "# Replace Unneccessary Character and convert string to float\n",
    "listing.host_acceptance_rate = listing.host_acceptance_rate.str.replace('%','')\n",
    "listing.host_acceptance_rate = listing.host_acceptance_rate.astype('float64')\n",
    "\n",
    "# Create Categories\n",
    "bins = [0, 50, 90, 99, 100]\n",
    "labels = ['0-49%', '50-89%', '90-99%', '100%']\n",
    "\n",
    "listing['host_acceptance_rate'] = pd.cut(listing['host_acceptance_rate'],\n",
    "                                      bins=bins, \n",
    "                                      labels=labels, \n",
    "                                      include_lowest= True)\n",
    "\n",
    "# Create Unknown Category for 'NaN'\n",
    "listing['host_acceptance_rate'] = (listing['host_acceptance_rate'].cat\n",
    "                                                            .add_categories('unknown')\n",
    "                                                            .fillna('unknown'))\n",
    "\n",
    "listing.host_acceptance_rate.value_counts()"
   ]
  },
  {
   "cell_type": "code",
   "execution_count": null,
   "metadata": {},
   "outputs": [],
   "source": [
    "listing.isnull().sum()[listing.isnull().sum()>0].sort_values(ascending=False)"
   ]
  },
  {
   "cell_type": "markdown",
   "metadata": {},
   "source": [
    "##### c. Address Related"
   ]
  },
  {
   "cell_type": "markdown",
   "metadata": {},
   "source": [
    "<div class=\"alert alert-block alert-info\">\n",
    "    \n",
    "<b>Observation:</b>\n",
    "\n",
    "Looking at the categorical_df dataset. There are a couple of columns that are address related \n",
    "- street\n",
    "- neighbourhood\n",
    "- neighbourhood_cleansed --> to keep (Since the column is kept, Neighbourhood Dataset will not be required\n",
    "- city\n",
    "- state\n",
    "- zipcode\n",
    "- market\n",
    "- smart_location\n",
    "- country_code --> to keep\n",
    "- country\n",
    "\n",
    "From numerical_df, to safe in a new dataframe for later use\n",
    "- longitute \n",
    "- latitude\n",
    "\n",
    "</div>"
   ]
  },
  {
   "cell_type": "code",
   "execution_count": null,
   "metadata": {
    "scrolled": true
   },
   "outputs": [],
   "source": [
    "# To Check and Compare Address Related Columns\n",
    "\n",
    "# print(listing.street.value_counts())\n",
    "# print(listing.street.nunique())\n",
    "# print(listing.neighbourhood_cleansed.value_counts())\n",
    "print(listing.neighbourhood_cleansed.nunique())\n",
    "# print(listing.city.value_counts())\n",
    "# print(listing.city.nunique())\n",
    "# print(listing.state.value_counts())\n",
    "# print(listing.state.nunique())\n",
    "# print(listing.market.value_counts())\n",
    "# print(listing.market.nunique())\n",
    "# print(listing.smart_location.value_counts())\n",
    "# print(listing.smart_location.nunique())\n",
    "# print(listing.country_code.value_counts())\n",
    "# print(listing.country_code.nunique())\n",
    "\n",
    "# listing[listing.state == 'Shibuya']['neighbourhood']"
   ]
  },
  {
   "cell_type": "code",
   "execution_count": null,
   "metadata": {},
   "outputs": [],
   "source": [
    "long_lat_df = listing[['longitude','latitude']]\n",
    "long_lat_df.to_csv('../datasets/long_lat_df.csv')"
   ]
  },
  {
   "cell_type": "code",
   "execution_count": null,
   "metadata": {},
   "outputs": [],
   "source": [
    "listing.drop(['street','neighbourhood', 'city','state','zipcode',\n",
    "              'market','smart_location','country'],    #,'longitude','latitude'\n",
    "             axis=1, inplace=True)\n",
    "\n",
    "listing.rename(columns={'neighbourhood_cleansed': \"neighbourhood\"}, inplace=True)\n",
    "\n",
    "# Check\n",
    "listing.isnull().sum()[listing.isnull().sum()>0].sort_values(ascending=False)"
   ]
  },
  {
   "cell_type": "markdown",
   "metadata": {},
   "source": [
    "##### d. Fees"
   ]
  },
  {
   "cell_type": "markdown",
   "metadata": {},
   "source": [
    "<div class=\"alert alert-block alert-info\">\n",
    "    \n",
    "<b>Assumption:</b> Hosts can opt for no security_deposit or cleaning_fee. hence, will imputate null values as `0` and change float to int\n",
    "\n",
    "</div>"
   ]
  },
  {
   "cell_type": "code",
   "execution_count": null,
   "metadata": {
    "scrolled": false
   },
   "outputs": [],
   "source": [
    "# Fillna \n",
    "listing.security_deposit.fillna(0, inplace=True)\n",
    "listing.cleaning_fee.fillna(0, inplace=True)\n",
    "\n",
    "# Change dtype\n",
    "listing.security_deposit = listing.security_deposit.astype('int64')\n",
    "listing.cleaning_fee = listing.cleaning_fee.astype('int64')\n",
    "\n",
    "listing.isnull().sum()[listing.isnull().sum()>0].sort_values(ascending=False)"
   ]
  },
  {
   "cell_type": "markdown",
   "metadata": {},
   "source": [
    "##### e. Beds,  Bedrooms , Bathrooms and Host_"
   ]
  },
  {
   "cell_type": "markdown",
   "metadata": {},
   "source": [
    "<div class=\"alert alert-block alert-info\">\n",
    "    \n",
    "<b>Assumption:</b> It is very usual for a listing to have no beds, and/or bathrooms. On top of that, a fully signed up Host on Airbnb will have a date of signing up. Hence I will be checking if they are of the same before i drop them. As for bedrooms, there is a possility that it is a studio apartment however, i cant entire assume. To avoid strange fractions.\n",
    "\n",
    "</div>"
   ]
  },
  {
   "cell_type": "code",
   "execution_count": null,
   "metadata": {},
   "outputs": [],
   "source": [
    "# Beds and Bathrooms\n",
    "listing.dropna(subset=['beds','bathrooms'], inplace=True)\n",
    "impute_median(listing, 'bedrooms')"
   ]
  },
  {
   "cell_type": "code",
   "execution_count": null,
   "metadata": {},
   "outputs": [],
   "source": [
    "# Convert continuous to discrete variable\n",
    "listing.beds = listing.beds.astype('int64')\n",
    "listing.bathrooms = listing.bathrooms.astype('int64')\n",
    "listing.bedrooms = listing.bedrooms.astype('int64')"
   ]
  },
  {
   "cell_type": "code",
   "execution_count": null,
   "metadata": {},
   "outputs": [],
   "source": [
    "listing.isnull().sum()[listing.isnull().sum()>0].sort_values(ascending=False)"
   ]
  },
  {
   "cell_type": "markdown",
   "metadata": {},
   "source": [
    "##### f. Host_"
   ]
  },
  {
   "cell_type": "code",
   "execution_count": null,
   "metadata": {},
   "outputs": [],
   "source": [
    "# Host_\n",
    "# Checking if the 7 rows are of the same \n",
    "listing[listing['host_identity_verified'].isnull()| \n",
    "        listing['host_has_profile_pic'].isnull() | \n",
    "        listing['host_total_listings_count'].isnull() |\n",
    "        listing['host_listings_count'].isnull() |\n",
    "        listing['host_is_superhost'].isnull() | \n",
    "        listing['host_since'].isnull()]"
   ]
  },
  {
   "cell_type": "code",
   "execution_count": null,
   "metadata": {},
   "outputs": [],
   "source": [
    "listing.dropna(inplace=True)\n",
    "listing.shape"
   ]
  },
  {
   "cell_type": "markdown",
   "metadata": {},
   "source": [
    "#### 3.2.3  Individual Columns"
   ]
  },
  {
   "cell_type": "markdown",
   "metadata": {},
   "source": [
    "##### a. Listing Count"
   ]
  },
  {
   "cell_type": "code",
   "execution_count": null,
   "metadata": {
    "scrolled": true
   },
   "outputs": [],
   "source": [
    "print('Total number of listings: ', listing.shape[1])\n",
    "print('Differences between columns: ', sum((listing.host_listings_count == listing.host_total_listings_count) == False))"
   ]
  },
  {
   "cell_type": "markdown",
   "metadata": {},
   "source": [
    "<div class=\"alert alert-block alert-info\">\n",
    "\n",
    "<b>Observations:</b> Host listing count and host total listings counts seem to have the same data. There are also other columns that are similar to listing counts (which are split up into multiple columns:\n",
    "\n",
    "- calculated_host_listings_count, \n",
    "- calculated_host_listings_count_entire_homes, \n",
    "- calculated_host_listings_count_private_rooms, \n",
    "- calculated_host_listings_count_shared_rooms\n",
    "\n",
    "Hence these columns will be dropped as well.\n",
    "</div>"
   ]
  },
  {
   "cell_type": "code",
   "execution_count": null,
   "metadata": {},
   "outputs": [],
   "source": [
    "listing.drop(['host_total_listings_count','calculated_host_listings_count', 'calculated_host_listings_count_entire_homes',\n",
    "              'calculated_host_listings_count_private_rooms','calculated_host_listings_count_shared_rooms'], \n",
    "             axis=1, inplace=True)"
   ]
  },
  {
   "cell_type": "code",
   "execution_count": null,
   "metadata": {},
   "outputs": [],
   "source": [
    "listing.host_listings_count = listing.host_listings_count.astype('int64')"
   ]
  },
  {
   "cell_type": "markdown",
   "metadata": {},
   "source": [
    "##### b. Price"
   ]
  },
  {
   "cell_type": "markdown",
   "metadata": {},
   "source": [
    "_Listing price at zero are not found on airbnb site. Hence I will be dropping those._"
   ]
  },
  {
   "cell_type": "markdown",
   "metadata": {},
   "source": [
    "<img src=\"../image/listing_zero_value.png\"\n",
    "\ttitle=\"Zero Dollar Listing\" width=\"550\" height=\"500\" />"
   ]
  },
  {
   "cell_type": "code",
   "execution_count": null,
   "metadata": {},
   "outputs": [],
   "source": [
    "listing.drop(listing[listing.price == 0].index, inplace=True)"
   ]
  },
  {
   "cell_type": "markdown",
   "metadata": {},
   "source": [
    "##### c. Boolean Columns"
   ]
  },
  {
   "cell_type": "code",
   "execution_count": null,
   "metadata": {
    "scrolled": false
   },
   "outputs": [],
   "source": [
    "# Columns with only booleans for Verfication Purposes:\n",
    "listing[['host_is_superhost',\n",
    "         'host_has_profile_pic', \n",
    "         'host_identity_verified', \n",
    "         'require_guest_profile_picture',\n",
    "         'require_guest_phone_verification',\n",
    "         'requires_license', \n",
    "         'instant_bookable', \n",
    "         'is_business_travel_ready', \n",
    "         'is_location_exact',\n",
    "         'has_availability'\n",
    "        ]].hist(figsize=(20,10), color='#FF5A5F');"
   ]
  },
  {
   "cell_type": "markdown",
   "metadata": {},
   "source": [
    "<div class=\"alert alert-block alert-info\">\n",
    "\n",
    "<b>Observation:</b> As shown above some of the features showed uniform result. Hence will be dropping them as they will not be affect the price. \n",
    "- host_has_profile_pic\n",
    "- is_business_travel_ready\n",
    "- require_guest_phone_verification\n",
    "- require_guest_profile_picture\n",
    "- requires_license\n",
    "\n",
    "</div>"
   ]
  },
  {
   "cell_type": "code",
   "execution_count": null,
   "metadata": {},
   "outputs": [],
   "source": [
    "listing.drop(['host_has_profile_pic',\n",
    "              'is_business_travel_ready',\n",
    "              'require_guest_phone_verification',\n",
    "              'require_guest_profile_picture',\n",
    "              'requires_license', \n",
    "              'has_availability'], axis=1, inplace=True)"
   ]
  },
  {
   "cell_type": "code",
   "execution_count": null,
   "metadata": {
    "scrolled": true
   },
   "outputs": [],
   "source": [
    "# Convert the rest of the boolean to int \n",
    "\n",
    "listing.host_is_superhost = listing.host_is_superhost.astype('int64')\n",
    "listing.host_identity_verified = listing.host_identity_verified.astype('int64')"
   ]
  },
  {
   "cell_type": "markdown",
   "metadata": {},
   "source": [
    "##### d. Minimum and Maximum Nights"
   ]
  },
  {
   "cell_type": "markdown",
   "metadata": {},
   "source": [
    "<div class=\"alert alert-block alert-info\">\n",
    "\n",
    "<b>Observation:</b> There are multiple columns that are related to minimum and maximum night stays. To avoid overlapping of data, I will using the basic two which have not been altered.\n",
    "\n",
    "</div>"
   ]
  },
  {
   "cell_type": "code",
   "execution_count": null,
   "metadata": {},
   "outputs": [],
   "source": [
    "listing.drop(['minimum_minimum_nights',\n",
    "             'maximum_minimum_nights',\n",
    "             'minimum_maximum_nights',\n",
    "             'maximum_maximum_nights',\n",
    "             'minimum_nights_avg_ntm',\n",
    "             'maximum_nights_avg_ntm'], axis=1, inplace=True)"
   ]
  },
  {
   "cell_type": "markdown",
   "metadata": {},
   "source": [
    "##### e. Categorical Columns"
   ]
  },
  {
   "cell_type": "markdown",
   "metadata": {},
   "source": [
    "##### i. property_type"
   ]
  },
  {
   "cell_type": "markdown",
   "metadata": {},
   "source": [
    "<div class=\"alert alert-block alert-info\">\n",
    "\n",
    "<b>Observation:</b> There are a total of 29 unique property types with a majority being the Apartment. However other property types (e.g. house, condominium, serviced apartment) can be considered to be in the same category as well. \n",
    "\n",
    "</div>"
   ]
  },
  {
   "cell_type": "code",
   "execution_count": null,
   "metadata": {
    "scrolled": false
   },
   "outputs": [],
   "source": [
    "print(listing.property_type.nunique())\n",
    "listing.property_type.value_counts()"
   ]
  },
  {
   "cell_type": "code",
   "execution_count": null,
   "metadata": {},
   "outputs": [],
   "source": [
    "# # Regroup and rename property type\n",
    "# listing.property_type.replace({\n",
    "#     'Apartment': 'house',\n",
    "#     'House': 'house',\n",
    "#     'Hostel': 'hostel',\n",
    "#     'Condominium': 'apartment', \n",
    "#     'Aparthotel': 'hotel', \n",
    "#     'Boutique hotel': 'hotel', \n",
    "#     'Villa': 'house', \n",
    "#     'Serviced apartment': 'apartment',\n",
    "#     'Ryokan (Japan)': 'apartment',\n",
    "#     'Hut': 'house',\n",
    "#     'Loft': 'apartment',\n",
    "#     'Guesthouse': 'house',\n",
    "#     'Bed and breakfast': '',\n",
    "#     'Townhouse': 'house',\n",
    "#     'Guest suite': '',\n",
    "#     'Tiny house': 'house',\n",
    "#     'Other': '',\n",
    "#     'Cabin': '',\n",
    "#     'Dome house': 'house',\n",
    "#     'Camper/RV': '',\n",
    "#     'Bungalow': 'house',\n",
    "#     'Tent': '',\n",
    "#     'Nature lodge': 'house',\n",
    "#     'Resort','house',\n",
    "#     'Earth house','',\n",
    "#     'Cottage','house',\n",
    "#     'Castle','castle',\n",
    "#     'Dorm','hostel'\n",
    "#     }, inplace=True)"
   ]
  },
  {
   "cell_type": "markdown",
   "metadata": {},
   "source": [
    "##### ii. room_type"
   ]
  },
  {
   "cell_type": "code",
   "execution_count": null,
   "metadata": {
    "scrolled": true
   },
   "outputs": [],
   "source": [
    "listing.room_type.value_counts()"
   ]
  },
  {
   "cell_type": "code",
   "execution_count": null,
   "metadata": {},
   "outputs": [],
   "source": [
    "# Rename room type\n",
    "listing.room_type.replace({\n",
    "    'Entire home/apt': 'entire_home_apt',\n",
    "    'Private room': 'private_room',\n",
    "    'Hotel room': 'hotel_room',\n",
    "    'Shared room': 'shared_room',  \n",
    "    }, inplace=True)"
   ]
  },
  {
   "cell_type": "markdown",
   "metadata": {},
   "source": [
    "##### iii. bed_type"
   ]
  },
  {
   "cell_type": "markdown",
   "metadata": {},
   "source": [
    "<div class=\"alert alert-block alert-info\">\n",
    "\n",
    "<b>Observation:</b> This column seem kinda redundent since majority are the same bed. Hence will be dropping this column. \n",
    "\n",
    "</div>"
   ]
  },
  {
   "cell_type": "code",
   "execution_count": null,
   "metadata": {
    "scrolled": true
   },
   "outputs": [],
   "source": [
    "listing.bed_type.value_counts()"
   ]
  },
  {
   "cell_type": "code",
   "execution_count": null,
   "metadata": {},
   "outputs": [],
   "source": [
    "listing.drop(['bed_type'], axis=1, inplace=True)"
   ]
  },
  {
   "cell_type": "markdown",
   "metadata": {},
   "source": [
    "##### iv. amenities"
   ]
  },
  {
   "cell_type": "markdown",
   "metadata": {},
   "source": [
    "<div class=\"alert alert-block alert-info\">\n",
    "\n",
    "\n",
    "<b>Observation:</b> Amenities is a list of additional features in the property where i believe people look at before (e.g. wifi, air conditioning, swimming pool, etc), committing the booking. However not all amenities are of the same importance.\n",
    "\n",
    "There are over 150 unique type of amenities\n",
    "\n",
    "</div>"
   ]
  },
  {
   "cell_type": "code",
   "execution_count": null,
   "metadata": {
    "scrolled": true
   },
   "outputs": [],
   "source": [
    "listing.amenities.head()"
   ]
  },
  {
   "cell_type": "code",
   "execution_count": null,
   "metadata": {
    "scrolled": true
   },
   "outputs": [],
   "source": [
    "listing['amenities'] = listing['amenities'].str.replace('{', '').str.replace('}','').str.replace('\"', '')\n",
    "listing['amenities'] = listing['amenities'].str.lower()"
   ]
  },
  {
   "cell_type": "code",
   "execution_count": null,
   "metadata": {},
   "outputs": [],
   "source": []
  },
  {
   "cell_type": "markdown",
   "metadata": {},
   "source": [
    "##### v. Calendar_updated"
   ]
  },
  {
   "cell_type": "markdown",
   "metadata": {},
   "source": [
    "<div class=\"alert alert-block alert-warning\">\n",
    "\n",
    "<b>Observation:</b>\n",
    "\n",
    "- to get back to this\n",
    "- or else to be dropped\n",
    "\n",
    "</div>"
   ]
  },
  {
   "cell_type": "code",
   "execution_count": null,
   "metadata": {},
   "outputs": [],
   "source": [
    "print(\"Total categories:\", listing.calendar_updated.nunique())\n",
    "print('')\n",
    "print(\"Top 5 categories:\")\n",
    "listing.calendar_updated.value_counts()[:5]"
   ]
  },
  {
   "cell_type": "markdown",
   "metadata": {},
   "source": [
    "##### vi. Availability"
   ]
  },
  {
   "cell_type": "markdown",
   "metadata": {},
   "source": [
    "<div class=\"alert alert-block alert-warning\">\n",
    "\n",
    "<b>Observation:</b>\n",
    "\n",
    "- to get back to this\n",
    "- or else to be dropped\n",
    "\n",
    "</div>"
   ]
  },
  {
   "cell_type": "code",
   "execution_count": null,
   "metadata": {},
   "outputs": [],
   "source": [
    "print(\"Avail 30days categories:\", listing.availability_30.nunique())\n",
    "print(\"Avail 60days categories:\", listing.availability_60.nunique())\n",
    "print(\"Avail 90days categories:\", listing.availability_90.nunique())\n",
    "print(\"Avail 365days categories:\", listing.availability_365.nunique())\n",
    "print('')\n",
    "print(\"Top 5 categories of 30days:\")\n",
    "listing.availability_30.value_counts()[:5]"
   ]
  },
  {
   "cell_type": "markdown",
   "metadata": {},
   "source": [
    "##### vi. Cancellation Policy"
   ]
  },
  {
   "cell_type": "code",
   "execution_count": null,
   "metadata": {},
   "outputs": [],
   "source": [
    "listing.cancellation_policy.value_counts()"
   ]
  },
  {
   "cell_type": "code",
   "execution_count": null,
   "metadata": {},
   "outputs": [],
   "source": [
    "listing.cancellation_policy.replace({\n",
    "    'strict_14_with_grace_period': 'strict',\n",
    "    'super_strict_30': 'super_strict',\n",
    "    'super_strict_60': 'super_strict',\n",
    "    'strict_14_with_grace_period': 'strict',\n",
    "    'luxury_moderate': 'moderate'\n",
    "    }, inplace=True)\n",
    "listing.cancellation_policy.value_counts()"
   ]
  },
  {
   "cell_type": "code",
   "execution_count": null,
   "metadata": {
    "scrolled": true
   },
   "outputs": [],
   "source": [
    "print(listing.shape)"
   ]
  },
  {
   "cell_type": "markdown",
   "metadata": {},
   "source": [
    "##### Save DataFrame"
   ]
  },
  {
   "cell_type": "code",
   "execution_count": null,
   "metadata": {},
   "outputs": [],
   "source": [
    "# listing.to_csv(\"../datasets/listing_cleaned.csv\")"
   ]
  },
  {
   "cell_type": "markdown",
   "metadata": {},
   "source": [
    "##### Merge Dataframe"
   ]
  },
  {
   "cell_type": "code",
   "execution_count": null,
   "metadata": {},
   "outputs": [],
   "source": [
    "# listing_cal = pd.merge(listing, calendar, how='left', on=['id', date','price'])"
   ]
  },
  {
   "cell_type": "markdown",
   "metadata": {},
   "source": [
    "---\n",
    "### 3.3. Neighbourhood "
   ]
  },
  {
   "cell_type": "code",
   "execution_count": null,
   "metadata": {},
   "outputs": [],
   "source": [
    "neighbourhood = neighbourhood.drop(['neighbourhood_group'], axis=1)\n",
    "neighbourhood"
   ]
  },
  {
   "cell_type": "markdown",
   "metadata": {},
   "source": [
    "<div class=\"alert alert-block alert-info\">\n",
    "\n",
    "<b>Observation:</b>\n",
    "Since listing dataframe has the column on neighbourhood and country code. This dataframe will not be required. \n",
    "\n",
    "</div>"
   ]
  },
  {
   "cell_type": "markdown",
   "metadata": {},
   "source": [
    "##### Save DataFrame"
   ]
  },
  {
   "cell_type": "code",
   "execution_count": null,
   "metadata": {},
   "outputs": [],
   "source": [
    "neighbourhood.to_csv(\"../datasets/neighbourhood_cleaned.csv\")"
   ]
  },
  {
   "cell_type": "markdown",
   "metadata": {},
   "source": [
    "---\n",
    "### 3.4 Reviews "
   ]
  },
  {
   "cell_type": "code",
   "execution_count": null,
   "metadata": {
    "scrolled": false
   },
   "outputs": [],
   "source": [
    "reviews.head()"
   ]
  },
  {
   "cell_type": "code",
   "execution_count": null,
   "metadata": {},
   "outputs": [],
   "source": [
    "# Parse date-time string to datetime object\n",
    "reviews.date = pd.to_datetime(reviews['date'])"
   ]
  },
  {
   "cell_type": "code",
   "execution_count": null,
   "metadata": {},
   "outputs": [],
   "source": [
    "# Drop Unneccessary Columns\n",
    "reviews.drop(['id','reviewer_id','reviewer_name'], axis=1, inplace=True)"
   ]
  },
  {
   "cell_type": "markdown",
   "metadata": {},
   "source": [
    "<div class=\"alert alert-block alert-info\">\n",
    "\n",
    "<b>Observation:</b> There are no ratings for the individual comments and does not provide neccessary information for this analysis. Hence, I will not be using this dataset.\n",
    "\n",
    "</div>"
   ]
  },
  {
   "cell_type": "markdown",
   "metadata": {},
   "source": [
    "##### Save DataFrame"
   ]
  },
  {
   "cell_type": "code",
   "execution_count": null,
   "metadata": {},
   "outputs": [],
   "source": [
    "reviews.to_csv(\"../datasets/reviews_cleaned.csv\")"
   ]
  },
  {
   "cell_type": "markdown",
   "metadata": {},
   "source": [
    "---\n",
    "##### Save Final Dataframe"
   ]
  },
  {
   "cell_type": "code",
   "execution_count": null,
   "metadata": {},
   "outputs": [],
   "source": [
    "listing.to_csv(\"../datasets/final.csv\", index = False)"
   ]
  },
  {
   "cell_type": "markdown",
   "metadata": {},
   "source": [
    "----> Proceed to the next notebook for the full exploratory data analysis"
   ]
  }
 ],
 "metadata": {
  "kernelspec": {
   "display_name": "Python 3",
   "language": "python",
   "name": "python3"
  },
  "language_info": {
   "codemirror_mode": {
    "name": "ipython",
    "version": 3
   },
   "file_extension": ".py",
   "mimetype": "text/x-python",
   "name": "python",
   "nbconvert_exporter": "python",
   "pygments_lexer": "ipython3",
   "version": "3.7.4"
  }
 },
 "nbformat": 4,
 "nbformat_minor": 2
}
