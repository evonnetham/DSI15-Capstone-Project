{
 "cells": [
  {
   "cell_type": "markdown",
   "metadata": {},
   "source": [
    "# Predicting the Best airbnb Listing Price \n",
    "\n",
    "_Author: Evonne Tham_\n",
    "\n",
    "---\n"
   ]
  },
  {
   "cell_type": "markdown",
   "metadata": {},
   "source": [
    "![](https://assets.bwbx.io/images/users/iqjWHBFdfxIU/iKAhd1KFQDfw/v0/-1x-1.jpg)\n"
   ]
  },
  {
   "cell_type": "markdown",
   "metadata": {},
   "source": [
    "### Introduction\n",
    "\n",
    "Airbnb is a online marketplace company that offers arrangement for lodging, homestays, or tourism experiences. It has become the world’s largest marketplaces with many travelers from all around the world, using it for the unique and authentic experience. As of 2020, Airbnb has over 7 million listings across the world, all powered by local hosts.\n",
    "\n",
    "By sharing with travelers, this provides opportunity for homeowners to make more income from their homes. However with the constant increase of listings prices, hosts or even property managers are now face with a lot more competitors. Hence, getting the right listing price is crucial. If listing price is set too low, you will be missing out on a lot of potential income, and if listing price is set a tad bit higher you might lose a booking to other competitors. \n",
    "\n",
    "<br>\n",
    "<br>\n",
    "\n",
    "![title](./image/airbnb_site.png)\n",
    "\n",
    "_Image Source: Airbnb Site_\n",
    "\n",
    "<br>\n",
    "<br>\n",
    "\n",
    "\n",
    "Although there are third party pricing tools that are available to help price these properties, these tools can get quite pricey especially for people who are just starting out.\n",
    "\n",
    "In order to solve this problem, I will be looking into the data from Toyko, one of the top most popular cities for Airbnb booking experiences. I will build a regression model to predict the best price of the listing in Toyko with respect to featurees such as the property or room type, location, etc. Model performance will be guided by R-Square and RMSE, and the model should at least improve upon baseline by 10%. Baseline is defined as the mean of the listing price.\n",
    "\n",
    "\n",
    "___Citation:___\n",
    "- https://news.airbnb.com/about-us/\n",
    "- https://news.airbnb.com/fast-facts/\n",
    "- https://ipropertymanagement.com/research/airbnb-statistics"
   ]
  },
  {
   "cell_type": "markdown",
   "metadata": {},
   "source": [
    "---\n",
    "## Executive Summary\n",
    "\n",
    "#### - The opener\n",
    "To accurately predict Airbnb price, \n",
    "\n",
    "Since we know the price for each row, this can be classified as a supervised learning problem, \n",
    "\n",
    "\n",
    "#### - The need\n",
    "To generate a good production model that can accurately predict sale prices of houses in Ames with an unseen dataset, I first conducted data cleaning and EDA on the train dataset, where I was able to gauge how each feature affected sale price. Following which, I conducted conducted features engineering by adding, dropping and tweaking features, as well as using one-hot encoding to convert the remaining categorical columns to numeric, so that modelling can take place. \n",
    "\n",
    "#### - Findings\n",
    "\n",
    "#### - The Evidence \n",
    "\n",
    "\n",
    "#### - Call to Action"
   ]
  },
  {
   "cell_type": "markdown",
   "metadata": {},
   "source": [
    "<div class=\"alert alert-block alert-info\">\n",
    "\n",
    "- An executive summary:\n",
    "- What is your goal?\n",
    "- Where did you get your data?\n",
    "- What are your metrics?\n",
    "- What were your findings?\n",
    "- What risks/limitations/assumptions affect these findings?\n",
    "\n",
    "</div>"
   ]
  },
  {
   "cell_type": "markdown",
   "metadata": {},
   "source": [
    "---\n",
    "## Content\n",
    "- [Initial Exploratory Data Analysis and Cleaning](./codes/01_Data_Cleaning_and_EDA.ipynb)\n",
    "- [Full Exploratory Data Analysis](./codes/02_Full_EDA.ipynb)\n",
    "- [Feature Engineering and Model Benchmarks](./codes/03_Feature_Engineering_and_Model_Benchmarks.ipynb)\n",
    "- [Model Tuning](./codes/04_Model_Tuning.ipynb)\n",
    "- [Production Model](./codes/05_Production_Model.ipynb)"
   ]
  },
  {
   "cell_type": "markdown",
   "metadata": {},
   "source": [
    "---\n",
    "### Risks & Assumptions\n",
    "\n",
    "- The data is not tempered and it accurate in producing a non-commercial derivation to allow public analysis, discussion and community benefit. \n",
    "- Some reviews may be \"spam\" allowed by Airbnb. Analysis suggests that spam reviews are small and do not affect the statistics.\n",
    "- The Airbnb calendar for a listing does not differentiate between a booked night vs an unavailable night, therefore these bookings have been counted as \"unavailable\". This serves to understate the Availability metric because popular listings will be \"booked\" rather than being \"blacked out\" by a host.\n"
   ]
  },
  {
   "cell_type": "markdown",
   "metadata": {},
   "source": [
    "---\n",
    "### Data Source\n",
    "\n",
    "Source of data of airbnb in Tokyo, Kantō, Japan, can be found on the InsideAirbnb site, [here](http://insideairbnb.com/get-the-data.html). \n",
    "It is sourced from publicly from the Airbnb site.\n",
    "\n",
    "Within the country dataset \n",
    "\n",
    "**Target variable:** Price\n",
    "\n",
    "**And some of the features are:** \n",
    "\n",
    "- `calendar`: Provide detail about booking for the next year, containing 7 attributes:\n",
    "    - `date` (datetime)\n",
    "    - `available` (categorical)\n",
    "    - `price` (numeric)\n",
    "    - `adjusted_price` (numeric)\n",
    "    - `minimum_nights` (numeric)\n",
    "    - `maximum_nights` (numeric)\n",
    "    \n",
    "    \n",
    "- `listing`: Detailed Tokyo listings data containing 106 attributes of each listing. Some of them used in analysis are:\n",
    "    - `price` (numeric)\n",
    "    - `property_type`(categorical)\n",
    "    - `room_type`(categorical)\n",
    "    - `neighbourhood`(categorical)\n",
    "    - `amenities`(text)\n",
    "    - `review_scores`(categorical)\n",
    "    - `accommodates`(categorical)\n",
    "    - `host_is_superhost`(boolean)\n",
    "\n",
    "\n",
    "\n",
    "- `reviews`: Detailed reviews given by guests, containing 6 attributes\n",
    "    - `listing_id` (numeric)\n",
    "    - `date` (datetime)\n",
    "    - `comment`(text)\n",
    "\n",
    "\n",
    "- `neighbourhood`: Neighbourhood list for geo filter. Sourced from city or open source GIS files.\n"
   ]
  },
  {
   "cell_type": "markdown",
   "metadata": {},
   "source": [
    "---\n",
    "## Conclusion and Recommendation "
   ]
  },
  {
   "cell_type": "markdown",
   "metadata": {},
   "source": [
    "<div class=\"alert alert-block alert-info\">\n",
    "\n",
    "Summarize your statistical analysis, including:\n",
    "- implementation\n",
    "- evaluation\n",
    "- inference\n",
    "\n",
    "</div>"
   ]
  },
  {
   "cell_type": "code",
   "execution_count": null,
   "metadata": {},
   "outputs": [],
   "source": []
  }
 ],
 "metadata": {
  "kernelspec": {
   "display_name": "Python 3",
   "language": "python",
   "name": "python3"
  },
  "language_info": {
   "codemirror_mode": {
    "name": "ipython",
    "version": 3
   },
   "file_extension": ".py",
   "mimetype": "text/x-python",
   "name": "python",
   "nbconvert_exporter": "python",
   "pygments_lexer": "ipython3",
   "version": "3.7.4"
  }
 },
 "nbformat": 4,
 "nbformat_minor": 2
}
